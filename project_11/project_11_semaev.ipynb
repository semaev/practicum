{
 "cells": [
  {
   "cell_type": "markdown",
   "metadata": {
    "toc": true
   },
   "source": [
    "<h1>Оглавление<span class=\"tocSkip\"></span></h1>\n",
    "<div class=\"toc\"><ul class=\"toc-item\"><li><span><a href=\"#Подготовка-данных\" data-toc-modified-id=\"Подготовка-данных-1\"><span class=\"toc-item-num\">1&nbsp;&nbsp;</span>Подготовка данных</a></span><ul class=\"toc-item\"><li><span><a href=\"#Знакомство-с-данными\" data-toc-modified-id=\"Знакомство-с-данными-1.1\"><span class=\"toc-item-num\">1.1&nbsp;&nbsp;</span>Знакомство с данными</a></span></li><li><span><a href=\"#Анализ-данных-и-предобработка\" data-toc-modified-id=\"Анализ-данных-и-предобработка-1.2\"><span class=\"toc-item-num\">1.2&nbsp;&nbsp;</span>Анализ данных и предобработка</a></span></li><li><span><a href=\"#Вывод\" data-toc-modified-id=\"Вывод-1.3\"><span class=\"toc-item-num\">1.3&nbsp;&nbsp;</span>Вывод</a></span></li></ul></li><li><span><a href=\"#Обучение-моделей\" data-toc-modified-id=\"Обучение-моделей-2\"><span class=\"toc-item-num\">2&nbsp;&nbsp;</span>Обучение моделей</a></span><ul class=\"toc-item\"><li><span><a href=\"#Модель-DummyRegressor\" data-toc-modified-id=\"Модель-DummyRegressor-2.1\"><span class=\"toc-item-num\">2.1&nbsp;&nbsp;</span>Модель DummyRegressor</a></span></li><li><span><a href=\"#Модель-LinearRegression\" data-toc-modified-id=\"Модель-LinearRegression-2.2\"><span class=\"toc-item-num\">2.2&nbsp;&nbsp;</span>Модель LinearRegression</a></span></li><li><span><a href=\"#Модель--CatBoostRegressor-на-данных-с-OHE\" data-toc-modified-id=\"Модель--CatBoostRegressor-на-данных-с-OHE-2.3\"><span class=\"toc-item-num\">2.3&nbsp;&nbsp;</span>Модель  CatBoostRegressor на данных с OHE</a></span></li><li><span><a href=\"#Модель--CatBoostRegressor-на-данных-без-OHE\" data-toc-modified-id=\"Модель--CatBoostRegressor-на-данных-без-OHE-2.4\"><span class=\"toc-item-num\">2.4&nbsp;&nbsp;</span>Модель  CatBoostRegressor на данных без OHE</a></span></li><li><span><a href=\"#Модель-LightGBMRegressor\" data-toc-modified-id=\"Модель-LightGBMRegressor-2.5\"><span class=\"toc-item-num\">2.5&nbsp;&nbsp;</span>Модель LightGBMRegressor</a></span></li></ul></li><li><span><a href=\"#Анализ-моделей\" data-toc-modified-id=\"Анализ-моделей-3\"><span class=\"toc-item-num\">3&nbsp;&nbsp;</span>Анализ моделей</a></span></li><li><span><a href=\"#Выводы\" data-toc-modified-id=\"Выводы-4\"><span class=\"toc-item-num\">4&nbsp;&nbsp;</span>Выводы</a></span></li><li><span><a href=\"#Чек-лист-проверки\" data-toc-modified-id=\"Чек-лист-проверки-5\"><span class=\"toc-item-num\">5&nbsp;&nbsp;</span>Чек-лист проверки</a></span></li></ul></div>"
   ]
  },
  {
   "cell_type": "markdown",
   "metadata": {},
   "source": [
    "# Определение стоимости автомобилей"
   ]
  },
  {
   "cell_type": "markdown",
   "metadata": {},
   "source": [
    "Сервис по продаже автомобилей с пробегом «Не бит, не крашен» разрабатывает приложение для привлечения новых клиентов. В нём можно быстро узнать рыночную стоимость своего автомобиля. В вашем распоряжении исторические данные: технические характеристики, комплектации и цены автомобилей. Вам нужно построить модель для определения стоимости. \n",
    "\n",
    "Заказчику важны:\n",
    "\n",
    "- качество предсказания;\n",
    "- скорость предсказания;\n",
    "- время обучения."
   ]
  },
  {
   "cell_type": "code",
   "execution_count": 9,
   "metadata": {},
   "outputs": [],
   "source": [
    "import pandas as pd\n",
    "import numpy as np\n",
    "import seaborn as sns\n",
    "import matplotlib.pyplot as plt\n",
    "import lightgbm as lgb\n",
    "import timeit\n",
    "\n",
    "from sklearn.ensemble import RandomForestRegressor\n",
    "from sklearn.model_selection import train_test_split, cross_val_score, GridSearchCV, RandomizedSearchCV\n",
    "\n",
    "\n",
    "from sklearn.preprocessing import LabelEncoder, StandardScaler, OrdinalEncoder\n",
    "from sklearn.metrics import mean_squared_error, make_scorer\n",
    "from sklearn.dummy import DummyRegressor\n",
    "from sklearn.linear_model import LinearRegression\n",
    "\n",
    "from catboost import CatBoostRegressor \n",
    "from lightgbm import LGBMRegressor\n",
    "from xgboost import XGBRegressor\n",
    "\n",
    "import warnings\n",
    "warnings.filterwarnings(\"ignore\")"
   ]
  },
  {
   "cell_type": "markdown",
   "metadata": {},
   "source": [
    "## Подготовка данных"
   ]
  },
  {
   "cell_type": "code",
   "execution_count": 10,
   "metadata": {},
   "outputs": [],
   "source": [
    "try:\n",
    "    data = pd.read_csv('/Users/mikhail/Desktop/praktikum/project_11/autos.csv')\n",
    "    \n",
    "except:\n",
    "    data = pd.read_csv('/datasets/autos.csv')"
   ]
  },
  {
   "cell_type": "markdown",
   "metadata": {},
   "source": [
    "### Знакомство с данными"
   ]
  },
  {
   "cell_type": "code",
   "execution_count": 3,
   "metadata": {},
   "outputs": [
    {
     "data": {
      "text/html": [
       "<div>\n",
       "<style scoped>\n",
       "    .dataframe tbody tr th:only-of-type {\n",
       "        vertical-align: middle;\n",
       "    }\n",
       "\n",
       "    .dataframe tbody tr th {\n",
       "        vertical-align: top;\n",
       "    }\n",
       "\n",
       "    .dataframe thead th {\n",
       "        text-align: right;\n",
       "    }\n",
       "</style>\n",
       "<table border=\"1\" class=\"dataframe\">\n",
       "  <thead>\n",
       "    <tr style=\"text-align: right;\">\n",
       "      <th></th>\n",
       "      <th>DateCrawled</th>\n",
       "      <th>Price</th>\n",
       "      <th>VehicleType</th>\n",
       "      <th>RegistrationYear</th>\n",
       "      <th>Gearbox</th>\n",
       "      <th>Power</th>\n",
       "      <th>Model</th>\n",
       "      <th>Kilometer</th>\n",
       "      <th>RegistrationMonth</th>\n",
       "      <th>FuelType</th>\n",
       "      <th>Brand</th>\n",
       "      <th>NotRepaired</th>\n",
       "      <th>DateCreated</th>\n",
       "      <th>NumberOfPictures</th>\n",
       "      <th>PostalCode</th>\n",
       "      <th>LastSeen</th>\n",
       "    </tr>\n",
       "  </thead>\n",
       "  <tbody>\n",
       "    <tr>\n",
       "      <th>0</th>\n",
       "      <td>2016-03-24 11:52:17</td>\n",
       "      <td>480</td>\n",
       "      <td>NaN</td>\n",
       "      <td>1993</td>\n",
       "      <td>manual</td>\n",
       "      <td>0</td>\n",
       "      <td>golf</td>\n",
       "      <td>150000</td>\n",
       "      <td>0</td>\n",
       "      <td>petrol</td>\n",
       "      <td>volkswagen</td>\n",
       "      <td>NaN</td>\n",
       "      <td>2016-03-24 00:00:00</td>\n",
       "      <td>0</td>\n",
       "      <td>70435</td>\n",
       "      <td>2016-04-07 03:16:57</td>\n",
       "    </tr>\n",
       "    <tr>\n",
       "      <th>1</th>\n",
       "      <td>2016-03-24 10:58:45</td>\n",
       "      <td>18300</td>\n",
       "      <td>coupe</td>\n",
       "      <td>2011</td>\n",
       "      <td>manual</td>\n",
       "      <td>190</td>\n",
       "      <td>NaN</td>\n",
       "      <td>125000</td>\n",
       "      <td>5</td>\n",
       "      <td>gasoline</td>\n",
       "      <td>audi</td>\n",
       "      <td>yes</td>\n",
       "      <td>2016-03-24 00:00:00</td>\n",
       "      <td>0</td>\n",
       "      <td>66954</td>\n",
       "      <td>2016-04-07 01:46:50</td>\n",
       "    </tr>\n",
       "    <tr>\n",
       "      <th>2</th>\n",
       "      <td>2016-03-14 12:52:21</td>\n",
       "      <td>9800</td>\n",
       "      <td>suv</td>\n",
       "      <td>2004</td>\n",
       "      <td>auto</td>\n",
       "      <td>163</td>\n",
       "      <td>grand</td>\n",
       "      <td>125000</td>\n",
       "      <td>8</td>\n",
       "      <td>gasoline</td>\n",
       "      <td>jeep</td>\n",
       "      <td>NaN</td>\n",
       "      <td>2016-03-14 00:00:00</td>\n",
       "      <td>0</td>\n",
       "      <td>90480</td>\n",
       "      <td>2016-04-05 12:47:46</td>\n",
       "    </tr>\n",
       "    <tr>\n",
       "      <th>3</th>\n",
       "      <td>2016-03-17 16:54:04</td>\n",
       "      <td>1500</td>\n",
       "      <td>small</td>\n",
       "      <td>2001</td>\n",
       "      <td>manual</td>\n",
       "      <td>75</td>\n",
       "      <td>golf</td>\n",
       "      <td>150000</td>\n",
       "      <td>6</td>\n",
       "      <td>petrol</td>\n",
       "      <td>volkswagen</td>\n",
       "      <td>no</td>\n",
       "      <td>2016-03-17 00:00:00</td>\n",
       "      <td>0</td>\n",
       "      <td>91074</td>\n",
       "      <td>2016-03-17 17:40:17</td>\n",
       "    </tr>\n",
       "    <tr>\n",
       "      <th>4</th>\n",
       "      <td>2016-03-31 17:25:20</td>\n",
       "      <td>3600</td>\n",
       "      <td>small</td>\n",
       "      <td>2008</td>\n",
       "      <td>manual</td>\n",
       "      <td>69</td>\n",
       "      <td>fabia</td>\n",
       "      <td>90000</td>\n",
       "      <td>7</td>\n",
       "      <td>gasoline</td>\n",
       "      <td>skoda</td>\n",
       "      <td>no</td>\n",
       "      <td>2016-03-31 00:00:00</td>\n",
       "      <td>0</td>\n",
       "      <td>60437</td>\n",
       "      <td>2016-04-06 10:17:21</td>\n",
       "    </tr>\n",
       "  </tbody>\n",
       "</table>\n",
       "</div>"
      ],
      "text/plain": [
       "           DateCrawled  Price VehicleType  RegistrationYear Gearbox  Power  \\\n",
       "0  2016-03-24 11:52:17    480         NaN              1993  manual      0   \n",
       "1  2016-03-24 10:58:45  18300       coupe              2011  manual    190   \n",
       "2  2016-03-14 12:52:21   9800         suv              2004    auto    163   \n",
       "3  2016-03-17 16:54:04   1500       small              2001  manual     75   \n",
       "4  2016-03-31 17:25:20   3600       small              2008  manual     69   \n",
       "\n",
       "   Model  Kilometer  RegistrationMonth  FuelType       Brand NotRepaired  \\\n",
       "0   golf     150000                  0    petrol  volkswagen         NaN   \n",
       "1    NaN     125000                  5  gasoline        audi         yes   \n",
       "2  grand     125000                  8  gasoline        jeep         NaN   \n",
       "3   golf     150000                  6    petrol  volkswagen          no   \n",
       "4  fabia      90000                  7  gasoline       skoda          no   \n",
       "\n",
       "           DateCreated  NumberOfPictures  PostalCode             LastSeen  \n",
       "0  2016-03-24 00:00:00                 0       70435  2016-04-07 03:16:57  \n",
       "1  2016-03-24 00:00:00                 0       66954  2016-04-07 01:46:50  \n",
       "2  2016-03-14 00:00:00                 0       90480  2016-04-05 12:47:46  \n",
       "3  2016-03-17 00:00:00                 0       91074  2016-03-17 17:40:17  \n",
       "4  2016-03-31 00:00:00                 0       60437  2016-04-06 10:17:21  "
      ]
     },
     "execution_count": 3,
     "metadata": {},
     "output_type": "execute_result"
    }
   ],
   "source": [
    "# ознакомимся с данными\n",
    "\n",
    "data.head()"
   ]
  },
  {
   "cell_type": "code",
   "execution_count": 4,
   "metadata": {},
   "outputs": [
    {
     "name": "stdout",
     "output_type": "stream",
     "text": [
      "<class 'pandas.core.frame.DataFrame'>\n",
      "RangeIndex: 354369 entries, 0 to 354368\n",
      "Data columns (total 16 columns):\n",
      " #   Column             Non-Null Count   Dtype \n",
      "---  ------             --------------   ----- \n",
      " 0   DateCrawled        354369 non-null  object\n",
      " 1   Price              354369 non-null  int64 \n",
      " 2   VehicleType        316879 non-null  object\n",
      " 3   RegistrationYear   354369 non-null  int64 \n",
      " 4   Gearbox            334536 non-null  object\n",
      " 5   Power              354369 non-null  int64 \n",
      " 6   Model              334664 non-null  object\n",
      " 7   Kilometer          354369 non-null  int64 \n",
      " 8   RegistrationMonth  354369 non-null  int64 \n",
      " 9   FuelType           321474 non-null  object\n",
      " 10  Brand              354369 non-null  object\n",
      " 11  NotRepaired        283215 non-null  object\n",
      " 12  DateCreated        354369 non-null  object\n",
      " 13  NumberOfPictures   354369 non-null  int64 \n",
      " 14  PostalCode         354369 non-null  int64 \n",
      " 15  LastSeen           354369 non-null  object\n",
      "dtypes: int64(7), object(9)\n",
      "memory usage: 43.3+ MB\n"
     ]
    }
   ],
   "source": [
    "# посмотрим количество строк, тип данных в столбцах и пропуски\n",
    "\n",
    "data.info()"
   ]
  },
  {
   "cell_type": "code",
   "execution_count": 5,
   "metadata": {},
   "outputs": [
    {
     "data": {
      "text/html": [
       "<div>\n",
       "<style scoped>\n",
       "    .dataframe tbody tr th:only-of-type {\n",
       "        vertical-align: middle;\n",
       "    }\n",
       "\n",
       "    .dataframe tbody tr th {\n",
       "        vertical-align: top;\n",
       "    }\n",
       "\n",
       "    .dataframe thead th {\n",
       "        text-align: right;\n",
       "    }\n",
       "</style>\n",
       "<table border=\"1\" class=\"dataframe\">\n",
       "  <thead>\n",
       "    <tr style=\"text-align: right;\">\n",
       "      <th></th>\n",
       "      <th>Price</th>\n",
       "      <th>RegistrationYear</th>\n",
       "      <th>Power</th>\n",
       "      <th>Kilometer</th>\n",
       "      <th>RegistrationMonth</th>\n",
       "      <th>NumberOfPictures</th>\n",
       "      <th>PostalCode</th>\n",
       "    </tr>\n",
       "  </thead>\n",
       "  <tbody>\n",
       "    <tr>\n",
       "      <th>count</th>\n",
       "      <td>354369.000000</td>\n",
       "      <td>354369.000000</td>\n",
       "      <td>354369.000000</td>\n",
       "      <td>354369.000000</td>\n",
       "      <td>354369.000000</td>\n",
       "      <td>354369.0</td>\n",
       "      <td>354369.000000</td>\n",
       "    </tr>\n",
       "    <tr>\n",
       "      <th>mean</th>\n",
       "      <td>4416.656776</td>\n",
       "      <td>2004.234448</td>\n",
       "      <td>110.094337</td>\n",
       "      <td>128211.172535</td>\n",
       "      <td>5.714645</td>\n",
       "      <td>0.0</td>\n",
       "      <td>50508.689087</td>\n",
       "    </tr>\n",
       "    <tr>\n",
       "      <th>std</th>\n",
       "      <td>4514.158514</td>\n",
       "      <td>90.227958</td>\n",
       "      <td>189.850405</td>\n",
       "      <td>37905.341530</td>\n",
       "      <td>3.726421</td>\n",
       "      <td>0.0</td>\n",
       "      <td>25783.096248</td>\n",
       "    </tr>\n",
       "    <tr>\n",
       "      <th>min</th>\n",
       "      <td>0.000000</td>\n",
       "      <td>1000.000000</td>\n",
       "      <td>0.000000</td>\n",
       "      <td>5000.000000</td>\n",
       "      <td>0.000000</td>\n",
       "      <td>0.0</td>\n",
       "      <td>1067.000000</td>\n",
       "    </tr>\n",
       "    <tr>\n",
       "      <th>25%</th>\n",
       "      <td>1050.000000</td>\n",
       "      <td>1999.000000</td>\n",
       "      <td>69.000000</td>\n",
       "      <td>125000.000000</td>\n",
       "      <td>3.000000</td>\n",
       "      <td>0.0</td>\n",
       "      <td>30165.000000</td>\n",
       "    </tr>\n",
       "    <tr>\n",
       "      <th>50%</th>\n",
       "      <td>2700.000000</td>\n",
       "      <td>2003.000000</td>\n",
       "      <td>105.000000</td>\n",
       "      <td>150000.000000</td>\n",
       "      <td>6.000000</td>\n",
       "      <td>0.0</td>\n",
       "      <td>49413.000000</td>\n",
       "    </tr>\n",
       "    <tr>\n",
       "      <th>75%</th>\n",
       "      <td>6400.000000</td>\n",
       "      <td>2008.000000</td>\n",
       "      <td>143.000000</td>\n",
       "      <td>150000.000000</td>\n",
       "      <td>9.000000</td>\n",
       "      <td>0.0</td>\n",
       "      <td>71083.000000</td>\n",
       "    </tr>\n",
       "    <tr>\n",
       "      <th>max</th>\n",
       "      <td>20000.000000</td>\n",
       "      <td>9999.000000</td>\n",
       "      <td>20000.000000</td>\n",
       "      <td>150000.000000</td>\n",
       "      <td>12.000000</td>\n",
       "      <td>0.0</td>\n",
       "      <td>99998.000000</td>\n",
       "    </tr>\n",
       "  </tbody>\n",
       "</table>\n",
       "</div>"
      ],
      "text/plain": [
       "               Price  RegistrationYear          Power      Kilometer  \\\n",
       "count  354369.000000     354369.000000  354369.000000  354369.000000   \n",
       "mean     4416.656776       2004.234448     110.094337  128211.172535   \n",
       "std      4514.158514         90.227958     189.850405   37905.341530   \n",
       "min         0.000000       1000.000000       0.000000    5000.000000   \n",
       "25%      1050.000000       1999.000000      69.000000  125000.000000   \n",
       "50%      2700.000000       2003.000000     105.000000  150000.000000   \n",
       "75%      6400.000000       2008.000000     143.000000  150000.000000   \n",
       "max     20000.000000       9999.000000   20000.000000  150000.000000   \n",
       "\n",
       "       RegistrationMonth  NumberOfPictures     PostalCode  \n",
       "count      354369.000000          354369.0  354369.000000  \n",
       "mean            5.714645               0.0   50508.689087  \n",
       "std             3.726421               0.0   25783.096248  \n",
       "min             0.000000               0.0    1067.000000  \n",
       "25%             3.000000               0.0   30165.000000  \n",
       "50%             6.000000               0.0   49413.000000  \n",
       "75%             9.000000               0.0   71083.000000  \n",
       "max            12.000000               0.0   99998.000000  "
      ]
     },
     "execution_count": 5,
     "metadata": {},
     "output_type": "execute_result"
    }
   ],
   "source": [
    "# посмотрим на числовые признаки\n",
    "\n",
    "data.describe()"
   ]
  },
  {
   "cell_type": "markdown",
   "metadata": {},
   "source": [
    "### Анализ данных и предобработка"
   ]
  },
  {
   "cell_type": "markdown",
   "metadata": {},
   "source": [
    "Для начала разберёмся с пропусками в наших данных"
   ]
  },
  {
   "cell_type": "code",
   "execution_count": 6,
   "metadata": {},
   "outputs": [
    {
     "data": {
      "text/html": [
       "<div>\n",
       "<style scoped>\n",
       "    .dataframe tbody tr th:only-of-type {\n",
       "        vertical-align: middle;\n",
       "    }\n",
       "\n",
       "    .dataframe tbody tr th {\n",
       "        vertical-align: top;\n",
       "    }\n",
       "\n",
       "    .dataframe thead th {\n",
       "        text-align: right;\n",
       "    }\n",
       "</style>\n",
       "<table border=\"1\" class=\"dataframe\">\n",
       "  <thead>\n",
       "    <tr style=\"text-align: right;\">\n",
       "      <th></th>\n",
       "      <th>missing_values</th>\n",
       "      <th>% of missing values</th>\n",
       "    </tr>\n",
       "  </thead>\n",
       "  <tbody>\n",
       "    <tr>\n",
       "      <th>NotRepaired</th>\n",
       "      <td>71154</td>\n",
       "      <td>20.08</td>\n",
       "    </tr>\n",
       "    <tr>\n",
       "      <th>VehicleType</th>\n",
       "      <td>37490</td>\n",
       "      <td>10.58</td>\n",
       "    </tr>\n",
       "    <tr>\n",
       "      <th>FuelType</th>\n",
       "      <td>32895</td>\n",
       "      <td>9.28</td>\n",
       "    </tr>\n",
       "    <tr>\n",
       "      <th>Gearbox</th>\n",
       "      <td>19833</td>\n",
       "      <td>5.60</td>\n",
       "    </tr>\n",
       "    <tr>\n",
       "      <th>Model</th>\n",
       "      <td>19705</td>\n",
       "      <td>5.56</td>\n",
       "    </tr>\n",
       "    <tr>\n",
       "      <th>DateCrawled</th>\n",
       "      <td>0</td>\n",
       "      <td>0.00</td>\n",
       "    </tr>\n",
       "    <tr>\n",
       "      <th>Price</th>\n",
       "      <td>0</td>\n",
       "      <td>0.00</td>\n",
       "    </tr>\n",
       "    <tr>\n",
       "      <th>RegistrationYear</th>\n",
       "      <td>0</td>\n",
       "      <td>0.00</td>\n",
       "    </tr>\n",
       "    <tr>\n",
       "      <th>Power</th>\n",
       "      <td>0</td>\n",
       "      <td>0.00</td>\n",
       "    </tr>\n",
       "    <tr>\n",
       "      <th>Kilometer</th>\n",
       "      <td>0</td>\n",
       "      <td>0.00</td>\n",
       "    </tr>\n",
       "    <tr>\n",
       "      <th>RegistrationMonth</th>\n",
       "      <td>0</td>\n",
       "      <td>0.00</td>\n",
       "    </tr>\n",
       "    <tr>\n",
       "      <th>Brand</th>\n",
       "      <td>0</td>\n",
       "      <td>0.00</td>\n",
       "    </tr>\n",
       "    <tr>\n",
       "      <th>DateCreated</th>\n",
       "      <td>0</td>\n",
       "      <td>0.00</td>\n",
       "    </tr>\n",
       "    <tr>\n",
       "      <th>NumberOfPictures</th>\n",
       "      <td>0</td>\n",
       "      <td>0.00</td>\n",
       "    </tr>\n",
       "    <tr>\n",
       "      <th>PostalCode</th>\n",
       "      <td>0</td>\n",
       "      <td>0.00</td>\n",
       "    </tr>\n",
       "    <tr>\n",
       "      <th>LastSeen</th>\n",
       "      <td>0</td>\n",
       "      <td>0.00</td>\n",
       "    </tr>\n",
       "  </tbody>\n",
       "</table>\n",
       "</div>"
      ],
      "text/plain": [
       "                   missing_values  % of missing values\n",
       "NotRepaired                 71154                20.08\n",
       "VehicleType                 37490                10.58\n",
       "FuelType                    32895                 9.28\n",
       "Gearbox                     19833                 5.60\n",
       "Model                       19705                 5.56\n",
       "DateCrawled                     0                 0.00\n",
       "Price                           0                 0.00\n",
       "RegistrationYear                0                 0.00\n",
       "Power                           0                 0.00\n",
       "Kilometer                       0                 0.00\n",
       "RegistrationMonth               0                 0.00\n",
       "Brand                           0                 0.00\n",
       "DateCreated                     0                 0.00\n",
       "NumberOfPictures                0                 0.00\n",
       "PostalCode                      0                 0.00\n",
       "LastSeen                        0                 0.00"
      ]
     },
     "execution_count": 6,
     "metadata": {},
     "output_type": "execute_result"
    }
   ],
   "source": [
    "#посчитаем пропуски и их процент в каждом столбце \n",
    "\n",
    "report = data.isna().sum().to_frame()\n",
    "report = report.rename(columns = {0: 'missing_values'})\n",
    "report['% of missing values'] = ((report['missing_values'] / data.shape[0])*100).round(2)\n",
    "report.drop(columns = 'missing_values')\n",
    "report_missing = report.sort_values(by = '% of missing values', ascending = False)\n",
    "report_missing"
   ]
  },
  {
   "cell_type": "markdown",
   "metadata": {},
   "source": [
    "Более всего пропусков имеет столбец 'NotRepaired' - 20%. Остальные столбцы с пропусками ('VehicleType', 'FuelType', 'Gearbox', 'Model') имеют в 2 и больше раза менньше попусков, но несут для нас важнейшую информацию - хотелось бы их сохранить. "
   ]
  },
  {
   "cell_type": "code",
   "execution_count": 7,
   "metadata": {},
   "outputs": [],
   "source": [
    "missing_columns = data[['NotRepaired', 'VehicleType', 'FuelType', 'Gearbox', 'Model']]"
   ]
  },
  {
   "cell_type": "code",
   "execution_count": 8,
   "metadata": {},
   "outputs": [
    {
     "data": {
      "text/plain": [
       "'NotRepaired'"
      ]
     },
     "metadata": {},
     "output_type": "display_data"
    },
    {
     "data": {
      "text/plain": [
       "no     247161\n",
       "yes     36054\n",
       "Name: NotRepaired, dtype: int64"
      ]
     },
     "metadata": {},
     "output_type": "display_data"
    },
    {
     "data": {
      "text/plain": [
       "'VehicleType'"
      ]
     },
     "metadata": {},
     "output_type": "display_data"
    },
    {
     "data": {
      "text/plain": [
       "sedan          91457\n",
       "small          79831\n",
       "wagon          65166\n",
       "bus            28775\n",
       "convertible    20203\n",
       "coupe          16163\n",
       "suv            11996\n",
       "other           3288\n",
       "Name: VehicleType, dtype: int64"
      ]
     },
     "metadata": {},
     "output_type": "display_data"
    },
    {
     "data": {
      "text/plain": [
       "'FuelType'"
      ]
     },
     "metadata": {},
     "output_type": "display_data"
    },
    {
     "data": {
      "text/plain": [
       "petrol      216352\n",
       "gasoline     98720\n",
       "lpg           5310\n",
       "cng            565\n",
       "hybrid         233\n",
       "other          204\n",
       "electric        90\n",
       "Name: FuelType, dtype: int64"
      ]
     },
     "metadata": {},
     "output_type": "display_data"
    },
    {
     "data": {
      "text/plain": [
       "'Gearbox'"
      ]
     },
     "metadata": {},
     "output_type": "display_data"
    },
    {
     "data": {
      "text/plain": [
       "manual    268251\n",
       "auto       66285\n",
       "Name: Gearbox, dtype: int64"
      ]
     },
     "metadata": {},
     "output_type": "display_data"
    },
    {
     "data": {
      "text/plain": [
       "'Model'"
      ]
     },
     "metadata": {},
     "output_type": "display_data"
    },
    {
     "data": {
      "text/plain": [
       "golf                  29232\n",
       "other                 24421\n",
       "3er                   19761\n",
       "polo                  13066\n",
       "corsa                 12570\n",
       "                      ...  \n",
       "serie_2                   8\n",
       "serie_3                   4\n",
       "rangerover                4\n",
       "range_rover_evoque        2\n",
       "serie_1                   2\n",
       "Name: Model, Length: 250, dtype: int64"
      ]
     },
     "metadata": {},
     "output_type": "display_data"
    }
   ],
   "source": [
    "for i in missing_columns:\n",
    "    display(data[i].name)\n",
    "    display(data[i].value_counts())"
   ]
  },
  {
   "cell_type": "markdown",
   "metadata": {},
   "source": [
    "В столбце 'NotRepaired' довольно много пропусков, чтобы пожертвовать таким большим объемом данных. Поэтому предлагаю ввести еще одну категорию для для данного признака 'no data' и заменить пропуски. "
   ]
  },
  {
   "cell_type": "code",
   "execution_count": 9,
   "metadata": {},
   "outputs": [],
   "source": [
    "data['NotRepaired'].fillna('no data', inplace = True)"
   ]
  },
  {
   "cell_type": "markdown",
   "metadata": {},
   "source": [
    "Пропусков в столбцe 'VehicleType' порядка 7% от общего числа строк можно было бы избавиться, но лучше поступить, как с с пропусками в 'NotRepaired' и заменить их на 'no data'"
   ]
  },
  {
   "cell_type": "code",
   "execution_count": 10,
   "metadata": {},
   "outputs": [],
   "source": [
    "data['VehicleType'].fillna('no data', inplace = True)"
   ]
  },
  {
   "cell_type": "markdown",
   "metadata": {},
   "source": [
    "Признак 'FuelType' имеет две наиболее популярные категории: petrol и gasoline. Которые при этом обозначают одно и то же - бензин. А значит мы имеем явный перекос в сторону одного типа топлива, к которму и сможем приписать наши пропуски."
   ]
  },
  {
   "cell_type": "code",
   "execution_count": 11,
   "metadata": {},
   "outputs": [],
   "source": [
    "# приводим gasoline и petrol к одному значению, пусть это будет petrol \n",
    "\n",
    "data['FuelType'] = data['FuelType'].replace({'gasoline' : 'petrol'})\n",
    "\n",
    "# заполняем пропуски значение petrol\n",
    "\n",
    "data['FuelType'].fillna('petrol', inplace = True)"
   ]
  },
  {
   "cell_type": "markdown",
   "metadata": {},
   "source": [
    "Столбец 'Gearbox' и его 5,5% пропусков - здесь две категории и приписать 20 тысяч пропусков к какой-либо из них явно подпортит нашу выборку. Поэтому создадим новую категорию."
   ]
  },
  {
   "cell_type": "code",
   "execution_count": 12,
   "metadata": {},
   "outputs": [],
   "source": [
    "data['Gearbox'].fillna('no data', inplace = True)"
   ]
  },
  {
   "cell_type": "markdown",
   "metadata": {},
   "source": [
    "В признаке 'Model', весьма важном, предпочту от пропусков избавиться."
   ]
  },
  {
   "cell_type": "code",
   "execution_count": 13,
   "metadata": {},
   "outputs": [],
   "source": [
    "data.dropna(subset = ['Model'], inplace = True)"
   ]
  },
  {
   "cell_type": "code",
   "execution_count": 14,
   "metadata": {},
   "outputs": [
    {
     "name": "stdout",
     "output_type": "stream",
     "text": [
      "<class 'pandas.core.frame.DataFrame'>\n",
      "Int64Index: 334664 entries, 0 to 354368\n",
      "Data columns (total 16 columns):\n",
      " #   Column             Non-Null Count   Dtype \n",
      "---  ------             --------------   ----- \n",
      " 0   DateCrawled        334664 non-null  object\n",
      " 1   Price              334664 non-null  int64 \n",
      " 2   VehicleType        334664 non-null  object\n",
      " 3   RegistrationYear   334664 non-null  int64 \n",
      " 4   Gearbox            334664 non-null  object\n",
      " 5   Power              334664 non-null  int64 \n",
      " 6   Model              334664 non-null  object\n",
      " 7   Kilometer          334664 non-null  int64 \n",
      " 8   RegistrationMonth  334664 non-null  int64 \n",
      " 9   FuelType           334664 non-null  object\n",
      " 10  Brand              334664 non-null  object\n",
      " 11  NotRepaired        334664 non-null  object\n",
      " 12  DateCreated        334664 non-null  object\n",
      " 13  NumberOfPictures   334664 non-null  int64 \n",
      " 14  PostalCode         334664 non-null  int64 \n",
      " 15  LastSeen           334664 non-null  object\n",
      "dtypes: int64(7), object(9)\n",
      "memory usage: 43.4+ MB\n"
     ]
    }
   ],
   "source": [
    "# проверяем насколько удачно прошла процедура избавления от пропусков\n",
    "\n",
    "data.info()"
   ]
  },
  {
   "cell_type": "markdown",
   "metadata": {},
   "source": [
    "Пройдемся по остальным столбцам и проверим данные на ошибки"
   ]
  },
  {
   "cell_type": "code",
   "execution_count": 15,
   "metadata": {},
   "outputs": [
    {
     "data": {
      "text/plain": [
       "count    334664.000000\n",
       "mean       4504.346790\n",
       "std        4531.438572\n",
       "min           0.000000\n",
       "25%        1150.000000\n",
       "50%        2800.000000\n",
       "75%        6500.000000\n",
       "max       20000.000000\n",
       "Name: Price, dtype: float64"
      ]
     },
     "execution_count": 15,
     "metadata": {},
     "output_type": "execute_result"
    }
   ],
   "source": [
    "# изучим подробнее столбец 'Price'\n",
    "data['Price'].describe()"
   ]
  },
  {
   "cell_type": "code",
   "execution_count": 16,
   "metadata": {},
   "outputs": [
    {
     "data": {
      "text/plain": [
       "8588"
      ]
     },
     "execution_count": 16,
     "metadata": {},
     "output_type": "execute_result"
    }
   ],
   "source": [
    "# мы имеем значения '0' в поле с ценой, а значит стоит посмотреть сколько таковых\n",
    "\n",
    "len(data[data['Price'] == 0])"
   ]
  },
  {
   "cell_type": "markdown",
   "metadata": {},
   "source": [
    "В данном случае у нас 8588 объектов с ценой 0 и заполнить мы их никак не сможем. С учетом того, что данный столбец это наш целевой признак - придется избавиться от этих строк."
   ]
  },
  {
   "cell_type": "code",
   "execution_count": 17,
   "metadata": {},
   "outputs": [],
   "source": [
    "data = data.query('Price != 0')"
   ]
  },
  {
   "cell_type": "markdown",
   "metadata": {},
   "source": [
    "Проверим столбец с годом регистрации авто"
   ]
  },
  {
   "cell_type": "code",
   "execution_count": 18,
   "metadata": {},
   "outputs": [
    {
     "data": {
      "text/plain": [
       "2000    21301\n",
       "1999    20959\n",
       "2005    20561\n",
       "2006    19150\n",
       "2003    18878\n",
       "        ...  \n",
       "1941        1\n",
       "4500        1\n",
       "2200        1\n",
       "1949        1\n",
       "2290        1\n",
       "Name: RegistrationYear, Length: 122, dtype: int64"
      ]
     },
     "execution_count": 18,
     "metadata": {},
     "output_type": "execute_result"
    }
   ],
   "source": [
    "data['RegistrationYear'].value_counts()"
   ]
  },
  {
   "cell_type": "markdown",
   "metadata": {},
   "source": [
    "В данном столбце наблюдаются некоторые аномалии с годом - присутствуют такие значения, как: 4100, 1200, 5300, 8888, 2290 и тд. Я предпочитаю избавиться от данных выбросов, определив адекватный временной промежуток с 1950 по 2021. Тем самым данные будут избавлены от выбросов."
   ]
  },
  {
   "cell_type": "code",
   "execution_count": 19,
   "metadata": {},
   "outputs": [],
   "source": [
    "data = data.query('1950 <= RegistrationYear <= 2021')"
   ]
  },
  {
   "cell_type": "code",
   "execution_count": 20,
   "metadata": {},
   "outputs": [
    {
     "data": {
      "text/plain": [
       "31235"
      ]
     },
     "execution_count": 20,
     "metadata": {},
     "output_type": "execute_result"
    }
   ],
   "source": [
    "# столбец 'Power' имеет минимальные значения, равные 0\n",
    "# посчитаем количество нулевых значений\n",
    "\n",
    "len(data[data['Power'] == 0])"
   ]
  },
  {
   "cell_type": "markdown",
   "metadata": {},
   "source": [
    "Более 40 тысяч строк, где мощность равна 0. Попробуем заменить эти 0 на медианные значения мощности по моделям."
   ]
  },
  {
   "cell_type": "code",
   "execution_count": 21,
   "metadata": {},
   "outputs": [],
   "source": [
    "# группируем по моделям и считаем медианные значения мощности\n",
    "model_power = data.query('Power != 0').groupby('Model')['Power'].median()\n",
    "\n",
    "# создаем словарь для заполнения\n",
    "model_power_dict = model_power.to_dict()"
   ]
  },
  {
   "cell_type": "code",
   "execution_count": 22,
   "metadata": {},
   "outputs": [],
   "source": [
    "# меняем 0 на Nan для удобства заполнения\n",
    "data['Power'].replace(0, np.nan, inplace=True)\n",
    "\n",
    "# заполняем пропуски из словаря\n",
    "data['Power'] = data['Power'].fillna(data['Model'].map(model_power_dict))\n",
    "\n",
    "# на всякий случай дропаем пропуски \n",
    "data.dropna(subset = ['Power'], inplace = True)\n",
    "\n",
    "# перводим значения в целочисленные\n",
    "data['Power'] = data['Power'].astype(int)\n"
   ]
  },
  {
   "cell_type": "code",
   "execution_count": 23,
   "metadata": {},
   "outputs": [
    {
     "data": {
      "text/plain": [
       "27532"
      ]
     },
     "execution_count": 23,
     "metadata": {},
     "output_type": "execute_result"
    }
   ],
   "source": [
    "#  имеются нулевые значения в столбце с месяцем публикации\n",
    "\n",
    "len(data[data['RegistrationMonth'] == 0])"
   ]
  },
  {
   "cell_type": "markdown",
   "metadata": {},
   "source": [
    "В целом это не критичный признак, поэтому можно оставить все без изменений."
   ]
  },
  {
   "cell_type": "code",
   "execution_count": 24,
   "metadata": {},
   "outputs": [
    {
     "data": {
      "text/plain": [
       "volkswagen       71263\n",
       "opel             36816\n",
       "bmw              34065\n",
       "mercedes_benz    30254\n",
       "audi             27465\n",
       "ford             23519\n",
       "renault          16693\n",
       "peugeot           9949\n",
       "fiat              8864\n",
       "seat              6502\n",
       "skoda             5307\n",
       "mazda             5151\n",
       "smart             4928\n",
       "citroen           4793\n",
       "nissan            4618\n",
       "toyota            4399\n",
       "hyundai           3313\n",
       "mini              3108\n",
       "volvo             3026\n",
       "mitsubishi        2782\n",
       "honda             2581\n",
       "kia               2298\n",
       "suzuki            2146\n",
       "alfa_romeo        2110\n",
       "chevrolet         1606\n",
       "chrysler          1285\n",
       "dacia              871\n",
       "daihatsu           739\n",
       "porsche            697\n",
       "subaru             696\n",
       "jeep               630\n",
       "land_rover         519\n",
       "saab               502\n",
       "daewoo             490\n",
       "jaguar             483\n",
       "lancia             434\n",
       "trabant            425\n",
       "rover              390\n",
       "lada               201\n",
       "Name: Brand, dtype: int64"
      ]
     },
     "execution_count": 24,
     "metadata": {},
     "output_type": "execute_result"
    }
   ],
   "source": [
    "# проверяем и заодно знакомимся с данными столбца 'Brand'\n",
    "\n",
    "data['Brand'].value_counts()"
   ]
  },
  {
   "cell_type": "code",
   "execution_count": 25,
   "metadata": {},
   "outputs": [
    {
     "name": "stdout",
     "output_type": "stream",
     "text": [
      "<class 'pandas.core.frame.DataFrame'>\n",
      "Int64Index: 325918 entries, 0 to 354368\n",
      "Data columns (total 16 columns):\n",
      " #   Column             Non-Null Count   Dtype \n",
      "---  ------             --------------   ----- \n",
      " 0   DateCrawled        325918 non-null  object\n",
      " 1   Price              325918 non-null  int64 \n",
      " 2   VehicleType        325918 non-null  object\n",
      " 3   RegistrationYear   325918 non-null  int64 \n",
      " 4   Gearbox            325918 non-null  object\n",
      " 5   Power              325918 non-null  int64 \n",
      " 6   Model              325918 non-null  object\n",
      " 7   Kilometer          325918 non-null  int64 \n",
      " 8   RegistrationMonth  325918 non-null  int64 \n",
      " 9   FuelType           325918 non-null  object\n",
      " 10  Brand              325918 non-null  object\n",
      " 11  NotRepaired        325918 non-null  object\n",
      " 12  DateCreated        325918 non-null  object\n",
      " 13  NumberOfPictures   325918 non-null  int64 \n",
      " 14  PostalCode         325918 non-null  int64 \n",
      " 15  LastSeen           325918 non-null  object\n",
      "dtypes: int64(7), object(9)\n",
      "memory usage: 42.3+ MB\n"
     ]
    }
   ],
   "source": [
    "data.info()"
   ]
  },
  {
   "cell_type": "markdown",
   "metadata": {},
   "source": [
    "Избавимся от столбцов, не несущих никакой важной информации для наших моделей:"
   ]
  },
  {
   "cell_type": "code",
   "execution_count": 26,
   "metadata": {},
   "outputs": [],
   "source": [
    "data = data.drop(['DateCrawled', 'DateCreated', 'NumberOfPictures', 'PostalCode', 'LastSeen'], axis=1)"
   ]
  },
  {
   "cell_type": "code",
   "execution_count": 27,
   "metadata": {},
   "outputs": [
    {
     "name": "stdout",
     "output_type": "stream",
     "text": [
      "<class 'pandas.core.frame.DataFrame'>\n",
      "Int64Index: 325918 entries, 0 to 354368\n",
      "Data columns (total 11 columns):\n",
      " #   Column             Non-Null Count   Dtype \n",
      "---  ------             --------------   ----- \n",
      " 0   Price              325918 non-null  int64 \n",
      " 1   VehicleType        325918 non-null  object\n",
      " 2   RegistrationYear   325918 non-null  int64 \n",
      " 3   Gearbox            325918 non-null  object\n",
      " 4   Power              325918 non-null  int64 \n",
      " 5   Model              325918 non-null  object\n",
      " 6   Kilometer          325918 non-null  int64 \n",
      " 7   RegistrationMonth  325918 non-null  int64 \n",
      " 8   FuelType           325918 non-null  object\n",
      " 9   Brand              325918 non-null  object\n",
      " 10  NotRepaired        325918 non-null  object\n",
      "dtypes: int64(5), object(6)\n",
      "memory usage: 29.8+ MB\n"
     ]
    }
   ],
   "source": [
    "data.info()"
   ]
  },
  {
   "cell_type": "markdown",
   "metadata": {},
   "source": [
    "В данном случае мы имеем дело с пропусками исключительно в категориальных признаках. "
   ]
  },
  {
   "cell_type": "markdown",
   "metadata": {},
   "source": [
    "### Вывод"
   ]
  },
  {
   "cell_type": "markdown",
   "metadata": {},
   "source": [
    "В нашем датафрейме было 5 столбцов с содержанием пропусков от 5 до 20% данных. \n",
    "\n",
    "Вот эти столбцы:\n",
    "- NotRepaired - 71154 пропусков -\t20.08% данных\n",
    "- VehicleType\t- 37490 пропусков - 10.58% данных\n",
    "- FuelType - 32895 пропусков - 9.28% данных\n",
    "- Gearbox - 19833 пропусков - 5.60% данных\n",
    "- Model - 19705 пропусков - 5.56% данных\n",
    "\n",
    "Так же были обнаружены объекты с некорректными или с незаполненными данными (цена, мощность и год регистрации). \n",
    "\n",
    "В целом - пришлось избавиться порядка от 10% объектов, что, на мой взгляд, не так критично.\n",
    "\n",
    "Так же были удалены столбцы, не имеющие никакой важности при обучении моделей."
   ]
  },
  {
   "cell_type": "markdown",
   "metadata": {},
   "source": [
    "## Обучение моделей"
   ]
  },
  {
   "cell_type": "code",
   "execution_count": 28,
   "metadata": {},
   "outputs": [],
   "source": [
    "# сохраянем фичи и таргет для прогона модели по данным без OHE\n",
    "\n",
    "X_no_ohe = data[['RegistrationYear','Power','Kilometer','RegistrationMonth', \\\n",
    "                 'VehicleType','Gearbox','Model','FuelType','Brand','NotRepaired']]\n",
    "y_no_ohe = data['Price']"
   ]
  },
  {
   "cell_type": "code",
   "execution_count": 29,
   "metadata": {},
   "outputs": [],
   "source": [
    "# проводим OHE для категориальных признаков\n",
    "\n",
    "X_ohe = pd.get_dummies(data[['VehicleType','Gearbox','Model','FuelType','Brand','NotRepaired']], drop_first = True)\n",
    "data[X_ohe.columns] = X_ohe\n",
    "X_columns = ['RegistrationYear','Power','Kilometer','RegistrationMonth'] + list(X_ohe.columns)"
   ]
  },
  {
   "cell_type": "code",
   "execution_count": 30,
   "metadata": {},
   "outputs": [],
   "source": [
    "# делим данные на выборки\n",
    "\n",
    "X = data[X_columns]\n",
    "y = data['Price']\n",
    "\n",
    "X_train, X_valid, y_train, y_valid = train_test_split(X, y, test_size=0.25, random_state=1234)\n",
    "X_train_no_ohe, X_valid_no_ohe, y_train_no_ohe, y_valid_no_ohe = \\\n",
    "train_test_split(X_no_ohe, y_no_ohe, test_size=0.25, random_state=12345)"
   ]
  },
  {
   "cell_type": "code",
   "execution_count": 31,
   "metadata": {},
   "outputs": [],
   "source": [
    "# запишем функцию для обучения моделей и нахождения значения RMSE\n",
    "\n",
    "def score(model, target = y_train, features = X_train):\n",
    "    start_time = timeit.default_timer()\n",
    "    score = mean_squared_error(target, model.predict(features))**(1/2)\n",
    "    predict_time = timeit.default_timer() - start_time\n",
    "    return score, predict_time\n",
    "def fit(model):\n",
    "    start_time = timeit.default_timer()\n",
    "    model.fit(X_train, y_train)\n",
    "    fit_time = timeit.default_timer() - start_time\n",
    "    return fit_time"
   ]
  },
  {
   "cell_type": "markdown",
   "metadata": {},
   "source": [
    "### Модель DummyRegressor"
   ]
  },
  {
   "cell_type": "code",
   "execution_count": 32,
   "metadata": {},
   "outputs": [
    {
     "name": "stdout",
     "output_type": "stream",
     "text": [
      "Время обучения модели: 0.006542541999998264\n",
      "Значение RMSE: 4831.102242128869\n",
      "Время предсказания: 0.007224994999997847\n"
     ]
    }
   ],
   "source": [
    "dumr = DummyRegressor(strategy=\"median\")\n",
    "dumr_fit_time = fit(dumr)\n",
    "print('Время обучения модели:', dumr_fit_time)\n",
    "Score, time  = score(dumr)\n",
    "print('Значение RMSE:', Score)\n",
    "print('Время предсказания:', time)"
   ]
  },
  {
   "cell_type": "markdown",
   "metadata": {},
   "source": [
    "### Модель LinearRegression"
   ]
  },
  {
   "cell_type": "code",
   "execution_count": 33,
   "metadata": {},
   "outputs": [
    {
     "name": "stdout",
     "output_type": "stream",
     "text": [
      "Время обучения модели: 22.980423431\n",
      "Значение RMSE: 2772.2337512833424\n",
      "Время предсказания: 3.664582834000001\n"
     ]
    }
   ],
   "source": [
    "lr = LinearRegression()\n",
    "lr_fit_time = fit(lr)\n",
    "print('Время обучения модели:', lr_fit_time)\n",
    "Score, time  = score(lr)\n",
    "print('Значение RMSE:', Score)\n",
    "print('Время предсказания:', time)"
   ]
  },
  {
   "cell_type": "markdown",
   "metadata": {},
   "source": [
    "### Модель  CatBoostRegressor на данных с OHE"
   ]
  },
  {
   "cell_type": "code",
   "execution_count": 34,
   "metadata": {},
   "outputs": [
    {
     "name": "stdout",
     "output_type": "stream",
     "text": [
      "Время обучения модели: 19.242516989000002\n",
      "Значение RMSE: 1507.3402408816353\n",
      "Время предсказания: 0.5976547650000015\n"
     ]
    }
   ],
   "source": [
    "#%%time\n",
    "cbr = CatBoostRegressor(iterations = 100, learning_rate = 0.6, depth = 10)\n",
    "start_time = timeit.default_timer()\n",
    "cbr.fit(X_train, y_train, silent= True)\n",
    "cbr_fit_time = timeit.default_timer() - start_time\n",
    "print('Время обучения модели:', cbr_fit_time)\n",
    "Score, time  = score(cbr)\n",
    "print('Значение RMSE:', Score)\n",
    "print('Время предсказания:', time)"
   ]
  },
  {
   "cell_type": "markdown",
   "metadata": {},
   "source": [
    "### Модель  CatBoostRegressor на данных без OHE"
   ]
  },
  {
   "cell_type": "code",
   "execution_count": 35,
   "metadata": {},
   "outputs": [
    {
     "name": "stdout",
     "output_type": "stream",
     "text": [
      "Время обучения модели: 44.74082296899999\n",
      "Значение RMSE: 1462.8031639521241\n",
      "Время предсказания: 1.8001342350000016\n"
     ]
    }
   ],
   "source": [
    "cbr_no_ohe = CatBoostRegressor(iterations = 100, learning_rate = 0.6, depth = 10)\n",
    "start_time = timeit.default_timer()\n",
    "cbr_no_ohe.fit(X_train_no_ohe, y_train_no_ohe, silent= True, cat_features = \\\n",
    "               ['VehicleType','Gearbox','Model','FuelType','Brand','NotRepaired'])\n",
    "cbr_no_ohe_fit_time = timeit.default_timer() - start_time\n",
    "print('Время обучения модели:', cbr_no_ohe_fit_time)\n",
    "Score, time  = score(cbr_no_ohe, y_train_no_ohe, X_train_no_ohe)\n",
    "print('Значение RMSE:', Score)\n",
    "print('Время предсказания:', time)"
   ]
  },
  {
   "cell_type": "markdown",
   "metadata": {},
   "source": [
    "### Модель LightGBMRegressor"
   ]
  },
  {
   "cell_type": "code",
   "execution_count": 36,
   "metadata": {},
   "outputs": [
    {
     "name": "stdout",
     "output_type": "stream",
     "text": [
      "Время обучения модели: 23.082368173000006\n",
      "Значение RMSE: 1270.0828559971912\n",
      "Время предсказания: 19.48762870600001\n"
     ]
    }
   ],
   "source": [
    "lgmbr = LGBMRegressor(max_depth = 200, num_leaves = 240, n_estimators = 340)\n",
    "start_time = timeit.default_timer()\n",
    "lgmbr_fit_time = fit(lgmbr)\n",
    "print('Время обучения модели:', lgmbr_fit_time)\n",
    "Score, time  = score(lgmbr)\n",
    "print('Значение RMSE:', Score)\n",
    "print('Время предсказания:', time)"
   ]
  },
  {
   "cell_type": "markdown",
   "metadata": {},
   "source": [
    "## Анализ моделей"
   ]
  },
  {
   "cell_type": "markdown",
   "metadata": {},
   "source": [
    "Проверим все наши модели на валидационной выборке"
   ]
  },
  {
   "cell_type": "code",
   "execution_count": 37,
   "metadata": {},
   "outputs": [
    {
     "name": "stdout",
     "output_type": "stream",
     "text": [
      "Значение RMSE: 4822.094620406588\n",
      "Время предсказания: 0.003933953999990081\n"
     ]
    }
   ],
   "source": [
    "dumr_score, dumr_time  = score(dumr, target = y_valid, features = X_valid)\n",
    "print('Значение RMSE:', dumr_score)\n",
    "print('Время предсказания:', dumr_time)"
   ]
  },
  {
   "cell_type": "code",
   "execution_count": 38,
   "metadata": {},
   "outputs": [
    {
     "name": "stdout",
     "output_type": "stream",
     "text": [
      "Значение RMSE: 2782.322241321886\n",
      "Время предсказания: 1.3096212019999882\n"
     ]
    }
   ],
   "source": [
    "lr_score, lr_time  = score(lr, target = y_valid, features = X_valid)\n",
    "print('Значение RMSE:', lr_score)\n",
    "print('Время предсказания:', lr_time)"
   ]
  },
  {
   "cell_type": "code",
   "execution_count": 39,
   "metadata": {},
   "outputs": [
    {
     "name": "stdout",
     "output_type": "stream",
     "text": [
      "RMSE score: 1614.579968913522\n",
      "время предсказания: 0.18305274700000496\n"
     ]
    }
   ],
   "source": [
    "cbr_score, cbr_time  = score(cbr, target = y_valid, features = X_valid)\n",
    "print('RMSE score:', cbr_score)\n",
    "print('время предсказания:', cbr_time)"
   ]
  },
  {
   "cell_type": "code",
   "execution_count": 40,
   "metadata": {},
   "outputs": [
    {
     "name": "stdout",
     "output_type": "stream",
     "text": [
      "RMSE score: 1640.6096458973527\n",
      "время предсказания: 0.5045836980000047\n"
     ]
    }
   ],
   "source": [
    "cbr_no_ohe_score, cbr_no_ohe_time  = score(cbr_no_ohe, target = y_valid_no_ohe, features = X_valid_no_ohe)\n",
    "print('RMSE score:', cbr_no_ohe_score)\n",
    "print('время предсказания:', cbr_no_ohe_time)"
   ]
  },
  {
   "cell_type": "code",
   "execution_count": 41,
   "metadata": {},
   "outputs": [
    {
     "name": "stdout",
     "output_type": "stream",
     "text": [
      "RMSE score: 1535.820784692363\n",
      "время предсказания: 6.116650214000003\n"
     ]
    }
   ],
   "source": [
    "lgmbr_score, lgmbr_time  = score(lgmbr, target = y_valid, features = X_valid)\n",
    "print('RMSE score:', lgmbr_score)\n",
    "print('время предсказания:', lgmbr_time)"
   ]
  },
  {
   "cell_type": "markdown",
   "metadata": {},
   "source": [
    "Соберем все данные по моделям в одном фрейме"
   ]
  },
  {
   "cell_type": "code",
   "execution_count": 47,
   "metadata": {},
   "outputs": [
    {
     "data": {
      "text/html": [
       "<div>\n",
       "<style scoped>\n",
       "    .dataframe tbody tr th:only-of-type {\n",
       "        vertical-align: middle;\n",
       "    }\n",
       "\n",
       "    .dataframe tbody tr th {\n",
       "        vertical-align: top;\n",
       "    }\n",
       "\n",
       "    .dataframe thead th {\n",
       "        text-align: right;\n",
       "    }\n",
       "</style>\n",
       "<table border=\"1\" class=\"dataframe\">\n",
       "  <thead>\n",
       "    <tr style=\"text-align: right;\">\n",
       "      <th></th>\n",
       "      <th>Значение RMSE</th>\n",
       "      <th>Время предсказания</th>\n",
       "      <th>Время обучения</th>\n",
       "      <th>Общее время</th>\n",
       "    </tr>\n",
       "  </thead>\n",
       "  <tbody>\n",
       "    <tr>\n",
       "      <th>DummyRegressor</th>\n",
       "      <td>4822.094620</td>\n",
       "      <td>0.003934</td>\n",
       "      <td>0.003934</td>\n",
       "      <td>0.010476</td>\n",
       "    </tr>\n",
       "    <tr>\n",
       "      <th>LinearRegression</th>\n",
       "      <td>2782.322241</td>\n",
       "      <td>1.309621</td>\n",
       "      <td>1.309621</td>\n",
       "      <td>24.290045</td>\n",
       "    </tr>\n",
       "    <tr>\n",
       "      <th>CatBoostRegressor with OHE</th>\n",
       "      <td>1614.579969</td>\n",
       "      <td>0.183053</td>\n",
       "      <td>19.242517</td>\n",
       "      <td>19.425570</td>\n",
       "    </tr>\n",
       "    <tr>\n",
       "      <th>CatBoostRegressor without OHE</th>\n",
       "      <td>1640.609646</td>\n",
       "      <td>0.504584</td>\n",
       "      <td>44.740823</td>\n",
       "      <td>45.245407</td>\n",
       "    </tr>\n",
       "    <tr>\n",
       "      <th>LightGBMRegressor</th>\n",
       "      <td>1535.820785</td>\n",
       "      <td>6.116650</td>\n",
       "      <td>23.082368</td>\n",
       "      <td>29.199018</td>\n",
       "    </tr>\n",
       "  </tbody>\n",
       "</table>\n",
       "</div>"
      ],
      "text/plain": [
       "                               Значение RMSE  Время предсказания  \\\n",
       "DummyRegressor                   4822.094620            0.003934   \n",
       "LinearRegression                 2782.322241            1.309621   \n",
       "CatBoostRegressor with OHE       1614.579969            0.183053   \n",
       "CatBoostRegressor without OHE    1640.609646            0.504584   \n",
       "LightGBMRegressor                1535.820785            6.116650   \n",
       "\n",
       "                               Время обучения  Общее время  \n",
       "DummyRegressor                       0.003934     0.010476  \n",
       "LinearRegression                     1.309621    24.290045  \n",
       "CatBoostRegressor with OHE          19.242517    19.425570  \n",
       "CatBoostRegressor without OHE       44.740823    45.245407  \n",
       "LightGBMRegressor                   23.082368    29.199018  "
      ]
     },
     "execution_count": 47,
     "metadata": {},
     "output_type": "execute_result"
    }
   ],
   "source": [
    "columns = ['Значение RMSE', 'Время предсказания', 'Время обучения', 'Общее время']\n",
    "index = ['DummyRegressor', 'LinearRegression','CatBoostRegressor with OHE', \\\n",
    "         'CatBoostRegressor without OHE', 'LightGBMRegressor']\n",
    "report = [[dumr_score, dumr_time, dumr_time, dumr_time + dumr_fit_time], \n",
    "              [lr_score, lr_time, lr_time, lr_time + lr_fit_time],\n",
    "              [cbr_score, cbr_time, cbr_fit_time, cbr_time + cbr_fit_time],\n",
    "              [cbr_no_ohe_score, cbr_no_ohe_time, cbr_no_ohe_fit_time, cbr_no_ohe_time + cbr_no_ohe_fit_time], \n",
    "              [lgmbr_score, lgmbr_time, lgmbr_fit_time, lgmbr_time + lgmbr_fit_time]]\n",
    "pd.DataFrame(columns = columns, index = index, data = report)"
   ]
  },
  {
   "cell_type": "markdown",
   "metadata": {},
   "source": [
    "## Выводы"
   ]
  },
  {
   "cell_type": "markdown",
   "metadata": {},
   "source": [
    "Лучшая метрика RMSE на валидационной выборке у модели - LGBMRegressor: 1535.820785. К тому же данная модель довольно быстро обучается. Но вот по времени предсказания - она самая медленная.\n",
    "\n",
    "Второй результат у модели CatBoostRegressor на данных после OHE: 1614.579969. При этом она быстро обучается и еще быстрее предсказывает. "
   ]
  },
  {
   "cell_type": "code",
   "execution_count": null,
   "metadata": {},
   "outputs": [],
   "source": []
  }
 ],
 "metadata": {
  "kernelspec": {
   "display_name": "Python 3 (ipykernel)",
   "language": "python",
   "name": "python3"
  },
  "language_info": {
   "codemirror_mode": {
    "name": "ipython",
    "version": 3
   },
   "file_extension": ".py",
   "mimetype": "text/x-python",
   "name": "python",
   "nbconvert_exporter": "python",
   "pygments_lexer": "ipython3",
   "version": "3.9.6"
  },
  "toc": {
   "base_numbering": 1,
   "nav_menu": {},
   "number_sections": true,
   "sideBar": true,
   "skip_h1_title": true,
   "title_cell": "Оглавление",
   "title_sidebar": "Contents",
   "toc_cell": true,
   "toc_position": {},
   "toc_section_display": true,
   "toc_window_display": true
  }
 },
 "nbformat": 4,
 "nbformat_minor": 2
}
