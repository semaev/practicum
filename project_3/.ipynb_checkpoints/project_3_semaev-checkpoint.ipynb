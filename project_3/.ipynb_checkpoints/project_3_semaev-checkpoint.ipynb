{
 "cells": [
  {
   "cell_type": "markdown",
   "metadata": {
    "toc": true
   },
   "source": [
    "<h1>Оглавление<span class=\"tocSkip\"></span></h1>\n",
    "<div class=\"toc\"><ul class=\"toc-item\"><li><span><a href=\"#Исследование-объявлений-о-продаже-квартир\" data-toc-modified-id=\"Исследование-объявлений-о-продаже-квартир-1\">Исследование объявлений о продаже квартир</a></span></li><li><span><a href=\"#Шаг-1.-Откройте-файл-с-данными-и-изучите-общую-информацию.-\" data-toc-modified-id=\"Шаг-1.-Откройте-файл-с-данными-и-изучите-общую-информацию.--2\">Шаг 1. Откройте файл с данными и изучите общую информацию. <a class=\"anchor\" id=\"step_1\"></a></a></span><ul class=\"toc-item\"><li><span><a href=\"#Выводы\" data-toc-modified-id=\"Выводы-2.1\">Выводы</a></span></li></ul></li><li><span><a href=\"#Шаг-2.-Предобработка-данных--\" data-toc-modified-id=\"Шаг-2.-Предобработка-данных---3\">Шаг 2. Предобработка данных  <a class=\"anchor\" id=\"step_2\"></a></a></span><ul class=\"toc-item\"><li><span><a href=\"#Обработка-пропусков-\" data-toc-modified-id=\"Обработка-пропусков--3.1\">Обработка пропусков <a class=\"anchor\" id=\"step_2_1\"></a></a></span><ul class=\"toc-item\"><li><span><a href=\"#Нулевые-значения-в-столбце-'rooms'\" data-toc-modified-id=\"Нулевые-значения-в-столбце-'rooms'-3.1.1\">Нулевые значения в столбце 'rooms'</a></span></li><li><span><a href=\"#Пропуски-в-столбце-'ceiling_height'\" data-toc-modified-id=\"Пропуски-в-столбце-'ceiling_height'-3.1.2\">Пропуски в столбце 'ceiling_height'</a></span></li><li><span><a href=\"#Пропущенные-значения-'floors_total'\" data-toc-modified-id=\"Пропущенные-значения-'floors_total'-3.1.3\">Пропущенные значения 'floors_total'</a></span></li><li><span><a href=\"#Разберемся-с-пропусками-в-'living_area'\" data-toc-modified-id=\"Разберемся-с-пропусками-в-'living_area'-3.1.4\">Разберемся с пропусками в 'living_area'</a></span></li><li><span><a href=\"#Пропуски-в-'apartment-'\" data-toc-modified-id=\"Пропуски-в-'apartment-'-3.1.5\">Пропуски в 'apartment '</a></span></li><li><span><a href=\"#Пропуски-в-столбце-'balkony'\" data-toc-modified-id=\"Пропуски-в-столбце-'balkony'-3.1.6\">Пропуски в столбце 'balkony'</a></span></li><li><span><a href=\"#Пропуски-в-столбце-'locality_name'\" data-toc-modified-id=\"Пропуски-в-столбце-'locality_name'-3.1.7\">Пропуски в столбце 'locality_name'</a></span></li><li><span><a href=\"#Пропуски-в-столбце-'airports_nearest'\" data-toc-modified-id=\"Пропуски-в-столбце-'airports_nearest'-3.1.8\">Пропуски в столбце 'airports_nearest'</a></span></li><li><span><a href=\"#Пропуски-в-прочих-столбцах-с-географическим-данными\" data-toc-modified-id=\"Пропуски-в-прочих-столбцах-с-географическим-данными-3.1.9\">Пропуски в прочих столбцах с географическим данными</a></span></li></ul></li><li><span><a href=\"#Замена-типа-данных-\" data-toc-modified-id=\"Замена-типа-данных--3.2\">Замена типа данных <a class=\"anchor\" id=\"step_2_2\"></a></a></span></li><li><span><a href=\"#Проверка-дубликатов\" data-toc-modified-id=\"Проверка-дубликатов-3.3\">Проверка дубликатов</a></span></li><li><span><a href=\"#Работа-с-названиями-локаций-/-вместо-лемматизации\" data-toc-modified-id=\"Работа-с-названиями-локаций-/-вместо-лемматизации-3.4\">Работа с названиями локаций / вместо лемматизации</a></span></li><li><span><a href=\"#Выводы\" data-toc-modified-id=\"Выводы-3.5\">Выводы</a></span></li></ul></li><li><span><a href=\"#Шаг-3.-Посчитайте-и-добавьте-в-таблицу\" data-toc-modified-id=\"Шаг-3.-Посчитайте-и-добавьте-в-таблицу-4\">Шаг 3. Посчитайте и добавьте в таблицу</a></span><ul class=\"toc-item\"><li><span><a href=\"#Цена-квадратного-метра\" data-toc-modified-id=\"Цена-квадратного-метра-4.1\">Цена квадратного метра</a></span></li><li><span><a href=\"#День-недели,-месяц-и-год-публикации-объявления\" data-toc-modified-id=\"День-недели,-месяц-и-год-публикации-объявления-4.2\">День недели, месяц и год публикации объявления</a></span></li><li><span><a href=\"#Этаж-квартиры\" data-toc-modified-id=\"Этаж-квартиры-4.3\">Этаж квартиры</a></span></li><li><span><a href=\"#Cоотношение-жилой-и-общей-площади-и-отношение-площади-кухни-к-общей\" data-toc-modified-id=\"Cоотношение-жилой-и-общей-площади-и-отношение-площади-кухни-к-общей-4.4\">Cоотношение жилой и общей площади и отношение площади кухни к общей</a></span></li></ul></li><li><span><a href=\"#Шаг-4.-Проведите-исследовательский-анализ-данных-и-выполните-инструкции:\" data-toc-modified-id=\"Шаг-4.-Проведите-исследовательский-анализ-данных-и-выполните-инструкции:-5\">Шаг 4. Проведите исследовательский анализ данных и выполните инструкции:</a></span><ul class=\"toc-item\"><li><span><a href=\"#Изучение-параметров:-площадь,-цена,-число-комнат,-высота-потолков\" data-toc-modified-id=\"Изучение-параметров:-площадь,-цена,-число-комнат,-высота-потолков-5.1\">Изучение параметров: площадь, цена, число комнат, высота потолков</a></span><ul class=\"toc-item\"><li><span><a href=\"#Изучим-данные-столбца-'price'\" data-toc-modified-id=\"Изучим-данные-столбца-'price'-5.1.1\">Изучим данные столбца 'price'</a></span></li><li><span><a href=\"#Изучим-данные-столбца-'total_area'\" data-toc-modified-id=\"Изучим-данные-столбца-'total_area'-5.1.2\">Изучим данные столбца 'total_area'</a></span></li><li><span><a href=\"#Изучим-данные-столбца-'rooms'\" data-toc-modified-id=\"Изучим-данные-столбца-'rooms'-5.1.3\">Изучим данные столбца 'rooms'</a></span></li><li><span><a href=\"#Изучим-данные-столбца-'ceiling_height'\" data-toc-modified-id=\"Изучим-данные-столбца-'ceiling_height'-5.1.4\">Изучим данные столбца 'ceiling_height'</a></span></li></ul></li><li><span><a href=\"#Выводы\" data-toc-modified-id=\"Выводы-5.2\">Выводы</a></span></li><li><span><a href=\"#Изучение-времени-продажи-квартиры\" data-toc-modified-id=\"Изучение-времени-продажи-квартиры-5.3\">Изучение времени продажи квартиры</a></span></li><li><span><a href=\"#Уберите-редкие-и-выбивающиеся-значения\" data-toc-modified-id=\"Уберите-редкие-и-выбивающиеся-значения-5.4\">Уберите редкие и выбивающиеся значения</a></span></li><li><span><a href=\"#Какие-факторы-больше-всего-влияют-на-стоимость-квартиры?\" data-toc-modified-id=\"Какие-факторы-больше-всего-влияют-на-стоимость-квартиры?-5.5\">Какие факторы больше всего влияют на стоимость квартиры?</a></span><ul class=\"toc-item\"><li><span><a href=\"#Проверим-корреляцию-цены-с--числовыми-столбцами:-площадь,-число-комнат,-удалённость-от-центра\" data-toc-modified-id=\"Проверим-корреляцию-цены-с--числовыми-столбцами:-площадь,-число-комнат,-удалённость-от-центра-5.5.1\">Проверим корреляцию цены с  числовыми столбцами: площадь, число комнат, удалённость от центра</a></span></li><li><span><a href=\"#Проверим-корреляцию-цены-с-этажом,-днем-недели,-месяцем-и-годом.\" data-toc-modified-id=\"Проверим-корреляцию-цены-с-этажом,-днем-недели,-месяцем-и-годом.-5.5.2\">Проверим корреляцию цены с этажом, днем недели, месяцем и годом.</a></span></li><li><span><a href=\"#Выберите-10-населённых-пунктов-с-наибольшим-числом-объявлений\" data-toc-modified-id=\"Выберите-10-населённых-пунктов-с-наибольшим-числом-объявлений-5.5.3\">Выберите 10 населённых пунктов с наибольшим числом объявлений</a></span></li><li><span><a href=\"#Выделите-населённые-пункты-с-самой-высокой-и-низкой-стоимостью-жилья\" data-toc-modified-id=\"Выделите-населённые-пункты-с-самой-высокой-и-низкой-стоимостью-жилья-5.5.4\">Выделите населённые пункты с самой высокой и низкой стоимостью жилья</a></span></li></ul></li><li><span><a href=\"#Изучите-предложения-квартир:-для-каждой-квартиры-есть-информация-о-расстоянии-до-центра\" data-toc-modified-id=\"Изучите-предложения-квартир:-для-каждой-квартиры-есть-информация-о-расстоянии-до-центра-5.6\">Изучите предложения квартир: для каждой квартиры есть информация о расстоянии до центра</a></span><ul class=\"toc-item\"><li><span><a href=\"#Изучение-распределения-цены-в-СПб-в-зависимости-от-удаленности-от-центра\" data-toc-modified-id=\"Изучение-распределения-цены-в-СПб-в-зависимости-от-удаленности-от-центра-5.6.1\">Изучение распределения цены в СПб в зависимости от удаленности от центра</a></span></li></ul></li><li><span><a href=\"#Выделите-сегмент-квартир-в-центре\" data-toc-modified-id=\"Выделите-сегмент-квартир-в-центре-5.7\">Выделите сегмент квартир в центре</a></span><ul class=\"toc-item\"><li><span><a href=\"#Изучение-данных-квартир-в-центре-СПб\" data-toc-modified-id=\"Изучение-данных-квартир-в-центре-СПб-5.7.1\">Изучение данных квартир в центре СПб</a></span></li><li><span><a href=\"#Корреляция-цены-с-числовыми-столбцами:-площадь,-число-комнат,-удалённость-от-центра\" data-toc-modified-id=\"Корреляция-цены-с-числовыми-столбцами:-площадь,-число-комнат,-удалённость-от-центра-5.7.2\">Корреляция цены с числовыми столбцами: площадь, число комнат, удалённость от центра</a></span></li><li><span><a href=\"#Корреляция-цены-с-этажом,-днем-недели,-месяцем-и-годом.\" data-toc-modified-id=\"Корреляция-цены-с-этажом,-днем-недели,-месяцем-и-годом.-5.7.3\">Корреляция цены с этажом, днем недели, месяцем и годом.</a></span></li></ul></li></ul></li><li><span><a href=\"#Шаг-5.-Общий-вывод\" data-toc-modified-id=\"Шаг-5.-Общий-вывод-6\">Шаг 5. Общий вывод</a></span></li></ul></div>"
   ]
  },
  {
   "cell_type": "markdown",
   "metadata": {},
   "source": [
    "## Исследование объявлений о продаже квартир\n",
    "\n",
    "В вашем распоряжении данные сервиса Яндекс.Недвижимость — архив объявлений о продаже квартир в Санкт-Петербурге и соседних населённых пунктов за несколько лет. Нужно научиться определять рыночную стоимость объектов недвижимости. Ваша задача — установить параметры. Это позволит построить автоматизированную систему: она отследит аномалии и мошенническую деятельность. \n",
    "\n",
    "По каждой квартире на продажу доступны два вида данных. Первые вписаны пользователем, вторые — получены автоматически на основе картографических данных. Например, расстояние до центра, аэропорта, ближайшего парка и водоёма. "
   ]
  },
  {
   "cell_type": "markdown",
   "metadata": {},
   "source": [
    "## Шаг 1. Откройте файл с данными и изучите общую информацию. <a class=\"anchor\" id=\"step_1\"></a>"
   ]
  },
  {
   "cell_type": "code",
   "execution_count": 1,
   "metadata": {},
   "outputs": [
    {
     "data": {
      "text/html": [
       "<div>\n",
       "<style scoped>\n",
       "    .dataframe tbody tr th:only-of-type {\n",
       "        vertical-align: middle;\n",
       "    }\n",
       "\n",
       "    .dataframe tbody tr th {\n",
       "        vertical-align: top;\n",
       "    }\n",
       "\n",
       "    .dataframe thead th {\n",
       "        text-align: right;\n",
       "    }\n",
       "</style>\n",
       "<table border=\"1\" class=\"dataframe\">\n",
       "  <thead>\n",
       "    <tr style=\"text-align: right;\">\n",
       "      <th></th>\n",
       "      <th>total_images</th>\n",
       "      <th>last_price</th>\n",
       "      <th>total_area</th>\n",
       "      <th>first_day_exposition</th>\n",
       "      <th>rooms</th>\n",
       "      <th>ceiling_height</th>\n",
       "      <th>floors_total</th>\n",
       "      <th>living_area</th>\n",
       "      <th>floor</th>\n",
       "      <th>is_apartment</th>\n",
       "      <th>studio</th>\n",
       "      <th>open_plan</th>\n",
       "      <th>kitchen_area</th>\n",
       "      <th>balcony</th>\n",
       "      <th>locality_name</th>\n",
       "      <th>airports_nearest</th>\n",
       "      <th>cityCenters_nearest</th>\n",
       "      <th>parks_around3000</th>\n",
       "      <th>parks_nearest</th>\n",
       "      <th>ponds_around3000</th>\n",
       "      <th>ponds_nearest</th>\n",
       "      <th>days_exposition</th>\n",
       "    </tr>\n",
       "  </thead>\n",
       "  <tbody>\n",
       "    <tr>\n",
       "      <th>0</th>\n",
       "      <td>20</td>\n",
       "      <td>13000000.00</td>\n",
       "      <td>108.00</td>\n",
       "      <td>2019-03-07T00:00:00</td>\n",
       "      <td>3</td>\n",
       "      <td>2.70</td>\n",
       "      <td>16.00</td>\n",
       "      <td>51.00</td>\n",
       "      <td>8</td>\n",
       "      <td>NaN</td>\n",
       "      <td>False</td>\n",
       "      <td>False</td>\n",
       "      <td>25.00</td>\n",
       "      <td>NaN</td>\n",
       "      <td>Санкт-Петербург</td>\n",
       "      <td>18863.00</td>\n",
       "      <td>16028.00</td>\n",
       "      <td>1.00</td>\n",
       "      <td>482.00</td>\n",
       "      <td>2.00</td>\n",
       "      <td>755.00</td>\n",
       "      <td>NaN</td>\n",
       "    </tr>\n",
       "    <tr>\n",
       "      <th>1</th>\n",
       "      <td>7</td>\n",
       "      <td>3350000.00</td>\n",
       "      <td>40.40</td>\n",
       "      <td>2018-12-04T00:00:00</td>\n",
       "      <td>1</td>\n",
       "      <td>NaN</td>\n",
       "      <td>11.00</td>\n",
       "      <td>18.60</td>\n",
       "      <td>1</td>\n",
       "      <td>NaN</td>\n",
       "      <td>False</td>\n",
       "      <td>False</td>\n",
       "      <td>11.00</td>\n",
       "      <td>2.00</td>\n",
       "      <td>посёлок Шушары</td>\n",
       "      <td>12817.00</td>\n",
       "      <td>18603.00</td>\n",
       "      <td>0.00</td>\n",
       "      <td>NaN</td>\n",
       "      <td>0.00</td>\n",
       "      <td>NaN</td>\n",
       "      <td>81.00</td>\n",
       "    </tr>\n",
       "    <tr>\n",
       "      <th>2</th>\n",
       "      <td>10</td>\n",
       "      <td>5196000.00</td>\n",
       "      <td>56.00</td>\n",
       "      <td>2015-08-20T00:00:00</td>\n",
       "      <td>2</td>\n",
       "      <td>NaN</td>\n",
       "      <td>5.00</td>\n",
       "      <td>34.30</td>\n",
       "      <td>4</td>\n",
       "      <td>NaN</td>\n",
       "      <td>False</td>\n",
       "      <td>False</td>\n",
       "      <td>8.30</td>\n",
       "      <td>0.00</td>\n",
       "      <td>Санкт-Петербург</td>\n",
       "      <td>21741.00</td>\n",
       "      <td>13933.00</td>\n",
       "      <td>1.00</td>\n",
       "      <td>90.00</td>\n",
       "      <td>2.00</td>\n",
       "      <td>574.00</td>\n",
       "      <td>558.00</td>\n",
       "    </tr>\n",
       "    <tr>\n",
       "      <th>3</th>\n",
       "      <td>0</td>\n",
       "      <td>64900000.00</td>\n",
       "      <td>159.00</td>\n",
       "      <td>2015-07-24T00:00:00</td>\n",
       "      <td>3</td>\n",
       "      <td>NaN</td>\n",
       "      <td>14.00</td>\n",
       "      <td>NaN</td>\n",
       "      <td>9</td>\n",
       "      <td>NaN</td>\n",
       "      <td>False</td>\n",
       "      <td>False</td>\n",
       "      <td>NaN</td>\n",
       "      <td>0.00</td>\n",
       "      <td>Санкт-Петербург</td>\n",
       "      <td>28098.00</td>\n",
       "      <td>6800.00</td>\n",
       "      <td>2.00</td>\n",
       "      <td>84.00</td>\n",
       "      <td>3.00</td>\n",
       "      <td>234.00</td>\n",
       "      <td>424.00</td>\n",
       "    </tr>\n",
       "    <tr>\n",
       "      <th>4</th>\n",
       "      <td>2</td>\n",
       "      <td>10000000.00</td>\n",
       "      <td>100.00</td>\n",
       "      <td>2018-06-19T00:00:00</td>\n",
       "      <td>2</td>\n",
       "      <td>3.03</td>\n",
       "      <td>14.00</td>\n",
       "      <td>32.00</td>\n",
       "      <td>13</td>\n",
       "      <td>NaN</td>\n",
       "      <td>False</td>\n",
       "      <td>False</td>\n",
       "      <td>41.00</td>\n",
       "      <td>NaN</td>\n",
       "      <td>Санкт-Петербург</td>\n",
       "      <td>31856.00</td>\n",
       "      <td>8098.00</td>\n",
       "      <td>2.00</td>\n",
       "      <td>112.00</td>\n",
       "      <td>1.00</td>\n",
       "      <td>48.00</td>\n",
       "      <td>121.00</td>\n",
       "    </tr>\n",
       "  </tbody>\n",
       "</table>\n",
       "</div>"
      ],
      "text/plain": [
       "   total_images  last_price  total_area first_day_exposition  rooms  \\\n",
       "0            20 13000000.00      108.00  2019-03-07T00:00:00      3   \n",
       "1             7  3350000.00       40.40  2018-12-04T00:00:00      1   \n",
       "2            10  5196000.00       56.00  2015-08-20T00:00:00      2   \n",
       "3             0 64900000.00      159.00  2015-07-24T00:00:00      3   \n",
       "4             2 10000000.00      100.00  2018-06-19T00:00:00      2   \n",
       "\n",
       "   ceiling_height  floors_total  living_area  floor is_apartment  studio  \\\n",
       "0            2.70         16.00        51.00      8          NaN   False   \n",
       "1             NaN         11.00        18.60      1          NaN   False   \n",
       "2             NaN          5.00        34.30      4          NaN   False   \n",
       "3             NaN         14.00          NaN      9          NaN   False   \n",
       "4            3.03         14.00        32.00     13          NaN   False   \n",
       "\n",
       "   open_plan  kitchen_area  balcony    locality_name  airports_nearest  \\\n",
       "0      False         25.00      NaN  Санкт-Петербург          18863.00   \n",
       "1      False         11.00     2.00   посёлок Шушары          12817.00   \n",
       "2      False          8.30     0.00  Санкт-Петербург          21741.00   \n",
       "3      False           NaN     0.00  Санкт-Петербург          28098.00   \n",
       "4      False         41.00      NaN  Санкт-Петербург          31856.00   \n",
       "\n",
       "   cityCenters_nearest  parks_around3000  parks_nearest  ponds_around3000  \\\n",
       "0             16028.00              1.00         482.00              2.00   \n",
       "1             18603.00              0.00            NaN              0.00   \n",
       "2             13933.00              1.00          90.00              2.00   \n",
       "3              6800.00              2.00          84.00              3.00   \n",
       "4              8098.00              2.00         112.00              1.00   \n",
       "\n",
       "   ponds_nearest  days_exposition  \n",
       "0         755.00              NaN  \n",
       "1            NaN            81.00  \n",
       "2         574.00           558.00  \n",
       "3         234.00           424.00  \n",
       "4          48.00           121.00  "
      ]
     },
     "execution_count": 1,
     "metadata": {},
     "output_type": "execute_result"
    }
   ],
   "source": [
    "import pandas as pd \n",
    "import numpy as np \n",
    "import matplotlib.pyplot as plt\n",
    "import seaborn as sns \n",
    "from pymystem3 import Mystem\n",
    "from nltk.stem import SnowballStemmer \n",
    "\n",
    "realty = pd.read_csv('/datasets/real_estate_data.csv', sep='\\t')\n",
    "pd.options.display.max_columns = None\n",
    "pd.options.display.float_format = \"{:.2f}\".format\n",
    "realty.head()"
   ]
  },
  {
   "cell_type": "markdown",
   "metadata": {},
   "source": [
    "Переименуем ряд столбцов для большего удобства"
   ]
  },
  {
   "cell_type": "code",
   "execution_count": 2,
   "metadata": {
    "scrolled": true
   },
   "outputs": [
    {
     "data": {
      "text/html": [
       "<div>\n",
       "<style scoped>\n",
       "    .dataframe tbody tr th:only-of-type {\n",
       "        vertical-align: middle;\n",
       "    }\n",
       "\n",
       "    .dataframe tbody tr th {\n",
       "        vertical-align: top;\n",
       "    }\n",
       "\n",
       "    .dataframe thead th {\n",
       "        text-align: right;\n",
       "    }\n",
       "</style>\n",
       "<table border=\"1\" class=\"dataframe\">\n",
       "  <thead>\n",
       "    <tr style=\"text-align: right;\">\n",
       "      <th></th>\n",
       "      <th>images</th>\n",
       "      <th>price</th>\n",
       "      <th>total_area</th>\n",
       "      <th>first_day_exposition</th>\n",
       "      <th>rooms</th>\n",
       "      <th>ceiling_height</th>\n",
       "      <th>floors_total</th>\n",
       "      <th>living_area</th>\n",
       "      <th>floor</th>\n",
       "      <th>apartment</th>\n",
       "      <th>studio</th>\n",
       "      <th>open_plan</th>\n",
       "      <th>kitchen_area</th>\n",
       "      <th>balcony</th>\n",
       "      <th>locality_name</th>\n",
       "      <th>airports_nearest</th>\n",
       "      <th>city_center</th>\n",
       "      <th>parks_around3000</th>\n",
       "      <th>parks_nearest</th>\n",
       "      <th>ponds_around3000</th>\n",
       "      <th>ponds_nearest</th>\n",
       "      <th>days_exposition</th>\n",
       "    </tr>\n",
       "  </thead>\n",
       "  <tbody>\n",
       "    <tr>\n",
       "      <th>0</th>\n",
       "      <td>20</td>\n",
       "      <td>13000000.00</td>\n",
       "      <td>108.00</td>\n",
       "      <td>2019-03-07T00:00:00</td>\n",
       "      <td>3</td>\n",
       "      <td>2.70</td>\n",
       "      <td>16.00</td>\n",
       "      <td>51.00</td>\n",
       "      <td>8</td>\n",
       "      <td>NaN</td>\n",
       "      <td>False</td>\n",
       "      <td>False</td>\n",
       "      <td>25.00</td>\n",
       "      <td>NaN</td>\n",
       "      <td>Санкт-Петербург</td>\n",
       "      <td>18863.00</td>\n",
       "      <td>16028.00</td>\n",
       "      <td>1.00</td>\n",
       "      <td>482.00</td>\n",
       "      <td>2.00</td>\n",
       "      <td>755.00</td>\n",
       "      <td>NaN</td>\n",
       "    </tr>\n",
       "    <tr>\n",
       "      <th>1</th>\n",
       "      <td>7</td>\n",
       "      <td>3350000.00</td>\n",
       "      <td>40.40</td>\n",
       "      <td>2018-12-04T00:00:00</td>\n",
       "      <td>1</td>\n",
       "      <td>NaN</td>\n",
       "      <td>11.00</td>\n",
       "      <td>18.60</td>\n",
       "      <td>1</td>\n",
       "      <td>NaN</td>\n",
       "      <td>False</td>\n",
       "      <td>False</td>\n",
       "      <td>11.00</td>\n",
       "      <td>2.00</td>\n",
       "      <td>посёлок Шушары</td>\n",
       "      <td>12817.00</td>\n",
       "      <td>18603.00</td>\n",
       "      <td>0.00</td>\n",
       "      <td>NaN</td>\n",
       "      <td>0.00</td>\n",
       "      <td>NaN</td>\n",
       "      <td>81.00</td>\n",
       "    </tr>\n",
       "    <tr>\n",
       "      <th>2</th>\n",
       "      <td>10</td>\n",
       "      <td>5196000.00</td>\n",
       "      <td>56.00</td>\n",
       "      <td>2015-08-20T00:00:00</td>\n",
       "      <td>2</td>\n",
       "      <td>NaN</td>\n",
       "      <td>5.00</td>\n",
       "      <td>34.30</td>\n",
       "      <td>4</td>\n",
       "      <td>NaN</td>\n",
       "      <td>False</td>\n",
       "      <td>False</td>\n",
       "      <td>8.30</td>\n",
       "      <td>0.00</td>\n",
       "      <td>Санкт-Петербург</td>\n",
       "      <td>21741.00</td>\n",
       "      <td>13933.00</td>\n",
       "      <td>1.00</td>\n",
       "      <td>90.00</td>\n",
       "      <td>2.00</td>\n",
       "      <td>574.00</td>\n",
       "      <td>558.00</td>\n",
       "    </tr>\n",
       "    <tr>\n",
       "      <th>3</th>\n",
       "      <td>0</td>\n",
       "      <td>64900000.00</td>\n",
       "      <td>159.00</td>\n",
       "      <td>2015-07-24T00:00:00</td>\n",
       "      <td>3</td>\n",
       "      <td>NaN</td>\n",
       "      <td>14.00</td>\n",
       "      <td>NaN</td>\n",
       "      <td>9</td>\n",
       "      <td>NaN</td>\n",
       "      <td>False</td>\n",
       "      <td>False</td>\n",
       "      <td>NaN</td>\n",
       "      <td>0.00</td>\n",
       "      <td>Санкт-Петербург</td>\n",
       "      <td>28098.00</td>\n",
       "      <td>6800.00</td>\n",
       "      <td>2.00</td>\n",
       "      <td>84.00</td>\n",
       "      <td>3.00</td>\n",
       "      <td>234.00</td>\n",
       "      <td>424.00</td>\n",
       "    </tr>\n",
       "    <tr>\n",
       "      <th>4</th>\n",
       "      <td>2</td>\n",
       "      <td>10000000.00</td>\n",
       "      <td>100.00</td>\n",
       "      <td>2018-06-19T00:00:00</td>\n",
       "      <td>2</td>\n",
       "      <td>3.03</td>\n",
       "      <td>14.00</td>\n",
       "      <td>32.00</td>\n",
       "      <td>13</td>\n",
       "      <td>NaN</td>\n",
       "      <td>False</td>\n",
       "      <td>False</td>\n",
       "      <td>41.00</td>\n",
       "      <td>NaN</td>\n",
       "      <td>Санкт-Петербург</td>\n",
       "      <td>31856.00</td>\n",
       "      <td>8098.00</td>\n",
       "      <td>2.00</td>\n",
       "      <td>112.00</td>\n",
       "      <td>1.00</td>\n",
       "      <td>48.00</td>\n",
       "      <td>121.00</td>\n",
       "    </tr>\n",
       "  </tbody>\n",
       "</table>\n",
       "</div>"
      ],
      "text/plain": [
       "   images       price  total_area first_day_exposition  rooms  ceiling_height  \\\n",
       "0      20 13000000.00      108.00  2019-03-07T00:00:00      3            2.70   \n",
       "1       7  3350000.00       40.40  2018-12-04T00:00:00      1             NaN   \n",
       "2      10  5196000.00       56.00  2015-08-20T00:00:00      2             NaN   \n",
       "3       0 64900000.00      159.00  2015-07-24T00:00:00      3             NaN   \n",
       "4       2 10000000.00      100.00  2018-06-19T00:00:00      2            3.03   \n",
       "\n",
       "   floors_total  living_area  floor apartment  studio  open_plan  \\\n",
       "0         16.00        51.00      8       NaN   False      False   \n",
       "1         11.00        18.60      1       NaN   False      False   \n",
       "2          5.00        34.30      4       NaN   False      False   \n",
       "3         14.00          NaN      9       NaN   False      False   \n",
       "4         14.00        32.00     13       NaN   False      False   \n",
       "\n",
       "   kitchen_area  balcony    locality_name  airports_nearest  city_center  \\\n",
       "0         25.00      NaN  Санкт-Петербург          18863.00     16028.00   \n",
       "1         11.00     2.00   посёлок Шушары          12817.00     18603.00   \n",
       "2          8.30     0.00  Санкт-Петербург          21741.00     13933.00   \n",
       "3           NaN     0.00  Санкт-Петербург          28098.00      6800.00   \n",
       "4         41.00      NaN  Санкт-Петербург          31856.00      8098.00   \n",
       "\n",
       "   parks_around3000  parks_nearest  ponds_around3000  ponds_nearest  \\\n",
       "0              1.00         482.00              2.00         755.00   \n",
       "1              0.00            NaN              0.00            NaN   \n",
       "2              1.00          90.00              2.00         574.00   \n",
       "3              2.00          84.00              3.00         234.00   \n",
       "4              2.00         112.00              1.00          48.00   \n",
       "\n",
       "   days_exposition  \n",
       "0              NaN  \n",
       "1            81.00  \n",
       "2           558.00  \n",
       "3           424.00  \n",
       "4           121.00  "
      ]
     },
     "execution_count": 2,
     "metadata": {},
     "output_type": "execute_result"
    }
   ],
   "source": [
    "realty.rename(columns = {'total_images': 'images', 'last_price' : 'price', 'is_apartment': 'apartment', 'cityCenters_nearest': 'city_center'}, inplace = True)\n",
    "realty.head()"
   ]
  },
  {
   "cell_type": "code",
   "execution_count": 3,
   "metadata": {
    "scrolled": true
   },
   "outputs": [
    {
     "name": "stdout",
     "output_type": "stream",
     "text": [
      "<class 'pandas.core.frame.DataFrame'>\n",
      "RangeIndex: 23699 entries, 0 to 23698\n",
      "Data columns (total 22 columns):\n",
      " #   Column                Non-Null Count  Dtype  \n",
      "---  ------                --------------  -----  \n",
      " 0   images                23699 non-null  int64  \n",
      " 1   price                 23699 non-null  float64\n",
      " 2   total_area            23699 non-null  float64\n",
      " 3   first_day_exposition  23699 non-null  object \n",
      " 4   rooms                 23699 non-null  int64  \n",
      " 5   ceiling_height        14504 non-null  float64\n",
      " 6   floors_total          23613 non-null  float64\n",
      " 7   living_area           21796 non-null  float64\n",
      " 8   floor                 23699 non-null  int64  \n",
      " 9   apartment             2775 non-null   object \n",
      " 10  studio                23699 non-null  bool   \n",
      " 11  open_plan             23699 non-null  bool   \n",
      " 12  kitchen_area          21421 non-null  float64\n",
      " 13  balcony               12180 non-null  float64\n",
      " 14  locality_name         23650 non-null  object \n",
      " 15  airports_nearest      18157 non-null  float64\n",
      " 16  city_center           18180 non-null  float64\n",
      " 17  parks_around3000      18181 non-null  float64\n",
      " 18  parks_nearest         8079 non-null   float64\n",
      " 19  ponds_around3000      18181 non-null  float64\n",
      " 20  ponds_nearest         9110 non-null   float64\n",
      " 21  days_exposition       20518 non-null  float64\n",
      "dtypes: bool(2), float64(14), int64(3), object(3)\n",
      "memory usage: 3.7+ MB\n"
     ]
    }
   ],
   "source": [
    "# посмотрим информацию о датасете\n",
    "realty.info()"
   ]
  },
  {
   "cell_type": "markdown",
   "metadata": {},
   "source": [
    "Имеем датасет на 23699 строки и 22 столбца. \n",
    "\n",
    "Большая часть столбцов сейчас в числовом формате. Взглянем более детально на них."
   ]
  },
  {
   "cell_type": "code",
   "execution_count": 4,
   "metadata": {},
   "outputs": [
    {
     "data": {
      "text/html": [
       "<div>\n",
       "<style scoped>\n",
       "    .dataframe tbody tr th:only-of-type {\n",
       "        vertical-align: middle;\n",
       "    }\n",
       "\n",
       "    .dataframe tbody tr th {\n",
       "        vertical-align: top;\n",
       "    }\n",
       "\n",
       "    .dataframe thead th {\n",
       "        text-align: right;\n",
       "    }\n",
       "</style>\n",
       "<table border=\"1\" class=\"dataframe\">\n",
       "  <thead>\n",
       "    <tr style=\"text-align: right;\">\n",
       "      <th></th>\n",
       "      <th>images</th>\n",
       "      <th>price</th>\n",
       "      <th>total_area</th>\n",
       "      <th>rooms</th>\n",
       "      <th>ceiling_height</th>\n",
       "      <th>floors_total</th>\n",
       "      <th>living_area</th>\n",
       "      <th>floor</th>\n",
       "      <th>kitchen_area</th>\n",
       "      <th>balcony</th>\n",
       "      <th>airports_nearest</th>\n",
       "      <th>city_center</th>\n",
       "      <th>parks_around3000</th>\n",
       "      <th>parks_nearest</th>\n",
       "      <th>ponds_around3000</th>\n",
       "      <th>ponds_nearest</th>\n",
       "      <th>days_exposition</th>\n",
       "    </tr>\n",
       "  </thead>\n",
       "  <tbody>\n",
       "    <tr>\n",
       "      <th>count</th>\n",
       "      <td>23699.00</td>\n",
       "      <td>23699.00</td>\n",
       "      <td>23699.00</td>\n",
       "      <td>23699.00</td>\n",
       "      <td>14504.00</td>\n",
       "      <td>23613.00</td>\n",
       "      <td>21796.00</td>\n",
       "      <td>23699.00</td>\n",
       "      <td>21421.00</td>\n",
       "      <td>12180.00</td>\n",
       "      <td>18157.00</td>\n",
       "      <td>18180.00</td>\n",
       "      <td>18181.00</td>\n",
       "      <td>8079.00</td>\n",
       "      <td>18181.00</td>\n",
       "      <td>9110.00</td>\n",
       "      <td>20518.00</td>\n",
       "    </tr>\n",
       "    <tr>\n",
       "      <th>mean</th>\n",
       "      <td>9.86</td>\n",
       "      <td>6541548.77</td>\n",
       "      <td>60.35</td>\n",
       "      <td>2.07</td>\n",
       "      <td>2.77</td>\n",
       "      <td>10.67</td>\n",
       "      <td>34.46</td>\n",
       "      <td>5.89</td>\n",
       "      <td>10.57</td>\n",
       "      <td>1.15</td>\n",
       "      <td>28793.67</td>\n",
       "      <td>14191.28</td>\n",
       "      <td>0.61</td>\n",
       "      <td>490.80</td>\n",
       "      <td>0.77</td>\n",
       "      <td>517.98</td>\n",
       "      <td>180.89</td>\n",
       "    </tr>\n",
       "    <tr>\n",
       "      <th>std</th>\n",
       "      <td>5.68</td>\n",
       "      <td>10887013.27</td>\n",
       "      <td>35.65</td>\n",
       "      <td>1.08</td>\n",
       "      <td>1.26</td>\n",
       "      <td>6.60</td>\n",
       "      <td>22.03</td>\n",
       "      <td>4.89</td>\n",
       "      <td>5.91</td>\n",
       "      <td>1.07</td>\n",
       "      <td>12630.88</td>\n",
       "      <td>8608.39</td>\n",
       "      <td>0.80</td>\n",
       "      <td>342.32</td>\n",
       "      <td>0.94</td>\n",
       "      <td>277.72</td>\n",
       "      <td>219.73</td>\n",
       "    </tr>\n",
       "    <tr>\n",
       "      <th>min</th>\n",
       "      <td>0.00</td>\n",
       "      <td>12190.00</td>\n",
       "      <td>12.00</td>\n",
       "      <td>0.00</td>\n",
       "      <td>1.00</td>\n",
       "      <td>1.00</td>\n",
       "      <td>2.00</td>\n",
       "      <td>1.00</td>\n",
       "      <td>1.30</td>\n",
       "      <td>0.00</td>\n",
       "      <td>0.00</td>\n",
       "      <td>181.00</td>\n",
       "      <td>0.00</td>\n",
       "      <td>1.00</td>\n",
       "      <td>0.00</td>\n",
       "      <td>13.00</td>\n",
       "      <td>1.00</td>\n",
       "    </tr>\n",
       "    <tr>\n",
       "      <th>25%</th>\n",
       "      <td>6.00</td>\n",
       "      <td>3400000.00</td>\n",
       "      <td>40.00</td>\n",
       "      <td>1.00</td>\n",
       "      <td>2.52</td>\n",
       "      <td>5.00</td>\n",
       "      <td>18.60</td>\n",
       "      <td>2.00</td>\n",
       "      <td>7.00</td>\n",
       "      <td>0.00</td>\n",
       "      <td>18585.00</td>\n",
       "      <td>9238.00</td>\n",
       "      <td>0.00</td>\n",
       "      <td>288.00</td>\n",
       "      <td>0.00</td>\n",
       "      <td>294.00</td>\n",
       "      <td>45.00</td>\n",
       "    </tr>\n",
       "    <tr>\n",
       "      <th>50%</th>\n",
       "      <td>9.00</td>\n",
       "      <td>4650000.00</td>\n",
       "      <td>52.00</td>\n",
       "      <td>2.00</td>\n",
       "      <td>2.65</td>\n",
       "      <td>9.00</td>\n",
       "      <td>30.00</td>\n",
       "      <td>4.00</td>\n",
       "      <td>9.10</td>\n",
       "      <td>1.00</td>\n",
       "      <td>26726.00</td>\n",
       "      <td>13098.50</td>\n",
       "      <td>0.00</td>\n",
       "      <td>455.00</td>\n",
       "      <td>1.00</td>\n",
       "      <td>502.00</td>\n",
       "      <td>95.00</td>\n",
       "    </tr>\n",
       "    <tr>\n",
       "      <th>75%</th>\n",
       "      <td>14.00</td>\n",
       "      <td>6800000.00</td>\n",
       "      <td>69.90</td>\n",
       "      <td>3.00</td>\n",
       "      <td>2.80</td>\n",
       "      <td>16.00</td>\n",
       "      <td>42.30</td>\n",
       "      <td>8.00</td>\n",
       "      <td>12.00</td>\n",
       "      <td>2.00</td>\n",
       "      <td>37273.00</td>\n",
       "      <td>16293.00</td>\n",
       "      <td>1.00</td>\n",
       "      <td>612.00</td>\n",
       "      <td>1.00</td>\n",
       "      <td>729.00</td>\n",
       "      <td>232.00</td>\n",
       "    </tr>\n",
       "    <tr>\n",
       "      <th>max</th>\n",
       "      <td>50.00</td>\n",
       "      <td>763000000.00</td>\n",
       "      <td>900.00</td>\n",
       "      <td>19.00</td>\n",
       "      <td>100.00</td>\n",
       "      <td>60.00</td>\n",
       "      <td>409.70</td>\n",
       "      <td>33.00</td>\n",
       "      <td>112.00</td>\n",
       "      <td>5.00</td>\n",
       "      <td>84869.00</td>\n",
       "      <td>65968.00</td>\n",
       "      <td>3.00</td>\n",
       "      <td>3190.00</td>\n",
       "      <td>3.00</td>\n",
       "      <td>1344.00</td>\n",
       "      <td>1580.00</td>\n",
       "    </tr>\n",
       "  </tbody>\n",
       "</table>\n",
       "</div>"
      ],
      "text/plain": [
       "        images        price  total_area    rooms  ceiling_height  \\\n",
       "count 23699.00     23699.00    23699.00 23699.00        14504.00   \n",
       "mean      9.86   6541548.77       60.35     2.07            2.77   \n",
       "std       5.68  10887013.27       35.65     1.08            1.26   \n",
       "min       0.00     12190.00       12.00     0.00            1.00   \n",
       "25%       6.00   3400000.00       40.00     1.00            2.52   \n",
       "50%       9.00   4650000.00       52.00     2.00            2.65   \n",
       "75%      14.00   6800000.00       69.90     3.00            2.80   \n",
       "max      50.00 763000000.00      900.00    19.00          100.00   \n",
       "\n",
       "       floors_total  living_area    floor  kitchen_area  balcony  \\\n",
       "count      23613.00     21796.00 23699.00      21421.00 12180.00   \n",
       "mean          10.67        34.46     5.89         10.57     1.15   \n",
       "std            6.60        22.03     4.89          5.91     1.07   \n",
       "min            1.00         2.00     1.00          1.30     0.00   \n",
       "25%            5.00        18.60     2.00          7.00     0.00   \n",
       "50%            9.00        30.00     4.00          9.10     1.00   \n",
       "75%           16.00        42.30     8.00         12.00     2.00   \n",
       "max           60.00       409.70    33.00        112.00     5.00   \n",
       "\n",
       "       airports_nearest  city_center  parks_around3000  parks_nearest  \\\n",
       "count          18157.00     18180.00          18181.00        8079.00   \n",
       "mean           28793.67     14191.28              0.61         490.80   \n",
       "std            12630.88      8608.39              0.80         342.32   \n",
       "min                0.00       181.00              0.00           1.00   \n",
       "25%            18585.00      9238.00              0.00         288.00   \n",
       "50%            26726.00     13098.50              0.00         455.00   \n",
       "75%            37273.00     16293.00              1.00         612.00   \n",
       "max            84869.00     65968.00              3.00        3190.00   \n",
       "\n",
       "       ponds_around3000  ponds_nearest  days_exposition  \n",
       "count          18181.00        9110.00         20518.00  \n",
       "mean               0.77         517.98           180.89  \n",
       "std                0.94         277.72           219.73  \n",
       "min                0.00          13.00             1.00  \n",
       "25%                0.00         294.00            45.00  \n",
       "50%                1.00         502.00            95.00  \n",
       "75%                1.00         729.00           232.00  \n",
       "max                3.00        1344.00          1580.00  "
      ]
     },
     "execution_count": 4,
     "metadata": {},
     "output_type": "execute_result"
    }
   ],
   "source": [
    "realty.describe()"
   ]
  },
  {
   "cell_type": "code",
   "execution_count": 5,
   "metadata": {
    "scrolled": true
   },
   "outputs": [
    {
     "name": "stdout",
     "output_type": "stream",
     "text": [
      "first_day_exposition имеет тип данных str!\n"
     ]
    },
    {
     "data": {
      "text/plain": [
       "2018-02-01T00:00:00    368\n",
       "2017-11-10T00:00:00    240\n",
       "2017-10-13T00:00:00    124\n",
       "2017-09-27T00:00:00    111\n",
       "2018-03-26T00:00:00     97\n",
       "                      ... \n",
       "2014-12-18T00:00:00      1\n",
       "2015-09-12T00:00:00      1\n",
       "2015-03-05T00:00:00      1\n",
       "2017-01-03T00:00:00      1\n",
       "2015-02-03T00:00:00      1\n",
       "Name: first_day_exposition, Length: 1491, dtype: int64"
      ]
     },
     "metadata": {},
     "output_type": "display_data"
    },
    {
     "name": "stdout",
     "output_type": "stream",
     "text": [
      "apartment имеет тип данных str!\n"
     ]
    },
    {
     "data": {
      "text/plain": [
       "False    2725\n",
       "True       50\n",
       "Name: apartment, dtype: int64"
      ]
     },
     "metadata": {},
     "output_type": "display_data"
    },
    {
     "name": "stdout",
     "output_type": "stream",
     "text": [
      "locality_name имеет тип данных str!\n"
     ]
    },
    {
     "data": {
      "text/plain": [
       "Санкт-Петербург            15721\n",
       "посёлок Мурино               522\n",
       "посёлок Шушары               440\n",
       "Всеволожск                   398\n",
       "Пушкин                       369\n",
       "                           ...  \n",
       "деревня Тойворово              1\n",
       "поселок станции Лужайка        1\n",
       "поселок Жилгородок             1\n",
       "село Шум                       1\n",
       "деревня Лупполово              1\n",
       "Name: locality_name, Length: 364, dtype: int64"
      ]
     },
     "metadata": {},
     "output_type": "display_data"
    }
   ],
   "source": [
    "for column in realty:\n",
    "    if realty[column].dtype == object:\n",
    "        print(column + ' имеет тип данных str!')\n",
    "\n",
    "        display(realty[column].value_counts())"
   ]
  },
  {
   "cell_type": "code",
   "execution_count": 6,
   "metadata": {},
   "outputs": [
    {
     "data": {
      "text/html": [
       "<div>\n",
       "<style scoped>\n",
       "    .dataframe tbody tr th:only-of-type {\n",
       "        vertical-align: middle;\n",
       "    }\n",
       "\n",
       "    .dataframe tbody tr th {\n",
       "        vertical-align: top;\n",
       "    }\n",
       "\n",
       "    .dataframe thead th {\n",
       "        text-align: right;\n",
       "    }\n",
       "</style>\n",
       "<table border=\"1\" class=\"dataframe\">\n",
       "  <thead>\n",
       "    <tr style=\"text-align: right;\">\n",
       "      <th></th>\n",
       "      <th>missing_values</th>\n",
       "      <th>% of total</th>\n",
       "    </tr>\n",
       "  </thead>\n",
       "  <tbody>\n",
       "    <tr>\n",
       "      <th>apartment</th>\n",
       "      <td>20924</td>\n",
       "      <td>88.29</td>\n",
       "    </tr>\n",
       "    <tr>\n",
       "      <th>parks_nearest</th>\n",
       "      <td>15620</td>\n",
       "      <td>65.91</td>\n",
       "    </tr>\n",
       "    <tr>\n",
       "      <th>ponds_nearest</th>\n",
       "      <td>14589</td>\n",
       "      <td>61.56</td>\n",
       "    </tr>\n",
       "    <tr>\n",
       "      <th>balcony</th>\n",
       "      <td>11519</td>\n",
       "      <td>48.61</td>\n",
       "    </tr>\n",
       "    <tr>\n",
       "      <th>ceiling_height</th>\n",
       "      <td>9195</td>\n",
       "      <td>38.80</td>\n",
       "    </tr>\n",
       "    <tr>\n",
       "      <th>airports_nearest</th>\n",
       "      <td>5542</td>\n",
       "      <td>23.38</td>\n",
       "    </tr>\n",
       "    <tr>\n",
       "      <th>city_center</th>\n",
       "      <td>5519</td>\n",
       "      <td>23.29</td>\n",
       "    </tr>\n",
       "    <tr>\n",
       "      <th>ponds_around3000</th>\n",
       "      <td>5518</td>\n",
       "      <td>23.28</td>\n",
       "    </tr>\n",
       "    <tr>\n",
       "      <th>parks_around3000</th>\n",
       "      <td>5518</td>\n",
       "      <td>23.28</td>\n",
       "    </tr>\n",
       "    <tr>\n",
       "      <th>days_exposition</th>\n",
       "      <td>3181</td>\n",
       "      <td>13.42</td>\n",
       "    </tr>\n",
       "    <tr>\n",
       "      <th>kitchen_area</th>\n",
       "      <td>2278</td>\n",
       "      <td>9.61</td>\n",
       "    </tr>\n",
       "    <tr>\n",
       "      <th>living_area</th>\n",
       "      <td>1903</td>\n",
       "      <td>8.03</td>\n",
       "    </tr>\n",
       "    <tr>\n",
       "      <th>floors_total</th>\n",
       "      <td>86</td>\n",
       "      <td>0.36</td>\n",
       "    </tr>\n",
       "    <tr>\n",
       "      <th>locality_name</th>\n",
       "      <td>49</td>\n",
       "      <td>0.21</td>\n",
       "    </tr>\n",
       "    <tr>\n",
       "      <th>images</th>\n",
       "      <td>0</td>\n",
       "      <td>0.00</td>\n",
       "    </tr>\n",
       "    <tr>\n",
       "      <th>price</th>\n",
       "      <td>0</td>\n",
       "      <td>0.00</td>\n",
       "    </tr>\n",
       "    <tr>\n",
       "      <th>studio</th>\n",
       "      <td>0</td>\n",
       "      <td>0.00</td>\n",
       "    </tr>\n",
       "    <tr>\n",
       "      <th>floor</th>\n",
       "      <td>0</td>\n",
       "      <td>0.00</td>\n",
       "    </tr>\n",
       "    <tr>\n",
       "      <th>rooms</th>\n",
       "      <td>0</td>\n",
       "      <td>0.00</td>\n",
       "    </tr>\n",
       "    <tr>\n",
       "      <th>first_day_exposition</th>\n",
       "      <td>0</td>\n",
       "      <td>0.00</td>\n",
       "    </tr>\n",
       "    <tr>\n",
       "      <th>total_area</th>\n",
       "      <td>0</td>\n",
       "      <td>0.00</td>\n",
       "    </tr>\n",
       "    <tr>\n",
       "      <th>open_plan</th>\n",
       "      <td>0</td>\n",
       "      <td>0.00</td>\n",
       "    </tr>\n",
       "  </tbody>\n",
       "</table>\n",
       "</div>"
      ],
      "text/plain": [
       "                      missing_values  % of total\n",
       "apartment                      20924       88.29\n",
       "parks_nearest                  15620       65.91\n",
       "ponds_nearest                  14589       61.56\n",
       "balcony                        11519       48.61\n",
       "ceiling_height                  9195       38.80\n",
       "airports_nearest                5542       23.38\n",
       "city_center                     5519       23.29\n",
       "ponds_around3000                5518       23.28\n",
       "parks_around3000                5518       23.28\n",
       "days_exposition                 3181       13.42\n",
       "kitchen_area                    2278        9.61\n",
       "living_area                     1903        8.03\n",
       "floors_total                      86        0.36\n",
       "locality_name                     49        0.21\n",
       "images                             0        0.00\n",
       "price                              0        0.00\n",
       "studio                             0        0.00\n",
       "floor                              0        0.00\n",
       "rooms                              0        0.00\n",
       "first_day_exposition               0        0.00\n",
       "total_area                         0        0.00\n",
       "open_plan                          0        0.00"
      ]
     },
     "execution_count": 6,
     "metadata": {},
     "output_type": "execute_result"
    }
   ],
   "source": [
    "report = realty.isna().sum().to_frame()\n",
    "report = report.rename(columns = {0: 'missing_values'})\n",
    "report['% of total'] = ((report['missing_values'] / realty.shape[0])*100).round(2)\n",
    "report.sort_values(by = 'missing_values', ascending = False)"
   ]
  },
  {
   "cell_type": "markdown",
   "metadata": {},
   "source": [
    "### Выводы"
   ]
  },
  {
   "cell_type": "markdown",
   "metadata": {},
   "source": [
    "Общие: \n",
    "- мы имеем 22 столбца информации в разных форматах\n",
    "- 14 столбцов имеют пропуски в данных: необходимо проверить причины данные пропуски и заполнить их релевантными данным\n",
    "- столбцы с пропусками: \n",
    "\n",
    "    - ceiling_height - 38.80% пропусков\n",
    "    - floors_total - 0.36% пропусков\n",
    "    - living_area- 8.03% пропусков \n",
    "    - apartment - 88.29% пропусков\n",
    "    - kitchen_area - 9.61% пропусков \n",
    "    - balcony - 48.61% пропусков  \n",
    "    - locality_name - 0.21% пропусков \n",
    "    - airports_nearest - 23.38% пропусков\n",
    "    - city_center - 23.29% пропусков\n",
    "    - parks_around3000 - 23.28% пропусков\n",
    "    - parks_nearest - 65.91% пропусков \n",
    "    - ponds_around3000 - 23.28% пропусков\n",
    "    - ponds_nearest - 61.56% пропусков\n",
    "    - days_exposition - 13.42% пропусков\n",
    "\n",
    "Частные:\n",
    "- столбец 'price' имеет тип float64 что, очевидно не имеет смысла при рассмотрении стоимости недвижимости - переведем его в тип int64\n",
    "- столбец 'rooms' имеет минимальное значение 0 - необходимо с этим разобораться\n",
    "- в столбце 'ceiling_height' замечены страннсти с максимальной и минимальной высотой потолков: 100 и 1 метр соответственно. Будем разбираться. \n",
    "- столбец 'first_day_exposition' необходимо перевести в тип datetime64\n",
    "- столбец 'floors_total' имеет тип float64 что, так же не имеет смысла для этажа - переведем его в тип int64\n",
    "- столбец 'floors_total' имеет тип float64 что, так же не имеет смысла для этажа - переведем его в тип int64\n",
    "- столбец 'apartment' имеет строковый тип данных, хотя данные представленные в данном столбце это булевы значения True и False. Значит есть смысл перевести весь столбец в тип bool\n",
    "- 'balcony' -  количество балконов должно быть целым цислом. Следует перевести в тип int64\n",
    "- так же в целочисленный типа необходимо перевести столбцы 'parks_around3000', 'ponds_around3000', days_exposition\n",
    "- столбец 'days_exposition' имеет минимальное значение 1, что вызывает подозрения - так быстро недвижимость обычно не продается. \n",
    "- столбец 'parks_nearest' с минимальным значением 1 метр так же вызываем подозрения \n",
    "- данные в столбце'locality_name' необходимо привести к нормальному виду и сгруппировать "
   ]
  },
  {
   "cell_type": "markdown",
   "metadata": {},
   "source": [
    "## Шаг 2. Предобработка данных  <a class=\"anchor\" id=\"step_2\"></a>"
   ]
  },
  {
   "cell_type": "markdown",
   "metadata": {},
   "source": [
    "### Обработка пропусков <a class=\"anchor\" id=\"step_2_1\"></a>"
   ]
  },
  {
   "cell_type": "markdown",
   "metadata": {},
   "source": [
    "#### Нулевые значения в столбце 'rooms'"
   ]
  },
  {
   "cell_type": "code",
   "execution_count": 8,
   "metadata": {
    "scrolled": true
   },
   "outputs": [
    {
     "data": {
      "text/plain": [
       "1     8047\n",
       "2     7940\n",
       "3     5814\n",
       "4     1180\n",
       "5      326\n",
       "0      197\n",
       "6      105\n",
       "7       59\n",
       "8       12\n",
       "9        8\n",
       "10       3\n",
       "11       2\n",
       "14       2\n",
       "19       1\n",
       "16       1\n",
       "12       1\n",
       "15       1\n",
       "Name: rooms, dtype: int64"
      ]
     },
     "execution_count": 8,
     "metadata": {},
     "output_type": "execute_result"
    }
   ],
   "source": [
    "# изучим значения в столбце \n",
    "realty['rooms'].value_counts()"
   ]
  },
  {
   "cell_type": "code",
   "execution_count": 9,
   "metadata": {},
   "outputs": [
    {
     "data": {
      "text/plain": [
       "rooms\n",
       "0   26.05\n",
       "Name: total_area, dtype: float64"
      ]
     },
     "execution_count": 9,
     "metadata": {},
     "output_type": "execute_result"
    }
   ],
   "source": [
    "realty[realty['rooms'] == 0].groupby('rooms')['total_area'].median()"
   ]
  },
  {
   "cell_type": "markdown",
   "metadata": {},
   "source": [
    "Медианное значение площади по данным объектам вополне похоже на типичную \"однушку\". Заменим 0 на 1. "
   ]
  },
  {
   "cell_type": "code",
   "execution_count": 10,
   "metadata": {},
   "outputs": [
    {
     "data": {
      "text/plain": [
       "count   23699.00\n",
       "mean        2.08\n",
       "std         1.07\n",
       "min         1.00\n",
       "25%         1.00\n",
       "50%         2.00\n",
       "75%         3.00\n",
       "max        19.00\n",
       "Name: rooms, dtype: float64"
      ]
     },
     "execution_count": 10,
     "metadata": {},
     "output_type": "execute_result"
    }
   ],
   "source": [
    "realty['rooms'] = realty['rooms'].mask(realty['rooms'] == 0, 1) \n",
    "realty['rooms'].describe()"
   ]
  },
  {
   "cell_type": "markdown",
   "metadata": {},
   "source": [
    "#### Пропуски в столбце 'ceiling_height'"
   ]
  },
  {
   "cell_type": "code",
   "execution_count": 11,
   "metadata": {},
   "outputs": [
    {
     "data": {
      "text/plain": [
       "36"
      ]
     },
     "execution_count": 11,
     "metadata": {},
     "output_type": "execute_result"
    }
   ],
   "source": [
    "# для начала разберемся с неприлично высокими потолками \n",
    "# и посчитаем количество таких квартир, где высота потока больше 5 метров\n",
    "\n",
    "len(realty.query('ceiling_height > 5'))"
   ]
  },
  {
   "cell_type": "code",
   "execution_count": 12,
   "metadata": {},
   "outputs": [
    {
     "data": {
      "text/plain": [
       "3"
      ]
     },
     "execution_count": 12,
     "metadata": {},
     "output_type": "execute_result"
    }
   ],
   "source": [
    "# также рассмотрим квартиры с высотой потолков менее 2 м\n",
    "# и посчитаем количество таких квартир\n",
    "\n",
    "len(realty.query('ceiling_height < 2'))"
   ]
  },
  {
   "cell_type": "code",
   "execution_count": 13,
   "metadata": {},
   "outputs": [
    {
     "data": {
      "text/plain": [
       "count   14504.00\n",
       "mean        2.73\n",
       "std         0.27\n",
       "min         2.00\n",
       "25%         2.52\n",
       "50%         2.65\n",
       "75%         2.80\n",
       "max         5.00\n",
       "Name: ceiling_height, dtype: float64"
      ]
     },
     "execution_count": 13,
     "metadata": {},
     "output_type": "execute_result"
    }
   ],
   "source": [
    "# заменим отклонения на медианные значения 'ceiling_height'. \n",
    "# это не очень красиво, но в любом случае - у нас не будет серьезных выбросов\n",
    "\n",
    "realty['ceiling_height'] = realty['ceiling_height'].mask(realty['ceiling_height'] > 5, 2.65)\n",
    "realty['ceiling_height'] = realty['ceiling_height'].mask(realty['ceiling_height'] < 2, 2.65)\n",
    "\n",
    "realty['ceiling_height'].describe()"
   ]
  },
  {
   "cell_type": "markdown",
   "metadata": {},
   "source": [
    "В данном случае предлагаю заполнить дпропуски в 'ceiling_height' медианным значениями по группам - количеству комнат. "
   ]
  },
  {
   "cell_type": "code",
   "execution_count": 14,
   "metadata": {},
   "outputs": [],
   "source": [
    "realty['ceiling_height'] = realty.groupby('rooms')['ceiling_height'] \\\n",
    ".transform(lambda x: x.fillna(x.median()))"
   ]
  },
  {
   "cell_type": "code",
   "execution_count": 15,
   "metadata": {
    "scrolled": true
   },
   "outputs": [
    {
     "name": "stdout",
     "output_type": "stream",
     "text": [
      "<class 'pandas.core.frame.DataFrame'>\n",
      "RangeIndex: 23699 entries, 0 to 23698\n",
      "Data columns (total 22 columns):\n",
      " #   Column                Non-Null Count  Dtype  \n",
      "---  ------                --------------  -----  \n",
      " 0   images                23699 non-null  int64  \n",
      " 1   price                 23699 non-null  float64\n",
      " 2   total_area            23699 non-null  float64\n",
      " 3   first_day_exposition  23699 non-null  object \n",
      " 4   rooms                 23699 non-null  int64  \n",
      " 5   ceiling_height        23698 non-null  float64\n",
      " 6   floors_total          23613 non-null  float64\n",
      " 7   living_area           21796 non-null  float64\n",
      " 8   floor                 23699 non-null  int64  \n",
      " 9   apartment             2775 non-null   object \n",
      " 10  studio                23699 non-null  bool   \n",
      " 11  open_plan             23699 non-null  bool   \n",
      " 12  kitchen_area          21421 non-null  float64\n",
      " 13  balcony               12180 non-null  float64\n",
      " 14  locality_name         23650 non-null  object \n",
      " 15  airports_nearest      18157 non-null  float64\n",
      " 16  city_center           18180 non-null  float64\n",
      " 17  parks_around3000      18181 non-null  float64\n",
      " 18  parks_nearest         8079 non-null   float64\n",
      " 19  ponds_around3000      18181 non-null  float64\n",
      " 20  ponds_nearest         9110 non-null   float64\n",
      " 21  days_exposition       20518 non-null  float64\n",
      "dtypes: bool(2), float64(14), int64(3), object(3)\n",
      "memory usage: 3.7+ MB\n"
     ]
    }
   ],
   "source": [
    "realty.info()"
   ]
  },
  {
   "cell_type": "markdown",
   "metadata": {},
   "source": [
    "Все еще имеем один пропуск. Посмотрим что же это такое. "
   ]
  },
  {
   "cell_type": "code",
   "execution_count": 16,
   "metadata": {},
   "outputs": [
    {
     "data": {
      "text/plain": [
       "rooms\n",
       "19    1\n",
       "Name: rooms, dtype: int64"
      ]
     },
     "execution_count": 16,
     "metadata": {},
     "output_type": "execute_result"
    }
   ],
   "source": [
    "realty[realty['ceiling_height'].isna()].groupby('rooms')['rooms'] \\\n",
    ".count().sort_values() "
   ]
  },
  {
   "cell_type": "markdown",
   "metadata": {},
   "source": [
    "Имеем строку где, судя по всему, у нас одинокая 19-комнатная квартира. Возможно с шубохранилищем )\n",
    "\n",
    "Теперь понятно почему мы получили предупреждение при заполнении средними значениями выше."
   ]
  },
  {
   "cell_type": "code",
   "execution_count": 17,
   "metadata": {},
   "outputs": [
    {
     "data": {
      "text/plain": [
       "rooms\n",
       "19    1\n",
       "Name: rooms, dtype: int64"
      ]
     },
     "execution_count": 17,
     "metadata": {},
     "output_type": "execute_result"
    }
   ],
   "source": [
    "realty[realty['rooms'] == 19].groupby('rooms')['rooms'].count()"
   ]
  },
  {
   "cell_type": "markdown",
   "metadata": {},
   "source": [
    "Так и есть. Квартира-одиночка. Так же стоит проверить - реальны ли эти 19 комнат. Посмотрим площадь данной квартиры. "
   ]
  },
  {
   "cell_type": "code",
   "execution_count": 18,
   "metadata": {},
   "outputs": [
    {
     "data": {
      "text/plain": [
       "rooms\n",
       "19   374.60\n",
       "Name: total_area, dtype: float64"
      ]
     },
     "execution_count": 18,
     "metadata": {},
     "output_type": "execute_result"
    }
   ],
   "source": [
    "realty[realty['rooms'] == 19].groupby('rooms')['total_area'].sum()"
   ]
  },
  {
   "cell_type": "markdown",
   "metadata": {},
   "source": [
    "Вполне реальные 374,6 кв. метра.\n",
    "\n",
    "Можно приписать ее к группе недвижимости с количествоам комнат от 10 и выше. \n",
    "И заполнить эту ячейку медианой по данной группе."
   ]
  },
  {
   "cell_type": "code",
   "execution_count": 19,
   "metadata": {
    "scrolled": false
   },
   "outputs": [
    {
     "data": {
      "text/plain": [
       "rooms\n",
       "1    2.65\n",
       "2    2.60\n",
       "3    2.65\n",
       "4    2.80\n",
       "5    3.10\n",
       "6    3.20\n",
       "7    3.38\n",
       "8    3.42\n",
       "9    3.20\n",
       "10   3.15\n",
       "11   3.42\n",
       "12   2.80\n",
       "14   3.16\n",
       "15   3.50\n",
       "16   3.00\n",
       "Name: ceiling_height, dtype: float64"
      ]
     },
     "execution_count": 19,
     "metadata": {},
     "output_type": "execute_result"
    }
   ],
   "source": [
    "realty[realty['ceiling_height'] > 0].groupby('rooms')['ceiling_height'].median()"
   ]
  },
  {
   "cell_type": "code",
   "execution_count": 20,
   "metadata": {},
   "outputs": [
    {
     "data": {
      "text/plain": [
       "3.16"
      ]
     },
     "execution_count": 20,
     "metadata": {},
     "output_type": "execute_result"
    }
   ],
   "source": [
    "#сделаем выбрку по недвижимости, где 10 и более комнат\n",
    "big_realty = realty.query('rooms >= 10')\n",
    "median_ceiling_big_realty = big_realty['ceiling_height'].median()\n",
    "median_ceiling_big_realty"
   ]
  },
  {
   "cell_type": "markdown",
   "metadata": {},
   "source": [
    "Заодно узнали, что в нашем датасете всего 11 объектов с количеством комнат 10 и более."
   ]
  },
  {
   "cell_type": "code",
   "execution_count": 21,
   "metadata": {},
   "outputs": [],
   "source": [
    "realty['ceiling_height'] = realty['ceiling_height'].fillna(median_ceiling_big_realty)"
   ]
  },
  {
   "cell_type": "code",
   "execution_count": 22,
   "metadata": {
    "scrolled": true
   },
   "outputs": [
    {
     "name": "stdout",
     "output_type": "stream",
     "text": [
      "<class 'pandas.core.frame.DataFrame'>\n",
      "RangeIndex: 23699 entries, 0 to 23698\n",
      "Data columns (total 22 columns):\n",
      " #   Column                Non-Null Count  Dtype  \n",
      "---  ------                --------------  -----  \n",
      " 0   images                23699 non-null  int64  \n",
      " 1   price                 23699 non-null  float64\n",
      " 2   total_area            23699 non-null  float64\n",
      " 3   first_day_exposition  23699 non-null  object \n",
      " 4   rooms                 23699 non-null  int64  \n",
      " 5   ceiling_height        23699 non-null  float64\n",
      " 6   floors_total          23613 non-null  float64\n",
      " 7   living_area           21796 non-null  float64\n",
      " 8   floor                 23699 non-null  int64  \n",
      " 9   apartment             2775 non-null   object \n",
      " 10  studio                23699 non-null  bool   \n",
      " 11  open_plan             23699 non-null  bool   \n",
      " 12  kitchen_area          21421 non-null  float64\n",
      " 13  balcony               12180 non-null  float64\n",
      " 14  locality_name         23650 non-null  object \n",
      " 15  airports_nearest      18157 non-null  float64\n",
      " 16  city_center           18180 non-null  float64\n",
      " 17  parks_around3000      18181 non-null  float64\n",
      " 18  parks_nearest         8079 non-null   float64\n",
      " 19  ponds_around3000      18181 non-null  float64\n",
      " 20  ponds_nearest         9110 non-null   float64\n",
      " 21  days_exposition       20518 non-null  float64\n",
      "dtypes: bool(2), float64(14), int64(3), object(3)\n",
      "memory usage: 3.7+ MB\n"
     ]
    }
   ],
   "source": [
    "realty.info()"
   ]
  },
  {
   "cell_type": "markdown",
   "metadata": {},
   "source": [
    "#### Пропущенные значения 'floors_total'"
   ]
  },
  {
   "cell_type": "code",
   "execution_count": 23,
   "metadata": {},
   "outputs": [
    {
     "data": {
      "text/plain": [
       "rooms\n",
       "1    35\n",
       "2    27\n",
       "3    19\n",
       "4     3\n",
       "5     1\n",
       "6     1\n",
       "Name: rooms, dtype: int64"
      ]
     },
     "execution_count": 23,
     "metadata": {},
     "output_type": "execute_result"
    }
   ],
   "source": [
    "realty[realty['floors_total'].isna()].groupby('rooms')['rooms'] \\\n",
    ".count().sort_values(ascending=False)"
   ]
  },
  {
   "cell_type": "code",
   "execution_count": 24,
   "metadata": {},
   "outputs": [],
   "source": [
    "# заполним  пропуски медианными значениями по количеству комнат\n",
    "realty['floors_total'] = realty.groupby('rooms')['floors_total'] \\\n",
    ".transform(lambda x: x.fillna(x.median()))"
   ]
  },
  {
   "cell_type": "code",
   "execution_count": 25,
   "metadata": {
    "scrolled": true
   },
   "outputs": [
    {
     "name": "stdout",
     "output_type": "stream",
     "text": [
      "<class 'pandas.core.frame.DataFrame'>\n",
      "RangeIndex: 23699 entries, 0 to 23698\n",
      "Data columns (total 22 columns):\n",
      " #   Column                Non-Null Count  Dtype  \n",
      "---  ------                --------------  -----  \n",
      " 0   images                23699 non-null  int64  \n",
      " 1   price                 23699 non-null  float64\n",
      " 2   total_area            23699 non-null  float64\n",
      " 3   first_day_exposition  23699 non-null  object \n",
      " 4   rooms                 23699 non-null  int64  \n",
      " 5   ceiling_height        23699 non-null  float64\n",
      " 6   floors_total          23699 non-null  float64\n",
      " 7   living_area           21796 non-null  float64\n",
      " 8   floor                 23699 non-null  int64  \n",
      " 9   apartment             2775 non-null   object \n",
      " 10  studio                23699 non-null  bool   \n",
      " 11  open_plan             23699 non-null  bool   \n",
      " 12  kitchen_area          21421 non-null  float64\n",
      " 13  balcony               12180 non-null  float64\n",
      " 14  locality_name         23650 non-null  object \n",
      " 15  airports_nearest      18157 non-null  float64\n",
      " 16  city_center           18180 non-null  float64\n",
      " 17  parks_around3000      18181 non-null  float64\n",
      " 18  parks_nearest         8079 non-null   float64\n",
      " 19  ponds_around3000      18181 non-null  float64\n",
      " 20  ponds_nearest         9110 non-null   float64\n",
      " 21  days_exposition       20518 non-null  float64\n",
      "dtypes: bool(2), float64(14), int64(3), object(3)\n",
      "memory usage: 3.7+ MB\n"
     ]
    }
   ],
   "source": [
    "realty.info()"
   ]
  },
  {
   "cell_type": "markdown",
   "metadata": {},
   "source": [
    "#### Разберемся с пропусками в 'living_area'"
   ]
  },
  {
   "cell_type": "code",
   "execution_count": 26,
   "metadata": {
    "scrolled": true
   },
   "outputs": [
    {
     "data": {
      "text/html": [
       "<div>\n",
       "<style scoped>\n",
       "    .dataframe tbody tr th:only-of-type {\n",
       "        vertical-align: middle;\n",
       "    }\n",
       "\n",
       "    .dataframe tbody tr th {\n",
       "        vertical-align: top;\n",
       "    }\n",
       "\n",
       "    .dataframe thead th {\n",
       "        text-align: right;\n",
       "    }\n",
       "</style>\n",
       "<table border=\"1\" class=\"dataframe\">\n",
       "  <thead>\n",
       "    <tr style=\"text-align: right;\">\n",
       "      <th></th>\n",
       "      <th>images</th>\n",
       "      <th>price</th>\n",
       "      <th>total_area</th>\n",
       "      <th>first_day_exposition</th>\n",
       "      <th>rooms</th>\n",
       "      <th>ceiling_height</th>\n",
       "      <th>floors_total</th>\n",
       "      <th>living_area</th>\n",
       "      <th>floor</th>\n",
       "      <th>apartment</th>\n",
       "      <th>studio</th>\n",
       "      <th>open_plan</th>\n",
       "      <th>kitchen_area</th>\n",
       "      <th>balcony</th>\n",
       "      <th>locality_name</th>\n",
       "      <th>airports_nearest</th>\n",
       "      <th>city_center</th>\n",
       "      <th>parks_around3000</th>\n",
       "      <th>parks_nearest</th>\n",
       "      <th>ponds_around3000</th>\n",
       "      <th>ponds_nearest</th>\n",
       "      <th>days_exposition</th>\n",
       "    </tr>\n",
       "  </thead>\n",
       "  <tbody>\n",
       "    <tr>\n",
       "      <th>3</th>\n",
       "      <td>0</td>\n",
       "      <td>64900000.00</td>\n",
       "      <td>159.00</td>\n",
       "      <td>2015-07-24T00:00:00</td>\n",
       "      <td>3</td>\n",
       "      <td>2.65</td>\n",
       "      <td>14.00</td>\n",
       "      <td>NaN</td>\n",
       "      <td>9</td>\n",
       "      <td>NaN</td>\n",
       "      <td>False</td>\n",
       "      <td>False</td>\n",
       "      <td>NaN</td>\n",
       "      <td>0.00</td>\n",
       "      <td>Санкт-Петербург</td>\n",
       "      <td>28098.00</td>\n",
       "      <td>6800.00</td>\n",
       "      <td>2.00</td>\n",
       "      <td>84.00</td>\n",
       "      <td>3.00</td>\n",
       "      <td>234.00</td>\n",
       "      <td>424.00</td>\n",
       "    </tr>\n",
       "    <tr>\n",
       "      <th>7</th>\n",
       "      <td>5</td>\n",
       "      <td>7915000.00</td>\n",
       "      <td>71.60</td>\n",
       "      <td>2019-04-18T00:00:00</td>\n",
       "      <td>2</td>\n",
       "      <td>2.60</td>\n",
       "      <td>24.00</td>\n",
       "      <td>NaN</td>\n",
       "      <td>22</td>\n",
       "      <td>NaN</td>\n",
       "      <td>False</td>\n",
       "      <td>False</td>\n",
       "      <td>18.90</td>\n",
       "      <td>2.00</td>\n",
       "      <td>Санкт-Петербург</td>\n",
       "      <td>23982.00</td>\n",
       "      <td>11634.00</td>\n",
       "      <td>0.00</td>\n",
       "      <td>NaN</td>\n",
       "      <td>0.00</td>\n",
       "      <td>NaN</td>\n",
       "      <td>NaN</td>\n",
       "    </tr>\n",
       "    <tr>\n",
       "      <th>30</th>\n",
       "      <td>12</td>\n",
       "      <td>2200000.00</td>\n",
       "      <td>32.80</td>\n",
       "      <td>2018-02-19T00:00:00</td>\n",
       "      <td>1</td>\n",
       "      <td>2.65</td>\n",
       "      <td>9.00</td>\n",
       "      <td>NaN</td>\n",
       "      <td>2</td>\n",
       "      <td>NaN</td>\n",
       "      <td>False</td>\n",
       "      <td>False</td>\n",
       "      <td>NaN</td>\n",
       "      <td>NaN</td>\n",
       "      <td>Коммунар</td>\n",
       "      <td>NaN</td>\n",
       "      <td>NaN</td>\n",
       "      <td>NaN</td>\n",
       "      <td>NaN</td>\n",
       "      <td>NaN</td>\n",
       "      <td>NaN</td>\n",
       "      <td>63.00</td>\n",
       "    </tr>\n",
       "    <tr>\n",
       "      <th>37</th>\n",
       "      <td>10</td>\n",
       "      <td>1990000.00</td>\n",
       "      <td>45.80</td>\n",
       "      <td>2017-10-28T00:00:00</td>\n",
       "      <td>2</td>\n",
       "      <td>2.50</td>\n",
       "      <td>5.00</td>\n",
       "      <td>NaN</td>\n",
       "      <td>1</td>\n",
       "      <td>NaN</td>\n",
       "      <td>False</td>\n",
       "      <td>False</td>\n",
       "      <td>NaN</td>\n",
       "      <td>NaN</td>\n",
       "      <td>поселок городского типа Красный Бор</td>\n",
       "      <td>NaN</td>\n",
       "      <td>NaN</td>\n",
       "      <td>NaN</td>\n",
       "      <td>NaN</td>\n",
       "      <td>NaN</td>\n",
       "      <td>NaN</td>\n",
       "      <td>196.00</td>\n",
       "    </tr>\n",
       "    <tr>\n",
       "      <th>44</th>\n",
       "      <td>13</td>\n",
       "      <td>5350000.00</td>\n",
       "      <td>40.00</td>\n",
       "      <td>2018-11-18T00:00:00</td>\n",
       "      <td>1</td>\n",
       "      <td>2.65</td>\n",
       "      <td>22.00</td>\n",
       "      <td>NaN</td>\n",
       "      <td>3</td>\n",
       "      <td>NaN</td>\n",
       "      <td>False</td>\n",
       "      <td>False</td>\n",
       "      <td>NaN</td>\n",
       "      <td>1.00</td>\n",
       "      <td>Санкт-Петербург</td>\n",
       "      <td>30471.00</td>\n",
       "      <td>11603.00</td>\n",
       "      <td>1.00</td>\n",
       "      <td>620.00</td>\n",
       "      <td>1.00</td>\n",
       "      <td>1152.00</td>\n",
       "      <td>NaN</td>\n",
       "    </tr>\n",
       "    <tr>\n",
       "      <th>...</th>\n",
       "      <td>...</td>\n",
       "      <td>...</td>\n",
       "      <td>...</td>\n",
       "      <td>...</td>\n",
       "      <td>...</td>\n",
       "      <td>...</td>\n",
       "      <td>...</td>\n",
       "      <td>...</td>\n",
       "      <td>...</td>\n",
       "      <td>...</td>\n",
       "      <td>...</td>\n",
       "      <td>...</td>\n",
       "      <td>...</td>\n",
       "      <td>...</td>\n",
       "      <td>...</td>\n",
       "      <td>...</td>\n",
       "      <td>...</td>\n",
       "      <td>...</td>\n",
       "      <td>...</td>\n",
       "      <td>...</td>\n",
       "      <td>...</td>\n",
       "      <td>...</td>\n",
       "    </tr>\n",
       "    <tr>\n",
       "      <th>23642</th>\n",
       "      <td>14</td>\n",
       "      <td>5950000.00</td>\n",
       "      <td>80.30</td>\n",
       "      <td>2018-07-03T00:00:00</td>\n",
       "      <td>3</td>\n",
       "      <td>2.70</td>\n",
       "      <td>12.00</td>\n",
       "      <td>NaN</td>\n",
       "      <td>5</td>\n",
       "      <td>NaN</td>\n",
       "      <td>False</td>\n",
       "      <td>False</td>\n",
       "      <td>NaN</td>\n",
       "      <td>NaN</td>\n",
       "      <td>Колпино</td>\n",
       "      <td>27933.00</td>\n",
       "      <td>33719.00</td>\n",
       "      <td>0.00</td>\n",
       "      <td>NaN</td>\n",
       "      <td>2.00</td>\n",
       "      <td>562.00</td>\n",
       "      <td>60.00</td>\n",
       "    </tr>\n",
       "    <tr>\n",
       "      <th>23663</th>\n",
       "      <td>12</td>\n",
       "      <td>6400000.00</td>\n",
       "      <td>88.00</td>\n",
       "      <td>2018-01-12T00:00:00</td>\n",
       "      <td>4</td>\n",
       "      <td>2.55</td>\n",
       "      <td>10.00</td>\n",
       "      <td>NaN</td>\n",
       "      <td>1</td>\n",
       "      <td>NaN</td>\n",
       "      <td>False</td>\n",
       "      <td>False</td>\n",
       "      <td>NaN</td>\n",
       "      <td>NaN</td>\n",
       "      <td>Санкт-Петербург</td>\n",
       "      <td>33642.00</td>\n",
       "      <td>13943.00</td>\n",
       "      <td>0.00</td>\n",
       "      <td>NaN</td>\n",
       "      <td>2.00</td>\n",
       "      <td>844.00</td>\n",
       "      <td>59.00</td>\n",
       "    </tr>\n",
       "    <tr>\n",
       "      <th>23670</th>\n",
       "      <td>9</td>\n",
       "      <td>2450000.00</td>\n",
       "      <td>45.60</td>\n",
       "      <td>2018-02-08T00:00:00</td>\n",
       "      <td>1</td>\n",
       "      <td>2.80</td>\n",
       "      <td>9.00</td>\n",
       "      <td>NaN</td>\n",
       "      <td>2</td>\n",
       "      <td>NaN</td>\n",
       "      <td>False</td>\n",
       "      <td>False</td>\n",
       "      <td>NaN</td>\n",
       "      <td>NaN</td>\n",
       "      <td>поселок городского типа Синявино</td>\n",
       "      <td>NaN</td>\n",
       "      <td>NaN</td>\n",
       "      <td>NaN</td>\n",
       "      <td>NaN</td>\n",
       "      <td>NaN</td>\n",
       "      <td>NaN</td>\n",
       "      <td>45.00</td>\n",
       "    </tr>\n",
       "    <tr>\n",
       "      <th>23679</th>\n",
       "      <td>0</td>\n",
       "      <td>2500000.00</td>\n",
       "      <td>35.00</td>\n",
       "      <td>2017-12-08T00:00:00</td>\n",
       "      <td>1</td>\n",
       "      <td>2.65</td>\n",
       "      <td>9.00</td>\n",
       "      <td>NaN</td>\n",
       "      <td>4</td>\n",
       "      <td>NaN</td>\n",
       "      <td>False</td>\n",
       "      <td>False</td>\n",
       "      <td>NaN</td>\n",
       "      <td>NaN</td>\n",
       "      <td>Сосновый Бор</td>\n",
       "      <td>NaN</td>\n",
       "      <td>NaN</td>\n",
       "      <td>NaN</td>\n",
       "      <td>NaN</td>\n",
       "      <td>NaN</td>\n",
       "      <td>NaN</td>\n",
       "      <td>45.00</td>\n",
       "    </tr>\n",
       "    <tr>\n",
       "      <th>23697</th>\n",
       "      <td>13</td>\n",
       "      <td>11475000.00</td>\n",
       "      <td>76.75</td>\n",
       "      <td>2017-03-28T00:00:00</td>\n",
       "      <td>2</td>\n",
       "      <td>3.00</td>\n",
       "      <td>17.00</td>\n",
       "      <td>NaN</td>\n",
       "      <td>12</td>\n",
       "      <td>NaN</td>\n",
       "      <td>False</td>\n",
       "      <td>False</td>\n",
       "      <td>23.30</td>\n",
       "      <td>2.00</td>\n",
       "      <td>Санкт-Петербург</td>\n",
       "      <td>39140.00</td>\n",
       "      <td>10364.00</td>\n",
       "      <td>2.00</td>\n",
       "      <td>173.00</td>\n",
       "      <td>3.00</td>\n",
       "      <td>196.00</td>\n",
       "      <td>602.00</td>\n",
       "    </tr>\n",
       "  </tbody>\n",
       "</table>\n",
       "<p>1903 rows × 22 columns</p>\n",
       "</div>"
      ],
      "text/plain": [
       "       images       price  total_area first_day_exposition  rooms  \\\n",
       "3           0 64900000.00      159.00  2015-07-24T00:00:00      3   \n",
       "7           5  7915000.00       71.60  2019-04-18T00:00:00      2   \n",
       "30         12  2200000.00       32.80  2018-02-19T00:00:00      1   \n",
       "37         10  1990000.00       45.80  2017-10-28T00:00:00      2   \n",
       "44         13  5350000.00       40.00  2018-11-18T00:00:00      1   \n",
       "...       ...         ...         ...                  ...    ...   \n",
       "23642      14  5950000.00       80.30  2018-07-03T00:00:00      3   \n",
       "23663      12  6400000.00       88.00  2018-01-12T00:00:00      4   \n",
       "23670       9  2450000.00       45.60  2018-02-08T00:00:00      1   \n",
       "23679       0  2500000.00       35.00  2017-12-08T00:00:00      1   \n",
       "23697      13 11475000.00       76.75  2017-03-28T00:00:00      2   \n",
       "\n",
       "       ceiling_height  floors_total  living_area  floor apartment  studio  \\\n",
       "3                2.65         14.00          NaN      9       NaN   False   \n",
       "7                2.60         24.00          NaN     22       NaN   False   \n",
       "30               2.65          9.00          NaN      2       NaN   False   \n",
       "37               2.50          5.00          NaN      1       NaN   False   \n",
       "44               2.65         22.00          NaN      3       NaN   False   \n",
       "...               ...           ...          ...    ...       ...     ...   \n",
       "23642            2.70         12.00          NaN      5       NaN   False   \n",
       "23663            2.55         10.00          NaN      1       NaN   False   \n",
       "23670            2.80          9.00          NaN      2       NaN   False   \n",
       "23679            2.65          9.00          NaN      4       NaN   False   \n",
       "23697            3.00         17.00          NaN     12       NaN   False   \n",
       "\n",
       "       open_plan  kitchen_area  balcony                        locality_name  \\\n",
       "3          False           NaN     0.00                      Санкт-Петербург   \n",
       "7          False         18.90     2.00                      Санкт-Петербург   \n",
       "30         False           NaN      NaN                             Коммунар   \n",
       "37         False           NaN      NaN  поселок городского типа Красный Бор   \n",
       "44         False           NaN     1.00                      Санкт-Петербург   \n",
       "...          ...           ...      ...                                  ...   \n",
       "23642      False           NaN      NaN                              Колпино   \n",
       "23663      False           NaN      NaN                      Санкт-Петербург   \n",
       "23670      False           NaN      NaN     поселок городского типа Синявино   \n",
       "23679      False           NaN      NaN                         Сосновый Бор   \n",
       "23697      False         23.30     2.00                      Санкт-Петербург   \n",
       "\n",
       "       airports_nearest  city_center  parks_around3000  parks_nearest  \\\n",
       "3              28098.00      6800.00              2.00          84.00   \n",
       "7              23982.00     11634.00              0.00            NaN   \n",
       "30                  NaN          NaN               NaN            NaN   \n",
       "37                  NaN          NaN               NaN            NaN   \n",
       "44             30471.00     11603.00              1.00         620.00   \n",
       "...                 ...          ...               ...            ...   \n",
       "23642          27933.00     33719.00              0.00            NaN   \n",
       "23663          33642.00     13943.00              0.00            NaN   \n",
       "23670               NaN          NaN               NaN            NaN   \n",
       "23679               NaN          NaN               NaN            NaN   \n",
       "23697          39140.00     10364.00              2.00         173.00   \n",
       "\n",
       "       ponds_around3000  ponds_nearest  days_exposition  \n",
       "3                  3.00         234.00           424.00  \n",
       "7                  0.00            NaN              NaN  \n",
       "30                  NaN            NaN            63.00  \n",
       "37                  NaN            NaN           196.00  \n",
       "44                 1.00        1152.00              NaN  \n",
       "...                 ...            ...              ...  \n",
       "23642              2.00         562.00            60.00  \n",
       "23663              2.00         844.00            59.00  \n",
       "23670               NaN            NaN            45.00  \n",
       "23679               NaN            NaN            45.00  \n",
       "23697              3.00         196.00           602.00  \n",
       "\n",
       "[1903 rows x 22 columns]"
      ]
     },
     "execution_count": 26,
     "metadata": {},
     "output_type": "execute_result"
    }
   ],
   "source": [
    "# посмотрим заполненны ли данные общей площади для пропусков в столбце 'living_area'\n",
    "realty.query('(living_area != living_area) and (total_area == total_area)')"
   ]
  },
  {
   "cell_type": "markdown",
   "metadata": {},
   "source": [
    "Видим, что для всех пропусков в 'living_area' у нас имеются значения в 'total_area'. \n",
    "\n",
    "А значит нам нужно сделать следующее: \n",
    "- сгруппировать данные по количеству комнат\n",
    "- вывести коэффициент жилой площади от общей площади по медианным данным"
   ]
  },
  {
   "cell_type": "code",
   "execution_count": 27,
   "metadata": {},
   "outputs": [
    {
     "data": {
      "text/html": [
       "<div>\n",
       "<style scoped>\n",
       "    .dataframe tbody tr th:only-of-type {\n",
       "        vertical-align: middle;\n",
       "    }\n",
       "\n",
       "    .dataframe tbody tr th {\n",
       "        vertical-align: top;\n",
       "    }\n",
       "\n",
       "    .dataframe thead th {\n",
       "        text-align: right;\n",
       "    }\n",
       "</style>\n",
       "<table border=\"1\" class=\"dataframe\">\n",
       "  <thead>\n",
       "    <tr style=\"text-align: right;\">\n",
       "      <th></th>\n",
       "      <th>living_area</th>\n",
       "      <th>total_area</th>\n",
       "    </tr>\n",
       "    <tr>\n",
       "      <th>rooms</th>\n",
       "      <th></th>\n",
       "      <th></th>\n",
       "    </tr>\n",
       "  </thead>\n",
       "  <tbody>\n",
       "    <tr>\n",
       "      <th>1</th>\n",
       "      <td>17.60</td>\n",
       "      <td>36.20</td>\n",
       "    </tr>\n",
       "    <tr>\n",
       "      <th>2</th>\n",
       "      <td>30.50</td>\n",
       "      <td>53.00</td>\n",
       "    </tr>\n",
       "    <tr>\n",
       "      <th>3</th>\n",
       "      <td>45.00</td>\n",
       "      <td>72.60</td>\n",
       "    </tr>\n",
       "    <tr>\n",
       "      <th>4</th>\n",
       "      <td>63.60</td>\n",
       "      <td>98.50</td>\n",
       "    </tr>\n",
       "    <tr>\n",
       "      <th>5</th>\n",
       "      <td>91.78</td>\n",
       "      <td>145.20</td>\n",
       "    </tr>\n",
       "    <tr>\n",
       "      <th>6</th>\n",
       "      <td>123.90</td>\n",
       "      <td>183.70</td>\n",
       "    </tr>\n",
       "    <tr>\n",
       "      <th>7</th>\n",
       "      <td>145.00</td>\n",
       "      <td>213.00</td>\n",
       "    </tr>\n",
       "    <tr>\n",
       "      <th>8</th>\n",
       "      <td>161.00</td>\n",
       "      <td>235.70</td>\n",
       "    </tr>\n",
       "    <tr>\n",
       "      <th>9</th>\n",
       "      <td>179.20</td>\n",
       "      <td>309.70</td>\n",
       "    </tr>\n",
       "    <tr>\n",
       "      <th>10</th>\n",
       "      <td>161.40</td>\n",
       "      <td>272.60</td>\n",
       "    </tr>\n",
       "    <tr>\n",
       "      <th>11</th>\n",
       "      <td>133.90</td>\n",
       "      <td>188.90</td>\n",
       "    </tr>\n",
       "    <tr>\n",
       "      <th>12</th>\n",
       "      <td>409.70</td>\n",
       "      <td>900.00</td>\n",
       "    </tr>\n",
       "    <tr>\n",
       "      <th>14</th>\n",
       "      <td>195.15</td>\n",
       "      <td>304.20</td>\n",
       "    </tr>\n",
       "    <tr>\n",
       "      <th>15</th>\n",
       "      <td>409.00</td>\n",
       "      <td>590.00</td>\n",
       "    </tr>\n",
       "    <tr>\n",
       "      <th>16</th>\n",
       "      <td>180.00</td>\n",
       "      <td>270.00</td>\n",
       "    </tr>\n",
       "    <tr>\n",
       "      <th>19</th>\n",
       "      <td>264.50</td>\n",
       "      <td>374.60</td>\n",
       "    </tr>\n",
       "  </tbody>\n",
       "</table>\n",
       "</div>"
      ],
      "text/plain": [
       "       living_area  total_area\n",
       "rooms                         \n",
       "1            17.60       36.20\n",
       "2            30.50       53.00\n",
       "3            45.00       72.60\n",
       "4            63.60       98.50\n",
       "5            91.78      145.20\n",
       "6           123.90      183.70\n",
       "7           145.00      213.00\n",
       "8           161.00      235.70\n",
       "9           179.20      309.70\n",
       "10          161.40      272.60\n",
       "11          133.90      188.90\n",
       "12          409.70      900.00\n",
       "14          195.15      304.20\n",
       "15          409.00      590.00\n",
       "16          180.00      270.00\n",
       "19          264.50      374.60"
      ]
     },
     "execution_count": 27,
     "metadata": {},
     "output_type": "execute_result"
    }
   ],
   "source": [
    "# создаем сводную таблицу из выборки, где значение 'living_area' не пропущены, \n",
    "# и заполняем ее медианными значениями общей площади и жилой площади \n",
    "realty_with_living_area = (realty\n",
    "                           .query('living_area == living_area')\n",
    "                           .pivot_table(index='rooms', values=['total_area', 'living_area'], aggfunc='median')\n",
    "                                       )\n",
    "realty_with_living_area"
   ]
  },
  {
   "cell_type": "code",
   "execution_count": 28,
   "metadata": {
    "scrolled": true
   },
   "outputs": [
    {
     "data": {
      "text/html": [
       "<div>\n",
       "<style scoped>\n",
       "    .dataframe tbody tr th:only-of-type {\n",
       "        vertical-align: middle;\n",
       "    }\n",
       "\n",
       "    .dataframe tbody tr th {\n",
       "        vertical-align: top;\n",
       "    }\n",
       "\n",
       "    .dataframe thead th {\n",
       "        text-align: right;\n",
       "    }\n",
       "</style>\n",
       "<table border=\"1\" class=\"dataframe\">\n",
       "  <thead>\n",
       "    <tr style=\"text-align: right;\">\n",
       "      <th></th>\n",
       "      <th>living_area</th>\n",
       "      <th>total_area</th>\n",
       "      <th>ratio</th>\n",
       "    </tr>\n",
       "    <tr>\n",
       "      <th>rooms</th>\n",
       "      <th></th>\n",
       "      <th></th>\n",
       "      <th></th>\n",
       "    </tr>\n",
       "  </thead>\n",
       "  <tbody>\n",
       "    <tr>\n",
       "      <th>1</th>\n",
       "      <td>17.60</td>\n",
       "      <td>36.20</td>\n",
       "      <td>0.49</td>\n",
       "    </tr>\n",
       "    <tr>\n",
       "      <th>2</th>\n",
       "      <td>30.50</td>\n",
       "      <td>53.00</td>\n",
       "      <td>0.58</td>\n",
       "    </tr>\n",
       "    <tr>\n",
       "      <th>3</th>\n",
       "      <td>45.00</td>\n",
       "      <td>72.60</td>\n",
       "      <td>0.62</td>\n",
       "    </tr>\n",
       "    <tr>\n",
       "      <th>4</th>\n",
       "      <td>63.60</td>\n",
       "      <td>98.50</td>\n",
       "      <td>0.65</td>\n",
       "    </tr>\n",
       "    <tr>\n",
       "      <th>5</th>\n",
       "      <td>91.78</td>\n",
       "      <td>145.20</td>\n",
       "      <td>0.63</td>\n",
       "    </tr>\n",
       "    <tr>\n",
       "      <th>6</th>\n",
       "      <td>123.90</td>\n",
       "      <td>183.70</td>\n",
       "      <td>0.67</td>\n",
       "    </tr>\n",
       "    <tr>\n",
       "      <th>7</th>\n",
       "      <td>145.00</td>\n",
       "      <td>213.00</td>\n",
       "      <td>0.68</td>\n",
       "    </tr>\n",
       "    <tr>\n",
       "      <th>8</th>\n",
       "      <td>161.00</td>\n",
       "      <td>235.70</td>\n",
       "      <td>0.68</td>\n",
       "    </tr>\n",
       "    <tr>\n",
       "      <th>9</th>\n",
       "      <td>179.20</td>\n",
       "      <td>309.70</td>\n",
       "      <td>0.58</td>\n",
       "    </tr>\n",
       "    <tr>\n",
       "      <th>10</th>\n",
       "      <td>161.40</td>\n",
       "      <td>272.60</td>\n",
       "      <td>0.59</td>\n",
       "    </tr>\n",
       "    <tr>\n",
       "      <th>11</th>\n",
       "      <td>133.90</td>\n",
       "      <td>188.90</td>\n",
       "      <td>0.71</td>\n",
       "    </tr>\n",
       "    <tr>\n",
       "      <th>12</th>\n",
       "      <td>409.70</td>\n",
       "      <td>900.00</td>\n",
       "      <td>0.46</td>\n",
       "    </tr>\n",
       "    <tr>\n",
       "      <th>14</th>\n",
       "      <td>195.15</td>\n",
       "      <td>304.20</td>\n",
       "      <td>0.64</td>\n",
       "    </tr>\n",
       "    <tr>\n",
       "      <th>15</th>\n",
       "      <td>409.00</td>\n",
       "      <td>590.00</td>\n",
       "      <td>0.69</td>\n",
       "    </tr>\n",
       "    <tr>\n",
       "      <th>16</th>\n",
       "      <td>180.00</td>\n",
       "      <td>270.00</td>\n",
       "      <td>0.67</td>\n",
       "    </tr>\n",
       "    <tr>\n",
       "      <th>19</th>\n",
       "      <td>264.50</td>\n",
       "      <td>374.60</td>\n",
       "      <td>0.71</td>\n",
       "    </tr>\n",
       "  </tbody>\n",
       "</table>\n",
       "</div>"
      ],
      "text/plain": [
       "       living_area  total_area  ratio\n",
       "rooms                                \n",
       "1            17.60       36.20   0.49\n",
       "2            30.50       53.00   0.58\n",
       "3            45.00       72.60   0.62\n",
       "4            63.60       98.50   0.65\n",
       "5            91.78      145.20   0.63\n",
       "6           123.90      183.70   0.67\n",
       "7           145.00      213.00   0.68\n",
       "8           161.00      235.70   0.68\n",
       "9           179.20      309.70   0.58\n",
       "10          161.40      272.60   0.59\n",
       "11          133.90      188.90   0.71\n",
       "12          409.70      900.00   0.46\n",
       "14          195.15      304.20   0.64\n",
       "15          409.00      590.00   0.69\n",
       "16          180.00      270.00   0.67\n",
       "19          264.50      374.60   0.71"
      ]
     },
     "execution_count": 28,
     "metadata": {},
     "output_type": "execute_result"
    }
   ],
   "source": [
    "# считаем сооотношение площадей для каждого количества комнат\n",
    "realty_with_living_area['ratio'] = realty_with_living_area['living_area'] / realty_with_living_area['total_area']\n",
    "realty_with_living_area"
   ]
  },
  {
   "cell_type": "code",
   "execution_count": 29,
   "metadata": {},
   "outputs": [
    {
     "data": {
      "image/png": "[encoded data removed]",
      "text/plain": [
       "<Figure size 720x504 with 1 Axes>"
      ]
     },
     "metadata": {
      "needs_background": "light"
     },
     "output_type": "display_data"
    }
   ],
   "source": [
    "# посмотрим распределение значений \n",
    "plt.figure(figsize=(10, 7))\n",
    "realty_with_living_area['ratio'].hist(bins=15, \n",
    "                                      color='darkmagenta', \n",
    "                                      edgecolor=\"black\", \n",
    "                                      grid=True, \n",
    "                                      xlabelsize=12, \n",
    "                                      ylabelsize=12)\n",
    "plt.title('Гистограмма отношения жилой площади к общей', fontsize=14)\n",
    "plt.xlabel(\"Значения отношений жилой площади к общей\", fontsize=12)\n",
    "plt.ylabel(\"Частота значений\",fontsize=12)\n",
    "plt.xlim([0,1])\n",
    "plt.show()"
   ]
  },
  {
   "cell_type": "markdown",
   "metadata": {},
   "source": [
    "В целом мы видим довольно однородные значения, поэтому можем использовать медиану от общего числа соотношений для заполнени пропусков. "
   ]
  },
  {
   "cell_type": "code",
   "execution_count": 30,
   "metadata": {},
   "outputs": [],
   "source": [
    "realty['living_area'] = realty['living_area'] \\\n",
    ".fillna(realty['total_area'] * realty_with_living_area['ratio'].median())"
   ]
  },
  {
   "cell_type": "markdown",
   "metadata": {},
   "source": [
    "Провернем ту же самую операцию для пропусков в столбце 'kitchen_area'"
   ]
  },
  {
   "cell_type": "code",
   "execution_count": 31,
   "metadata": {},
   "outputs": [],
   "source": [
    "# создаем сводную таблицу из выборки, где значение 'kitchen_area' не пропущены, \n",
    "# и заполняем ее медианными значениями общей площади и площади кухни\n",
    "# и тут же считаем отношение\n",
    "\n",
    "realty_with_kitchen_area = (realty\n",
    "                           .query('kitchen_area == kitchen_area')\n",
    "                           .pivot_table(index='rooms', values=['total_area', 'kitchen_area'], aggfunc='mean'))\n",
    "realty_with_kitchen_area['ratio'] = realty_with_kitchen_area['kitchen_area'] / realty_with_kitchen_area['total_area']"
   ]
  },
  {
   "cell_type": "code",
   "execution_count": 32,
   "metadata": {},
   "outputs": [
    {
     "data": {
      "image/png": "[encoded data removed]",
      "text/plain": [
       "<Figure size 720x504 with 1 Axes>"
      ]
     },
     "metadata": {
      "needs_background": "light"
     },
     "output_type": "display_data"
    }
   ],
   "source": [
    "# выводим гистограмму \n",
    "plt.figure(figsize=(10, 7))\n",
    "realty_with_kitchen_area['ratio'].hist(bins=15, \n",
    "                                      color='crimson', \n",
    "                                      edgecolor=\"black\", \n",
    "                                      grid=True, \n",
    "                                      xlabelsize=12, \n",
    "                                      ylabelsize=12)\n",
    "plt.title('Гистограмма отношения площади кухни к общей', fontsize=14)\n",
    "plt.xlabel(\"Значения отношений площади кухни к общей\", fontsize=12)\n",
    "plt.ylabel(\"Частота значений\",fontsize=12)\n",
    "plt.xlim([0,1])\n",
    "plt.show()"
   ]
  },
  {
   "cell_type": "code",
   "execution_count": 33,
   "metadata": {
    "scrolled": true
   },
   "outputs": [
    {
     "name": "stdout",
     "output_type": "stream",
     "text": [
      "<class 'pandas.core.frame.DataFrame'>\n",
      "RangeIndex: 23699 entries, 0 to 23698\n",
      "Data columns (total 22 columns):\n",
      " #   Column                Non-Null Count  Dtype  \n",
      "---  ------                --------------  -----  \n",
      " 0   images                23699 non-null  int64  \n",
      " 1   price                 23699 non-null  float64\n",
      " 2   total_area            23699 non-null  float64\n",
      " 3   first_day_exposition  23699 non-null  object \n",
      " 4   rooms                 23699 non-null  int64  \n",
      " 5   ceiling_height        23699 non-null  float64\n",
      " 6   floors_total          23699 non-null  float64\n",
      " 7   living_area           23699 non-null  float64\n",
      " 8   floor                 23699 non-null  int64  \n",
      " 9   apartment             2775 non-null   object \n",
      " 10  studio                23699 non-null  bool   \n",
      " 11  open_plan             23699 non-null  bool   \n",
      " 12  kitchen_area          23699 non-null  float64\n",
      " 13  balcony               12180 non-null  float64\n",
      " 14  locality_name         23650 non-null  object \n",
      " 15  airports_nearest      18157 non-null  float64\n",
      " 16  city_center           18180 non-null  float64\n",
      " 17  parks_around3000      18181 non-null  float64\n",
      " 18  parks_nearest         8079 non-null   float64\n",
      " 19  ponds_around3000      18181 non-null  float64\n",
      " 20  ponds_nearest         9110 non-null   float64\n",
      " 21  days_exposition       20518 non-null  float64\n",
      "dtypes: bool(2), float64(14), int64(3), object(3)\n",
      "memory usage: 3.7+ MB\n"
     ]
    }
   ],
   "source": [
    "# так как разброс коэффициентов не критичный - заполняем пропуски \n",
    "realty['kitchen_area'] = realty['kitchen_area'] \\\n",
    ".fillna(realty['total_area'] * realty_with_kitchen_area['ratio'].median())\n",
    "\n",
    "# пропуски заполнены\n",
    "realty.info() "
   ]
  },
  {
   "cell_type": "markdown",
   "metadata": {},
   "source": [
    "#### Пропуски в 'apartment '"
   ]
  },
  {
   "cell_type": "code",
   "execution_count": 34,
   "metadata": {},
   "outputs": [
    {
     "data": {
      "text/plain": [
       "False    2725\n",
       "True       50\n",
       "Name: apartment, dtype: int64"
      ]
     },
     "execution_count": 34,
     "metadata": {},
     "output_type": "execute_result"
    }
   ],
   "source": [
    "realty['apartment'].value_counts()"
   ]
  },
  {
   "cell_type": "code",
   "execution_count": 35,
   "metadata": {},
   "outputs": [
    {
     "data": {
      "text/html": [
       "<div>\n",
       "<style scoped>\n",
       "    .dataframe tbody tr th:only-of-type {\n",
       "        vertical-align: middle;\n",
       "    }\n",
       "\n",
       "    .dataframe tbody tr th {\n",
       "        vertical-align: top;\n",
       "    }\n",
       "\n",
       "    .dataframe thead th {\n",
       "        text-align: right;\n",
       "    }\n",
       "</style>\n",
       "<table border=\"1\" class=\"dataframe\">\n",
       "  <thead>\n",
       "    <tr style=\"text-align: right;\">\n",
       "      <th></th>\n",
       "      <th>ceiling_height</th>\n",
       "      <th>price</th>\n",
       "      <th>total_area</th>\n",
       "    </tr>\n",
       "    <tr>\n",
       "      <th>rooms</th>\n",
       "      <th></th>\n",
       "      <th></th>\n",
       "      <th></th>\n",
       "    </tr>\n",
       "  </thead>\n",
       "  <tbody>\n",
       "    <tr>\n",
       "      <th>1</th>\n",
       "      <td>2.90</td>\n",
       "      <td>4839500.00</td>\n",
       "      <td>44.95</td>\n",
       "    </tr>\n",
       "    <tr>\n",
       "      <th>2</th>\n",
       "      <td>3.00</td>\n",
       "      <td>7500000.00</td>\n",
       "      <td>70.00</td>\n",
       "    </tr>\n",
       "    <tr>\n",
       "      <th>3</th>\n",
       "      <td>3.00</td>\n",
       "      <td>9548629.00</td>\n",
       "      <td>99.00</td>\n",
       "    </tr>\n",
       "    <tr>\n",
       "      <th>4</th>\n",
       "      <td>2.65</td>\n",
       "      <td>4000000.00</td>\n",
       "      <td>98.00</td>\n",
       "    </tr>\n",
       "    <tr>\n",
       "      <th>5</th>\n",
       "      <td>4.45</td>\n",
       "      <td>84000000.00</td>\n",
       "      <td>507.00</td>\n",
       "    </tr>\n",
       "    <tr>\n",
       "      <th>7</th>\n",
       "      <td>3.38</td>\n",
       "      <td>13490000.00</td>\n",
       "      <td>100.60</td>\n",
       "    </tr>\n",
       "  </tbody>\n",
       "</table>\n",
       "</div>"
      ],
      "text/plain": [
       "       ceiling_height       price  total_area\n",
       "rooms                                        \n",
       "1                2.90  4839500.00       44.95\n",
       "2                3.00  7500000.00       70.00\n",
       "3                3.00  9548629.00       99.00\n",
       "4                2.65  4000000.00       98.00\n",
       "5                4.45 84000000.00      507.00\n",
       "7                3.38 13490000.00      100.60"
      ]
     },
     "execution_count": 35,
     "metadata": {},
     "output_type": "execute_result"
    }
   ],
   "source": [
    "# посмотрим выборку по данным, где значения столбца apartment == True \n",
    "\n",
    "apartments = (\n",
    "    realty\n",
    "    .query('apartment == True')\n",
    "    .pivot_table(index='rooms', values=['total_area', 'price', 'ceiling_height'], aggfunc='median')\n",
    ")\n",
    "\n",
    "apartments"
   ]
  },
  {
   "cell_type": "code",
   "execution_count": 36,
   "metadata": {
    "scrolled": false
   },
   "outputs": [
    {
     "data": {
      "text/html": [
       "<div>\n",
       "<style scoped>\n",
       "    .dataframe tbody tr th:only-of-type {\n",
       "        vertical-align: middle;\n",
       "    }\n",
       "\n",
       "    .dataframe tbody tr th {\n",
       "        vertical-align: top;\n",
       "    }\n",
       "\n",
       "    .dataframe thead th {\n",
       "        text-align: right;\n",
       "    }\n",
       "</style>\n",
       "<table border=\"1\" class=\"dataframe\">\n",
       "  <thead>\n",
       "    <tr style=\"text-align: right;\">\n",
       "      <th></th>\n",
       "      <th>ceiling_height</th>\n",
       "      <th>price</th>\n",
       "      <th>total_area</th>\n",
       "    </tr>\n",
       "    <tr>\n",
       "      <th>rooms</th>\n",
       "      <th></th>\n",
       "      <th></th>\n",
       "      <th></th>\n",
       "    </tr>\n",
       "  </thead>\n",
       "  <tbody>\n",
       "    <tr>\n",
       "      <th>1</th>\n",
       "      <td>2.65</td>\n",
       "      <td>3570000.00</td>\n",
       "      <td>37.00</td>\n",
       "    </tr>\n",
       "    <tr>\n",
       "      <th>2</th>\n",
       "      <td>2.60</td>\n",
       "      <td>4700000.00</td>\n",
       "      <td>54.00</td>\n",
       "    </tr>\n",
       "    <tr>\n",
       "      <th>3</th>\n",
       "      <td>2.65</td>\n",
       "      <td>6100330.00</td>\n",
       "      <td>74.00</td>\n",
       "    </tr>\n",
       "    <tr>\n",
       "      <th>4</th>\n",
       "      <td>2.80</td>\n",
       "      <td>9800000.00</td>\n",
       "      <td>102.00</td>\n",
       "    </tr>\n",
       "    <tr>\n",
       "      <th>5</th>\n",
       "      <td>3.10</td>\n",
       "      <td>12700000.00</td>\n",
       "      <td>148.45</td>\n",
       "    </tr>\n",
       "    <tr>\n",
       "      <th>6</th>\n",
       "      <td>3.25</td>\n",
       "      <td>15175000.00</td>\n",
       "      <td>151.90</td>\n",
       "    </tr>\n",
       "    <tr>\n",
       "      <th>7</th>\n",
       "      <td>3.38</td>\n",
       "      <td>18000000.00</td>\n",
       "      <td>171.00</td>\n",
       "    </tr>\n",
       "    <tr>\n",
       "      <th>9</th>\n",
       "      <td>3.00</td>\n",
       "      <td>49968900.00</td>\n",
       "      <td>398.00</td>\n",
       "    </tr>\n",
       "  </tbody>\n",
       "</table>\n",
       "</div>"
      ],
      "text/plain": [
       "       ceiling_height       price  total_area\n",
       "rooms                                        \n",
       "1                2.65  3570000.00       37.00\n",
       "2                2.60  4700000.00       54.00\n",
       "3                2.65  6100330.00       74.00\n",
       "4                2.80  9800000.00      102.00\n",
       "5                3.10 12700000.00      148.45\n",
       "6                3.25 15175000.00      151.90\n",
       "7                3.38 18000000.00      171.00\n",
       "9                3.00 49968900.00      398.00"
      ]
     },
     "execution_count": 36,
     "metadata": {},
     "output_type": "execute_result"
    }
   ],
   "source": [
    "# то же самое сделаем для apartment == False\n",
    "\n",
    "not_apartments = (\n",
    "    realty\n",
    "    .query('apartment == False')\n",
    "    .pivot_table(index='rooms', values=['total_area', 'price', 'ceiling_height'], aggfunc='median')\n",
    ")\n",
    "\n",
    "not_apartments"
   ]
  },
  {
   "cell_type": "markdown",
   "metadata": {},
   "source": [
    "Никаких особых закономерностей здесь не прослеживается, значит зацепиться не получиться и придется заполнить Nan как False. То есть признаем, что большинство квартир не апартаменты."
   ]
  },
  {
   "cell_type": "code",
   "execution_count": 37,
   "metadata": {},
   "outputs": [
    {
     "data": {
      "text/plain": [
       "False    23649\n",
       "True        50\n",
       "Name: apartment, dtype: int64"
      ]
     },
     "execution_count": 37,
     "metadata": {},
     "output_type": "execute_result"
    }
   ],
   "source": [
    "realty['apartment'] = realty['apartment'].fillna(False)\n",
    "realty['apartment'].value_counts()"
   ]
  },
  {
   "cell_type": "markdown",
   "metadata": {},
   "source": [
    "#### Пропуски в столбце 'balkony'"
   ]
  },
  {
   "cell_type": "code",
   "execution_count": 38,
   "metadata": {},
   "outputs": [
    {
     "data": {
      "text/plain": [
       "1.00    4195\n",
       "0.00    3758\n",
       "2.00    3659\n",
       "5.00     304\n",
       "4.00     183\n",
       "3.00      81\n",
       "Name: balcony, dtype: int64"
      ]
     },
     "execution_count": 38,
     "metadata": {},
     "output_type": "execute_result"
    }
   ],
   "source": [
    "realty['balcony'].value_counts()"
   ]
  },
  {
   "cell_type": "code",
   "execution_count": 39,
   "metadata": {},
   "outputs": [
    {
     "data": {
      "text/html": [
       "<div>\n",
       "<style scoped>\n",
       "    .dataframe tbody tr th:only-of-type {\n",
       "        vertical-align: middle;\n",
       "    }\n",
       "\n",
       "    .dataframe tbody tr th {\n",
       "        vertical-align: top;\n",
       "    }\n",
       "\n",
       "    .dataframe thead th {\n",
       "        text-align: right;\n",
       "    }\n",
       "</style>\n",
       "<table border=\"1\" class=\"dataframe\">\n",
       "  <thead>\n",
       "    <tr style=\"text-align: right;\">\n",
       "      <th></th>\n",
       "      <th>rooms</th>\n",
       "      <th>total_area</th>\n",
       "    </tr>\n",
       "    <tr>\n",
       "      <th>balcony</th>\n",
       "      <th></th>\n",
       "      <th></th>\n",
       "    </tr>\n",
       "  </thead>\n",
       "  <tbody>\n",
       "    <tr>\n",
       "      <th>1.00</th>\n",
       "      <td>2</td>\n",
       "      <td>48.50</td>\n",
       "    </tr>\n",
       "    <tr>\n",
       "      <th>2.00</th>\n",
       "      <td>2</td>\n",
       "      <td>52.00</td>\n",
       "    </tr>\n",
       "    <tr>\n",
       "      <th>3.00</th>\n",
       "      <td>3</td>\n",
       "      <td>74.40</td>\n",
       "    </tr>\n",
       "    <tr>\n",
       "      <th>4.00</th>\n",
       "      <td>3</td>\n",
       "      <td>75.00</td>\n",
       "    </tr>\n",
       "    <tr>\n",
       "      <th>5.00</th>\n",
       "      <td>3</td>\n",
       "      <td>71.80</td>\n",
       "    </tr>\n",
       "  </tbody>\n",
       "</table>\n",
       "</div>"
      ],
      "text/plain": [
       "         rooms  total_area\n",
       "balcony                   \n",
       "1.00         2       48.50\n",
       "2.00         2       52.00\n",
       "3.00         3       74.40\n",
       "4.00         3       75.00\n",
       "5.00         3       71.80"
      ]
     },
     "execution_count": 39,
     "metadata": {},
     "output_type": "execute_result"
    }
   ],
   "source": [
    "realty_with_balkony = (realty\n",
    "                       .query('balcony > 0')\n",
    "                       .pivot_table(index='balcony', values=['total_area', 'rooms'], aggfunc='median')\n",
    "                                       )\n",
    "\n",
    "realty_with_balkony"
   ]
  },
  {
   "cell_type": "markdown",
   "metadata": {},
   "source": [
    "Судя по всему, здесь тоже не намечается очевидной закономерности. Поэтому решим, что если в данном столбце не заполнены данные - занчит балконов нет. "
   ]
  },
  {
   "cell_type": "code",
   "execution_count": 40,
   "metadata": {},
   "outputs": [
    {
     "data": {
      "text/plain": [
       "0.00    15277\n",
       "1.00     4195\n",
       "2.00     3659\n",
       "5.00      304\n",
       "4.00      183\n",
       "3.00       81\n",
       "Name: balcony, dtype: int64"
      ]
     },
     "execution_count": 40,
     "metadata": {},
     "output_type": "execute_result"
    }
   ],
   "source": [
    "realty['balcony'] = realty['balcony'].fillna(0)\n",
    "realty['balcony'].value_counts()"
   ]
  },
  {
   "cell_type": "markdown",
   "metadata": {},
   "source": [
    "#### Пропуски в столбце 'locality_name'"
   ]
  },
  {
   "cell_type": "code",
   "execution_count": 41,
   "metadata": {},
   "outputs": [
    {
     "data": {
      "text/plain": [
       "49"
      ]
     },
     "execution_count": 41,
     "metadata": {},
     "output_type": "execute_result"
    }
   ],
   "source": [
    "# посчитаем количество строк с пропусками\n",
    "\n",
    "len(realty[realty['locality_name'].isna()])"
   ]
  },
  {
   "cell_type": "code",
   "execution_count": 42,
   "metadata": {},
   "outputs": [
    {
     "data": {
      "text/plain": [
       "Санкт-Петербург            15721\n",
       "посёлок Мурино               522\n",
       "посёлок Шушары               440\n",
       "Всеволожск                   398\n",
       "Пушкин                       369\n",
       "                           ...  \n",
       "деревня Тойворово              1\n",
       "поселок станции Лужайка        1\n",
       "поселок Жилгородок             1\n",
       "село Шум                       1\n",
       "деревня Лупполово              1\n",
       "Name: locality_name, Length: 364, dtype: int64"
      ]
     },
     "execution_count": 42,
     "metadata": {},
     "output_type": "execute_result"
    }
   ],
   "source": [
    "# всего 49 пропусков, что в наших масштабах это не очень значительно\n",
    "\n",
    "realty['locality_name'].value_counts()"
   ]
  },
  {
   "cell_type": "code",
   "execution_count": 43,
   "metadata": {
    "scrolled": true
   },
   "outputs": [
    {
     "name": "stdout",
     "output_type": "stream",
     "text": [
      "<class 'pandas.core.frame.DataFrame'>\n",
      "Int64Index: 23650 entries, 0 to 23698\n",
      "Data columns (total 22 columns):\n",
      " #   Column                Non-Null Count  Dtype  \n",
      "---  ------                --------------  -----  \n",
      " 0   images                23650 non-null  int64  \n",
      " 1   price                 23650 non-null  float64\n",
      " 2   total_area            23650 non-null  float64\n",
      " 3   first_day_exposition  23650 non-null  object \n",
      " 4   rooms                 23650 non-null  int64  \n",
      " 5   ceiling_height        23650 non-null  float64\n",
      " 6   floors_total          23650 non-null  float64\n",
      " 7   living_area           23650 non-null  float64\n",
      " 8   floor                 23650 non-null  int64  \n",
      " 9   apartment             23650 non-null  bool   \n",
      " 10  studio                23650 non-null  bool   \n",
      " 11  open_plan             23650 non-null  bool   \n",
      " 12  kitchen_area          23650 non-null  float64\n",
      " 13  balcony               23650 non-null  float64\n",
      " 14  locality_name         23650 non-null  object \n",
      " 15  airports_nearest      18116 non-null  float64\n",
      " 16  city_center           18139 non-null  float64\n",
      " 17  parks_around3000      18140 non-null  float64\n",
      " 18  parks_nearest         8064 non-null   float64\n",
      " 19  ponds_around3000      18140 non-null  float64\n",
      " 20  ponds_nearest         9085 non-null   float64\n",
      " 21  days_exposition       20470 non-null  float64\n",
      "dtypes: bool(3), float64(14), int64(3), object(2)\n",
      "memory usage: 3.7+ MB\n"
     ]
    }
   ],
   "source": [
    "# просто применим dropna и забудем о них\n",
    "\n",
    "realty = realty.dropna(subset=['locality_name'])\n",
    "\n",
    "realty.info()"
   ]
  },
  {
   "cell_type": "markdown",
   "metadata": {},
   "source": [
    "#### Пропуски в столбце 'airports_nearest'"
   ]
  },
  {
   "cell_type": "code",
   "execution_count": 44,
   "metadata": {},
   "outputs": [
    {
     "data": {
      "text/plain": [
       "37434.00    61\n",
       "21928.00    32\n",
       "44870.00    30\n",
       "39946.00    30\n",
       "18732.00    27\n",
       "            ..\n",
       "42695.00     1\n",
       "53478.00     1\n",
       "20335.00     1\n",
       "33699.00     1\n",
       "20875.00     1\n",
       "Name: airports_nearest, Length: 8257, dtype: int64"
      ]
     },
     "execution_count": 44,
     "metadata": {},
     "output_type": "execute_result"
    }
   ],
   "source": [
    "realty['airports_nearest'].value_counts()"
   ]
  },
  {
   "cell_type": "code",
   "execution_count": 45,
   "metadata": {
    "scrolled": false
   },
   "outputs": [
    {
     "data": {
      "text/plain": [
       "locality_name\n",
       "посёлок Мурино         522\n",
       "Всеволожск             398\n",
       "Гатчина                307\n",
       "деревня Кудрово        299\n",
       "Выборг                 237\n",
       "                      ... \n",
       "поселок Гладкое          1\n",
       "поселок Дружноселье      1\n",
       "поселок Жилгородок       1\n",
       "поселок Жилпосёлок       1\n",
       "село Шум                 1\n",
       "Name: price, Length: 344, dtype: int64"
      ]
     },
     "execution_count": 45,
     "metadata": {},
     "output_type": "execute_result"
    }
   ],
   "source": [
    "realty[realty['airports_nearest'].isna()] \\\n",
    ".groupby('locality_name')['price'].count().sort_values(ascending=False)"
   ]
  },
  {
   "cell_type": "markdown",
   "metadata": {},
   "source": [
    "В данном случае 344 локации без данных по удаленности от аэропортов"
   ]
  },
  {
   "cell_type": "code",
   "execution_count": 46,
   "metadata": {
    "scrolled": true
   },
   "outputs": [
    {
     "data": {
      "text/html": [
       "<div>\n",
       "<style scoped>\n",
       "    .dataframe tbody tr th:only-of-type {\n",
       "        vertical-align: middle;\n",
       "    }\n",
       "\n",
       "    .dataframe tbody tr th {\n",
       "        vertical-align: top;\n",
       "    }\n",
       "\n",
       "    .dataframe thead th {\n",
       "        text-align: right;\n",
       "    }\n",
       "</style>\n",
       "<table border=\"1\" class=\"dataframe\">\n",
       "  <thead>\n",
       "    <tr style=\"text-align: right;\">\n",
       "      <th></th>\n",
       "      <th>airports_nearest</th>\n",
       "    </tr>\n",
       "    <tr>\n",
       "      <th>locality_name</th>\n",
       "      <th></th>\n",
       "    </tr>\n",
       "  </thead>\n",
       "  <tbody>\n",
       "    <tr>\n",
       "      <th>Зеленогорск</th>\n",
       "      <td>72282.00</td>\n",
       "    </tr>\n",
       "    <tr>\n",
       "      <th>Колпино</th>\n",
       "      <td>26232.00</td>\n",
       "    </tr>\n",
       "    <tr>\n",
       "      <th>Красное Село</th>\n",
       "      <td>25715.50</td>\n",
       "    </tr>\n",
       "    <tr>\n",
       "      <th>Кронштадт</th>\n",
       "      <td>67850.00</td>\n",
       "    </tr>\n",
       "    <tr>\n",
       "      <th>Ломоносов</th>\n",
       "      <td>48415.50</td>\n",
       "    </tr>\n",
       "    <tr>\n",
       "      <th>Павловск</th>\n",
       "      <td>20529.50</td>\n",
       "    </tr>\n",
       "    <tr>\n",
       "      <th>Петергоф</th>\n",
       "      <td>39231.00</td>\n",
       "    </tr>\n",
       "    <tr>\n",
       "      <th>Пушкин</th>\n",
       "      <td>15766.00</td>\n",
       "    </tr>\n",
       "    <tr>\n",
       "      <th>Санкт-Петербург</th>\n",
       "      <td>26757.50</td>\n",
       "    </tr>\n",
       "    <tr>\n",
       "      <th>Сестрорецк</th>\n",
       "      <td>56692.00</td>\n",
       "    </tr>\n",
       "    <tr>\n",
       "      <th>поселок Лисий Нос</th>\n",
       "      <td>55930.00</td>\n",
       "    </tr>\n",
       "    <tr>\n",
       "      <th>поселок Мурино</th>\n",
       "      <td>51553.00</td>\n",
       "    </tr>\n",
       "    <tr>\n",
       "      <th>посёлок Александровская</th>\n",
       "      <td>12896.50</td>\n",
       "    </tr>\n",
       "    <tr>\n",
       "      <th>посёлок Белоостров</th>\n",
       "      <td>57769.00</td>\n",
       "    </tr>\n",
       "    <tr>\n",
       "      <th>посёлок Левашово</th>\n",
       "      <td>52693.00</td>\n",
       "    </tr>\n",
       "    <tr>\n",
       "      <th>посёлок Лисий Нос</th>\n",
       "      <td>54988.50</td>\n",
       "    </tr>\n",
       "    <tr>\n",
       "      <th>посёлок Металлострой</th>\n",
       "      <td>25758.00</td>\n",
       "    </tr>\n",
       "    <tr>\n",
       "      <th>посёлок Молодёжное</th>\n",
       "      <td>84665.00</td>\n",
       "    </tr>\n",
       "    <tr>\n",
       "      <th>посёлок Парголово</th>\n",
       "      <td>53426.00</td>\n",
       "    </tr>\n",
       "    <tr>\n",
       "      <th>посёлок Песочный</th>\n",
       "      <td>54831.50</td>\n",
       "    </tr>\n",
       "    <tr>\n",
       "      <th>посёлок Петро-Славянка</th>\n",
       "      <td>20605.00</td>\n",
       "    </tr>\n",
       "    <tr>\n",
       "      <th>посёлок Понтонный</th>\n",
       "      <td>30642.00</td>\n",
       "    </tr>\n",
       "    <tr>\n",
       "      <th>посёлок Репино</th>\n",
       "      <td>61797.50</td>\n",
       "    </tr>\n",
       "    <tr>\n",
       "      <th>посёлок Сапёрный</th>\n",
       "      <td>34147.50</td>\n",
       "    </tr>\n",
       "    <tr>\n",
       "      <th>посёлок Стрельна</th>\n",
       "      <td>28317.00</td>\n",
       "    </tr>\n",
       "    <tr>\n",
       "      <th>посёлок Усть-Ижора</th>\n",
       "      <td>26510.50</td>\n",
       "    </tr>\n",
       "    <tr>\n",
       "      <th>посёлок Шушары</th>\n",
       "      <td>17427.00</td>\n",
       "    </tr>\n",
       "    <tr>\n",
       "      <th>посёлок Щеглово</th>\n",
       "      <td>61908.00</td>\n",
       "    </tr>\n",
       "  </tbody>\n",
       "</table>\n",
       "</div>"
      ],
      "text/plain": [
       "                         airports_nearest\n",
       "locality_name                            \n",
       "Зеленогорск                      72282.00\n",
       "Колпино                          26232.00\n",
       "Красное Село                     25715.50\n",
       "Кронштадт                        67850.00\n",
       "Ломоносов                        48415.50\n",
       "Павловск                         20529.50\n",
       "Петергоф                         39231.00\n",
       "Пушкин                           15766.00\n",
       "Санкт-Петербург                  26757.50\n",
       "Сестрорецк                       56692.00\n",
       "поселок Лисий Нос                55930.00\n",
       "поселок Мурино                   51553.00\n",
       "посёлок Александровская          12896.50\n",
       "посёлок Белоостров               57769.00\n",
       "посёлок Левашово                 52693.00\n",
       "посёлок Лисий Нос                54988.50\n",
       "посёлок Металлострой             25758.00\n",
       "посёлок Молодёжное               84665.00\n",
       "посёлок Парголово                53426.00\n",
       "посёлок Песочный                 54831.50\n",
       "посёлок Петро-Славянка           20605.00\n",
       "посёлок Понтонный                30642.00\n",
       "посёлок Репино                   61797.50\n",
       "посёлок Сапёрный                 34147.50\n",
       "посёлок Стрельна                 28317.00\n",
       "посёлок Усть-Ижора               26510.50\n",
       "посёлок Шушары                   17427.00\n",
       "посёлок Щеглово                  61908.00"
      ]
     },
     "execution_count": 46,
     "metadata": {},
     "output_type": "execute_result"
    }
   ],
   "source": [
    "# выведем сводную таблицу с данными по локациям, где удаленность от аэропротов присутствует \n",
    "# и посчитаем медаинну этой самой удаленности для каждой локации\n",
    "\n",
    "with_airport = (realty\n",
    "                .query('airports_nearest == airports_nearest')\n",
    "                .pivot_table(index='locality_name', values='airports_nearest', aggfunc='median')\n",
    "\n",
    ")\n",
    "\n",
    "with_airport\n"
   ]
  },
  {
   "cell_type": "markdown",
   "metadata": {},
   "source": [
    "По этим двум небольшим датасетам видно - локаций с пропусками в несколько раз больше, чем локаций с данными\n",
    "Отсюда получается, что составить адекватный словарь и заполнить его значениями не получится. \n",
    "\n",
    "Географичекие координаты нам тоже недоступны.\n",
    "\n",
    "Можно, конечно, взять медиану и заполнить. Но тогда данные с большей вероятностью станут не корректными. Поэтому заполним пропуски просто 0. "
   ]
  },
  {
   "cell_type": "code",
   "execution_count": 47,
   "metadata": {
    "scrolled": true
   },
   "outputs": [
    {
     "name": "stdout",
     "output_type": "stream",
     "text": [
      "<class 'pandas.core.frame.DataFrame'>\n",
      "Int64Index: 23650 entries, 0 to 23698\n",
      "Data columns (total 22 columns):\n",
      " #   Column                Non-Null Count  Dtype  \n",
      "---  ------                --------------  -----  \n",
      " 0   images                23650 non-null  int64  \n",
      " 1   price                 23650 non-null  float64\n",
      " 2   total_area            23650 non-null  float64\n",
      " 3   first_day_exposition  23650 non-null  object \n",
      " 4   rooms                 23650 non-null  int64  \n",
      " 5   ceiling_height        23650 non-null  float64\n",
      " 6   floors_total          23650 non-null  float64\n",
      " 7   living_area           23650 non-null  float64\n",
      " 8   floor                 23650 non-null  int64  \n",
      " 9   apartment             23650 non-null  bool   \n",
      " 10  studio                23650 non-null  bool   \n",
      " 11  open_plan             23650 non-null  bool   \n",
      " 12  kitchen_area          23650 non-null  float64\n",
      " 13  balcony               23650 non-null  float64\n",
      " 14  locality_name         23650 non-null  object \n",
      " 15  airports_nearest      23650 non-null  float64\n",
      " 16  city_center           18139 non-null  float64\n",
      " 17  parks_around3000      18140 non-null  float64\n",
      " 18  parks_nearest         8064 non-null   float64\n",
      " 19  ponds_around3000      18140 non-null  float64\n",
      " 20  ponds_nearest         9085 non-null   float64\n",
      " 21  days_exposition       20470 non-null  float64\n",
      "dtypes: bool(3), float64(14), int64(3), object(2)\n",
      "memory usage: 3.7+ MB\n"
     ]
    }
   ],
   "source": [
    "realty['airports_nearest'] = realty['airports_nearest'].fillna(0)\n",
    "\n",
    "realty.info()"
   ]
  },
  {
   "cell_type": "markdown",
   "metadata": {},
   "source": [
    "#### Пропуски в прочих столбцах с географическим данными"
   ]
  },
  {
   "cell_type": "markdown",
   "metadata": {},
   "source": [
    "Так как однозначно невозможно ни посчитать расстояние до центра города, ни количество парков и расстояние до них, ни количество прудов и расстояние до них. То же самое у нас с количеством дней, которое объявления было опубликовано до продажи.\n",
    "\n",
    "Заполняем все пропуски в этих столбцах 0."
   ]
  },
  {
   "cell_type": "code",
   "execution_count": 48,
   "metadata": {
    "scrolled": true
   },
   "outputs": [
    {
     "name": "stdout",
     "output_type": "stream",
     "text": [
      "<class 'pandas.core.frame.DataFrame'>\n",
      "Int64Index: 23650 entries, 0 to 23698\n",
      "Data columns (total 22 columns):\n",
      " #   Column                Non-Null Count  Dtype  \n",
      "---  ------                --------------  -----  \n",
      " 0   images                23650 non-null  int64  \n",
      " 1   price                 23650 non-null  float64\n",
      " 2   total_area            23650 non-null  float64\n",
      " 3   first_day_exposition  23650 non-null  object \n",
      " 4   rooms                 23650 non-null  int64  \n",
      " 5   ceiling_height        23650 non-null  float64\n",
      " 6   floors_total          23650 non-null  float64\n",
      " 7   living_area           23650 non-null  float64\n",
      " 8   floor                 23650 non-null  int64  \n",
      " 9   apartment             23650 non-null  bool   \n",
      " 10  studio                23650 non-null  bool   \n",
      " 11  open_plan             23650 non-null  bool   \n",
      " 12  kitchen_area          23650 non-null  float64\n",
      " 13  balcony               23650 non-null  float64\n",
      " 14  locality_name         23650 non-null  object \n",
      " 15  airports_nearest      23650 non-null  float64\n",
      " 16  city_center           23650 non-null  float64\n",
      " 17  parks_around3000      23650 non-null  float64\n",
      " 18  parks_nearest         23650 non-null  float64\n",
      " 19  ponds_around3000      23650 non-null  float64\n",
      " 20  ponds_nearest         23650 non-null  float64\n",
      " 21  days_exposition       23650 non-null  float64\n",
      "dtypes: bool(3), float64(14), int64(3), object(2)\n",
      "memory usage: 3.7+ MB\n"
     ]
    }
   ],
   "source": [
    "realty['city_center'] = realty['city_center'].fillna(0)\n",
    "realty['parks_around3000'] = realty['parks_around3000'].fillna(0)\n",
    "realty['parks_nearest'] = realty['parks_nearest'].fillna(0)\n",
    "realty['ponds_around3000'] = realty['ponds_around3000'].fillna(0)\n",
    "realty['ponds_nearest'] = realty['ponds_nearest'].fillna(0)\n",
    "realty['days_exposition'] = realty['days_exposition'].fillna(0)\n",
    "\n",
    "realty.info()"
   ]
  },
  {
   "cell_type": "markdown",
   "metadata": {},
   "source": [
    "### Замена типа данных <a class=\"anchor\" id=\"step_2_2\"></a>"
   ]
  },
  {
   "cell_type": "code",
   "execution_count": 49,
   "metadata": {},
   "outputs": [
    {
     "name": "stdout",
     "output_type": "stream",
     "text": [
      "<class 'pandas.core.frame.DataFrame'>\n",
      "Int64Index: 23650 entries, 0 to 23698\n",
      "Data columns (total 22 columns):\n",
      " #   Column                Non-Null Count  Dtype  \n",
      "---  ------                --------------  -----  \n",
      " 0   images                23650 non-null  int64  \n",
      " 1   price                 23650 non-null  float64\n",
      " 2   total_area            23650 non-null  float64\n",
      " 3   first_day_exposition  23650 non-null  object \n",
      " 4   rooms                 23650 non-null  int64  \n",
      " 5   ceiling_height        23650 non-null  float64\n",
      " 6   floors_total          23650 non-null  float64\n",
      " 7   living_area           23650 non-null  float64\n",
      " 8   floor                 23650 non-null  int64  \n",
      " 9   apartment             23650 non-null  bool   \n",
      " 10  studio                23650 non-null  bool   \n",
      " 11  open_plan             23650 non-null  bool   \n",
      " 12  kitchen_area          23650 non-null  float64\n",
      " 13  balcony               23650 non-null  float64\n",
      " 14  locality_name         23650 non-null  object \n",
      " 15  airports_nearest      23650 non-null  float64\n",
      " 16  city_center           23650 non-null  float64\n",
      " 17  parks_around3000      23650 non-null  float64\n",
      " 18  parks_nearest         23650 non-null  float64\n",
      " 19  ponds_around3000      23650 non-null  float64\n",
      " 20  ponds_nearest         23650 non-null  float64\n",
      " 21  days_exposition       23650 non-null  float64\n",
      "dtypes: bool(3), float64(14), int64(3), object(2)\n",
      "memory usage: 3.7+ MB\n"
     ]
    }
   ],
   "source": [
    "realty.info()"
   ]
  },
  {
   "cell_type": "code",
   "execution_count": 50,
   "metadata": {},
   "outputs": [
    {
     "name": "stdout",
     "output_type": "stream",
     "text": [
      "<class 'pandas.core.frame.DataFrame'>\n",
      "Int64Index: 23650 entries, 0 to 23698\n",
      "Data columns (total 22 columns):\n",
      " #   Column                Non-Null Count  Dtype  \n",
      "---  ------                --------------  -----  \n",
      " 0   images                23650 non-null  int64  \n",
      " 1   price                 23650 non-null  int64  \n",
      " 2   total_area            23650 non-null  float64\n",
      " 3   first_day_exposition  23650 non-null  object \n",
      " 4   rooms                 23650 non-null  int64  \n",
      " 5   ceiling_height        23650 non-null  float64\n",
      " 6   floors_total          23650 non-null  int64  \n",
      " 7   living_area           23650 non-null  float64\n",
      " 8   floor                 23650 non-null  int64  \n",
      " 9   apartment             23650 non-null  bool   \n",
      " 10  studio                23650 non-null  bool   \n",
      " 11  open_plan             23650 non-null  bool   \n",
      " 12  kitchen_area          23650 non-null  float64\n",
      " 13  balcony               23650 non-null  int64  \n",
      " 14  locality_name         23650 non-null  object \n",
      " 15  airports_nearest      23650 non-null  float64\n",
      " 16  city_center           23650 non-null  int64  \n",
      " 17  parks_around3000      23650 non-null  float64\n",
      " 18  parks_nearest         23650 non-null  float64\n",
      " 19  ponds_around3000      23650 non-null  float64\n",
      " 20  ponds_nearest         23650 non-null  float64\n",
      " 21  days_exposition       23650 non-null  int64  \n",
      "dtypes: bool(3), float64(9), int64(8), object(2)\n",
      "memory usage: 3.7+ MB\n"
     ]
    }
   ],
   "source": [
    "# заменим типы данных в ряде столбцов с float64 на int 64\n",
    "# во всех объявленных столбцах в принципе нам нужны именно целые числа\n",
    "\n",
    "realty = realty.astype({'price':'int', 'floors_total':'int', 'balcony':'int', 'days_exposition':'int', 'city_center':'int'})\n",
    "\n",
    "realty.info()     "
   ]
  },
  {
   "cell_type": "code",
   "execution_count": 51,
   "metadata": {
    "scrolled": true
   },
   "outputs": [
    {
     "name": "stdout",
     "output_type": "stream",
     "text": [
      "<class 'pandas.core.frame.DataFrame'>\n",
      "Int64Index: 23650 entries, 0 to 23698\n",
      "Data columns (total 22 columns):\n",
      " #   Column                Non-Null Count  Dtype         \n",
      "---  ------                --------------  -----         \n",
      " 0   images                23650 non-null  int64         \n",
      " 1   price                 23650 non-null  int64         \n",
      " 2   total_area            23650 non-null  float64       \n",
      " 3   first_day_exposition  23650 non-null  datetime64[ns]\n",
      " 4   rooms                 23650 non-null  int64         \n",
      " 5   ceiling_height        23650 non-null  float64       \n",
      " 6   floors_total          23650 non-null  int64         \n",
      " 7   living_area           23650 non-null  float64       \n",
      " 8   floor                 23650 non-null  int64         \n",
      " 9   apartment             23650 non-null  bool          \n",
      " 10  studio                23650 non-null  bool          \n",
      " 11  open_plan             23650 non-null  bool          \n",
      " 12  kitchen_area          23650 non-null  float64       \n",
      " 13  balcony               23650 non-null  int64         \n",
      " 14  locality_name         23650 non-null  object        \n",
      " 15  airports_nearest      23650 non-null  float64       \n",
      " 16  city_center           23650 non-null  int64         \n",
      " 17  parks_around3000      23650 non-null  float64       \n",
      " 18  parks_nearest         23650 non-null  float64       \n",
      " 19  ponds_around3000      23650 non-null  float64       \n",
      " 20  ponds_nearest         23650 non-null  float64       \n",
      " 21  days_exposition       23650 non-null  int64         \n",
      "dtypes: bool(3), datetime64[ns](1), float64(9), int64(8), object(1)\n",
      "memory usage: 3.7+ MB\n"
     ]
    }
   ],
   "source": [
    "# переведем формат данных в столбце 'first_day_exposition' в формат времени и даты\n",
    "\n",
    "realty['first_day_exposition'] = pd.to_datetime(realty['first_day_exposition'], format = '%Y-%m-%dT%H:%M:%S')\n",
    "\n",
    "realty.info()"
   ]
  },
  {
   "cell_type": "markdown",
   "metadata": {},
   "source": [
    "### Проверка дубликатов"
   ]
  },
  {
   "cell_type": "code",
   "execution_count": 52,
   "metadata": {},
   "outputs": [
    {
     "data": {
      "text/plain": [
       "0"
      ]
     },
     "execution_count": 52,
     "metadata": {},
     "output_type": "execute_result"
    }
   ],
   "source": [
    "realty.duplicated().sum()"
   ]
  },
  {
   "cell_type": "markdown",
   "metadata": {},
   "source": [
    "Дубликатов не обнаружено"
   ]
  },
  {
   "cell_type": "markdown",
   "metadata": {},
   "source": [
    "### Работа с названиями локаций / вместо лемматизации"
   ]
  },
  {
   "cell_type": "code",
   "execution_count": 53,
   "metadata": {},
   "outputs": [
    {
     "data": {
      "text/plain": [
       "364"
      ]
     },
     "execution_count": 53,
     "metadata": {},
     "output_type": "execute_result"
    }
   ],
   "source": [
    "# посмотрим сколько в данном столбце уникальных названий\n",
    "len(realty['locality_name'].unique())"
   ]
  },
  {
   "cell_type": "code",
   "execution_count": 54,
   "metadata": {},
   "outputs": [],
   "source": [
    "# попробуем привести все названия к написанию со строчной буквы\n",
    "realty['locality_name'] = realty['locality_name'].str.lower()"
   ]
  },
  {
   "cell_type": "code",
   "execution_count": 55,
   "metadata": {},
   "outputs": [
    {
     "data": {
      "text/plain": [
       "364"
      ]
     },
     "execution_count": 55,
     "metadata": {},
     "output_type": "execute_result"
    }
   ],
   "source": [
    "# еще раз проверяем количество уникальных значений\n",
    "len(realty['locality_name'].unique())"
   ]
  },
  {
   "cell_type": "markdown",
   "metadata": {},
   "source": [
    "Все еще 364. Значит проблема не в заглавных буквах. Выведем все названия.  "
   ]
  },
  {
   "cell_type": "code",
   "execution_count": 56,
   "metadata": {},
   "outputs": [
    {
     "data": {
      "text/plain": [
       "['санкт-петербург',\n",
       " 'посёлок шушары',\n",
       " 'городской посёлок янино-1',\n",
       " 'посёлок парголово',\n",
       " 'посёлок мурино',\n",
       " 'ломоносов',\n",
       " 'сертолово',\n",
       " 'петергоф',\n",
       " 'пушкин',\n",
       " 'деревня кудрово',\n",
       " 'коммунар',\n",
       " 'колпино',\n",
       " 'поселок городского типа красный бор',\n",
       " 'гатчина',\n",
       " 'поселок мурино',\n",
       " 'деревня фёдоровское',\n",
       " 'выборг',\n",
       " 'кронштадт',\n",
       " 'кировск',\n",
       " 'деревня новое девяткино',\n",
       " 'посёлок металлострой',\n",
       " 'посёлок городского типа лебяжье',\n",
       " 'посёлок городского типа сиверский',\n",
       " 'поселок молодцово',\n",
       " 'поселок городского типа кузьмоловский',\n",
       " 'садовое товарищество новая ропша',\n",
       " 'павловск',\n",
       " 'деревня пикколово',\n",
       " 'всеволожск',\n",
       " 'волхов',\n",
       " 'кингисепп',\n",
       " 'приозерск',\n",
       " 'сестрорецк',\n",
       " 'деревня куттузи',\n",
       " 'посёлок аннино',\n",
       " 'поселок городского типа ефимовский',\n",
       " 'посёлок плодовое',\n",
       " 'деревня заклинье',\n",
       " 'поселок торковичи',\n",
       " 'поселок первомайское',\n",
       " 'красное село',\n",
       " 'посёлок понтонный',\n",
       " 'сясьстрой',\n",
       " 'деревня старая',\n",
       " 'деревня лесколово',\n",
       " 'посёлок новый свет',\n",
       " 'сланцы',\n",
       " 'село путилово',\n",
       " 'ивангород',\n",
       " 'мурино',\n",
       " 'шлиссельбург',\n",
       " 'никольское',\n",
       " 'зеленогорск',\n",
       " 'сосновый бор',\n",
       " 'поселок новый свет',\n",
       " 'деревня оржицы',\n",
       " 'деревня кальтино',\n",
       " 'кудрово',\n",
       " 'поселок романовка',\n",
       " 'посёлок бугры',\n",
       " 'поселок бугры',\n",
       " 'поселок городского типа рощино',\n",
       " 'кириши',\n",
       " 'луга',\n",
       " 'волосово',\n",
       " 'отрадное',\n",
       " 'село павлово',\n",
       " 'поселок оредеж',\n",
       " 'село копорье',\n",
       " 'посёлок городского типа красный бор',\n",
       " 'посёлок молодёжное',\n",
       " 'тихвин',\n",
       " 'посёлок победа',\n",
       " 'деревня нурма',\n",
       " 'поселок городского типа синявино',\n",
       " 'тосно',\n",
       " 'посёлок городского типа кузьмоловский',\n",
       " 'посёлок стрельна',\n",
       " 'бокситогорск',\n",
       " 'посёлок александровская',\n",
       " 'деревня лопухинка',\n",
       " 'пикалёво',\n",
       " 'поселок терволово',\n",
       " 'поселок городского типа советский',\n",
       " 'подпорожье',\n",
       " 'посёлок петровское',\n",
       " 'посёлок городского типа токсово',\n",
       " 'поселок сельцо',\n",
       " 'посёлок городского типа вырица',\n",
       " 'деревня кипень',\n",
       " 'деревня келози',\n",
       " 'деревня вартемяги',\n",
       " 'посёлок тельмана',\n",
       " 'поселок севастьяново',\n",
       " 'городской поселок большая ижора',\n",
       " 'городской посёлок павлово',\n",
       " 'деревня агалатово',\n",
       " 'посёлок новогорелово',\n",
       " 'городской посёлок лесогорский',\n",
       " 'деревня лаголово',\n",
       " 'поселок цвелодубово',\n",
       " 'поселок городского типа рахья',\n",
       " 'поселок городского типа вырица',\n",
       " 'деревня белогорка',\n",
       " 'поселок заводской',\n",
       " 'городской посёлок новоселье',\n",
       " 'деревня большие колпаны',\n",
       " 'деревня горбунки',\n",
       " 'деревня батово',\n",
       " 'деревня заневка',\n",
       " 'деревня иссад',\n",
       " 'приморск',\n",
       " 'городской посёлок фёдоровское',\n",
       " 'деревня мистолово',\n",
       " 'новая ладога',\n",
       " 'поселок зимитицы',\n",
       " 'поселок барышево',\n",
       " 'деревня разметелево',\n",
       " 'поселок городского типа имени свердлова',\n",
       " 'деревня пеники',\n",
       " 'поселок рябово',\n",
       " 'деревня пудомяги',\n",
       " 'поселок станции корнево',\n",
       " 'деревня низино',\n",
       " 'деревня бегуницы',\n",
       " 'посёлок поляны',\n",
       " 'городской посёлок мга',\n",
       " 'поселок елизаветино',\n",
       " 'посёлок городского типа кузнечное',\n",
       " 'деревня колтуши',\n",
       " 'поселок запорожское',\n",
       " 'посёлок городского типа рощино',\n",
       " 'деревня гостилицы',\n",
       " 'деревня малое карлино',\n",
       " 'посёлок мичуринское',\n",
       " 'посёлок городского типа имени морозова',\n",
       " 'посёлок песочный',\n",
       " 'посёлок сосново',\n",
       " 'деревня аро',\n",
       " 'поселок ильичёво',\n",
       " 'посёлок городского типа тайцы',\n",
       " 'деревня малое верево',\n",
       " 'деревня извара',\n",
       " 'поселок станции вещево',\n",
       " 'село паша',\n",
       " 'деревня калитино',\n",
       " 'посёлок городского типа ульяновка',\n",
       " 'деревня чудской бор',\n",
       " 'поселок городского типа дубровка',\n",
       " 'деревня мины',\n",
       " 'поселок войсковицы',\n",
       " 'посёлок городского типа имени свердлова',\n",
       " 'деревня коркино',\n",
       " 'посёлок ропша',\n",
       " 'поселок городского типа приладожский',\n",
       " 'посёлок щеглово',\n",
       " 'посёлок гаврилово',\n",
       " 'лодейное поле',\n",
       " 'деревня рабитицы',\n",
       " 'поселок городского типа никольский',\n",
       " 'деревня кузьмолово',\n",
       " 'деревня малые колпаны',\n",
       " 'поселок тельмана',\n",
       " 'посёлок петро-славянка',\n",
       " 'городской посёлок назия',\n",
       " 'посёлок репино',\n",
       " 'посёлок ильичёво',\n",
       " 'поселок углово',\n",
       " 'поселок старая малукса',\n",
       " 'садовое товарищество рахья',\n",
       " 'поселок аннино',\n",
       " 'поселок победа',\n",
       " 'деревня меньково',\n",
       " 'деревня старые бегуницы',\n",
       " 'посёлок сапёрный',\n",
       " 'поселок семрино',\n",
       " 'поселок гаврилово',\n",
       " 'поселок глажево',\n",
       " 'поселок кобринское',\n",
       " 'деревня гарболово',\n",
       " 'деревня юкки',\n",
       " 'поселок станции приветнинское',\n",
       " 'деревня мануйлово',\n",
       " 'деревня пчева',\n",
       " 'поселок поляны',\n",
       " 'поселок цвылёво',\n",
       " 'поселок мельниково',\n",
       " 'посёлок пудость',\n",
       " 'посёлок усть-луга',\n",
       " 'светогорск',\n",
       " 'любань',\n",
       " 'поселок селезнёво',\n",
       " 'поселок городского типа рябово',\n",
       " 'каменногорск',\n",
       " 'деревня кривко',\n",
       " 'поселок глебычево',\n",
       " 'деревня парицы',\n",
       " 'поселок жилпосёлок',\n",
       " 'посёлок городского типа мга',\n",
       " 'городской поселок янино-1',\n",
       " 'посёлок войскорово',\n",
       " 'село никольское',\n",
       " 'посёлок терволово',\n",
       " 'поселок стеклянный',\n",
       " 'посёлок городского типа важины',\n",
       " 'посёлок мыза-ивановка',\n",
       " 'село русско-высоцкое',\n",
       " 'поселок городского типа лебяжье',\n",
       " 'поселок городского типа форносово',\n",
       " 'село старая ладога',\n",
       " 'поселок житково',\n",
       " 'городской посёлок виллози',\n",
       " 'деревня лампово',\n",
       " 'деревня шпаньково',\n",
       " 'деревня лаврики',\n",
       " 'посёлок сумино',\n",
       " 'посёлок возрождение',\n",
       " 'деревня старосиверская',\n",
       " 'посёлок кикерино',\n",
       " 'поселок возрождение',\n",
       " 'деревня старое хинколово',\n",
       " 'посёлок пригородный',\n",
       " 'посёлок торфяное',\n",
       " 'городской посёлок будогощь',\n",
       " 'поселок суходолье',\n",
       " 'поселок красная долина',\n",
       " 'деревня хапо-ое',\n",
       " 'поселок городского типа дружная горка',\n",
       " 'поселок лисий нос',\n",
       " 'деревня яльгелево',\n",
       " 'посёлок стеклянный',\n",
       " 'село рождествено',\n",
       " 'деревня старополье',\n",
       " 'посёлок левашово',\n",
       " 'деревня сяськелево',\n",
       " 'деревня камышовка',\n",
       " 'садоводческое некоммерческое товарищество лесная поляна',\n",
       " 'деревня хязельки',\n",
       " 'поселок жилгородок',\n",
       " 'посёлок городского типа павлово',\n",
       " 'деревня ялгино',\n",
       " 'поселок новый учхоз',\n",
       " 'городской посёлок рощино',\n",
       " 'поселок гончарово',\n",
       " 'поселок почап',\n",
       " 'посёлок сапёрное',\n",
       " 'посёлок платформа 69-й километр',\n",
       " 'поселок каложицы',\n",
       " 'деревня фалилеево',\n",
       " 'деревня пельгора',\n",
       " 'поселок городского типа лесогорский',\n",
       " 'деревня торошковичи',\n",
       " 'посёлок белоостров',\n",
       " 'посёлок алексеевка',\n",
       " 'поселок серебрянский',\n",
       " 'поселок лукаши',\n",
       " 'поселок петровское',\n",
       " 'деревня щеглово',\n",
       " 'поселок мичуринское',\n",
       " 'деревня тарасово',\n",
       " 'поселок кингисеппский',\n",
       " 'посёлок при железнодорожной станции вещево',\n",
       " 'поселок ушаки',\n",
       " 'деревня котлы',\n",
       " 'деревня сижно',\n",
       " 'деревня торосово',\n",
       " 'посёлок форт красная горка',\n",
       " 'поселок городского типа токсово',\n",
       " 'деревня новолисино',\n",
       " 'посёлок станции громово',\n",
       " 'деревня глинка',\n",
       " 'посёлок мельниково',\n",
       " 'поселок городского типа назия',\n",
       " 'деревня старая пустошь',\n",
       " 'поселок коммунары',\n",
       " 'поселок починок',\n",
       " 'посёлок городского типа вознесенье',\n",
       " 'деревня разбегаево',\n",
       " 'посёлок городского типа рябово',\n",
       " 'поселок гладкое',\n",
       " 'посёлок при железнодорожной станции приветнинское',\n",
       " 'поселок тёсово-4',\n",
       " 'посёлок жилгородок',\n",
       " 'деревня бор',\n",
       " 'посёлок коробицыно',\n",
       " 'деревня большая вруда',\n",
       " 'деревня курковицы',\n",
       " 'посёлок лисий нос',\n",
       " 'городской посёлок советский',\n",
       " 'посёлок кобралово',\n",
       " 'деревня суоранда',\n",
       " 'поселок кобралово',\n",
       " 'поселок городского типа кондратьево',\n",
       " 'коттеджный поселок счастье',\n",
       " 'поселок любань',\n",
       " 'деревня реброво',\n",
       " 'деревня зимитицы',\n",
       " 'деревня тойворово',\n",
       " 'поселок семиозерье',\n",
       " 'поселок лесное',\n",
       " 'поселок совхозный',\n",
       " 'поселок усть-луга',\n",
       " 'посёлок ленинское',\n",
       " 'посёлок суйда',\n",
       " 'посёлок городского типа форносово',\n",
       " 'деревня нижние осельки',\n",
       " 'посёлок станции свирь',\n",
       " 'поселок перово',\n",
       " 'высоцк',\n",
       " 'поселок гарболово',\n",
       " 'село шум',\n",
       " 'поселок котельский',\n",
       " 'поселок станции лужайка',\n",
       " 'деревня большая пустомержа',\n",
       " 'поселок красносельское',\n",
       " 'деревня вахнова кара',\n",
       " 'деревня пижма',\n",
       " 'коттеджный поселок кивеннапа север',\n",
       " 'поселок коробицыно',\n",
       " 'поселок ромашки',\n",
       " 'посёлок перово',\n",
       " 'деревня каськово',\n",
       " 'деревня куровицы',\n",
       " 'посёлок плоское',\n",
       " 'поселок сумино',\n",
       " 'поселок городского типа большая ижора',\n",
       " 'поселок кирпичное',\n",
       " 'деревня ям-тесово',\n",
       " 'деревня раздолье',\n",
       " 'деревня терпилицы',\n",
       " 'посёлок шугозеро',\n",
       " 'деревня ваганово',\n",
       " 'поселок пушное',\n",
       " 'садовое товарищество садко',\n",
       " 'посёлок усть-ижора',\n",
       " 'деревня выскатка',\n",
       " 'городской посёлок свирьстрой',\n",
       " 'поселок громово',\n",
       " 'деревня кисельня',\n",
       " 'посёлок старая малукса',\n",
       " 'деревня трубников бор',\n",
       " 'поселок калитино',\n",
       " 'посёлок высокоключевой',\n",
       " 'садовое товарищество приладожский',\n",
       " 'посёлок пансионат зелёный бор',\n",
       " 'деревня ненимяки',\n",
       " 'поселок пансионат зелёный бор',\n",
       " 'деревня снегирёвка',\n",
       " 'деревня рапполово',\n",
       " 'деревня пустынка',\n",
       " 'поселок рабитицы',\n",
       " 'деревня большой сабск',\n",
       " 'деревня русско',\n",
       " 'деревня лупполово',\n",
       " 'деревня большое рейзино',\n",
       " 'деревня малая романовка',\n",
       " 'поселок дружноселье',\n",
       " 'поселок пчевжа',\n",
       " 'поселок володарское',\n",
       " 'деревня нижняя',\n",
       " 'коттеджный посёлок лесное',\n",
       " 'деревня тихковицы',\n",
       " 'деревня борисова грива',\n",
       " 'посёлок дзержинского']"
      ]
     },
     "execution_count": 56,
     "metadata": {},
     "output_type": "execute_result"
    }
   ],
   "source": [
    "realty['locality_name'].unique().tolist()"
   ]
  },
  {
   "cell_type": "code",
   "execution_count": 57,
   "metadata": {},
   "outputs": [],
   "source": [
    "# судя по выведенным данным - проблема возможна в буквах Ё\n",
    "# попробуем заменить Ё на простое Е\n",
    "realty['locality_name'] = realty['locality_name'].str.replace('ё', 'е', regex=True)"
   ]
  },
  {
   "cell_type": "code",
   "execution_count": 58,
   "metadata": {},
   "outputs": [
    {
     "data": {
      "text/plain": [
       "330"
      ]
     },
     "execution_count": 58,
     "metadata": {},
     "output_type": "execute_result"
    }
   ],
   "source": [
    "len(realty['locality_name'].unique())"
   ]
  },
  {
   "cell_type": "markdown",
   "metadata": {},
   "source": [
    "И действительно! Убрали 34 дубликата."
   ]
  },
  {
   "cell_type": "markdown",
   "metadata": {},
   "source": [
    "### Выводы"
   ]
  },
  {
   "cell_type": "markdown",
   "metadata": {},
   "source": [
    "Были устранены и заполнены соответствующими данными пропуски в столбцах:\n",
    "\n",
    "- ceiling_height\n",
    "- floors_total\n",
    "- living_area\n",
    "- apartment\n",
    "- kitchen_area\n",
    "- balcony\n",
    "- locality_name\n",
    "- airports_nearest\n",
    "- city_center\n",
    "- parks_around3000\n",
    "- parks_nearest\n",
    "- ponds_around3000\n",
    "- ponds_nearest\n",
    "- days_exposition\n",
    "\n",
    "\n",
    "Так же были заменены типы данных в столбцах: \n",
    "- price\n",
    "- floors_total\n",
    "- balcony\n",
    "- days_exposition\n",
    "- first_day_exposition\n",
    "\n",
    "\n",
    "Проверены дубликаты - их не обнаружено. "
   ]
  },
  {
   "cell_type": "markdown",
   "metadata": {},
   "source": [
    "## Шаг 3. Посчитайте и добавьте в таблицу"
   ]
  },
  {
   "cell_type": "markdown",
   "metadata": {},
   "source": [
    "### Цена квадратного метра"
   ]
  },
  {
   "cell_type": "code",
   "execution_count": 59,
   "metadata": {},
   "outputs": [
    {
     "data": {
      "text/html": [
       "<div>\n",
       "<style scoped>\n",
       "    .dataframe tbody tr th:only-of-type {\n",
       "        vertical-align: middle;\n",
       "    }\n",
       "\n",
       "    .dataframe tbody tr th {\n",
       "        vertical-align: top;\n",
       "    }\n",
       "\n",
       "    .dataframe thead th {\n",
       "        text-align: right;\n",
       "    }\n",
       "</style>\n",
       "<table border=\"1\" class=\"dataframe\">\n",
       "  <thead>\n",
       "    <tr style=\"text-align: right;\">\n",
       "      <th></th>\n",
       "      <th>images</th>\n",
       "      <th>price</th>\n",
       "      <th>total_area</th>\n",
       "      <th>first_day_exposition</th>\n",
       "      <th>rooms</th>\n",
       "      <th>ceiling_height</th>\n",
       "      <th>floors_total</th>\n",
       "      <th>living_area</th>\n",
       "      <th>floor</th>\n",
       "      <th>apartment</th>\n",
       "      <th>studio</th>\n",
       "      <th>open_plan</th>\n",
       "      <th>kitchen_area</th>\n",
       "      <th>balcony</th>\n",
       "      <th>locality_name</th>\n",
       "      <th>airports_nearest</th>\n",
       "      <th>city_center</th>\n",
       "      <th>parks_around3000</th>\n",
       "      <th>parks_nearest</th>\n",
       "      <th>ponds_around3000</th>\n",
       "      <th>ponds_nearest</th>\n",
       "      <th>days_exposition</th>\n",
       "      <th>price_per_meter</th>\n",
       "    </tr>\n",
       "  </thead>\n",
       "  <tbody>\n",
       "    <tr>\n",
       "      <th>0</th>\n",
       "      <td>20</td>\n",
       "      <td>13000000</td>\n",
       "      <td>108.00</td>\n",
       "      <td>2019-03-07</td>\n",
       "      <td>3</td>\n",
       "      <td>2.70</td>\n",
       "      <td>16</td>\n",
       "      <td>51.00</td>\n",
       "      <td>8</td>\n",
       "      <td>False</td>\n",
       "      <td>False</td>\n",
       "      <td>False</td>\n",
       "      <td>25.00</td>\n",
       "      <td>0</td>\n",
       "      <td>санкт-петербург</td>\n",
       "      <td>18863.00</td>\n",
       "      <td>16028</td>\n",
       "      <td>1.00</td>\n",
       "      <td>482.00</td>\n",
       "      <td>2.00</td>\n",
       "      <td>755.00</td>\n",
       "      <td>0</td>\n",
       "      <td>120370.37</td>\n",
       "    </tr>\n",
       "    <tr>\n",
       "      <th>1</th>\n",
       "      <td>7</td>\n",
       "      <td>3350000</td>\n",
       "      <td>40.40</td>\n",
       "      <td>2018-12-04</td>\n",
       "      <td>1</td>\n",
       "      <td>2.65</td>\n",
       "      <td>11</td>\n",
       "      <td>18.60</td>\n",
       "      <td>1</td>\n",
       "      <td>False</td>\n",
       "      <td>False</td>\n",
       "      <td>False</td>\n",
       "      <td>11.00</td>\n",
       "      <td>2</td>\n",
       "      <td>поселок шушары</td>\n",
       "      <td>12817.00</td>\n",
       "      <td>18603</td>\n",
       "      <td>0.00</td>\n",
       "      <td>0.00</td>\n",
       "      <td>0.00</td>\n",
       "      <td>0.00</td>\n",
       "      <td>81</td>\n",
       "      <td>82920.79</td>\n",
       "    </tr>\n",
       "    <tr>\n",
       "      <th>2</th>\n",
       "      <td>10</td>\n",
       "      <td>5196000</td>\n",
       "      <td>56.00</td>\n",
       "      <td>2015-08-20</td>\n",
       "      <td>2</td>\n",
       "      <td>2.60</td>\n",
       "      <td>5</td>\n",
       "      <td>34.30</td>\n",
       "      <td>4</td>\n",
       "      <td>False</td>\n",
       "      <td>False</td>\n",
       "      <td>False</td>\n",
       "      <td>8.30</td>\n",
       "      <td>0</td>\n",
       "      <td>санкт-петербург</td>\n",
       "      <td>21741.00</td>\n",
       "      <td>13933</td>\n",
       "      <td>1.00</td>\n",
       "      <td>90.00</td>\n",
       "      <td>2.00</td>\n",
       "      <td>574.00</td>\n",
       "      <td>558</td>\n",
       "      <td>92785.71</td>\n",
       "    </tr>\n",
       "    <tr>\n",
       "      <th>3</th>\n",
       "      <td>0</td>\n",
       "      <td>64900000</td>\n",
       "      <td>159.00</td>\n",
       "      <td>2015-07-24</td>\n",
       "      <td>3</td>\n",
       "      <td>2.65</td>\n",
       "      <td>14</td>\n",
       "      <td>102.33</td>\n",
       "      <td>9</td>\n",
       "      <td>False</td>\n",
       "      <td>False</td>\n",
       "      <td>False</td>\n",
       "      <td>15.86</td>\n",
       "      <td>0</td>\n",
       "      <td>санкт-петербург</td>\n",
       "      <td>28098.00</td>\n",
       "      <td>6800</td>\n",
       "      <td>2.00</td>\n",
       "      <td>84.00</td>\n",
       "      <td>3.00</td>\n",
       "      <td>234.00</td>\n",
       "      <td>424</td>\n",
       "      <td>408176.10</td>\n",
       "    </tr>\n",
       "    <tr>\n",
       "      <th>4</th>\n",
       "      <td>2</td>\n",
       "      <td>10000000</td>\n",
       "      <td>100.00</td>\n",
       "      <td>2018-06-19</td>\n",
       "      <td>2</td>\n",
       "      <td>3.03</td>\n",
       "      <td>14</td>\n",
       "      <td>32.00</td>\n",
       "      <td>13</td>\n",
       "      <td>False</td>\n",
       "      <td>False</td>\n",
       "      <td>False</td>\n",
       "      <td>41.00</td>\n",
       "      <td>0</td>\n",
       "      <td>санкт-петербург</td>\n",
       "      <td>31856.00</td>\n",
       "      <td>8098</td>\n",
       "      <td>2.00</td>\n",
       "      <td>112.00</td>\n",
       "      <td>1.00</td>\n",
       "      <td>48.00</td>\n",
       "      <td>121</td>\n",
       "      <td>100000.00</td>\n",
       "    </tr>\n",
       "  </tbody>\n",
       "</table>\n",
       "</div>"
      ],
      "text/plain": [
       "   images     price  total_area first_day_exposition  rooms  ceiling_height  \\\n",
       "0      20  13000000      108.00           2019-03-07      3            2.70   \n",
       "1       7   3350000       40.40           2018-12-04      1            2.65   \n",
       "2      10   5196000       56.00           2015-08-20      2            2.60   \n",
       "3       0  64900000      159.00           2015-07-24      3            2.65   \n",
       "4       2  10000000      100.00           2018-06-19      2            3.03   \n",
       "\n",
       "   floors_total  living_area  floor  apartment  studio  open_plan  \\\n",
       "0            16        51.00      8      False   False      False   \n",
       "1            11        18.60      1      False   False      False   \n",
       "2             5        34.30      4      False   False      False   \n",
       "3            14       102.33      9      False   False      False   \n",
       "4            14        32.00     13      False   False      False   \n",
       "\n",
       "   kitchen_area  balcony    locality_name  airports_nearest  city_center  \\\n",
       "0         25.00        0  санкт-петербург          18863.00        16028   \n",
       "1         11.00        2   поселок шушары          12817.00        18603   \n",
       "2          8.30        0  санкт-петербург          21741.00        13933   \n",
       "3         15.86        0  санкт-петербург          28098.00         6800   \n",
       "4         41.00        0  санкт-петербург          31856.00         8098   \n",
       "\n",
       "   parks_around3000  parks_nearest  ponds_around3000  ponds_nearest  \\\n",
       "0              1.00         482.00              2.00         755.00   \n",
       "1              0.00           0.00              0.00           0.00   \n",
       "2              1.00          90.00              2.00         574.00   \n",
       "3              2.00          84.00              3.00         234.00   \n",
       "4              2.00         112.00              1.00          48.00   \n",
       "\n",
       "   days_exposition  price_per_meter  \n",
       "0                0        120370.37  \n",
       "1               81         82920.79  \n",
       "2              558         92785.71  \n",
       "3              424        408176.10  \n",
       "4              121        100000.00  "
      ]
     },
     "execution_count": 59,
     "metadata": {},
     "output_type": "execute_result"
    }
   ],
   "source": [
    "realty['price_per_meter'] = realty['price'] / realty['total_area']\n",
    "realty.head()"
   ]
  },
  {
   "cell_type": "markdown",
   "metadata": {},
   "source": [
    "### День недели, месяц и год публикации объявления"
   ]
  },
  {
   "cell_type": "code",
   "execution_count": 60,
   "metadata": {},
   "outputs": [
    {
     "data": {
      "text/html": [
       "<div>\n",
       "<style scoped>\n",
       "    .dataframe tbody tr th:only-of-type {\n",
       "        vertical-align: middle;\n",
       "    }\n",
       "\n",
       "    .dataframe tbody tr th {\n",
       "        vertical-align: top;\n",
       "    }\n",
       "\n",
       "    .dataframe thead th {\n",
       "        text-align: right;\n",
       "    }\n",
       "</style>\n",
       "<table border=\"1\" class=\"dataframe\">\n",
       "  <thead>\n",
       "    <tr style=\"text-align: right;\">\n",
       "      <th></th>\n",
       "      <th>images</th>\n",
       "      <th>price</th>\n",
       "      <th>total_area</th>\n",
       "      <th>first_day_exposition</th>\n",
       "      <th>rooms</th>\n",
       "      <th>ceiling_height</th>\n",
       "      <th>floors_total</th>\n",
       "      <th>living_area</th>\n",
       "      <th>floor</th>\n",
       "      <th>apartment</th>\n",
       "      <th>studio</th>\n",
       "      <th>open_plan</th>\n",
       "      <th>kitchen_area</th>\n",
       "      <th>balcony</th>\n",
       "      <th>locality_name</th>\n",
       "      <th>airports_nearest</th>\n",
       "      <th>city_center</th>\n",
       "      <th>parks_around3000</th>\n",
       "      <th>parks_nearest</th>\n",
       "      <th>ponds_around3000</th>\n",
       "      <th>ponds_nearest</th>\n",
       "      <th>days_exposition</th>\n",
       "      <th>price_per_meter</th>\n",
       "      <th>dayofweek_exposition</th>\n",
       "      <th>month_exposition</th>\n",
       "      <th>year_exposition</th>\n",
       "    </tr>\n",
       "  </thead>\n",
       "  <tbody>\n",
       "    <tr>\n",
       "      <th>0</th>\n",
       "      <td>20</td>\n",
       "      <td>13000000</td>\n",
       "      <td>108.00</td>\n",
       "      <td>2019-03-07</td>\n",
       "      <td>3</td>\n",
       "      <td>2.70</td>\n",
       "      <td>16</td>\n",
       "      <td>51.00</td>\n",
       "      <td>8</td>\n",
       "      <td>False</td>\n",
       "      <td>False</td>\n",
       "      <td>False</td>\n",
       "      <td>25.00</td>\n",
       "      <td>0</td>\n",
       "      <td>санкт-петербург</td>\n",
       "      <td>18863.00</td>\n",
       "      <td>16028</td>\n",
       "      <td>1.00</td>\n",
       "      <td>482.00</td>\n",
       "      <td>2.00</td>\n",
       "      <td>755.00</td>\n",
       "      <td>0</td>\n",
       "      <td>120370.37</td>\n",
       "      <td>Thursday</td>\n",
       "      <td>March</td>\n",
       "      <td>2019</td>\n",
       "    </tr>\n",
       "    <tr>\n",
       "      <th>1</th>\n",
       "      <td>7</td>\n",
       "      <td>3350000</td>\n",
       "      <td>40.40</td>\n",
       "      <td>2018-12-04</td>\n",
       "      <td>1</td>\n",
       "      <td>2.65</td>\n",
       "      <td>11</td>\n",
       "      <td>18.60</td>\n",
       "      <td>1</td>\n",
       "      <td>False</td>\n",
       "      <td>False</td>\n",
       "      <td>False</td>\n",
       "      <td>11.00</td>\n",
       "      <td>2</td>\n",
       "      <td>поселок шушары</td>\n",
       "      <td>12817.00</td>\n",
       "      <td>18603</td>\n",
       "      <td>0.00</td>\n",
       "      <td>0.00</td>\n",
       "      <td>0.00</td>\n",
       "      <td>0.00</td>\n",
       "      <td>81</td>\n",
       "      <td>82920.79</td>\n",
       "      <td>Tuesday</td>\n",
       "      <td>December</td>\n",
       "      <td>2018</td>\n",
       "    </tr>\n",
       "    <tr>\n",
       "      <th>2</th>\n",
       "      <td>10</td>\n",
       "      <td>5196000</td>\n",
       "      <td>56.00</td>\n",
       "      <td>2015-08-20</td>\n",
       "      <td>2</td>\n",
       "      <td>2.60</td>\n",
       "      <td>5</td>\n",
       "      <td>34.30</td>\n",
       "      <td>4</td>\n",
       "      <td>False</td>\n",
       "      <td>False</td>\n",
       "      <td>False</td>\n",
       "      <td>8.30</td>\n",
       "      <td>0</td>\n",
       "      <td>санкт-петербург</td>\n",
       "      <td>21741.00</td>\n",
       "      <td>13933</td>\n",
       "      <td>1.00</td>\n",
       "      <td>90.00</td>\n",
       "      <td>2.00</td>\n",
       "      <td>574.00</td>\n",
       "      <td>558</td>\n",
       "      <td>92785.71</td>\n",
       "      <td>Thursday</td>\n",
       "      <td>August</td>\n",
       "      <td>2015</td>\n",
       "    </tr>\n",
       "    <tr>\n",
       "      <th>3</th>\n",
       "      <td>0</td>\n",
       "      <td>64900000</td>\n",
       "      <td>159.00</td>\n",
       "      <td>2015-07-24</td>\n",
       "      <td>3</td>\n",
       "      <td>2.65</td>\n",
       "      <td>14</td>\n",
       "      <td>102.33</td>\n",
       "      <td>9</td>\n",
       "      <td>False</td>\n",
       "      <td>False</td>\n",
       "      <td>False</td>\n",
       "      <td>15.86</td>\n",
       "      <td>0</td>\n",
       "      <td>санкт-петербург</td>\n",
       "      <td>28098.00</td>\n",
       "      <td>6800</td>\n",
       "      <td>2.00</td>\n",
       "      <td>84.00</td>\n",
       "      <td>3.00</td>\n",
       "      <td>234.00</td>\n",
       "      <td>424</td>\n",
       "      <td>408176.10</td>\n",
       "      <td>Friday</td>\n",
       "      <td>July</td>\n",
       "      <td>2015</td>\n",
       "    </tr>\n",
       "    <tr>\n",
       "      <th>4</th>\n",
       "      <td>2</td>\n",
       "      <td>10000000</td>\n",
       "      <td>100.00</td>\n",
       "      <td>2018-06-19</td>\n",
       "      <td>2</td>\n",
       "      <td>3.03</td>\n",
       "      <td>14</td>\n",
       "      <td>32.00</td>\n",
       "      <td>13</td>\n",
       "      <td>False</td>\n",
       "      <td>False</td>\n",
       "      <td>False</td>\n",
       "      <td>41.00</td>\n",
       "      <td>0</td>\n",
       "      <td>санкт-петербург</td>\n",
       "      <td>31856.00</td>\n",
       "      <td>8098</td>\n",
       "      <td>2.00</td>\n",
       "      <td>112.00</td>\n",
       "      <td>1.00</td>\n",
       "      <td>48.00</td>\n",
       "      <td>121</td>\n",
       "      <td>100000.00</td>\n",
       "      <td>Tuesday</td>\n",
       "      <td>June</td>\n",
       "      <td>2018</td>\n",
       "    </tr>\n",
       "  </tbody>\n",
       "</table>\n",
       "</div>"
      ],
      "text/plain": [
       "   images     price  total_area first_day_exposition  rooms  ceiling_height  \\\n",
       "0      20  13000000      108.00           2019-03-07      3            2.70   \n",
       "1       7   3350000       40.40           2018-12-04      1            2.65   \n",
       "2      10   5196000       56.00           2015-08-20      2            2.60   \n",
       "3       0  64900000      159.00           2015-07-24      3            2.65   \n",
       "4       2  10000000      100.00           2018-06-19      2            3.03   \n",
       "\n",
       "   floors_total  living_area  floor  apartment  studio  open_plan  \\\n",
       "0            16        51.00      8      False   False      False   \n",
       "1            11        18.60      1      False   False      False   \n",
       "2             5        34.30      4      False   False      False   \n",
       "3            14       102.33      9      False   False      False   \n",
       "4            14        32.00     13      False   False      False   \n",
       "\n",
       "   kitchen_area  balcony    locality_name  airports_nearest  city_center  \\\n",
       "0         25.00        0  санкт-петербург          18863.00        16028   \n",
       "1         11.00        2   поселок шушары          12817.00        18603   \n",
       "2          8.30        0  санкт-петербург          21741.00        13933   \n",
       "3         15.86        0  санкт-петербург          28098.00         6800   \n",
       "4         41.00        0  санкт-петербург          31856.00         8098   \n",
       "\n",
       "   parks_around3000  parks_nearest  ponds_around3000  ponds_nearest  \\\n",
       "0              1.00         482.00              2.00         755.00   \n",
       "1              0.00           0.00              0.00           0.00   \n",
       "2              1.00          90.00              2.00         574.00   \n",
       "3              2.00          84.00              3.00         234.00   \n",
       "4              2.00         112.00              1.00          48.00   \n",
       "\n",
       "   days_exposition  price_per_meter dayofweek_exposition month_exposition  \\\n",
       "0                0        120370.37             Thursday            March   \n",
       "1               81         82920.79              Tuesday         December   \n",
       "2              558         92785.71             Thursday           August   \n",
       "3              424        408176.10               Friday             July   \n",
       "4              121        100000.00              Tuesday             June   \n",
       "\n",
       "   year_exposition  \n",
       "0             2019  \n",
       "1             2018  \n",
       "2             2015  \n",
       "3             2015  \n",
       "4             2018  "
      ]
     },
     "execution_count": 60,
     "metadata": {},
     "output_type": "execute_result"
    }
   ],
   "source": [
    "# добавляем столбец с днем недели (где 0 - понедельник, а 6 - воскресенье) \n",
    "realty['dayofweek_exposition'] = realty['first_day_exposition'].dt.day_name()\n",
    "\n",
    "# добавляем столбец с номером месяца \n",
    "realty['month_exposition'] = realty['first_day_exposition'].dt.month_name()\n",
    "\n",
    "# добавляем столбец с годом \n",
    "realty['year_exposition'] = realty['first_day_exposition'].dt.year\n",
    "\n",
    "realty.head()"
   ]
  },
  {
   "cell_type": "code",
   "execution_count": 61,
   "metadata": {},
   "outputs": [
    {
     "data": {
      "text/plain": [
       "Thursday     4286\n",
       "Tuesday      4175\n",
       "Friday       3992\n",
       "Wednesday    3966\n",
       "Monday       3606\n",
       "Saturday     1933\n",
       "Sunday       1692\n",
       "Name: dayofweek_exposition, dtype: int64"
      ]
     },
     "execution_count": 61,
     "metadata": {},
     "output_type": "execute_result"
    }
   ],
   "source": [
    "realty['dayofweek_exposition'].value_counts()"
   ]
  },
  {
   "cell_type": "markdown",
   "metadata": {},
   "source": [
    "### Этаж квартиры"
   ]
  },
  {
   "cell_type": "code",
   "execution_count": 62,
   "metadata": {},
   "outputs": [
    {
     "data": {
      "text/html": [
       "<div>\n",
       "<style scoped>\n",
       "    .dataframe tbody tr th:only-of-type {\n",
       "        vertical-align: middle;\n",
       "    }\n",
       "\n",
       "    .dataframe tbody tr th {\n",
       "        vertical-align: top;\n",
       "    }\n",
       "\n",
       "    .dataframe thead th {\n",
       "        text-align: right;\n",
       "    }\n",
       "</style>\n",
       "<table border=\"1\" class=\"dataframe\">\n",
       "  <thead>\n",
       "    <tr style=\"text-align: right;\">\n",
       "      <th></th>\n",
       "      <th>images</th>\n",
       "      <th>price</th>\n",
       "      <th>total_area</th>\n",
       "      <th>first_day_exposition</th>\n",
       "      <th>rooms</th>\n",
       "      <th>ceiling_height</th>\n",
       "      <th>floors_total</th>\n",
       "      <th>living_area</th>\n",
       "      <th>floor</th>\n",
       "      <th>apartment</th>\n",
       "      <th>studio</th>\n",
       "      <th>open_plan</th>\n",
       "      <th>kitchen_area</th>\n",
       "      <th>balcony</th>\n",
       "      <th>locality_name</th>\n",
       "      <th>airports_nearest</th>\n",
       "      <th>city_center</th>\n",
       "      <th>parks_around3000</th>\n",
       "      <th>parks_nearest</th>\n",
       "      <th>ponds_around3000</th>\n",
       "      <th>ponds_nearest</th>\n",
       "      <th>days_exposition</th>\n",
       "      <th>price_per_meter</th>\n",
       "      <th>dayofweek_exposition</th>\n",
       "      <th>month_exposition</th>\n",
       "      <th>year_exposition</th>\n",
       "      <th>floor_category</th>\n",
       "    </tr>\n",
       "  </thead>\n",
       "  <tbody>\n",
       "    <tr>\n",
       "      <th>0</th>\n",
       "      <td>20</td>\n",
       "      <td>13000000</td>\n",
       "      <td>108.00</td>\n",
       "      <td>2019-03-07</td>\n",
       "      <td>3</td>\n",
       "      <td>2.70</td>\n",
       "      <td>16</td>\n",
       "      <td>51.00</td>\n",
       "      <td>8</td>\n",
       "      <td>False</td>\n",
       "      <td>False</td>\n",
       "      <td>False</td>\n",
       "      <td>25.00</td>\n",
       "      <td>0</td>\n",
       "      <td>санкт-петербург</td>\n",
       "      <td>18863.00</td>\n",
       "      <td>16028</td>\n",
       "      <td>1.00</td>\n",
       "      <td>482.00</td>\n",
       "      <td>2.00</td>\n",
       "      <td>755.00</td>\n",
       "      <td>0</td>\n",
       "      <td>120370.37</td>\n",
       "      <td>Thursday</td>\n",
       "      <td>March</td>\n",
       "      <td>2019</td>\n",
       "      <td>другой</td>\n",
       "    </tr>\n",
       "    <tr>\n",
       "      <th>1</th>\n",
       "      <td>7</td>\n",
       "      <td>3350000</td>\n",
       "      <td>40.40</td>\n",
       "      <td>2018-12-04</td>\n",
       "      <td>1</td>\n",
       "      <td>2.65</td>\n",
       "      <td>11</td>\n",
       "      <td>18.60</td>\n",
       "      <td>1</td>\n",
       "      <td>False</td>\n",
       "      <td>False</td>\n",
       "      <td>False</td>\n",
       "      <td>11.00</td>\n",
       "      <td>2</td>\n",
       "      <td>поселок шушары</td>\n",
       "      <td>12817.00</td>\n",
       "      <td>18603</td>\n",
       "      <td>0.00</td>\n",
       "      <td>0.00</td>\n",
       "      <td>0.00</td>\n",
       "      <td>0.00</td>\n",
       "      <td>81</td>\n",
       "      <td>82920.79</td>\n",
       "      <td>Tuesday</td>\n",
       "      <td>December</td>\n",
       "      <td>2018</td>\n",
       "      <td>первый</td>\n",
       "    </tr>\n",
       "    <tr>\n",
       "      <th>2</th>\n",
       "      <td>10</td>\n",
       "      <td>5196000</td>\n",
       "      <td>56.00</td>\n",
       "      <td>2015-08-20</td>\n",
       "      <td>2</td>\n",
       "      <td>2.60</td>\n",
       "      <td>5</td>\n",
       "      <td>34.30</td>\n",
       "      <td>4</td>\n",
       "      <td>False</td>\n",
       "      <td>False</td>\n",
       "      <td>False</td>\n",
       "      <td>8.30</td>\n",
       "      <td>0</td>\n",
       "      <td>санкт-петербург</td>\n",
       "      <td>21741.00</td>\n",
       "      <td>13933</td>\n",
       "      <td>1.00</td>\n",
       "      <td>90.00</td>\n",
       "      <td>2.00</td>\n",
       "      <td>574.00</td>\n",
       "      <td>558</td>\n",
       "      <td>92785.71</td>\n",
       "      <td>Thursday</td>\n",
       "      <td>August</td>\n",
       "      <td>2015</td>\n",
       "      <td>другой</td>\n",
       "    </tr>\n",
       "    <tr>\n",
       "      <th>3</th>\n",
       "      <td>0</td>\n",
       "      <td>64900000</td>\n",
       "      <td>159.00</td>\n",
       "      <td>2015-07-24</td>\n",
       "      <td>3</td>\n",
       "      <td>2.65</td>\n",
       "      <td>14</td>\n",
       "      <td>102.33</td>\n",
       "      <td>9</td>\n",
       "      <td>False</td>\n",
       "      <td>False</td>\n",
       "      <td>False</td>\n",
       "      <td>15.86</td>\n",
       "      <td>0</td>\n",
       "      <td>санкт-петербург</td>\n",
       "      <td>28098.00</td>\n",
       "      <td>6800</td>\n",
       "      <td>2.00</td>\n",
       "      <td>84.00</td>\n",
       "      <td>3.00</td>\n",
       "      <td>234.00</td>\n",
       "      <td>424</td>\n",
       "      <td>408176.10</td>\n",
       "      <td>Friday</td>\n",
       "      <td>July</td>\n",
       "      <td>2015</td>\n",
       "      <td>другой</td>\n",
       "    </tr>\n",
       "    <tr>\n",
       "      <th>4</th>\n",
       "      <td>2</td>\n",
       "      <td>10000000</td>\n",
       "      <td>100.00</td>\n",
       "      <td>2018-06-19</td>\n",
       "      <td>2</td>\n",
       "      <td>3.03</td>\n",
       "      <td>14</td>\n",
       "      <td>32.00</td>\n",
       "      <td>13</td>\n",
       "      <td>False</td>\n",
       "      <td>False</td>\n",
       "      <td>False</td>\n",
       "      <td>41.00</td>\n",
       "      <td>0</td>\n",
       "      <td>санкт-петербург</td>\n",
       "      <td>31856.00</td>\n",
       "      <td>8098</td>\n",
       "      <td>2.00</td>\n",
       "      <td>112.00</td>\n",
       "      <td>1.00</td>\n",
       "      <td>48.00</td>\n",
       "      <td>121</td>\n",
       "      <td>100000.00</td>\n",
       "      <td>Tuesday</td>\n",
       "      <td>June</td>\n",
       "      <td>2018</td>\n",
       "      <td>другой</td>\n",
       "    </tr>\n",
       "  </tbody>\n",
       "</table>\n",
       "</div>"
      ],
      "text/plain": [
       "   images     price  total_area first_day_exposition  rooms  ceiling_height  \\\n",
       "0      20  13000000      108.00           2019-03-07      3            2.70   \n",
       "1       7   3350000       40.40           2018-12-04      1            2.65   \n",
       "2      10   5196000       56.00           2015-08-20      2            2.60   \n",
       "3       0  64900000      159.00           2015-07-24      3            2.65   \n",
       "4       2  10000000      100.00           2018-06-19      2            3.03   \n",
       "\n",
       "   floors_total  living_area  floor  apartment  studio  open_plan  \\\n",
       "0            16        51.00      8      False   False      False   \n",
       "1            11        18.60      1      False   False      False   \n",
       "2             5        34.30      4      False   False      False   \n",
       "3            14       102.33      9      False   False      False   \n",
       "4            14        32.00     13      False   False      False   \n",
       "\n",
       "   kitchen_area  balcony    locality_name  airports_nearest  city_center  \\\n",
       "0         25.00        0  санкт-петербург          18863.00        16028   \n",
       "1         11.00        2   поселок шушары          12817.00        18603   \n",
       "2          8.30        0  санкт-петербург          21741.00        13933   \n",
       "3         15.86        0  санкт-петербург          28098.00         6800   \n",
       "4         41.00        0  санкт-петербург          31856.00         8098   \n",
       "\n",
       "   parks_around3000  parks_nearest  ponds_around3000  ponds_nearest  \\\n",
       "0              1.00         482.00              2.00         755.00   \n",
       "1              0.00           0.00              0.00           0.00   \n",
       "2              1.00          90.00              2.00         574.00   \n",
       "3              2.00          84.00              3.00         234.00   \n",
       "4              2.00         112.00              1.00          48.00   \n",
       "\n",
       "   days_exposition  price_per_meter dayofweek_exposition month_exposition  \\\n",
       "0                0        120370.37             Thursday            March   \n",
       "1               81         82920.79              Tuesday         December   \n",
       "2              558         92785.71             Thursday           August   \n",
       "3              424        408176.10               Friday             July   \n",
       "4              121        100000.00              Tuesday             June   \n",
       "\n",
       "   year_exposition floor_category  \n",
       "0             2019         другой  \n",
       "1             2018         первый  \n",
       "2             2015         другой  \n",
       "3             2015         другой  \n",
       "4             2018         другой  "
      ]
     },
     "execution_count": 62,
     "metadata": {},
     "output_type": "execute_result"
    }
   ],
   "source": [
    "def floor_cat(realty):\n",
    "    if realty['floor'] == 1:\n",
    "        return 'первый'\n",
    "    elif (realty['floors_total'] == realty['floor']) & (realty['floor'] != 1):\n",
    "        return 'последний'\n",
    "    else:\n",
    "        return 'другой'\n",
    "realty['floor_category'] = realty.apply(floor_cat, axis = 1)\n",
    "\n",
    "realty.head()"
   ]
  },
  {
   "cell_type": "markdown",
   "metadata": {},
   "source": [
    "### Cоотношение жилой и общей площади и отношение площади кухни к общей"
   ]
  },
  {
   "cell_type": "code",
   "execution_count": 63,
   "metadata": {},
   "outputs": [
    {
     "data": {
      "text/html": [
       "<div>\n",
       "<style scoped>\n",
       "    .dataframe tbody tr th:only-of-type {\n",
       "        vertical-align: middle;\n",
       "    }\n",
       "\n",
       "    .dataframe tbody tr th {\n",
       "        vertical-align: top;\n",
       "    }\n",
       "\n",
       "    .dataframe thead th {\n",
       "        text-align: right;\n",
       "    }\n",
       "</style>\n",
       "<table border=\"1\" class=\"dataframe\">\n",
       "  <thead>\n",
       "    <tr style=\"text-align: right;\">\n",
       "      <th></th>\n",
       "      <th>images</th>\n",
       "      <th>price</th>\n",
       "      <th>total_area</th>\n",
       "      <th>first_day_exposition</th>\n",
       "      <th>rooms</th>\n",
       "      <th>ceiling_height</th>\n",
       "      <th>floors_total</th>\n",
       "      <th>living_area</th>\n",
       "      <th>floor</th>\n",
       "      <th>apartment</th>\n",
       "      <th>studio</th>\n",
       "      <th>open_plan</th>\n",
       "      <th>kitchen_area</th>\n",
       "      <th>balcony</th>\n",
       "      <th>locality_name</th>\n",
       "      <th>airports_nearest</th>\n",
       "      <th>city_center</th>\n",
       "      <th>parks_around3000</th>\n",
       "      <th>parks_nearest</th>\n",
       "      <th>ponds_around3000</th>\n",
       "      <th>ponds_nearest</th>\n",
       "      <th>days_exposition</th>\n",
       "      <th>price_per_meter</th>\n",
       "      <th>dayofweek_exposition</th>\n",
       "      <th>month_exposition</th>\n",
       "      <th>year_exposition</th>\n",
       "      <th>floor_category</th>\n",
       "      <th>ratio_total_living</th>\n",
       "      <th>ratio_total_kitchen</th>\n",
       "    </tr>\n",
       "  </thead>\n",
       "  <tbody>\n",
       "    <tr>\n",
       "      <th>0</th>\n",
       "      <td>20</td>\n",
       "      <td>13000000</td>\n",
       "      <td>108.00</td>\n",
       "      <td>2019-03-07</td>\n",
       "      <td>3</td>\n",
       "      <td>2.70</td>\n",
       "      <td>16</td>\n",
       "      <td>51.00</td>\n",
       "      <td>8</td>\n",
       "      <td>False</td>\n",
       "      <td>False</td>\n",
       "      <td>False</td>\n",
       "      <td>25.00</td>\n",
       "      <td>0</td>\n",
       "      <td>санкт-петербург</td>\n",
       "      <td>18863.00</td>\n",
       "      <td>16028</td>\n",
       "      <td>1.00</td>\n",
       "      <td>482.00</td>\n",
       "      <td>2.00</td>\n",
       "      <td>755.00</td>\n",
       "      <td>0</td>\n",
       "      <td>120370.37</td>\n",
       "      <td>Thursday</td>\n",
       "      <td>March</td>\n",
       "      <td>2019</td>\n",
       "      <td>другой</td>\n",
       "      <td>0.47</td>\n",
       "      <td>0.23</td>\n",
       "    </tr>\n",
       "    <tr>\n",
       "      <th>1</th>\n",
       "      <td>7</td>\n",
       "      <td>3350000</td>\n",
       "      <td>40.40</td>\n",
       "      <td>2018-12-04</td>\n",
       "      <td>1</td>\n",
       "      <td>2.65</td>\n",
       "      <td>11</td>\n",
       "      <td>18.60</td>\n",
       "      <td>1</td>\n",
       "      <td>False</td>\n",
       "      <td>False</td>\n",
       "      <td>False</td>\n",
       "      <td>11.00</td>\n",
       "      <td>2</td>\n",
       "      <td>поселок шушары</td>\n",
       "      <td>12817.00</td>\n",
       "      <td>18603</td>\n",
       "      <td>0.00</td>\n",
       "      <td>0.00</td>\n",
       "      <td>0.00</td>\n",
       "      <td>0.00</td>\n",
       "      <td>81</td>\n",
       "      <td>82920.79</td>\n",
       "      <td>Tuesday</td>\n",
       "      <td>December</td>\n",
       "      <td>2018</td>\n",
       "      <td>первый</td>\n",
       "      <td>0.46</td>\n",
       "      <td>0.27</td>\n",
       "    </tr>\n",
       "    <tr>\n",
       "      <th>2</th>\n",
       "      <td>10</td>\n",
       "      <td>5196000</td>\n",
       "      <td>56.00</td>\n",
       "      <td>2015-08-20</td>\n",
       "      <td>2</td>\n",
       "      <td>2.60</td>\n",
       "      <td>5</td>\n",
       "      <td>34.30</td>\n",
       "      <td>4</td>\n",
       "      <td>False</td>\n",
       "      <td>False</td>\n",
       "      <td>False</td>\n",
       "      <td>8.30</td>\n",
       "      <td>0</td>\n",
       "      <td>санкт-петербург</td>\n",
       "      <td>21741.00</td>\n",
       "      <td>13933</td>\n",
       "      <td>1.00</td>\n",
       "      <td>90.00</td>\n",
       "      <td>2.00</td>\n",
       "      <td>574.00</td>\n",
       "      <td>558</td>\n",
       "      <td>92785.71</td>\n",
       "      <td>Thursday</td>\n",
       "      <td>August</td>\n",
       "      <td>2015</td>\n",
       "      <td>другой</td>\n",
       "      <td>0.61</td>\n",
       "      <td>0.15</td>\n",
       "    </tr>\n",
       "    <tr>\n",
       "      <th>3</th>\n",
       "      <td>0</td>\n",
       "      <td>64900000</td>\n",
       "      <td>159.00</td>\n",
       "      <td>2015-07-24</td>\n",
       "      <td>3</td>\n",
       "      <td>2.65</td>\n",
       "      <td>14</td>\n",
       "      <td>102.33</td>\n",
       "      <td>9</td>\n",
       "      <td>False</td>\n",
       "      <td>False</td>\n",
       "      <td>False</td>\n",
       "      <td>15.86</td>\n",
       "      <td>0</td>\n",
       "      <td>санкт-петербург</td>\n",
       "      <td>28098.00</td>\n",
       "      <td>6800</td>\n",
       "      <td>2.00</td>\n",
       "      <td>84.00</td>\n",
       "      <td>3.00</td>\n",
       "      <td>234.00</td>\n",
       "      <td>424</td>\n",
       "      <td>408176.10</td>\n",
       "      <td>Friday</td>\n",
       "      <td>July</td>\n",
       "      <td>2015</td>\n",
       "      <td>другой</td>\n",
       "      <td>0.64</td>\n",
       "      <td>0.10</td>\n",
       "    </tr>\n",
       "    <tr>\n",
       "      <th>4</th>\n",
       "      <td>2</td>\n",
       "      <td>10000000</td>\n",
       "      <td>100.00</td>\n",
       "      <td>2018-06-19</td>\n",
       "      <td>2</td>\n",
       "      <td>3.03</td>\n",
       "      <td>14</td>\n",
       "      <td>32.00</td>\n",
       "      <td>13</td>\n",
       "      <td>False</td>\n",
       "      <td>False</td>\n",
       "      <td>False</td>\n",
       "      <td>41.00</td>\n",
       "      <td>0</td>\n",
       "      <td>санкт-петербург</td>\n",
       "      <td>31856.00</td>\n",
       "      <td>8098</td>\n",
       "      <td>2.00</td>\n",
       "      <td>112.00</td>\n",
       "      <td>1.00</td>\n",
       "      <td>48.00</td>\n",
       "      <td>121</td>\n",
       "      <td>100000.00</td>\n",
       "      <td>Tuesday</td>\n",
       "      <td>June</td>\n",
       "      <td>2018</td>\n",
       "      <td>другой</td>\n",
       "      <td>0.32</td>\n",
       "      <td>0.41</td>\n",
       "    </tr>\n",
       "  </tbody>\n",
       "</table>\n",
       "</div>"
      ],
      "text/plain": [
       "   images     price  total_area first_day_exposition  rooms  ceiling_height  \\\n",
       "0      20  13000000      108.00           2019-03-07      3            2.70   \n",
       "1       7   3350000       40.40           2018-12-04      1            2.65   \n",
       "2      10   5196000       56.00           2015-08-20      2            2.60   \n",
       "3       0  64900000      159.00           2015-07-24      3            2.65   \n",
       "4       2  10000000      100.00           2018-06-19      2            3.03   \n",
       "\n",
       "   floors_total  living_area  floor  apartment  studio  open_plan  \\\n",
       "0            16        51.00      8      False   False      False   \n",
       "1            11        18.60      1      False   False      False   \n",
       "2             5        34.30      4      False   False      False   \n",
       "3            14       102.33      9      False   False      False   \n",
       "4            14        32.00     13      False   False      False   \n",
       "\n",
       "   kitchen_area  balcony    locality_name  airports_nearest  city_center  \\\n",
       "0         25.00        0  санкт-петербург          18863.00        16028   \n",
       "1         11.00        2   поселок шушары          12817.00        18603   \n",
       "2          8.30        0  санкт-петербург          21741.00        13933   \n",
       "3         15.86        0  санкт-петербург          28098.00         6800   \n",
       "4         41.00        0  санкт-петербург          31856.00         8098   \n",
       "\n",
       "   parks_around3000  parks_nearest  ponds_around3000  ponds_nearest  \\\n",
       "0              1.00         482.00              2.00         755.00   \n",
       "1              0.00           0.00              0.00           0.00   \n",
       "2              1.00          90.00              2.00         574.00   \n",
       "3              2.00          84.00              3.00         234.00   \n",
       "4              2.00         112.00              1.00          48.00   \n",
       "\n",
       "   days_exposition  price_per_meter dayofweek_exposition month_exposition  \\\n",
       "0                0        120370.37             Thursday            March   \n",
       "1               81         82920.79              Tuesday         December   \n",
       "2              558         92785.71             Thursday           August   \n",
       "3              424        408176.10               Friday             July   \n",
       "4              121        100000.00              Tuesday             June   \n",
       "\n",
       "   year_exposition floor_category  ratio_total_living  ratio_total_kitchen  \n",
       "0             2019         другой                0.47                 0.23  \n",
       "1             2018         первый                0.46                 0.27  \n",
       "2             2015         другой                0.61                 0.15  \n",
       "3             2015         другой                0.64                 0.10  \n",
       "4             2018         другой                0.32                 0.41  "
      ]
     },
     "execution_count": 63,
     "metadata": {},
     "output_type": "execute_result"
    }
   ],
   "source": [
    "# добаввляем столбце с соотношением жилой и общей площади\n",
    "realty['ratio_total_living'] = realty['living_area'] / realty['total_area']\n",
    "\n",
    "# добаввляем столбце с соотношением площади кухни и общей площади\n",
    "realty['ratio_total_kitchen'] = realty['kitchen_area'] / realty['total_area']\n",
    "\n",
    "realty.head()"
   ]
  },
  {
   "cell_type": "markdown",
   "metadata": {},
   "source": [
    "## Шаг 4. Проведите исследовательский анализ данных и выполните инструкции:"
   ]
  },
  {
   "cell_type": "markdown",
   "metadata": {},
   "source": [
    "### Изучение параметров: площадь, цена, число комнат, высота потолков"
   ]
  },
  {
   "cell_type": "code",
   "execution_count": 64,
   "metadata": {},
   "outputs": [
    {
     "data": {
      "text/html": [
       "<div>\n",
       "<style scoped>\n",
       "    .dataframe tbody tr th:only-of-type {\n",
       "        vertical-align: middle;\n",
       "    }\n",
       "\n",
       "    .dataframe tbody tr th {\n",
       "        vertical-align: top;\n",
       "    }\n",
       "\n",
       "    .dataframe thead th {\n",
       "        text-align: right;\n",
       "    }\n",
       "</style>\n",
       "<table border=\"1\" class=\"dataframe\">\n",
       "  <thead>\n",
       "    <tr style=\"text-align: right;\">\n",
       "      <th></th>\n",
       "      <th>price</th>\n",
       "      <th>total_area</th>\n",
       "      <th>rooms</th>\n",
       "      <th>ceiling_height</th>\n",
       "    </tr>\n",
       "  </thead>\n",
       "  <tbody>\n",
       "    <tr>\n",
       "      <th>count</th>\n",
       "      <td>23650.00</td>\n",
       "      <td>23650.00</td>\n",
       "      <td>23650.00</td>\n",
       "      <td>23650.00</td>\n",
       "    </tr>\n",
       "    <tr>\n",
       "      <th>mean</th>\n",
       "      <td>6541126.90</td>\n",
       "      <td>60.33</td>\n",
       "      <td>2.08</td>\n",
       "      <td>2.70</td>\n",
       "    </tr>\n",
       "    <tr>\n",
       "      <th>std</th>\n",
       "      <td>10896399.18</td>\n",
       "      <td>35.66</td>\n",
       "      <td>1.07</td>\n",
       "      <td>0.22</td>\n",
       "    </tr>\n",
       "    <tr>\n",
       "      <th>min</th>\n",
       "      <td>12190.00</td>\n",
       "      <td>12.00</td>\n",
       "      <td>1.00</td>\n",
       "      <td>2.00</td>\n",
       "    </tr>\n",
       "    <tr>\n",
       "      <th>25%</th>\n",
       "      <td>3400000.00</td>\n",
       "      <td>40.00</td>\n",
       "      <td>1.00</td>\n",
       "      <td>2.60</td>\n",
       "    </tr>\n",
       "    <tr>\n",
       "      <th>50%</th>\n",
       "      <td>4650000.00</td>\n",
       "      <td>52.00</td>\n",
       "      <td>2.00</td>\n",
       "      <td>2.65</td>\n",
       "    </tr>\n",
       "    <tr>\n",
       "      <th>75%</th>\n",
       "      <td>6799000.00</td>\n",
       "      <td>69.70</td>\n",
       "      <td>3.00</td>\n",
       "      <td>2.70</td>\n",
       "    </tr>\n",
       "    <tr>\n",
       "      <th>max</th>\n",
       "      <td>763000000.00</td>\n",
       "      <td>900.00</td>\n",
       "      <td>19.00</td>\n",
       "      <td>5.00</td>\n",
       "    </tr>\n",
       "  </tbody>\n",
       "</table>\n",
       "</div>"
      ],
      "text/plain": [
       "             price  total_area    rooms  ceiling_height\n",
       "count     23650.00    23650.00 23650.00        23650.00\n",
       "mean    6541126.90       60.33     2.08            2.70\n",
       "std    10896399.18       35.66     1.07            0.22\n",
       "min       12190.00       12.00     1.00            2.00\n",
       "25%     3400000.00       40.00     1.00            2.60\n",
       "50%     4650000.00       52.00     2.00            2.65\n",
       "75%     6799000.00       69.70     3.00            2.70\n",
       "max   763000000.00      900.00    19.00            5.00"
      ]
     },
     "execution_count": 64,
     "metadata": {},
     "output_type": "execute_result"
    }
   ],
   "source": [
    "# посмотрим данные изучаемых столбцов\n",
    "realty[['price', 'total_area', 'rooms', 'ceiling_height']].describe()"
   ]
  },
  {
   "cell_type": "code",
   "execution_count": 65,
   "metadata": {},
   "outputs": [],
   "source": [
    "# запишем функцию для рассчета границ нормальных данных (удаления выбросов)\n",
    "# для этого будем использова межквартильный размах (iqr)\n",
    "\n",
    "def outlier_borders(data):\n",
    "    sorted(data)\n",
    "    q1,q3 = np.percentile(data , [25,75])\n",
    "    iqr = q3 - q1\n",
    "    lower_range = q1 - (1.5 * iqr)\n",
    "    upper_range = q3 + (1.5 * iqr)\n",
    "    return lower_range, upper_range"
   ]
  },
  {
   "cell_type": "markdown",
   "metadata": {},
   "source": [
    "#### Изучим данные столбца 'price'"
   ]
  },
  {
   "cell_type": "code",
   "execution_count": 66,
   "metadata": {},
   "outputs": [
    {
     "data": {
      "image/png": "[encoded data removed]",
      "text/plain": [
       "<Figure size 720x504 with 1 Axes>"
      ]
     },
     "metadata": {
      "needs_background": "light"
     },
     "output_type": "display_data"
    }
   ],
   "source": [
    "# построим гистограмму по исходным данным столбца price \n",
    "plt.figure(figsize=(10, 7))\n",
    "sns.histplot(data=realty, x='price', color='darkorchid')\n",
    "plt.title('Гистограмма распредления стоимости недвижимости', fontsize=16)\n",
    "plt.xlabel('Цена недвижимости', fontsize=14)\n",
    "plt.ylabel('Частота значений',fontsize=14)\n",
    "plt.xlim([0, 763000000])\n",
    "plt.show()"
   ]
  },
  {
   "cell_type": "markdown",
   "metadata": {},
   "source": [
    "Наблюдаем колоссальный положительный выброс, который не дает вообще никакого понимания по визуальным данным. Необходимо избавиться от \"хвоста\" и для этого нам пригодится функция outlier_borders"
   ]
  },
  {
   "cell_type": "code",
   "execution_count": 67,
   "metadata": {},
   "outputs": [
    {
     "data": {
      "text/plain": [
       "(-1698500.0, 11897500.0)"
      ]
     },
     "execution_count": 67,
     "metadata": {},
     "output_type": "execute_result"
    }
   ],
   "source": [
    "# посчитаем границы выбросов для столбца price \n",
    "outlier_borders(realty['price'])"
   ]
  },
  {
   "cell_type": "code",
   "execution_count": 68,
   "metadata": {},
   "outputs": [
    {
     "data": {
      "image/png": "[encoded data removed]",
      "text/plain": [
       "<Figure size 720x504 with 1 Axes>"
      ]
     },
     "metadata": {
      "needs_background": "light"
     },
     "output_type": "display_data"
    }
   ],
   "source": [
    "# построим гистограмму для столбца price с  верхней границей 11897500 руб \n",
    "plt.figure(figsize=(10, 7))\n",
    "sns.histplot(data=realty, x='price', color='darkorchid', bins=3000, edgecolor='black', linewidth=0.9)\n",
    "plt.title('Гистограмма распредления стоимости недвижимости', fontsize=16)\n",
    "plt.xlabel('Цена недвижимости', fontsize=14)\n",
    "plt.ylabel('Частота значений',fontsize=14)\n",
    "plt.xlim([0, 11897500])\n",
    "plt.show()"
   ]
  },
  {
   "cell_type": "markdown",
   "metadata": {},
   "source": [
    "Получаем приемлемый вид гистограммы и адекватные данные, извбавившись от выбросов."
   ]
  },
  {
   "cell_type": "code",
   "execution_count": 69,
   "metadata": {},
   "outputs": [
    {
     "data": {
      "text/plain": [
       "2055"
      ]
     },
     "execution_count": 69,
     "metadata": {},
     "output_type": "execute_result"
    }
   ],
   "source": [
    "# посчитаем количество строк с ценой больше верхней границы \n",
    "len(realty.query('price > 11897500'))"
   ]
  },
  {
   "cell_type": "markdown",
   "metadata": {},
   "source": [
    "2055 строк. Это не мало, но в рамках борьбы с выбросами - приемлемое количество."
   ]
  },
  {
   "cell_type": "code",
   "execution_count": 70,
   "metadata": {},
   "outputs": [
    {
     "data": {
      "text/html": [
       "<div>\n",
       "<style scoped>\n",
       "    .dataframe tbody tr th:only-of-type {\n",
       "        vertical-align: middle;\n",
       "    }\n",
       "\n",
       "    .dataframe tbody tr th {\n",
       "        vertical-align: top;\n",
       "    }\n",
       "\n",
       "    .dataframe thead th {\n",
       "        text-align: right;\n",
       "    }\n",
       "</style>\n",
       "<table border=\"1\" class=\"dataframe\">\n",
       "  <thead>\n",
       "    <tr style=\"text-align: right;\">\n",
       "      <th></th>\n",
       "      <th>price</th>\n",
       "    </tr>\n",
       "  </thead>\n",
       "  <tbody>\n",
       "    <tr>\n",
       "      <th>count</th>\n",
       "      <td>21595.00</td>\n",
       "    </tr>\n",
       "    <tr>\n",
       "      <th>mean</th>\n",
       "      <td>4838942.09</td>\n",
       "    </tr>\n",
       "    <tr>\n",
       "      <th>std</th>\n",
       "      <td>2217282.22</td>\n",
       "    </tr>\n",
       "    <tr>\n",
       "      <th>min</th>\n",
       "      <td>12190.00</td>\n",
       "    </tr>\n",
       "    <tr>\n",
       "      <th>25%</th>\n",
       "      <td>3300000.00</td>\n",
       "    </tr>\n",
       "    <tr>\n",
       "      <th>50%</th>\n",
       "      <td>4400000.00</td>\n",
       "    </tr>\n",
       "    <tr>\n",
       "      <th>75%</th>\n",
       "      <td>6000000.00</td>\n",
       "    </tr>\n",
       "    <tr>\n",
       "      <th>max</th>\n",
       "      <td>11894400.00</td>\n",
       "    </tr>\n",
       "  </tbody>\n",
       "</table>\n",
       "</div>"
      ],
      "text/plain": [
       "            price\n",
       "count    21595.00\n",
       "mean   4838942.09\n",
       "std    2217282.22\n",
       "min      12190.00\n",
       "25%    3300000.00\n",
       "50%    4400000.00\n",
       "75%    6000000.00\n",
       "max   11894400.00"
      ]
     },
     "execution_count": 70,
     "metadata": {},
     "output_type": "execute_result"
    }
   ],
   "source": [
    "# посмотрим данные столбца price без выбросов \n",
    "realty.query('price <= 11897500')[['price']].describe()"
   ]
  },
  {
   "cell_type": "markdown",
   "metadata": {},
   "source": [
    "Мы получили вполне адекватные показатели: среднее уменьшилосьс с 6.5 млн до 4.8 млн, а медиана с 4.65 до 4.4 млн. При этом максимальная цена - 11.89 млн.\n",
    "Значит в дальнейшем мы избавимся от выбросов свыше 11.89 млн руб."
   ]
  },
  {
   "cell_type": "markdown",
   "metadata": {},
   "source": [
    "#### Изучим данные столбца 'total_area'"
   ]
  },
  {
   "cell_type": "code",
   "execution_count": 71,
   "metadata": {},
   "outputs": [
    {
     "data": {
      "image/png": "[encoded data removed]",
      "text/plain": [
       "<Figure size 720x504 with 1 Axes>"
      ]
     },
     "metadata": {
      "needs_background": "light"
     },
     "output_type": "display_data"
    }
   ],
   "source": [
    "# построим гистограмму по исходным данным столбца total_area  \n",
    "plt.figure(figsize=(10, 7))\n",
    "sns.histplot(data=realty, x='total_area', color='royalblue')\n",
    "plt.title('Гистограмма распредления общей площади недвижимости', fontsize=16)\n",
    "plt.xlabel('Значения общей площади (кв.м)', fontsize=14)\n",
    "plt.ylabel('Частота значений',fontsize=14)\n",
    "plt.xlim([0, 900])\n",
    "plt.show()"
   ]
  },
  {
   "cell_type": "markdown",
   "metadata": {},
   "source": [
    "Снова огромный хвост после 150 кв.м. И снова прибегаем к помощи нашей функции."
   ]
  },
  {
   "cell_type": "code",
   "execution_count": 72,
   "metadata": {},
   "outputs": [
    {
     "data": {
      "text/plain": [
       "(-4.550000000000004, 114.25)"
      ]
     },
     "execution_count": 72,
     "metadata": {},
     "output_type": "execute_result"
    }
   ],
   "source": [
    "# посчитаем границы выбросов для столбца total_area \n",
    "outlier_borders(realty['total_area'])"
   ]
  },
  {
   "cell_type": "code",
   "execution_count": 73,
   "metadata": {},
   "outputs": [
    {
     "data": {
      "image/png": "[encoded data removed]",
      "text/plain": [
       "<Figure size 720x504 with 1 Axes>"
      ]
     },
     "metadata": {
      "needs_background": "light"
     },
     "output_type": "display_data"
    }
   ],
   "source": [
    "# построим гистограмму для столбца total_area с  верхней границей 114.25 кв.м \n",
    "plt.figure(figsize=(10, 7))\n",
    "sns.histplot(data=realty, x='total_area', color='royalblue', bins=1000, edgecolor='black', linewidth=0.9)\n",
    "plt.title('Гистограмма распредления общей площади недвижимости', fontsize=16)\n",
    "plt.xlabel('Значения общей площади (кв.м)', fontsize=14)\n",
    "plt.ylabel('Частота значений',fontsize=14)\n",
    "plt.xlim([0, 114.25])\n",
    "plt.show()"
   ]
  },
  {
   "cell_type": "code",
   "execution_count": 74,
   "metadata": {},
   "outputs": [
    {
     "data": {
      "text/html": [
       "<div>\n",
       "<style scoped>\n",
       "    .dataframe tbody tr th:only-of-type {\n",
       "        vertical-align: middle;\n",
       "    }\n",
       "\n",
       "    .dataframe tbody tr th {\n",
       "        vertical-align: top;\n",
       "    }\n",
       "\n",
       "    .dataframe thead th {\n",
       "        text-align: right;\n",
       "    }\n",
       "</style>\n",
       "<table border=\"1\" class=\"dataframe\">\n",
       "  <thead>\n",
       "    <tr style=\"text-align: right;\">\n",
       "      <th></th>\n",
       "      <th>total_area</th>\n",
       "    </tr>\n",
       "  </thead>\n",
       "  <tbody>\n",
       "    <tr>\n",
       "      <th>count</th>\n",
       "      <td>22406.00</td>\n",
       "    </tr>\n",
       "    <tr>\n",
       "      <th>mean</th>\n",
       "      <td>54.33</td>\n",
       "    </tr>\n",
       "    <tr>\n",
       "      <th>std</th>\n",
       "      <td>19.35</td>\n",
       "    </tr>\n",
       "    <tr>\n",
       "      <th>min</th>\n",
       "      <td>12.00</td>\n",
       "    </tr>\n",
       "    <tr>\n",
       "      <th>25%</th>\n",
       "      <td>39.40</td>\n",
       "    </tr>\n",
       "    <tr>\n",
       "      <th>50%</th>\n",
       "      <td>50.10</td>\n",
       "    </tr>\n",
       "    <tr>\n",
       "      <th>75%</th>\n",
       "      <td>65.50</td>\n",
       "    </tr>\n",
       "    <tr>\n",
       "      <th>max</th>\n",
       "      <td>114.20</td>\n",
       "    </tr>\n",
       "  </tbody>\n",
       "</table>\n",
       "</div>"
      ],
      "text/plain": [
       "       total_area\n",
       "count    22406.00\n",
       "mean        54.33\n",
       "std         19.35\n",
       "min         12.00\n",
       "25%         39.40\n",
       "50%         50.10\n",
       "75%         65.50\n",
       "max        114.20"
      ]
     },
     "execution_count": 74,
     "metadata": {},
     "output_type": "execute_result"
    }
   ],
   "source": [
    "realty.query('total_area <= 114.25')[['total_area']].describe()"
   ]
  },
  {
   "cell_type": "markdown",
   "metadata": {},
   "source": [
    "По итогам изучения данных - необходимо убрать редкие данные со значениями более 114 кв.м. \n",
    "При этом наши даные изменились: \n",
    "- медиана уменьшилась с 52 до 50.1 кв.м\n",
    "- среднее значение площади уменьшилось с 60.3 до 54.3 кв.м"
   ]
  },
  {
   "cell_type": "markdown",
   "metadata": {},
   "source": [
    "#### Изучим данные столбца 'rooms'"
   ]
  },
  {
   "cell_type": "code",
   "execution_count": 75,
   "metadata": {},
   "outputs": [
    {
     "data": {
      "image/png": "[encoded data removed]",
      "text/plain": [
       "<Figure size 720x504 with 1 Axes>"
      ]
     },
     "metadata": {
      "needs_background": "light"
     },
     "output_type": "display_data"
    }
   ],
   "source": [
    "# построим гистограмму по исходным данным столбца rooms  \n",
    "plt.figure(figsize=(10, 7))\n",
    "sns.histplot(data=realty, x='rooms', color='crimson', bins=19)\n",
    "plt.title('Гистограмма распредления количества комнат', fontsize=16)\n",
    "plt.xlabel('Количество комнат', fontsize=14)\n",
    "plt.ylabel('Частота значений',fontsize=14)\n",
    "plt.xlim([0, 19])\n",
    "plt.show()"
   ]
  },
  {
   "cell_type": "markdown",
   "metadata": {},
   "source": [
    "Здесь мы так же наблюдаем выбросы после значения 5. Посчитаем границу выброса."
   ]
  },
  {
   "cell_type": "code",
   "execution_count": 76,
   "metadata": {},
   "outputs": [
    {
     "data": {
      "text/plain": [
       "(-2.0, 6.0)"
      ]
     },
     "execution_count": 76,
     "metadata": {},
     "output_type": "execute_result"
    }
   ],
   "source": [
    "# посчитаем границы выбросов для столбца rooms\n",
    "outlier_borders(realty['rooms'])"
   ]
  },
  {
   "cell_type": "markdown",
   "metadata": {},
   "source": [
    "Можем пожертвовать данными для квартир, где более 6 комнат"
   ]
  },
  {
   "cell_type": "code",
   "execution_count": 77,
   "metadata": {},
   "outputs": [
    {
     "data": {
      "image/png": "[encoded data removed]",
      "text/plain": [
       "<Figure size 720x504 with 1 Axes>"
      ]
     },
     "metadata": {
      "needs_background": "light"
     },
     "output_type": "display_data"
    }
   ],
   "source": [
    "# построим гистограмму для столбца total_area с  верхней границей 114.25 кв.м \n",
    "plt.figure(figsize=(10, 7))\n",
    "sns.histplot(data=realty, x='rooms', color='crimson', bins=60, edgecolor='black', linewidth=0.9)\n",
    "plt.title('Гистограмма распредления количества комнат', fontsize=16)\n",
    "plt.xlabel('Количество комнат', fontsize=14)\n",
    "plt.ylabel('Частота значений',fontsize=14)\n",
    "plt.xlim([0, 6])\n",
    "plt.show()"
   ]
  },
  {
   "cell_type": "code",
   "execution_count": 78,
   "metadata": {},
   "outputs": [
    {
     "data": {
      "text/html": [
       "<div>\n",
       "<style scoped>\n",
       "    .dataframe tbody tr th:only-of-type {\n",
       "        vertical-align: middle;\n",
       "    }\n",
       "\n",
       "    .dataframe tbody tr th {\n",
       "        vertical-align: top;\n",
       "    }\n",
       "\n",
       "    .dataframe thead th {\n",
       "        text-align: right;\n",
       "    }\n",
       "</style>\n",
       "<table border=\"1\" class=\"dataframe\">\n",
       "  <thead>\n",
       "    <tr style=\"text-align: right;\">\n",
       "      <th></th>\n",
       "      <th>rooms</th>\n",
       "    </tr>\n",
       "  </thead>\n",
       "  <tbody>\n",
       "    <tr>\n",
       "      <th>count</th>\n",
       "      <td>23560.00</td>\n",
       "    </tr>\n",
       "    <tr>\n",
       "      <th>mean</th>\n",
       "      <td>2.06</td>\n",
       "    </tr>\n",
       "    <tr>\n",
       "      <th>std</th>\n",
       "      <td>0.99</td>\n",
       "    </tr>\n",
       "    <tr>\n",
       "      <th>min</th>\n",
       "      <td>1.00</td>\n",
       "    </tr>\n",
       "    <tr>\n",
       "      <th>25%</th>\n",
       "      <td>1.00</td>\n",
       "    </tr>\n",
       "    <tr>\n",
       "      <th>50%</th>\n",
       "      <td>2.00</td>\n",
       "    </tr>\n",
       "    <tr>\n",
       "      <th>75%</th>\n",
       "      <td>3.00</td>\n",
       "    </tr>\n",
       "    <tr>\n",
       "      <th>max</th>\n",
       "      <td>6.00</td>\n",
       "    </tr>\n",
       "  </tbody>\n",
       "</table>\n",
       "</div>"
      ],
      "text/plain": [
       "         rooms\n",
       "count 23560.00\n",
       "mean      2.06\n",
       "std       0.99\n",
       "min       1.00\n",
       "25%       1.00\n",
       "50%       2.00\n",
       "75%       3.00\n",
       "max       6.00"
      ]
     },
     "execution_count": 78,
     "metadata": {},
     "output_type": "execute_result"
    }
   ],
   "source": [
    "realty.query('rooms <= 6')[['rooms']].describe()"
   ]
  },
  {
   "cell_type": "markdown",
   "metadata": {},
   "source": [
    "В данном случае удаление выбросов существенно не повлияло на данных: и медиана, и среднее остались прежними."
   ]
  },
  {
   "cell_type": "markdown",
   "metadata": {},
   "source": [
    "#### Изучим данные столбца 'ceiling_height'"
   ]
  },
  {
   "cell_type": "code",
   "execution_count": 79,
   "metadata": {},
   "outputs": [
    {
     "data": {
      "image/png": "[encoded data removed]",
      "text/plain": [
       "<Figure size 720x504 with 1 Axes>"
      ]
     },
     "metadata": {
      "needs_background": "light"
     },
     "output_type": "display_data"
    }
   ],
   "source": [
    "# построим гистограмму по исходным данным столбца ceiling_height\n",
    "plt.figure(figsize=(10, 7))\n",
    "sns.histplot(data=realty, x='ceiling_height', color='darkorange', bins=120)\n",
    "plt.title('Гистограмма распредления высоты потолков', fontsize=16)\n",
    "plt.xlabel('Высота потолков (м)', fontsize=14)\n",
    "plt.ylabel('Частота значений',fontsize=14)\n",
    "plt.xlim([2, 5])\n",
    "plt.show()"
   ]
  },
  {
   "cell_type": "markdown",
   "metadata": {},
   "source": [
    "Так же заметны выбросы после значений в 3 м. Определим границы выбросов."
   ]
  },
  {
   "cell_type": "code",
   "execution_count": 80,
   "metadata": {},
   "outputs": [
    {
     "data": {
      "text/plain": [
       "(2.45, 2.8500000000000005)"
      ]
     },
     "execution_count": 80,
     "metadata": {},
     "output_type": "execute_result"
    }
   ],
   "source": [
    "# посчитаем границы выбросов для столбца ceiling_height\n",
    "outlier_borders(realty['ceiling_height'])"
   ]
  },
  {
   "cell_type": "code",
   "execution_count": 81,
   "metadata": {},
   "outputs": [
    {
     "data": {
      "image/png": "[encoded data removed]",
      "text/plain": [
       "<Figure size 720x504 with 1 Axes>"
      ]
     },
     "metadata": {
      "needs_background": "light"
     },
     "output_type": "display_data"
    }
   ],
   "source": [
    "# построим гистограмму для столбца total_area с  верхней границей 114.25 кв.м \n",
    "plt.figure(figsize=(10, 7))\n",
    "sns.histplot(data=realty, x='ceiling_height', color='darkorange', bins=120, edgecolor='black', linewidth=0.9)\n",
    "plt.title('Гистограмма распредления высоты потолков', fontsize=16)\n",
    "plt.xlabel('Высота потолков (м)', fontsize=14)\n",
    "plt.ylabel('Частота значений',fontsize=14)\n",
    "plt.xlim([2, 2.85])\n",
    "plt.show()"
   ]
  },
  {
   "cell_type": "code",
   "execution_count": 82,
   "metadata": {},
   "outputs": [
    {
     "data": {
      "text/html": [
       "<div>\n",
       "<style scoped>\n",
       "    .dataframe tbody tr th:only-of-type {\n",
       "        vertical-align: middle;\n",
       "    }\n",
       "\n",
       "    .dataframe tbody tr th {\n",
       "        vertical-align: top;\n",
       "    }\n",
       "\n",
       "    .dataframe thead th {\n",
       "        text-align: right;\n",
       "    }\n",
       "</style>\n",
       "<table border=\"1\" class=\"dataframe\">\n",
       "  <thead>\n",
       "    <tr style=\"text-align: right;\">\n",
       "      <th></th>\n",
       "      <th>ceiling_height</th>\n",
       "    </tr>\n",
       "  </thead>\n",
       "  <tbody>\n",
       "    <tr>\n",
       "      <th>count</th>\n",
       "      <td>20629.00</td>\n",
       "    </tr>\n",
       "    <tr>\n",
       "      <th>mean</th>\n",
       "      <td>2.63</td>\n",
       "    </tr>\n",
       "    <tr>\n",
       "      <th>std</th>\n",
       "      <td>0.09</td>\n",
       "    </tr>\n",
       "    <tr>\n",
       "      <th>min</th>\n",
       "      <td>2.00</td>\n",
       "    </tr>\n",
       "    <tr>\n",
       "      <th>25%</th>\n",
       "      <td>2.60</td>\n",
       "    </tr>\n",
       "    <tr>\n",
       "      <th>50%</th>\n",
       "      <td>2.65</td>\n",
       "    </tr>\n",
       "    <tr>\n",
       "      <th>75%</th>\n",
       "      <td>2.65</td>\n",
       "    </tr>\n",
       "    <tr>\n",
       "      <th>max</th>\n",
       "      <td>2.85</td>\n",
       "    </tr>\n",
       "  </tbody>\n",
       "</table>\n",
       "</div>"
      ],
      "text/plain": [
       "       ceiling_height\n",
       "count        20629.00\n",
       "mean             2.63\n",
       "std              0.09\n",
       "min              2.00\n",
       "25%              2.60\n",
       "50%              2.65\n",
       "75%              2.65\n",
       "max              2.85"
      ]
     },
     "execution_count": 82,
     "metadata": {},
     "output_type": "execute_result"
    }
   ],
   "source": [
    "realty.query('ceiling_height <= 2.85')[['ceiling_height']].describe()"
   ]
  },
  {
   "cell_type": "markdown",
   "metadata": {},
   "source": [
    "### Выводы"
   ]
  },
  {
   "cell_type": "markdown",
   "metadata": {},
   "source": [
    "- Цены на недвижимость имеют среднее значение в 4.8 млн руб., медиана 4.4 млн руб. Основные данные распределены в диапазоне от 3 до 6 млн. \n",
    "\n",
    "- Общая площадь в нашей выборке колеблется от 12 до 900 м2. Большая часть квартир имеет площадь от 30 до 80 кв. м. Распределение данных Гаусса.\n",
    "\n",
    "- Количество комнат колеблется от 1 до 19. Основная  часть квартир имеет от 1 до 3 комнат. Больше всего однокомнатных квартир.\n",
    "\n",
    "- Основная часть нежвижимости имеет высоту потолков от 2.5 до 2.8 м. "
   ]
  },
  {
   "cell_type": "markdown",
   "metadata": {},
   "source": [
    "### Изучение времени продажи квартиры"
   ]
  },
  {
   "cell_type": "code",
   "execution_count": 83,
   "metadata": {
    "scrolled": true
   },
   "outputs": [
    {
     "data": {
      "text/plain": [
       "count   23650.00\n",
       "mean      156.45\n",
       "std       213.56\n",
       "min         0.00\n",
       "25%        22.00\n",
       "50%        73.00\n",
       "75%       198.00\n",
       "max      1580.00\n",
       "Name: days_exposition, dtype: float64"
      ]
     },
     "execution_count": 83,
     "metadata": {},
     "output_type": "execute_result"
    }
   ],
   "source": [
    "realty['days_exposition'].describe()"
   ]
  },
  {
   "cell_type": "code",
   "execution_count": 84,
   "metadata": {},
   "outputs": [
    {
     "data": {
      "image/png": "[encoded data removed]",
      "text/plain": [
       "<Figure size 720x504 with 1 Axes>"
      ]
     },
     "metadata": {
      "needs_background": "light"
     },
     "output_type": "display_data"
    }
   ],
   "source": [
    "# построим гистограмму для столбца days_exposition\n",
    "\n",
    "plt.figure(figsize=(10, 7))\n",
    "realty['days_exposition'].hist(bins=100, \n",
    "                                      color='coral', \n",
    "                                      edgecolor='black', \n",
    "                                      grid=True, \n",
    "                                      xlabelsize=12, \n",
    "                                      ylabelsize=12)\n",
    "plt.title('Гистограмма распределения длительности размещения объявлений', fontsize=14)\n",
    "plt.xlabel('Количество дней', fontsize=12)\n",
    "plt.ylabel('Частота значений', fontsize=12)\n",
    "plt.xlim([0,1600])\n",
    "plt.show()"
   ]
  },
  {
   "cell_type": "code",
   "execution_count": 85,
   "metadata": {},
   "outputs": [
    {
     "data": {
      "text/plain": [
       "(-242.0, 462.0)"
      ]
     },
     "execution_count": 85,
     "metadata": {},
     "output_type": "execute_result"
    }
   ],
   "source": [
    "# посчитаем границы выбросов для столбца days_exposition\n",
    "outlier_borders(realty['days_exposition'])"
   ]
  },
  {
   "cell_type": "markdown",
   "metadata": {},
   "source": [
    "Согласно данным датафрейма - основная часть квартир была выставлена менее 462 дня. Но есть явные выбросы в районе 0.\n",
    "\n",
    "Необходимо подрообнее изучить данные, где объявление провисело менее 7 дней и более 462 дня. Все-таки продавать квартиру менее за 7 дней довольно сложно и таких результатов не должно быть много."
   ]
  },
  {
   "cell_type": "code",
   "execution_count": 86,
   "metadata": {},
   "outputs": [
    {
     "data": {
      "text/plain": [
       "3792"
      ]
     },
     "execution_count": 86,
     "metadata": {},
     "output_type": "execute_result"
    }
   ],
   "source": [
    "# посмотрим количество строк, где 'days_exposition' менее 7 дней \n",
    "len(realty[realty['days_exposition'] < 7])"
   ]
  },
  {
   "cell_type": "code",
   "execution_count": 87,
   "metadata": {},
   "outputs": [
    {
     "data": {
      "image/png": "[encoded data removed]",
      "text/plain": [
       "<Figure size 720x504 with 1 Axes>"
      ]
     },
     "metadata": {
      "needs_background": "light"
     },
     "output_type": "display_data"
    }
   ],
   "source": [
    "# построим гистограмму для объявлений провисевших не более 7 дней\n",
    "\n",
    "short_days = realty.query('days_exposition < 7')\n",
    "\n",
    "plt.figure(figsize=(10, 7))\n",
    "short_days['days_exposition'].hist(bins=7, \n",
    "                                      color='coral', \n",
    "                                      edgecolor='black', \n",
    "                                      grid=True, \n",
    "                                      xlabelsize=12, \n",
    "                                      ylabelsize=12)\n",
    "plt.title('Гистограмма для первых 7 дней размещения', fontsize=14)\n",
    "plt.xlabel('Количество дней', fontsize=12)\n",
    "plt.ylabel('Частота значений', fontsize=12)\n",
    "plt.xlim([0,7])\n",
    "plt.show()"
   ]
  },
  {
   "cell_type": "markdown",
   "metadata": {},
   "source": [
    "На гистограмме отчетливо просчлеживается, что львиная доля объявлений, провисевших менее 7 дней были удалены/скрыты в первый же день. Можно мделать вывод, что это связано с ошибками в самих объявлениях. \n",
    "\n",
    "От этого выброса необходимо будет избавиться.\n",
    "\n",
    "Есть еще небольшой сегмент объявлений от 1 до 7 дней. С ними тоже можно распрощаться в силу их редкости. \n",
    "Так же мне кажется, что продать квартиру менее чем за 7 дней - довольно редкий случай. Все равно необходимо провести 1-2 показа недвижимости и соблюсти прочие формальности. Значит слишком быстрые продажи, это как раз сегмент от 1 до 7 дня. "
   ]
  },
  {
   "cell_type": "markdown",
   "metadata": {},
   "source": [
    "Теперь изучим объявления, продержавшиеся свыше 462 дней."
   ]
  },
  {
   "cell_type": "code",
   "execution_count": 88,
   "metadata": {},
   "outputs": [
    {
     "data": {
      "text/plain": [
       "2026"
      ]
     },
     "execution_count": 88,
     "metadata": {},
     "output_type": "execute_result"
    }
   ],
   "source": [
    "len(realty[realty['days_exposition'] > 462])"
   ]
  },
  {
   "cell_type": "markdown",
   "metadata": {},
   "source": [
    "Имеем 2026 строк со сроком продажи более 462 дней."
   ]
  },
  {
   "cell_type": "code",
   "execution_count": 89,
   "metadata": {},
   "outputs": [
    {
     "data": {
      "image/png": "[encoded data removed]",
      "text/plain": [
       "<Figure size 720x504 with 1 Axes>"
      ]
     },
     "metadata": {
      "needs_background": "light"
     },
     "output_type": "display_data"
    }
   ],
   "source": [
    "# построим гистограмму для данных 'days_exposition' от 7 до 462 дней\n",
    "good_days = realty.query('7 < days_exposition < 462')\n",
    "\n",
    "plt.figure(figsize=(10, 7))\n",
    "good_days['days_exposition'].hist(bins=100, \n",
    "                                      color='coral', \n",
    "                                      edgecolor='black', \n",
    "                                      grid=True, \n",
    "                                      xlabelsize=12, \n",
    "                                      ylabelsize=12)\n",
    "plt.title('Гистограмма дней размещения без выбросов', fontsize=14)\n",
    "plt.xlabel('Количество дней', fontsize=12)\n",
    "plt.ylabel('Частота значений', fontsize=12)\n",
    "plt.xlim([7,462])\n",
    "plt.show()"
   ]
  },
  {
   "cell_type": "code",
   "execution_count": 90,
   "metadata": {},
   "outputs": [
    {
     "data": {
      "image/png": "[encoded data removed]",
      "text/plain": [
       "<Figure size 720x504 with 1 Axes>"
      ]
     },
     "metadata": {
      "needs_background": "light"
     },
     "output_type": "display_data"
    }
   ],
   "source": [
    "plt.figure(figsize=(10, 7))\n",
    "short_days['days_exposition'].hist(bins=7, \n",
    "                                      color='coral', \n",
    "                                      edgecolor='black', \n",
    "                                      grid=True, \n",
    "                                      xlabelsize=12, \n",
    "                                      ylabelsize=12)\n",
    "plt.title('Гистограмма для первых 7 дней размещения', fontsize=14)\n",
    "plt.xlabel('Количество дней', fontsize=12)\n",
    "plt.ylabel('Частота значений', fontsize=12)\n",
    "plt.xlim([0,7])\n",
    "plt.show()\n",
    "    \n",
    "    \n",
    "plt.show()"
   ]
  },
  {
   "cell_type": "markdown",
   "metadata": {},
   "source": [
    "Основная часть квартир продается за первые 200 дней после публикации объявлений. "
   ]
  },
  {
   "cell_type": "markdown",
   "metadata": {},
   "source": [
    "### Уберите редкие и выбивающиеся значения"
   ]
  },
  {
   "cell_type": "code",
   "execution_count": 91,
   "metadata": {},
   "outputs": [
    {
     "name": "stdout",
     "output_type": "stream",
     "text": [
      "<class 'pandas.core.frame.DataFrame'>\n",
      "Int64Index: 19566 entries, 1 to 23698\n",
      "Data columns (total 29 columns):\n",
      " #   Column                Non-Null Count  Dtype         \n",
      "---  ------                --------------  -----         \n",
      " 0   images                19566 non-null  int64         \n",
      " 1   price                 19566 non-null  int64         \n",
      " 2   total_area            19566 non-null  float64       \n",
      " 3   first_day_exposition  19566 non-null  datetime64[ns]\n",
      " 4   rooms                 19566 non-null  int64         \n",
      " 5   ceiling_height        19566 non-null  float64       \n",
      " 6   floors_total          19566 non-null  int64         \n",
      " 7   living_area           19566 non-null  float64       \n",
      " 8   floor                 19566 non-null  int64         \n",
      " 9   apartment             19566 non-null  bool          \n",
      " 10  studio                19566 non-null  bool          \n",
      " 11  open_plan             19566 non-null  bool          \n",
      " 12  kitchen_area          19566 non-null  float64       \n",
      " 13  balcony               19566 non-null  int64         \n",
      " 14  locality_name         19566 non-null  object        \n",
      " 15  airports_nearest      19566 non-null  float64       \n",
      " 16  city_center           19566 non-null  int64         \n",
      " 17  parks_around3000      19566 non-null  float64       \n",
      " 18  parks_nearest         19566 non-null  float64       \n",
      " 19  ponds_around3000      19566 non-null  float64       \n",
      " 20  ponds_nearest         19566 non-null  float64       \n",
      " 21  days_exposition       19566 non-null  int64         \n",
      " 22  price_per_meter       19566 non-null  float64       \n",
      " 23  dayofweek_exposition  19566 non-null  object        \n",
      " 24  month_exposition      19566 non-null  object        \n",
      " 25  year_exposition       19566 non-null  int64         \n",
      " 26  floor_category        19566 non-null  object        \n",
      " 27  ratio_total_living    19566 non-null  float64       \n",
      " 28  ratio_total_kitchen   19566 non-null  float64       \n",
      "dtypes: bool(3), datetime64[ns](1), float64(12), int64(9), object(4)\n",
      "memory usage: 4.1+ MB\n"
     ]
    }
   ],
   "source": [
    "# отфильтруем датасет и создадим новый без выбросов в столбцах price, total_\n",
    "\n",
    "good_realty = realty \\\n",
    ".query('price <= 11894400 and total_area <= 114.25 and rooms <= 7 and ceiling_height <= 2.85')\n",
    "\n",
    "good_realty.info()"
   ]
  },
  {
   "cell_type": "markdown",
   "metadata": {},
   "source": [
    "### Какие факторы больше всего влияют на стоимость квартиры?"
   ]
  },
  {
   "cell_type": "markdown",
   "metadata": {},
   "source": [
    "#### Проверим корреляцию цены с  числовыми столбцами: площадь, число комнат, удалённость от центра"
   ]
  },
  {
   "cell_type": "markdown",
   "metadata": {},
   "source": [
    "Построим матрицу корреляции с ценой для числовых столбцов:\n",
    "- площадь \n",
    "- число комнат \n",
    "- удалённость от центра"
   ]
  },
  {
   "cell_type": "code",
   "execution_count": 92,
   "metadata": {},
   "outputs": [
    {
     "data": {
      "image/png": "[encoded data removed]",
      "text/plain": [
       "<Figure size 720x504 with 2 Axes>"
      ]
     },
     "metadata": {
      "needs_background": "light"
     },
     "output_type": "display_data"
    }
   ],
   "source": [
    "corrMatrix = good_realty[['price', 'total_area', 'ceiling_height', 'rooms', 'city_center']].corr()\n",
    "plt.subplots(figsize=(10,7)) \n",
    "sns.heatmap(corrMatrix, annot=True, \n",
    "            cbar_kws={'orientation': 'horizontal', \n",
    "                      'label': 'Величина коэффициента корреляции Пирсона'},\n",
    "            cmap='flare')\n",
    "plt.show() "
   ]
  },
  {
   "cell_type": "markdown",
   "metadata": {},
   "source": [
    "Как мы видим: самая высокая корреляция у нас между ценой и площадью недвижимости - 0.77. Это действительно высокая положительная корреляция. \n",
    "Средняя корреляция наблюдается между ценой и количеством комнат - 0.50.\n",
    "Слабая корреляция между ценой и высотой потолков - 0.41\n",
    "И почти отсутствует корреляция между ценой и расстоянием до центра города (локации) - всего 0.02"
   ]
  },
  {
   "cell_type": "markdown",
   "metadata": {},
   "source": [
    "#### Проверим корреляцию цены с этажом, днем недели, месяцем и годом."
   ]
  },
  {
   "cell_type": "code",
   "execution_count": 93,
   "metadata": {},
   "outputs": [
    {
     "data": {
      "image/png": "[encoded data removed]",
      "text/plain": [
       "<Figure size 864x504 with 1 Axes>"
      ]
     },
     "metadata": {
      "needs_background": "light"
     },
     "output_type": "display_data"
    }
   ],
   "source": [
    "# построим диаграмму для сопоставления цены и категории этажа, \n",
    "# на котором расположена недвижимость\n",
    "plt.figure(figsize=(12, 7))\n",
    "sns.set_theme(style='whitegrid', color_codes=True)\n",
    "sns.set_palette('magma')\n",
    "sns.barplot(data=good_realty, \n",
    "                x='floor_category', \n",
    "                y='price', \n",
    "                palette=sns.color_palette('seismic_r'))\n",
    "plt.title('Цена недвижимости в зависимости от категории этажа', fontsize=16)\n",
    "plt.xlabel('Категории этажей расположения', fontsize=14)\n",
    "plt.ylabel('Цена недвижимости', fontsize=14)\n",
    "plt.show()"
   ]
  },
  {
   "cell_type": "markdown",
   "metadata": {},
   "source": [
    "Видно, что квартиры на первом этаже дешевле, чем на остальных. Это закономерно. "
   ]
  },
  {
   "cell_type": "code",
   "execution_count": 94,
   "metadata": {},
   "outputs": [
    {
     "data": {
      "image/png": "[encoded data removed]",
      "text/plain": [
       "<Figure size 864x504 with 1 Axes>"
      ]
     },
     "metadata": {},
     "output_type": "display_data"
    }
   ],
   "source": [
    "# построим диаграмму для сопоставления цены и дня недели публикации объявления\n",
    "plt.figure(figsize=(12, 7))\n",
    "sns.set_theme(style='whitegrid')\n",
    "sns.barplot(data=good_realty, \n",
    "                x='dayofweek_exposition', \n",
    "                y='price', \n",
    "                palette=sns.color_palette('ch:2.5,-.2,dark=.3'))\n",
    "plt.title('Цена недвижимости в зависимости от дня недели публикации', fontsize=16)\n",
    "plt.xlabel('День недели', fontsize=14)\n",
    "plt.ylabel('Цена недвижимости', fontsize=14)\n",
    "plt.show()"
   ]
  },
  {
   "cell_type": "code",
   "execution_count": 95,
   "metadata": {},
   "outputs": [
    {
     "data": {
      "image/png": "[encoded data removed]",
      "text/plain": [
       "<Figure size 864x504 with 1 Axes>"
      ]
     },
     "metadata": {},
     "output_type": "display_data"
    }
   ],
   "source": [
    "# построим диаграмму для сопоставления цены и месяца публикации объявления\n",
    "plt.figure(figsize=(12, 7))\n",
    "sns.set_theme(style='whitegrid')\n",
    "sns.barplot(data=good_realty, \n",
    "                x='month_exposition', \n",
    "                y='price', \n",
    "                palette=sns.color_palette('summer'))\n",
    "plt.title(\"Корреляция цены с месяцем публикации\", size=16)\n",
    "plt.ylabel(\"Цена недвижимости\", size=14)\n",
    "plt.xlabel(\"Месяц\", size=14)\n",
    "plt.show()"
   ]
  },
  {
   "cell_type": "code",
   "execution_count": 96,
   "metadata": {},
   "outputs": [
    {
     "data": {
      "image/png": "[encoded data removed]",
      "text/plain": [
       "<Figure size 864x504 with 1 Axes>"
      ]
     },
     "metadata": {},
     "output_type": "display_data"
    }
   ],
   "source": [
    "# построим диаграмму для сопоставления цены и года публикации объявления\n",
    "plt.figure(figsize=(12, 7))\n",
    "sns.set_theme(style='whitegrid')\n",
    "sns.barplot(data=good_realty, \n",
    "                x='year_exposition', \n",
    "                y='price', \n",
    "                palette=sns.color_palette('twilight'))\n",
    "plt.title(\"Корреляция цены с годом публикации\", size=16)\n",
    "plt.ylabel(\"Цена недвижимости\", size=14)\n",
    "plt.xlabel(\"Год\", size=14)\n",
    "plt.show()"
   ]
  },
  {
   "cell_type": "markdown",
   "metadata": {},
   "source": [
    "Нет никакой зависимости цены от дня недели или месяца публикации объявления. \n",
    "\n",
    "Но наблюдаются небольшие отклонения по цене в зависимости от года. Это легко объясняется экономическим состоянием странцы. \n",
    "В 2014-м квартиры стоили дороже, затем произошел спад стоимости, который к 2019 перешел в легкий рост. "
   ]
  },
  {
   "cell_type": "markdown",
   "metadata": {},
   "source": [
    "#### Выберите 10 населённых пунктов с наибольшим числом объявлений"
   ]
  },
  {
   "cell_type": "code",
   "execution_count": 97,
   "metadata": {},
   "outputs": [
    {
     "data": {
      "text/html": [
       "<div>\n",
       "<style scoped>\n",
       "    .dataframe tbody tr th:only-of-type {\n",
       "        vertical-align: middle;\n",
       "    }\n",
       "\n",
       "    .dataframe tbody tr th {\n",
       "        vertical-align: top;\n",
       "    }\n",
       "\n",
       "    .dataframe thead th {\n",
       "        text-align: right;\n",
       "    }\n",
       "</style>\n",
       "<table border=\"1\" class=\"dataframe\">\n",
       "  <thead>\n",
       "    <tr style=\"text-align: right;\">\n",
       "      <th></th>\n",
       "      <th>count</th>\n",
       "      <th>mean</th>\n",
       "    </tr>\n",
       "    <tr>\n",
       "      <th>locality_name</th>\n",
       "      <th></th>\n",
       "      <th></th>\n",
       "    </tr>\n",
       "  </thead>\n",
       "  <tbody>\n",
       "    <tr>\n",
       "      <th>санкт-петербург</th>\n",
       "      <td>12086</td>\n",
       "      <td>104681.53</td>\n",
       "    </tr>\n",
       "    <tr>\n",
       "      <th>поселок мурино</th>\n",
       "      <td>551</td>\n",
       "      <td>85693.19</td>\n",
       "    </tr>\n",
       "    <tr>\n",
       "      <th>поселок шушары</th>\n",
       "      <td>433</td>\n",
       "      <td>78687.83</td>\n",
       "    </tr>\n",
       "    <tr>\n",
       "      <th>всеволожск</th>\n",
       "      <td>381</td>\n",
       "      <td>67046.48</td>\n",
       "    </tr>\n",
       "    <tr>\n",
       "      <th>поселок парголово</th>\n",
       "      <td>326</td>\n",
       "      <td>90332.26</td>\n",
       "    </tr>\n",
       "    <tr>\n",
       "      <th>колпино</th>\n",
       "      <td>316</td>\n",
       "      <td>75386.96</td>\n",
       "    </tr>\n",
       "    <tr>\n",
       "      <th>пушкин</th>\n",
       "      <td>302</td>\n",
       "      <td>99666.96</td>\n",
       "    </tr>\n",
       "    <tr>\n",
       "      <th>деревня кудрово</th>\n",
       "      <td>296</td>\n",
       "      <td>92489.24</td>\n",
       "    </tr>\n",
       "    <tr>\n",
       "      <th>гатчина</th>\n",
       "      <td>284</td>\n",
       "      <td>68329.85</td>\n",
       "    </tr>\n",
       "    <tr>\n",
       "      <th>выборг</th>\n",
       "      <td>206</td>\n",
       "      <td>57649.47</td>\n",
       "    </tr>\n",
       "  </tbody>\n",
       "</table>\n",
       "</div>"
      ],
      "text/plain": [
       "                   count      mean\n",
       "locality_name                     \n",
       "санкт-петербург    12086 104681.53\n",
       "поселок мурино       551  85693.19\n",
       "поселок шушары       433  78687.83\n",
       "всеволожск           381  67046.48\n",
       "поселок парголово    326  90332.26\n",
       "колпино              316  75386.96\n",
       "пушкин               302  99666.96\n",
       "деревня кудрово      296  92489.24\n",
       "гатчина              284  68329.85\n",
       "выборг               206  57649.47"
      ]
     },
     "execution_count": 97,
     "metadata": {},
     "output_type": "execute_result"
    }
   ],
   "source": [
    "# создадим сводную таблицу с количеством объявлений средней стоимостью кв. метра по городу\n",
    "locality_prices = good_realty.pivot_table(index = 'locality_name', values = 'price_per_meter', aggfunc=['count', 'mean'])\n",
    "\n",
    "# переименуем столбцы\n",
    "locality_prices.columns = ['count', 'mean']\n",
    "\n",
    "# выведем 10 локаций с наибольшим количеством объявлений и средней стоимость кв. м\n",
    "locality_prices.sort_values('count', ascending = False).head(10)"
   ]
  },
  {
   "cell_type": "markdown",
   "metadata": {},
   "source": [
    "Больше всего объявлений, что абсолютно логично, в Санкт-Петербурге. "
   ]
  },
  {
   "cell_type": "markdown",
   "metadata": {},
   "source": [
    "#### Выделите населённые пункты с самой высокой и низкой стоимостью жилья"
   ]
  },
  {
   "cell_type": "code",
   "execution_count": 98,
   "metadata": {},
   "outputs": [
    {
     "data": {
      "text/html": [
       "<div>\n",
       "<style scoped>\n",
       "    .dataframe tbody tr th:only-of-type {\n",
       "        vertical-align: middle;\n",
       "    }\n",
       "\n",
       "    .dataframe tbody tr th {\n",
       "        vertical-align: top;\n",
       "    }\n",
       "\n",
       "    .dataframe thead th {\n",
       "        text-align: right;\n",
       "    }\n",
       "</style>\n",
       "<table border=\"1\" class=\"dataframe\">\n",
       "  <thead>\n",
       "    <tr style=\"text-align: right;\">\n",
       "      <th></th>\n",
       "      <th>count</th>\n",
       "      <th>mean</th>\n",
       "    </tr>\n",
       "    <tr>\n",
       "      <th>locality_name</th>\n",
       "      <th></th>\n",
       "      <th></th>\n",
       "    </tr>\n",
       "  </thead>\n",
       "  <tbody>\n",
       "    <tr>\n",
       "      <th>поселок лисий нос</th>\n",
       "      <td>2</td>\n",
       "      <td>113728.35</td>\n",
       "    </tr>\n",
       "  </tbody>\n",
       "</table>\n",
       "</div>"
      ],
      "text/plain": [
       "                   count      mean\n",
       "locality_name                     \n",
       "поселок лисий нос      2 113728.35"
      ]
     },
     "execution_count": 98,
     "metadata": {},
     "output_type": "execute_result"
    }
   ],
   "source": [
    "#самая высокая стоимость\n",
    "locality_prices[locality_prices['mean']==locality_prices['mean'].max()]"
   ]
  },
  {
   "cell_type": "code",
   "execution_count": 99,
   "metadata": {},
   "outputs": [
    {
     "data": {
      "text/html": [
       "<div>\n",
       "<style scoped>\n",
       "    .dataframe tbody tr th:only-of-type {\n",
       "        vertical-align: middle;\n",
       "    }\n",
       "\n",
       "    .dataframe tbody tr th {\n",
       "        vertical-align: top;\n",
       "    }\n",
       "\n",
       "    .dataframe thead th {\n",
       "        text-align: right;\n",
       "    }\n",
       "</style>\n",
       "<table border=\"1\" class=\"dataframe\">\n",
       "  <thead>\n",
       "    <tr style=\"text-align: right;\">\n",
       "      <th></th>\n",
       "      <th>count</th>\n",
       "      <th>mean</th>\n",
       "    </tr>\n",
       "    <tr>\n",
       "      <th>locality_name</th>\n",
       "      <th></th>\n",
       "      <th></th>\n",
       "    </tr>\n",
       "  </thead>\n",
       "  <tbody>\n",
       "    <tr>\n",
       "      <th>деревня старополье</th>\n",
       "      <td>3</td>\n",
       "      <td>11206.22</td>\n",
       "    </tr>\n",
       "  </tbody>\n",
       "</table>\n",
       "</div>"
      ],
      "text/plain": [
       "                    count     mean\n",
       "locality_name                     \n",
       "деревня старополье      3 11206.22"
      ]
     },
     "execution_count": 99,
     "metadata": {},
     "output_type": "execute_result"
    }
   ],
   "source": [
    "#самая низкая стоимость\n",
    "locality_prices[locality_prices['mean']==locality_prices['mean'].min()]"
   ]
  },
  {
   "cell_type": "markdown",
   "metadata": {},
   "source": [
    "Самый дорогой квадратный метр в поселке Лисий Нос - 113728.35 руб. А самый дешевый в поселке Совхозный - 11206.22 руб."
   ]
  },
  {
   "cell_type": "markdown",
   "metadata": {},
   "source": [
    "### Изучите предложения квартир: для каждой квартиры есть информация о расстоянии до центра"
   ]
  },
  {
   "cell_type": "markdown",
   "metadata": {},
   "source": [
    "#### Изучение распределения цены в СПб в зависимости от удаленности от центра "
   ]
  },
  {
   "cell_type": "code",
   "execution_count": 100,
   "metadata": {},
   "outputs": [
    {
     "data": {
      "text/plain": [
       "санкт-петербург    12055\n",
       "Name: locality_name, dtype: int64"
      ]
     },
     "execution_count": 100,
     "metadata": {},
     "output_type": "execute_result"
    }
   ],
   "source": [
    "# в отдельной переменной сохраним датафрейм с квартирами только в СПб\n",
    "# срау же уберем значения 0 из расстояний до центра\n",
    "leningrad = good_realty.query('locality_name == \"санкт-петербург\" and city_center != 0')\n",
    "leningrad = leningrad.reset_index()\n",
    "\n",
    "#посмотрим общее число данных\n",
    "leningrad['locality_name'].value_counts()"
   ]
  },
  {
   "cell_type": "code",
   "execution_count": 101,
   "metadata": {},
   "outputs": [],
   "source": [
    "# переведем метры в километры и создадим новый столбец с этими данными\n",
    "leningrad['city_center_km'] = (leningrad['city_center'] / 1000).astype('int')"
   ]
  },
  {
   "cell_type": "code",
   "execution_count": 102,
   "metadata": {},
   "outputs": [
    {
     "data": {
      "text/html": [
       "<div>\n",
       "<style scoped>\n",
       "    .dataframe tbody tr th:only-of-type {\n",
       "        vertical-align: middle;\n",
       "    }\n",
       "\n",
       "    .dataframe tbody tr th {\n",
       "        vertical-align: top;\n",
       "    }\n",
       "\n",
       "    .dataframe thead th {\n",
       "        text-align: right;\n",
       "    }\n",
       "</style>\n",
       "<table border=\"1\" class=\"dataframe\">\n",
       "  <thead>\n",
       "    <tr style=\"text-align: right;\">\n",
       "      <th></th>\n",
       "      <th>price</th>\n",
       "    </tr>\n",
       "    <tr>\n",
       "      <th>city_center_km</th>\n",
       "      <th></th>\n",
       "    </tr>\n",
       "  </thead>\n",
       "  <tbody>\n",
       "    <tr>\n",
       "      <th>0</th>\n",
       "      <td>7550428.57</td>\n",
       "    </tr>\n",
       "    <tr>\n",
       "      <th>1</th>\n",
       "      <td>7859803.03</td>\n",
       "    </tr>\n",
       "    <tr>\n",
       "      <th>2</th>\n",
       "      <td>7257736.25</td>\n",
       "    </tr>\n",
       "    <tr>\n",
       "      <th>3</th>\n",
       "      <td>6798531.38</td>\n",
       "    </tr>\n",
       "    <tr>\n",
       "      <th>4</th>\n",
       "      <td>7382869.87</td>\n",
       "    </tr>\n",
       "    <tr>\n",
       "      <th>5</th>\n",
       "      <td>7165892.90</td>\n",
       "    </tr>\n",
       "    <tr>\n",
       "      <th>6</th>\n",
       "      <td>6778138.21</td>\n",
       "    </tr>\n",
       "    <tr>\n",
       "      <th>7</th>\n",
       "      <td>6578801.56</td>\n",
       "    </tr>\n",
       "    <tr>\n",
       "      <th>8</th>\n",
       "      <td>5732874.59</td>\n",
       "    </tr>\n",
       "    <tr>\n",
       "      <th>9</th>\n",
       "      <td>5101287.64</td>\n",
       "    </tr>\n",
       "    <tr>\n",
       "      <th>10</th>\n",
       "      <td>5184835.54</td>\n",
       "    </tr>\n",
       "    <tr>\n",
       "      <th>11</th>\n",
       "      <td>5204731.57</td>\n",
       "    </tr>\n",
       "    <tr>\n",
       "      <th>12</th>\n",
       "      <td>5306567.10</td>\n",
       "    </tr>\n",
       "    <tr>\n",
       "      <th>13</th>\n",
       "      <td>5467368.45</td>\n",
       "    </tr>\n",
       "    <tr>\n",
       "      <th>14</th>\n",
       "      <td>5216434.14</td>\n",
       "    </tr>\n",
       "    <tr>\n",
       "      <th>15</th>\n",
       "      <td>5080458.65</td>\n",
       "    </tr>\n",
       "    <tr>\n",
       "      <th>16</th>\n",
       "      <td>5016596.62</td>\n",
       "    </tr>\n",
       "    <tr>\n",
       "      <th>17</th>\n",
       "      <td>4630590.66</td>\n",
       "    </tr>\n",
       "    <tr>\n",
       "      <th>18</th>\n",
       "      <td>4749623.37</td>\n",
       "    </tr>\n",
       "    <tr>\n",
       "      <th>19</th>\n",
       "      <td>4549787.06</td>\n",
       "    </tr>\n",
       "    <tr>\n",
       "      <th>20</th>\n",
       "      <td>6225341.62</td>\n",
       "    </tr>\n",
       "    <tr>\n",
       "      <th>21</th>\n",
       "      <td>5026518.20</td>\n",
       "    </tr>\n",
       "    <tr>\n",
       "      <th>22</th>\n",
       "      <td>5050806.06</td>\n",
       "    </tr>\n",
       "    <tr>\n",
       "      <th>23</th>\n",
       "      <td>4126866.67</td>\n",
       "    </tr>\n",
       "    <tr>\n",
       "      <th>24</th>\n",
       "      <td>3862235.00</td>\n",
       "    </tr>\n",
       "    <tr>\n",
       "      <th>25</th>\n",
       "      <td>4026601.36</td>\n",
       "    </tr>\n",
       "    <tr>\n",
       "      <th>26</th>\n",
       "      <td>3375000.00</td>\n",
       "    </tr>\n",
       "    <tr>\n",
       "      <th>27</th>\n",
       "      <td>2250000.00</td>\n",
       "    </tr>\n",
       "    <tr>\n",
       "      <th>28</th>\n",
       "      <td>4611666.67</td>\n",
       "    </tr>\n",
       "    <tr>\n",
       "      <th>29</th>\n",
       "      <td>2450000.00</td>\n",
       "    </tr>\n",
       "  </tbody>\n",
       "</table>\n",
       "</div>"
      ],
      "text/plain": [
       "                    price\n",
       "city_center_km           \n",
       "0              7550428.57\n",
       "1              7859803.03\n",
       "2              7257736.25\n",
       "3              6798531.38\n",
       "4              7382869.87\n",
       "5              7165892.90\n",
       "6              6778138.21\n",
       "7              6578801.56\n",
       "8              5732874.59\n",
       "9              5101287.64\n",
       "10             5184835.54\n",
       "11             5204731.57\n",
       "12             5306567.10\n",
       "13             5467368.45\n",
       "14             5216434.14\n",
       "15             5080458.65\n",
       "16             5016596.62\n",
       "17             4630590.66\n",
       "18             4749623.37\n",
       "19             4549787.06\n",
       "20             6225341.62\n",
       "21             5026518.20\n",
       "22             5050806.06\n",
       "23             4126866.67\n",
       "24             3862235.00\n",
       "25             4026601.36\n",
       "26             3375000.00\n",
       "27             2250000.00\n",
       "28             4611666.67\n",
       "29             2450000.00"
      ]
     },
     "execution_count": 102,
     "metadata": {},
     "output_type": "execute_result"
    }
   ],
   "source": [
    "# создадим сводную таблицу для среднего значения цены по км от центра\n",
    "prices_from_center = leningrad.pivot_table(index='city_center_km', values='price')\n",
    "prices_from_center"
   ]
  },
  {
   "cell_type": "code",
   "execution_count": 103,
   "metadata": {},
   "outputs": [
    {
     "data": {
      "image/png": "[encoded data removed]",
      "text/plain": [
       "<Figure size 720x504 with 1 Axes>"
      ]
     },
     "metadata": {},
     "output_type": "display_data"
    }
   ],
   "source": [
    "# выведем график изменения средней цены недвижимости по мере движения от центра \n",
    "plt.figure(figsize=(10, 7))\n",
    "ax = sns.lineplot(data=prices_from_center, x='city_center_km', y='price')\n",
    "plt.title('Изменение цены недвижимости по мере движения от центра', fontsize=16)\n",
    "plt.xlabel('Расстояние (км.)', fontsize=14)\n",
    "plt.ylabel('Цена', fontsize=14)\n",
    "plt.show()"
   ]
  },
  {
   "cell_type": "markdown",
   "metadata": {},
   "source": [
    "Цена начинает значительно падать примерно после 7 км. \n",
    "Рассмотрим значения до 7 км."
   ]
  },
  {
   "cell_type": "markdown",
   "metadata": {},
   "source": [
    "### Выделите сегмент квартир в центре"
   ]
  },
  {
   "cell_type": "markdown",
   "metadata": {},
   "source": [
    "#### Изучение данных квартир в центре СПб"
   ]
  },
  {
   "cell_type": "code",
   "execution_count": 104,
   "metadata": {},
   "outputs": [],
   "source": [
    "# выделим датафрейм удовлетворяющий условию\n",
    "leningrad_heart = leningrad.query('city_center_km <= 7')"
   ]
  },
  {
   "cell_type": "code",
   "execution_count": 105,
   "metadata": {},
   "outputs": [
    {
     "data": {
      "text/html": [
       "<div>\n",
       "<style scoped>\n",
       "    .dataframe tbody tr th:only-of-type {\n",
       "        vertical-align: middle;\n",
       "    }\n",
       "\n",
       "    .dataframe tbody tr th {\n",
       "        vertical-align: top;\n",
       "    }\n",
       "\n",
       "    .dataframe thead th {\n",
       "        text-align: right;\n",
       "    }\n",
       "</style>\n",
       "<table border=\"1\" class=\"dataframe\">\n",
       "  <thead>\n",
       "    <tr style=\"text-align: right;\">\n",
       "      <th></th>\n",
       "      <th>total_area</th>\n",
       "      <th>price</th>\n",
       "      <th>rooms</th>\n",
       "      <th>ceiling_height</th>\n",
       "    </tr>\n",
       "  </thead>\n",
       "  <tbody>\n",
       "    <tr>\n",
       "      <th>count</th>\n",
       "      <td>1428.00</td>\n",
       "      <td>1428.00</td>\n",
       "      <td>1428.00</td>\n",
       "      <td>1428.00</td>\n",
       "    </tr>\n",
       "    <tr>\n",
       "      <th>mean</th>\n",
       "      <td>60.42</td>\n",
       "      <td>7051286.48</td>\n",
       "      <td>2.09</td>\n",
       "      <td>2.65</td>\n",
       "    </tr>\n",
       "    <tr>\n",
       "      <th>std</th>\n",
       "      <td>20.15</td>\n",
       "      <td>2188709.37</td>\n",
       "      <td>0.89</td>\n",
       "      <td>0.08</td>\n",
       "    </tr>\n",
       "    <tr>\n",
       "      <th>min</th>\n",
       "      <td>12.00</td>\n",
       "      <td>1686000.00</td>\n",
       "      <td>1.00</td>\n",
       "      <td>2.40</td>\n",
       "    </tr>\n",
       "    <tr>\n",
       "      <th>25%</th>\n",
       "      <td>44.27</td>\n",
       "      <td>5350000.00</td>\n",
       "      <td>1.00</td>\n",
       "      <td>2.60</td>\n",
       "    </tr>\n",
       "    <tr>\n",
       "      <th>50%</th>\n",
       "      <td>58.30</td>\n",
       "      <td>6840000.00</td>\n",
       "      <td>2.00</td>\n",
       "      <td>2.65</td>\n",
       "    </tr>\n",
       "    <tr>\n",
       "      <th>75%</th>\n",
       "      <td>73.00</td>\n",
       "      <td>8600000.00</td>\n",
       "      <td>3.00</td>\n",
       "      <td>2.70</td>\n",
       "    </tr>\n",
       "    <tr>\n",
       "      <th>max</th>\n",
       "      <td>114.20</td>\n",
       "      <td>11879250.00</td>\n",
       "      <td>6.00</td>\n",
       "      <td>2.85</td>\n",
       "    </tr>\n",
       "  </tbody>\n",
       "</table>\n",
       "</div>"
      ],
      "text/plain": [
       "       total_area       price   rooms  ceiling_height\n",
       "count     1428.00     1428.00 1428.00         1428.00\n",
       "mean        60.42  7051286.48    2.09            2.65\n",
       "std         20.15  2188709.37    0.89            0.08\n",
       "min         12.00  1686000.00    1.00            2.40\n",
       "25%         44.27  5350000.00    1.00            2.60\n",
       "50%         58.30  6840000.00    2.00            2.65\n",
       "75%         73.00  8600000.00    3.00            2.70\n",
       "max        114.20 11879250.00    6.00            2.85"
      ]
     },
     "execution_count": 105,
     "metadata": {},
     "output_type": "execute_result"
    }
   ],
   "source": [
    "# ознакомимся с данными изучаемым параметрам\n",
    "leningrad_heart[['total_area', 'price', 'rooms', 'ceiling_height']].describe()"
   ]
  },
  {
   "cell_type": "markdown",
   "metadata": {},
   "source": [
    "Среднее значение площади 79.60 кв.м, а медианное - 74.40 кв.м. \n",
    "При этом масимальное значение - 197.20 \n",
    "\n",
    "Средняя цена 9.2 млн, а медианное значение - 8.4 млн.\n",
    "\n",
    "Среднее количество комнат - 2.7, при медианном - 3 комнаты.\n",
    "\n",
    "И высота потолков: средняя - 2.97 м, медиана - 2.9"
   ]
  },
  {
   "cell_type": "markdown",
   "metadata": {},
   "source": [
    "#### Корреляция цены с числовыми столбцами: площадь, число комнат, удалённость от центра"
   ]
  },
  {
   "cell_type": "code",
   "execution_count": 106,
   "metadata": {},
   "outputs": [
    {
     "data": {
      "image/png": "[encoded data removed]",
      "text/plain": [
       "<Figure size 720x504 with 2 Axes>"
      ]
     },
     "metadata": {},
     "output_type": "display_data"
    }
   ],
   "source": [
    "corrMatrix = leningrad_heart[['price', 'total_area', 'ceiling_height', 'rooms', 'city_center']].corr()\n",
    "fig, ax = plt.subplots(figsize=(10,7)) \n",
    "sns.heatmap(corrMatrix, annot=True, \n",
    "            cbar_kws={'orientation': 'horizontal', \n",
    "                      'label': 'Величина коэффициента корреляции Пирсона'},\n",
    "            cmap='flare')\n",
    "plt.show() "
   ]
  },
  {
   "cell_type": "markdown",
   "metadata": {},
   "source": [
    "Корреляции для квартир в центре: \n",
    "- цена-площадь - положительная средняя (0.69)\n",
    "- цена-высота потолков - положительная очень слабая (0.21)\n",
    "- цена-количество комнат - положительная слабая (0.47)\n",
    "- цена-расстояние до центра - отрицательная очень слабая (-0.05)"
   ]
  },
  {
   "cell_type": "markdown",
   "metadata": {},
   "source": [
    "#### Корреляция цены с этажом, днем недели, месяцем и годом."
   ]
  },
  {
   "cell_type": "code",
   "execution_count": 107,
   "metadata": {},
   "outputs": [
    {
     "data": {
      "image/png": "[encoded data removed]",
      "text/plain": [
       "<Figure size 864x504 with 1 Axes>"
      ]
     },
     "metadata": {},
     "output_type": "display_data"
    }
   ],
   "source": [
    "# построим диаграмму для сопоставления цены и категории этажа\n",
    "plt.figure(figsize=(12, 7))\n",
    "sns.set_theme(style='whitegrid', color_codes=True)\n",
    "sns.set_palette('magma')\n",
    "sns.barplot(data=leningrad_heart, \n",
    "                x='floor_category', \n",
    "                y='price', \n",
    "                palette=sns.color_palette('vlag_r'))\n",
    "plt.title('Цена недвижимости в зависимости от категории этажа', fontsize=16)\n",
    "plt.xlabel('Категории этажей расположения', fontsize=14)\n",
    "plt.ylabel('Цена недвижимости', fontsize=14)\n",
    "plt.show()"
   ]
  },
  {
   "cell_type": "code",
   "execution_count": 108,
   "metadata": {},
   "outputs": [
    {
     "data": {
      "image/png": "[encoded data removed]",
      "text/plain": [
       "<Figure size 864x504 with 1 Axes>"
      ]
     },
     "metadata": {},
     "output_type": "display_data"
    }
   ],
   "source": [
    "# построим диаграмму для сопоставления цены и дня недели публикации объявления\n",
    "plt.figure(figsize=(12, 7))\n",
    "sns.set_theme(style='whitegrid')\n",
    "sns.barplot(data=leningrad_heart, \n",
    "                x='dayofweek_exposition', \n",
    "                y='price', \n",
    "                palette=sns.color_palette('plasma_r'))\n",
    "plt.title('Цена недвижимости в зависимости от дня недели публикации', fontsize=16)\n",
    "plt.xlabel('День недели', fontsize=14)\n",
    "plt.ylabel('Цена недвижимости', fontsize=14)\n",
    "plt.show()"
   ]
  },
  {
   "cell_type": "code",
   "execution_count": 109,
   "metadata": {},
   "outputs": [
    {
     "data": {
      "image/png": "[encoded data removed]",
      "text/plain": [
       "<Figure size 864x504 with 1 Axes>"
      ]
     },
     "metadata": {},
     "output_type": "display_data"
    }
   ],
   "source": [
    "# построим диаграмму для сопоставления цены и месяца публикации объявления\n",
    "plt.figure(figsize=(12, 7))\n",
    "sns.set_theme(style='whitegrid')\n",
    "sns.barplot(data=leningrad_heart, \n",
    "                x='month_exposition', \n",
    "                y='price', \n",
    "                palette=sns.color_palette('magma'))\n",
    "plt.title(\"Корреляция цены с месяцем публикации\", size=16)\n",
    "plt.ylabel(\"Цена недвижимости\", size=14)\n",
    "plt.xlabel(\"Месяц\", size=14)\n",
    "plt.show()"
   ]
  },
  {
   "cell_type": "code",
   "execution_count": 110,
   "metadata": {},
   "outputs": [
    {
     "data": {
      "image/png": "[encoded data removed]",
      "text/plain": [
       "<Figure size 864x504 with 1 Axes>"
      ]
     },
     "metadata": {},
     "output_type": "display_data"
    }
   ],
   "source": [
    "# построим диаграмму для сопоставления цены и года публикации объявления\n",
    "plt.figure(figsize=(12, 7))\n",
    "sns.set_theme(style='whitegrid')\n",
    "sns.barplot(data=leningrad_heart, \n",
    "                x='year_exposition', \n",
    "                y='price', \n",
    "                palette=sns.color_palette('icefire'))\n",
    "plt.title(\"Корреляция цены с годом публикации\", size=16)\n",
    "plt.ylabel(\"Цена недвижимости\", size=14)\n",
    "plt.xlabel(\"Год\", size=14)\n",
    "plt.show()"
   ]
  },
  {
   "cell_type": "markdown",
   "metadata": {},
   "source": [
    "Как и везде, цена первого этажа ниже, чем у остальных.\n",
    "\n",
    "В данном случае (по сравнению, с отальными локациями) уже наблюдаются некоторые колебания цены в зависимости от месяца - при публикации в феврале, мае, ноябре и сентябре наблюдаются цены выше.\n",
    "\n",
    "Так же наблюдаются небольшие отклонения по цене в зависимости от года - с 2015 года цена незначительно, но падает.\n",
    "\n",
    "В целом есть незначительные отличия от остальных локаций. "
   ]
  },
  {
   "cell_type": "markdown",
   "metadata": {},
   "source": [
    "## Шаг 5. Общий вывод"
   ]
  },
  {
   "cell_type": "markdown",
   "metadata": {},
   "source": [
    "Был обработан бльшой массив данных и поведена масса манипуляций:  \n",
    "- обработаны пропущенные значения\n",
    "- заменены типы данных \n",
    "- посчиталны и добавили в таблицу: \n",
    "    - цена квадратного метра жилья\n",
    "    - выведены из даты дни недели, месяцы и годы размещения объявлений, \n",
    "    - добавлены категории по этажам квартир. \n",
    "- на наличие выбросов изучены следующие параметры: \n",
    "    - площадь \n",
    "    - цена \n",
    "    - число комнат \n",
    "    - высота потолков\n",
    "    - время продажи квартир\n",
    "    \n",
    "Благодаря всем этим операциям было выяснено, что: \n",
    "- нормальные сроки продажи квартир варьируются от 1 до 600 дней\n",
    "- на стоимость квартиры больше всего влияют площадь и количество комнат\n",
    "- стоимость квартир за пределами центра СПб не зависит от даты публикации\n",
    "- корреляции между ценой и другими параметрами выше за пределами центра СПб\n",
    "- самый дорогой квадратный метр находится не в СПб, а в поселке Лисий Нос"
   ]
  }
 ],
 "metadata": {
  "kernelspec": {
   "display_name": "Python 3 (ipykernel)",
   "language": "python",
   "name": "python3"
  },
  "language_info": {
   "codemirror_mode": {
    "name": "ipython",
    "version": 3
   },
   "file_extension": ".py",
   "mimetype": "text/x-python",
   "name": "python",
   "nbconvert_exporter": "python",
   "pygments_lexer": "ipython3",
   "version": "3.9.6"
  },
  "toc": {
   "base_numbering": 1,
   "nav_menu": {},
   "number_sections": false,
   "sideBar": true,
   "skip_h1_title": false,
   "title_cell": "Оглавление",
   "title_sidebar": "Contents",
   "toc_cell": true,
   "toc_position": {
    "height": "calc(100% - 180px)",
    "left": "10px",
    "top": "150px",
    "width": "324px"
   },
   "toc_section_display": true,
   "toc_window_display": true
  }
 },
 "nbformat": 4,
 "nbformat_minor": 2
}
