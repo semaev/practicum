{
 "cells": [
  {
   "cell_type": "markdown",
   "metadata": {},
   "source": [
    "# Рекомендация тарифов"
   ]
  },
  {
   "cell_type": "markdown",
   "metadata": {},
   "source": [
    "Оператор мобильной связи «Мегалайн» выяснил: многие клиенты пользуются архивными тарифами. Они хотят построить систему, способную проанализировать поведение клиентов и предложить пользователям новый тариф: «Смарт» или «Ультра».\n",
    "В вашем распоряжении данные о поведении клиентов, которые уже перешли на эти тарифы (из проекта курса «Статистический анализ данных»). Нужно построить модель для задачи классификации, которая выберет подходящий тариф. Предобработка данных не понадобится — вы её уже сделали.\n",
    "Постройте модель с максимально большим значением accuracy. Чтобы сдать проект успешно, нужно довести долю правильных ответов по крайней мере до 0.75. Проверьте accuracy на тестовой выборке самостоятельно."
   ]
  },
  {
   "cell_type": "code",
   "execution_count": 1,
   "metadata": {},
   "outputs": [],
   "source": [
    "import pandas as pd\n",
    "import numpy as np\n",
    "from sklearn.tree import DecisionTreeClassifier\n",
    "from sklearn.ensemble import RandomForestClassifier\n",
    "from sklearn.linear_model import LogisticRegression\n",
    "from sklearn.metrics import accuracy_score\n",
    "from sklearn.model_selection import train_test_split\n",
    "from sklearn.metrics import mean_squared_error\n",
    "from sklearn.metrics import mean_absolute_error\n",
    "from sklearn.dummy import DummyClassifier\n",
    "\n",
    "pd.options.display.float_format = \"{:.2f}\".format"
   ]
  },
  {
   "cell_type": "markdown",
   "metadata": {},
   "source": [
    "## Откройте и изучите файл"
   ]
  },
  {
   "cell_type": "code",
   "execution_count": 2,
   "metadata": {},
   "outputs": [],
   "source": [
    "try:\n",
    "    behavior = pd.read_csv('/Users/mikhail/Desktop/praktikum/project_6/users_behavior.csv')\n",
    "except:\n",
    "    behavior = pd.read_csv('datasets/users_behavior.csv')"
   ]
  },
  {
   "cell_type": "code",
   "execution_count": 3,
   "metadata": {},
   "outputs": [
    {
     "data": {
      "text/html": [
       "<div>\n",
       "<style scoped>\n",
       "    .dataframe tbody tr th:only-of-type {\n",
       "        vertical-align: middle;\n",
       "    }\n",
       "\n",
       "    .dataframe tbody tr th {\n",
       "        vertical-align: top;\n",
       "    }\n",
       "\n",
       "    .dataframe thead th {\n",
       "        text-align: right;\n",
       "    }\n",
       "</style>\n",
       "<table border=\"1\" class=\"dataframe\">\n",
       "  <thead>\n",
       "    <tr style=\"text-align: right;\">\n",
       "      <th></th>\n",
       "      <th>calls</th>\n",
       "      <th>minutes</th>\n",
       "      <th>messages</th>\n",
       "      <th>mb_used</th>\n",
       "      <th>is_ultra</th>\n",
       "    </tr>\n",
       "  </thead>\n",
       "  <tbody>\n",
       "    <tr>\n",
       "      <th>0</th>\n",
       "      <td>40.00</td>\n",
       "      <td>311.90</td>\n",
       "      <td>83.00</td>\n",
       "      <td>19915.42</td>\n",
       "      <td>0</td>\n",
       "    </tr>\n",
       "    <tr>\n",
       "      <th>1</th>\n",
       "      <td>85.00</td>\n",
       "      <td>516.75</td>\n",
       "      <td>56.00</td>\n",
       "      <td>22696.96</td>\n",
       "      <td>0</td>\n",
       "    </tr>\n",
       "    <tr>\n",
       "      <th>2</th>\n",
       "      <td>77.00</td>\n",
       "      <td>467.66</td>\n",
       "      <td>86.00</td>\n",
       "      <td>21060.45</td>\n",
       "      <td>0</td>\n",
       "    </tr>\n",
       "    <tr>\n",
       "      <th>3</th>\n",
       "      <td>106.00</td>\n",
       "      <td>745.53</td>\n",
       "      <td>81.00</td>\n",
       "      <td>8437.39</td>\n",
       "      <td>1</td>\n",
       "    </tr>\n",
       "    <tr>\n",
       "      <th>4</th>\n",
       "      <td>66.00</td>\n",
       "      <td>418.74</td>\n",
       "      <td>1.00</td>\n",
       "      <td>14502.75</td>\n",
       "      <td>0</td>\n",
       "    </tr>\n",
       "  </tbody>\n",
       "</table>\n",
       "</div>"
      ],
      "text/plain": [
       "   calls  minutes  messages  mb_used  is_ultra\n",
       "0  40.00   311.90     83.00 19915.42         0\n",
       "1  85.00   516.75     56.00 22696.96         0\n",
       "2  77.00   467.66     86.00 21060.45         0\n",
       "3 106.00   745.53     81.00  8437.39         1\n",
       "4  66.00   418.74      1.00 14502.75         0"
      ]
     },
     "execution_count": 3,
     "metadata": {},
     "output_type": "execute_result"
    }
   ],
   "source": [
    "# ознакомимся с таблицей \n",
    "\n",
    "behavior.head()"
   ]
  },
  {
   "cell_type": "code",
   "execution_count": 4,
   "metadata": {},
   "outputs": [
    {
     "name": "stdout",
     "output_type": "stream",
     "text": [
      "<class 'pandas.core.frame.DataFrame'>\n",
      "RangeIndex: 3214 entries, 0 to 3213\n",
      "Data columns (total 5 columns):\n",
      " #   Column    Non-Null Count  Dtype  \n",
      "---  ------    --------------  -----  \n",
      " 0   calls     3214 non-null   float64\n",
      " 1   minutes   3214 non-null   float64\n",
      " 2   messages  3214 non-null   float64\n",
      " 3   mb_used   3214 non-null   float64\n",
      " 4   is_ultra  3214 non-null   int64  \n",
      "dtypes: float64(4), int64(1)\n",
      "memory usage: 125.7 KB\n"
     ]
    },
    {
     "data": {
      "text/plain": [
       "None"
      ]
     },
     "metadata": {},
     "output_type": "display_data"
    },
    {
     "data": {
      "text/html": [
       "<div>\n",
       "<style scoped>\n",
       "    .dataframe tbody tr th:only-of-type {\n",
       "        vertical-align: middle;\n",
       "    }\n",
       "\n",
       "    .dataframe tbody tr th {\n",
       "        vertical-align: top;\n",
       "    }\n",
       "\n",
       "    .dataframe thead th {\n",
       "        text-align: right;\n",
       "    }\n",
       "</style>\n",
       "<table border=\"1\" class=\"dataframe\">\n",
       "  <thead>\n",
       "    <tr style=\"text-align: right;\">\n",
       "      <th></th>\n",
       "      <th>calls</th>\n",
       "      <th>minutes</th>\n",
       "      <th>messages</th>\n",
       "      <th>mb_used</th>\n",
       "      <th>is_ultra</th>\n",
       "    </tr>\n",
       "  </thead>\n",
       "  <tbody>\n",
       "    <tr>\n",
       "      <th>count</th>\n",
       "      <td>3214.00</td>\n",
       "      <td>3214.00</td>\n",
       "      <td>3214.00</td>\n",
       "      <td>3214.00</td>\n",
       "      <td>3214.00</td>\n",
       "    </tr>\n",
       "    <tr>\n",
       "      <th>mean</th>\n",
       "      <td>63.04</td>\n",
       "      <td>438.21</td>\n",
       "      <td>38.28</td>\n",
       "      <td>17207.67</td>\n",
       "      <td>0.31</td>\n",
       "    </tr>\n",
       "    <tr>\n",
       "      <th>std</th>\n",
       "      <td>33.24</td>\n",
       "      <td>234.57</td>\n",
       "      <td>36.15</td>\n",
       "      <td>7570.97</td>\n",
       "      <td>0.46</td>\n",
       "    </tr>\n",
       "    <tr>\n",
       "      <th>min</th>\n",
       "      <td>0.00</td>\n",
       "      <td>0.00</td>\n",
       "      <td>0.00</td>\n",
       "      <td>0.00</td>\n",
       "      <td>0.00</td>\n",
       "    </tr>\n",
       "    <tr>\n",
       "      <th>25%</th>\n",
       "      <td>40.00</td>\n",
       "      <td>274.58</td>\n",
       "      <td>9.00</td>\n",
       "      <td>12491.90</td>\n",
       "      <td>0.00</td>\n",
       "    </tr>\n",
       "    <tr>\n",
       "      <th>50%</th>\n",
       "      <td>62.00</td>\n",
       "      <td>430.60</td>\n",
       "      <td>30.00</td>\n",
       "      <td>16943.24</td>\n",
       "      <td>0.00</td>\n",
       "    </tr>\n",
       "    <tr>\n",
       "      <th>75%</th>\n",
       "      <td>82.00</td>\n",
       "      <td>571.93</td>\n",
       "      <td>57.00</td>\n",
       "      <td>21424.70</td>\n",
       "      <td>1.00</td>\n",
       "    </tr>\n",
       "    <tr>\n",
       "      <th>max</th>\n",
       "      <td>244.00</td>\n",
       "      <td>1632.06</td>\n",
       "      <td>224.00</td>\n",
       "      <td>49745.73</td>\n",
       "      <td>1.00</td>\n",
       "    </tr>\n",
       "  </tbody>\n",
       "</table>\n",
       "</div>"
      ],
      "text/plain": [
       "        calls  minutes  messages  mb_used  is_ultra\n",
       "count 3214.00  3214.00   3214.00  3214.00   3214.00\n",
       "mean    63.04   438.21     38.28 17207.67      0.31\n",
       "std     33.24   234.57     36.15  7570.97      0.46\n",
       "min      0.00     0.00      0.00     0.00      0.00\n",
       "25%     40.00   274.58      9.00 12491.90      0.00\n",
       "50%     62.00   430.60     30.00 16943.24      0.00\n",
       "75%     82.00   571.93     57.00 21424.70      1.00\n",
       "max    244.00  1632.06    224.00 49745.73      1.00"
      ]
     },
     "metadata": {},
     "output_type": "display_data"
    }
   ],
   "source": [
    "display(behavior.info())\n",
    "display(behavior.describe())"
   ]
  },
  {
   "cell_type": "markdown",
   "metadata": {},
   "source": [
    "Пропусков нет, аномалий не выявлено. \n",
    "\n",
    "Можно избавиться от float и округлить минуты и мб в большую сторону (все еще свежи воспоминания).\n",
    "\n",
    "Так же необходимо преобразовать столбец 'is_ultra': переименуем его в 'tariff' и заменим знаяения 0 на smart, a 1 на ultra"
   ]
  },
  {
   "cell_type": "markdown",
   "metadata": {},
   "source": [
    "### Подготовка данных"
   ]
  },
  {
   "cell_type": "code",
   "execution_count": 5,
   "metadata": {},
   "outputs": [],
   "source": [
    "# округлим количество минут и мб в большую сторону\n",
    "# и поменяем тип данных \n",
    "\n",
    "behavior['minutes'] = behavior['minutes'].apply(np.ceil).astype(int)\n",
    "behavior['mb_used'] = behavior['mb_used'].apply(np.ceil).astype(int)\n",
    "\n",
    "\n",
    "# меняем тип данных в столбцах с количеством звонков и сообщений\n",
    "\n",
    "behavior['messages'] = behavior['messages'].astype(int)\n",
    "behavior['calls'] = behavior['calls'].astype(int)"
   ]
  },
  {
   "cell_type": "code",
   "execution_count": 6,
   "metadata": {},
   "outputs": [],
   "source": [
    "# переименуем столбец 'is_ultra'\n",
    "\n",
    "behavior = behavior.rename(columns = {'is_ultra': 'tariff'})"
   ]
  },
  {
   "cell_type": "code",
   "execution_count": 7,
   "metadata": {},
   "outputs": [],
   "source": [
    "# заменим данные в столбце 'tariff'\n",
    "\n",
    "behavior['tariff'] = behavior['tariff'].replace(0, 'smart')\n",
    "behavior['tariff'] = behavior['tariff'].replace(1, 'ultra')"
   ]
  },
  {
   "cell_type": "code",
   "execution_count": 8,
   "metadata": {},
   "outputs": [
    {
     "name": "stdout",
     "output_type": "stream",
     "text": [
      "<class 'pandas.core.frame.DataFrame'>\n",
      "RangeIndex: 3214 entries, 0 to 3213\n",
      "Data columns (total 5 columns):\n",
      " #   Column    Non-Null Count  Dtype \n",
      "---  ------    --------------  ----- \n",
      " 0   calls     3214 non-null   int64 \n",
      " 1   minutes   3214 non-null   int64 \n",
      " 2   messages  3214 non-null   int64 \n",
      " 3   mb_used   3214 non-null   int64 \n",
      " 4   tariff    3214 non-null   object\n",
      "dtypes: int64(4), object(1)\n",
      "memory usage: 125.7+ KB\n"
     ]
    }
   ],
   "source": [
    "behavior.info()"
   ]
  },
  {
   "cell_type": "markdown",
   "metadata": {},
   "source": [
    "## Разбейте данные на выборки"
   ]
  },
  {
   "cell_type": "markdown",
   "metadata": {},
   "source": [
    "Разобью представленные данные на три выборки в пропорциях 60-20-20: \n",
    "- 60% - треничровочная выборка \n",
    "- 20% - валидационная выборка \n",
    "- 20% - тестовая выборка"
   ]
  },
  {
   "cell_type": "code",
   "execution_count": 9,
   "metadata": {},
   "outputs": [],
   "source": [
    "# зададим признаки - все данные таблицы помимо столбца с названиями тарифов\n",
    "features = behavior.drop(['tariff'], axis=1)\n",
    "# ключевой признак будет - название тарифа\n",
    "target = behavior['tariff']\n",
    "\n",
    "\n",
    "# так как нам необходимо разделить датафрейм на три части, то для начала создадим две выборки \n",
    "# это будут тренировочная и тестовая выборка\n",
    "# 80% оставляем на тренировочную и 20% отбираем для тестовой\n",
    "\n",
    "features_train, features_test, target_train, target_test = \\\n",
    "train_test_split(features, target, test_size=0.20, random_state=123) \n",
    "\n",
    "\n",
    "# и создаем третью выборку - валидационную \n",
    "# для этого от тренировочной выборки заберем 25%\n",
    "\n",
    "features_train, features_valid, target_train, target_valid = \\\n",
    "train_test_split(features_train, target_train, test_size=0.25, random_state=123)"
   ]
  },
  {
   "cell_type": "markdown",
   "metadata": {},
   "source": [
    "## Исследуйте модели"
   ]
  },
  {
   "cell_type": "markdown",
   "metadata": {},
   "source": [
    "Построим несколько моделей и обучим их на тренировочной выборке. \n",
    "\n",
    "Каждую модель проверим на качество метрикой accuracy по валидационной выборке. "
   ]
  },
  {
   "cell_type": "markdown",
   "metadata": {},
   "source": [
    "### Модель \"Дерево решений\""
   ]
  },
  {
   "cell_type": "code",
   "execution_count": 10,
   "metadata": {},
   "outputs": [
    {
     "name": "stdout",
     "output_type": "stream",
     "text": [
      "Параметры лучше модели: DecisionTreeClassifier(max_depth=9, random_state=123)\n",
      "Accuracy лучшей модели на валидационной выборке: 79.00467 %\n"
     ]
    }
   ],
   "source": [
    "# создадим цикл для поиска наилучшей модели \"Дерево решений\" с глубиной от 1 до 10\n",
    "# цикл покажет параметры лучшей моедли и значение accuracy\n",
    "\n",
    "best_model = None\n",
    "best_result = 0\n",
    "for depth in range(1, 21):\n",
    "    tree_model = DecisionTreeClassifier(random_state=123, max_depth=depth) \n",
    "    tree_model.fit(features_train, target_train)\n",
    "    tree_predictions = tree_model.predict(features_valid)\n",
    "    tree_result = accuracy_score(target_valid, tree_predictions)\n",
    "    if tree_result > best_result:\n",
    "        best_model = tree_model\n",
    "        best_result = tree_result\n",
    "print('Параметры лучше модели:', best_model)       \n",
    "print('Accuracy лучшей модели на валидационной выборке:', round(best_result*100,5), '%')"
   ]
  },
  {
   "cell_type": "code",
   "execution_count": 11,
   "metadata": {},
   "outputs": [
    {
     "data": {
      "text/plain": [
       "DecisionTreeClassifier(max_depth=9, random_state=123)"
      ]
     },
     "execution_count": 11,
     "metadata": {},
     "output_type": "execute_result"
    }
   ],
   "source": [
    "# сохраним лучшую модель \"Дерево решений\" с указанными параметрами\n",
    "\n",
    "tree_model = DecisionTreeClassifier(random_state=123, max_depth=9)\n",
    "tree_model.fit(features_train, target_train)"
   ]
  },
  {
   "cell_type": "markdown",
   "metadata": {},
   "source": [
    "### Модель \"Случайный лес\""
   ]
  },
  {
   "cell_type": "code",
   "execution_count": 12,
   "metadata": {},
   "outputs": [
    {
     "name": "stdout",
     "output_type": "stream",
     "text": [
      "Параметры лучше модели: RandomForestClassifier(max_depth=20, n_estimators=40, random_state=123)\n",
      "Accuracy лучшей модели на валидационной выборке: 80.7154 %\n"
     ]
    }
   ],
   "source": [
    "# создадим цикл для поиска наилучшей модели \"случайный лес\" \n",
    "# с количеством деревьев от 10 до 50 и шагом 10 \n",
    "# с глубиной от 1 до 20\n",
    "\n",
    "best_model = 0\n",
    "best_result = 0\n",
    "for est in range(10, 51, 10):\n",
    "    for depth in range (1, 21):\n",
    "        forest_model = RandomForestClassifier(random_state=123, n_estimators=est, \\\n",
    "                                              max_depth=depth) \n",
    "        forest_model.fit(features_train, target_train) \n",
    "        result = forest_model.score(features_valid, target_valid) \n",
    "        if result > best_result:\n",
    "            best_model = forest_model\n",
    "            best_result = result\n",
    "print('Параметры лучше модели:', best_model)        \n",
    "print(\"Accuracy лучшей модели на валидационной выборке:\", round(best_result*100,5),'%')        "
   ]
  },
  {
   "cell_type": "code",
   "execution_count": 13,
   "metadata": {},
   "outputs": [
    {
     "data": {
      "text/plain": [
       "RandomForestClassifier(max_depth=20, n_estimators=40, random_state=123)"
      ]
     },
     "execution_count": 13,
     "metadata": {},
     "output_type": "execute_result"
    }
   ],
   "source": [
    "# сохраним лучшую модель \"Случайный лес\" с указанными параметрами\n",
    "\n",
    "forest_model = RandomForestClassifier(random_state=123, n_estimators=40, max_depth=20) \n",
    "forest_model.fit(features_train, target_train)"
   ]
  },
  {
   "cell_type": "markdown",
   "metadata": {},
   "source": [
    "### Модель \"Логистическая регрессия\""
   ]
  },
  {
   "cell_type": "code",
   "execution_count": 14,
   "metadata": {},
   "outputs": [
    {
     "name": "stdout",
     "output_type": "stream",
     "text": [
      "Accuracy модели логистической регрессии на валидационной выборке: 70.76205 %\n"
     ]
    }
   ],
   "source": [
    "log_model = LogisticRegression(random_state=123)\n",
    "log_model.fit(features_train, target_train)\n",
    "result = log_model.score(features_valid, target_valid)\n",
    "\n",
    "print(\"Accuracy модели логистической регрессии на валидационной выборке:\", round(result*100,5),'%')"
   ]
  },
  {
   "cell_type": "markdown",
   "metadata": {},
   "source": [
    "### Выводы"
   ]
  },
  {
   "cell_type": "markdown",
   "metadata": {},
   "source": [
    "Были выбраны и обучены (на тренировочной выборке) три модели: \"Дерево решений\", \"Случайный лес\" и \"Логистическая регрессия\". \n",
    "\n",
    "Был проведен анализ всех трех моделей на валидационной выборке и путем подбора гиперпараметров были найдены самые точные модели. \n",
    "\n",
    "Получаем следующие результаты accuracy на валидационной выборке для лучших моделей: \n",
    "- Модель \"Случайный лес\" - 80.7154 %\n",
    "- Модель \"Дерево решений\" - 79.00467 %\n",
    "- Модель \"Логистическая регрессия\" - 70.76205 %\n",
    "\n",
    "При прочих равных точность модели \"Случайный лес\" выше остальных, хотя скорость работы заметно ниже, например, модели \"Логистическая регрессия\"."
   ]
  },
  {
   "cell_type": "markdown",
   "metadata": {},
   "source": [
    "## Проверьте модель на тестовой выборке"
   ]
  },
  {
   "cell_type": "markdown",
   "metadata": {},
   "source": [
    "### Проверка модели \"Дерево решений\""
   ]
  },
  {
   "cell_type": "code",
   "execution_count": 15,
   "metadata": {},
   "outputs": [
    {
     "name": "stdout",
     "output_type": "stream",
     "text": [
      "Accuracy лучшей модели на валидационной выборке: 79.31571 %\n"
     ]
    }
   ],
   "source": [
    "# создадим цикл для поиска наилучшей модели \"Дерево решений\" с глубиной от 1 до 10\n",
    "# цикл покажет параметры лучшей моедли и значение accuracy\n",
    "\n",
    "tree_predictions = tree_model.predict(features_test)\n",
    "tree_test_result = accuracy_score(target_test, tree_predictions)\n",
    "\n",
    "print('Accuracy лучшей модели на валидационной выборке:', round(tree_test_result*100,5),'%')"
   ]
  },
  {
   "cell_type": "markdown",
   "metadata": {},
   "source": [
    "### Проверка модели \"Случайный лес\""
   ]
  },
  {
   "cell_type": "code",
   "execution_count": 16,
   "metadata": {},
   "outputs": [
    {
     "name": "stdout",
     "output_type": "stream",
     "text": [
      "Accuracy лучшей модели на тестовой выборке: 79.93779 %\n"
     ]
    }
   ],
   "source": [
    "forest_test_result = forest_model.score(features_test, target_test) \n",
    "     \n",
    "print(\"Accuracy лучшей модели на тестовой выборке:\", round(forest_test_result*100,5),'%')        "
   ]
  },
  {
   "cell_type": "markdown",
   "metadata": {},
   "source": [
    "### Проверка модели \"Логистическая регрессия\""
   ]
  },
  {
   "cell_type": "code",
   "execution_count": 17,
   "metadata": {},
   "outputs": [
    {
     "name": "stdout",
     "output_type": "stream",
     "text": [
      "Accuracy модели логистической регрессии на валидационной выборке: 71.07309 %\n"
     ]
    }
   ],
   "source": [
    "log_test_result = log_model.score(features_test, target_test) \n",
    "\n",
    "print(\"Accuracy модели логистической регрессии на валидационной выборке:\", \\\n",
    "      round(log_test_result*100,5),'%')"
   ]
  },
  {
   "cell_type": "markdown",
   "metadata": {},
   "source": [
    "### Выводы"
   ]
  },
  {
   "cell_type": "markdown",
   "metadata": {},
   "source": [
    "Как и в случае с валидационной выборкой - позиции точности на тестовой выборке распредлены следующим образом: \n",
    "- \"Случайный лес\" - 79.93779 %\n",
    "- \"Дерево решений\" - 79.31571 %\n",
    "- \"Логистическая регрессия\" - 71.07309 %"
   ]
  },
  {
   "cell_type": "markdown",
   "metadata": {},
   "source": [
    "## Проверьте модели на адекватность"
   ]
  },
  {
   "cell_type": "markdown",
   "metadata": {},
   "source": [
    "Для проверки лучшей модели (forest_model) на адекватность используем DummyClassifier"
   ]
  },
  {
   "cell_type": "code",
   "execution_count": 18,
   "metadata": {},
   "outputs": [
    {
     "name": "stdout",
     "output_type": "stream",
     "text": [
      "Моя модель \"Случайного леса\" адекватна\n"
     ]
    }
   ],
   "source": [
    "dum_model = DummyClassifier(strategy = 'most_frequent', random_state=456)\n",
    "dum_model.fit(features_train, target_train)\n",
    "\n",
    "if forest_model.score(features_test, target_test) > dum_model.score(features_test, target_test):\n",
    "    print('Моя модель \"Случайного леса\" адекватна')\n",
    "else:\n",
    "    print('Моя \"Случайного леса\" не очень')"
   ]
  },
  {
   "cell_type": "markdown",
   "metadata": {},
   "source": [
    "## Общий вывод"
   ]
  },
  {
   "cell_type": "markdown",
   "metadata": {},
   "source": [
    "Был рассмотрен датасет на 3214 строк и 5 столбцов, в котором не было обнаружено пропусков. \n",
    "\n",
    "Данный датасет был разбит на три выборки в соотношении 60-20-20: тренировочный, тестовый и валидационный. \n",
    "\n",
    "Были проверены три модели для классификации: \"Случайный лес\", \"Дерево решений\" и \"Логистическая регрессия\". \n",
    "- каждая модель подверглась изучению на валидационной выборке\n",
    "- были выявлены наиболее эффективные модели для каждого типа\n",
    "- была выявлена самая эффективная модель - модель \"Случайного леса\"\n",
    "\n",
    "Самые эффективные модели каждого типа были проверены на тестовой выборке - результат проверки соответствовал градации при проверке на валидационной выборке. \n",
    "\n",
    "Самая эффективная модель (\"Случайный лес\") прошла проверку на адекватность при помощи DummyClassifier. \n",
    "\n",
    "Модель \"Случайный лес\" имеет эффективность на тестовой выборке 79.93779 %. "
   ]
  },
  {
   "cell_type": "markdown",
   "metadata": {},
   "source": [
    "## Чек-лист готовности проекта"
   ]
  },
  {
   "cell_type": "markdown",
   "metadata": {},
   "source": [
    "Поставьте 'x' в выполненных пунктах. Далее нажмите Shift+Enter."
   ]
  },
  {
   "cell_type": "markdown",
   "metadata": {},
   "source": [
    "- [x] Jupyter Notebook открыт\n",
    "- [x] Весь код исполняется без ошибок\n",
    "- [x] Ячейки с кодом расположены в порядке исполнения\n",
    "- [x] Выполнено задание 1: данные загружены и изучены\n",
    "- [x] Выполнено задание 2: данные разбиты на три выборки\n",
    "- [x] Выполнено задание 3: проведено исследование моделей\n",
    "    - [x] Рассмотрено больше одной модели\n",
    "    - [x] Рассмотрено хотя бы 3 значения гипепараметров для какой-нибудь модели\n",
    "    - [x] Написаны выводы по результатам исследования\n",
    "- [x] Выполнено задание 3: Проведено тестирование\n",
    "- [x] Удалось достичь accuracy не меньше 0.75\n"
   ]
  },
  {
   "cell_type": "code",
   "execution_count": null,
   "metadata": {},
   "outputs": [],
   "source": []
  }
 ],
 "metadata": {
  "kernelspec": {
   "display_name": "Python 3",
   "language": "python",
   "name": "python3"
  },
  "language_info": {
   "codemirror_mode": {
    "name": "ipython",
    "version": 3
   },
   "file_extension": ".py",
   "mimetype": "text/x-python",
   "name": "python",
   "nbconvert_exporter": "python",
   "pygments_lexer": "ipython3",
   "version": "3.9.2"
  },
  "toc": {
   "base_numbering": 1,
   "nav_menu": {},
   "number_sections": true,
   "sideBar": true,
   "skip_h1_title": true,
   "title_cell": "Table of Contents",
   "title_sidebar": "Contents",
   "toc_cell": false,
   "toc_position": {},
   "toc_section_display": true,
   "toc_window_display": true
  }
 },
 "nbformat": 4,
 "nbformat_minor": 2
}
