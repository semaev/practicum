{
 "cells": [
  {
   "cell_type": "markdown",
   "metadata": {
    "toc": true
   },
   "source": [
    "<h1>Содержание<span class=\"tocSkip\"></span></h1>\n",
    "<div class=\"toc\"><ul class=\"toc-item\"><li><span><a href=\"#Загрузка-данных\" data-toc-modified-id=\"Загрузка-данных-1\"><span class=\"toc-item-num\">1&nbsp;&nbsp;</span>Загрузка данных</a></span></li><li><span><a href=\"#Умножение-матриц\" data-toc-modified-id=\"Умножение-матриц-2\"><span class=\"toc-item-num\">2&nbsp;&nbsp;</span>Умножение матриц</a></span></li><li><span><a href=\"#Алгоритм-преобразования\" data-toc-modified-id=\"Алгоритм-преобразования-3\"><span class=\"toc-item-num\">3&nbsp;&nbsp;</span>Алгоритм преобразования</a></span></li><li><span><a href=\"#Проверка-алгоритма\" data-toc-modified-id=\"Проверка-алгоритма-4\"><span class=\"toc-item-num\">4&nbsp;&nbsp;</span>Проверка алгоритма</a></span></li><li><span><a href=\"#Вывод\" data-toc-modified-id=\"Вывод-5\"><span class=\"toc-item-num\">5&nbsp;&nbsp;</span>Вывод</a></span></li></ul></div>"
   ]
  },
  {
   "cell_type": "markdown",
   "metadata": {},
   "source": [
    "# Защита персональных данных клиентов"
   ]
  },
  {
   "cell_type": "markdown",
   "metadata": {},
   "source": [
    "Вам нужно защитить данные клиентов страховой компании «Хоть потоп». Разработайте такой метод преобразования данных, чтобы по ним было сложно восстановить персональную информацию. Обоснуйте корректность его работы.\n",
    "\n",
    "Нужно защитить данные, чтобы при преобразовании качество моделей машинного обучения не ухудшилось. Подбирать наилучшую модель не требуется."
   ]
  },
  {
   "cell_type": "code",
   "execution_count": 1,
   "metadata": {},
   "outputs": [],
   "source": [
    "import pandas as pd\n",
    "import numpy as np\n",
    "\n",
    "import seaborn as sns\n",
    "import matplotlib.pyplot as plt\n",
    "\n",
    "from sklearn.model_selection import train_test_split\n",
    "from sklearn.linear_model import LinearRegression\n",
    "\n",
    "from sklearn.metrics import r2_score"
   ]
  },
  {
   "cell_type": "markdown",
   "metadata": {},
   "source": [
    "## Загрузка данных"
   ]
  },
  {
   "cell_type": "code",
   "execution_count": 2,
   "metadata": {},
   "outputs": [],
   "source": [
    "try:\n",
    "    data = pd.read_csv('/Users/mikhail/Desktop/praktikum/project_10/insurance.csv')\n",
    "    \n",
    "except:\n",
    "    data = pd.read_csv('/datasets/insurance.csv')"
   ]
  },
  {
   "cell_type": "code",
   "execution_count": 3,
   "metadata": {},
   "outputs": [
    {
     "data": {
      "text/html": [
       "<div>\n",
       "<style scoped>\n",
       "    .dataframe tbody tr th:only-of-type {\n",
       "        vertical-align: middle;\n",
       "    }\n",
       "\n",
       "    .dataframe tbody tr th {\n",
       "        vertical-align: top;\n",
       "    }\n",
       "\n",
       "    .dataframe thead th {\n",
       "        text-align: right;\n",
       "    }\n",
       "</style>\n",
       "<table border=\"1\" class=\"dataframe\">\n",
       "  <thead>\n",
       "    <tr style=\"text-align: right;\">\n",
       "      <th></th>\n",
       "      <th>Пол</th>\n",
       "      <th>Возраст</th>\n",
       "      <th>Зарплата</th>\n",
       "      <th>Члены семьи</th>\n",
       "      <th>Страховые выплаты</th>\n",
       "    </tr>\n",
       "  </thead>\n",
       "  <tbody>\n",
       "    <tr>\n",
       "      <th>0</th>\n",
       "      <td>1</td>\n",
       "      <td>41.0</td>\n",
       "      <td>49600.0</td>\n",
       "      <td>1</td>\n",
       "      <td>0</td>\n",
       "    </tr>\n",
       "    <tr>\n",
       "      <th>1</th>\n",
       "      <td>0</td>\n",
       "      <td>46.0</td>\n",
       "      <td>38000.0</td>\n",
       "      <td>1</td>\n",
       "      <td>1</td>\n",
       "    </tr>\n",
       "    <tr>\n",
       "      <th>2</th>\n",
       "      <td>0</td>\n",
       "      <td>29.0</td>\n",
       "      <td>21000.0</td>\n",
       "      <td>0</td>\n",
       "      <td>0</td>\n",
       "    </tr>\n",
       "    <tr>\n",
       "      <th>3</th>\n",
       "      <td>0</td>\n",
       "      <td>21.0</td>\n",
       "      <td>41700.0</td>\n",
       "      <td>2</td>\n",
       "      <td>0</td>\n",
       "    </tr>\n",
       "    <tr>\n",
       "      <th>4</th>\n",
       "      <td>1</td>\n",
       "      <td>28.0</td>\n",
       "      <td>26100.0</td>\n",
       "      <td>0</td>\n",
       "      <td>0</td>\n",
       "    </tr>\n",
       "  </tbody>\n",
       "</table>\n",
       "</div>"
      ],
      "text/plain": [
       "   Пол  Возраст  Зарплата  Члены семьи  Страховые выплаты\n",
       "0    1     41.0   49600.0            1                  0\n",
       "1    0     46.0   38000.0            1                  1\n",
       "2    0     29.0   21000.0            0                  0\n",
       "3    0     21.0   41700.0            2                  0\n",
       "4    1     28.0   26100.0            0                  0"
      ]
     },
     "execution_count": 3,
     "metadata": {},
     "output_type": "execute_result"
    }
   ],
   "source": [
    "# посмотрим на данные\n",
    "\n",
    "data.head()"
   ]
  },
  {
   "cell_type": "code",
   "execution_count": 4,
   "metadata": {},
   "outputs": [
    {
     "name": "stdout",
     "output_type": "stream",
     "text": [
      "<class 'pandas.core.frame.DataFrame'>\n",
      "RangeIndex: 5000 entries, 0 to 4999\n",
      "Data columns (total 5 columns):\n",
      " #   Column             Non-Null Count  Dtype  \n",
      "---  ------             --------------  -----  \n",
      " 0   Пол                5000 non-null   int64  \n",
      " 1   Возраст            5000 non-null   float64\n",
      " 2   Зарплата           5000 non-null   float64\n",
      " 3   Члены семьи        5000 non-null   int64  \n",
      " 4   Страховые выплаты  5000 non-null   int64  \n",
      "dtypes: float64(2), int64(3)\n",
      "memory usage: 195.4 KB\n"
     ]
    }
   ],
   "source": [
    "# изучим типы данных в датафрейме\n",
    "\n",
    "data.info()"
   ]
  },
  {
   "cell_type": "code",
   "execution_count": 5,
   "metadata": {},
   "outputs": [],
   "source": [
    "# у нас два столбца в формате float64 \n",
    "# переведеим их в целочисленные \n",
    "\n",
    "data['Возраст'] = data['Возраст'].astype(int)\n",
    "data['Зарплата'] = data['Зарплата'].astype(int)"
   ]
  },
  {
   "cell_type": "code",
   "execution_count": 6,
   "metadata": {},
   "outputs": [
    {
     "name": "stdout",
     "output_type": "stream",
     "text": [
      "<class 'pandas.core.frame.DataFrame'>\n",
      "RangeIndex: 5000 entries, 0 to 4999\n",
      "Data columns (total 5 columns):\n",
      " #   Column             Non-Null Count  Dtype\n",
      "---  ------             --------------  -----\n",
      " 0   Пол                5000 non-null   int64\n",
      " 1   Возраст            5000 non-null   int64\n",
      " 2   Зарплата           5000 non-null   int64\n",
      " 3   Члены семьи        5000 non-null   int64\n",
      " 4   Страховые выплаты  5000 non-null   int64\n",
      "dtypes: int64(5)\n",
      "memory usage: 195.4 KB\n"
     ]
    }
   ],
   "source": [
    "# проверим успешность процедуры \n",
    "\n",
    "data.info()"
   ]
  },
  {
   "cell_type": "code",
   "execution_count": 7,
   "metadata": {},
   "outputs": [
    {
     "data": {
      "text/plain": [
       "0    4436\n",
       "1     423\n",
       "2     115\n",
       "3      18\n",
       "4       7\n",
       "5       1\n",
       "Name: Страховые выплаты, dtype: int64"
      ]
     },
     "execution_count": 7,
     "metadata": {},
     "output_type": "execute_result"
    }
   ],
   "source": [
    "# ознакомимся с данными целевого признака\n",
    "\n",
    "data['Страховые выплаты'].value_counts()"
   ]
  },
  {
   "cell_type": "code",
   "execution_count": 8,
   "metadata": {},
   "outputs": [
    {
     "data": {
      "image/png": "[encoded data removed]",
      "text/plain": [
       "<Figure size 1008x720 with 2 Axes>"
      ]
     },
     "metadata": {
      "needs_background": "light"
     },
     "output_type": "display_data"
    }
   ],
   "source": [
    "# проверим корреляцию в нашем датафрейме\n",
    "\n",
    "corr_matrix = data.corr()\n",
    "fig, ax = plt.subplots(figsize=(14,10)) \n",
    "sns.heatmap(corr_matrix, annot=True, \n",
    "            cbar_kws={'orientation': 'horizontal', \n",
    "                      'label': 'Величина коэффициента корреляции Пирсона'},\n",
    "            cmap='BuPu')\n",
    "plt.title('Корреляция предоставленных данных', fontsize=16)\n",
    "plt.show() "
   ]
  },
  {
   "cell_type": "markdown",
   "metadata": {},
   "source": [
    "Заметно выделяется корреляция страховых выплат и возраста. \n",
    "\n",
    "Посмотрим люди какого возраста чаще всего получают выплаты."
   ]
  },
  {
   "cell_type": "code",
   "execution_count": 9,
   "metadata": {},
   "outputs": [
    {
     "data": {
      "image/png": "[encoded data removed]",
      "text/plain": [
       "<Figure size 864x576 with 1 Axes>"
      ]
     },
     "metadata": {
      "needs_background": "light"
     },
     "output_type": "display_data"
    }
   ],
   "source": [
    "# сгруппируем данные выплат по возрасту\n",
    "payments_by_age = data[data['Страховые выплаты'] != 0].groupby('Возраст')['Страховые выплаты'] \\\n",
    ".count().sort_values(ascending=False).reset_index()\n",
    "\n",
    "# построим график распределения страховых выплат по возрасту\n",
    "plt.figure(figsize=(12, 8))\n",
    "g=sns.barplot(data=payments_by_age , x='Возраст', y='Страховые выплаты', color='violet')\n",
    "\n",
    "for p in g.patches:\n",
    "    g.annotate(str(int(p.get_height())), \\\n",
    "               (p.get_x() + p.get_width() / 2.,\\\n",
    "                p.get_height()), ha='center', va='center', xytext=(0, 10), \\\n",
    "               textcoords='offset points')\n",
    "\n",
    "\n",
    "plt.title('Распределение страховых выплат по возрастам' , fontsize=14)\n",
    "plt.xlabel('Возраст', fontsize=12)\n",
    "plt.ylabel('Количество страховых выплат', fontsize=12)\n",
    "plt.show()"
   ]
  },
  {
   "cell_type": "code",
   "execution_count": 10,
   "metadata": {},
   "outputs": [
    {
     "data": {
      "image/png": "[encoded data removed]",
      "text/plain": [
       "<Figure size 864x576 with 1 Axes>"
      ]
     },
     "metadata": {
      "needs_background": "light"
     },
     "output_type": "display_data"
    }
   ],
   "source": [
    "# сгруппируем данные без выплат по возрасту\n",
    "without_payments_by_age = data[data['Страховые выплаты'] == 0 ].groupby('Возраст')['Страховые выплаты'] \\\n",
    ".count().sort_values(ascending=False).reset_index()\n",
    "\n",
    "# построим график распределения страховок без выплат по возрасту\n",
    "plt.figure(figsize=(12, 8))\n",
    "g=sns.barplot(data=without_payments_by_age , x='Возраст', y='Страховые выплаты', color='crimson')\n",
    "\n",
    "for p in g.patches:\n",
    "    g.annotate(str(int(p.get_height())), \\\n",
    "               (p.get_x() + p.get_width() / 2.,\\\n",
    "                p.get_height()), ha='center', va='center', xytext=(0, 10), \\\n",
    "               textcoords='offset points')\n",
    "\n",
    "\n",
    "plt.title('Распределение клиентов без страховых случаев по возрастам' , fontsize=14)\n",
    "plt.xlabel('Возраст', fontsize=12)\n",
    "plt.ylabel('Количество клиентов без страховых случаев', fontsize=12)\n",
    "plt.show()"
   ]
  },
  {
   "cell_type": "markdown",
   "metadata": {},
   "source": [
    "У нас есть четкое разделение во возрастам - люди до 42 лет не получаеют выплаты, при этом люди после 42 и до 55 получают большую часть выплат. Во-первых - это говорит о том, что данные явно синтетические. А, во-вторых: клиенты в возрасте от 40 до 55 - наиболее затратные."
   ]
  },
  {
   "cell_type": "code",
   "execution_count": 11,
   "metadata": {},
   "outputs": [
    {
     "data": {
      "text/html": [
       "<div>\n",
       "<style scoped>\n",
       "    .dataframe tbody tr th:only-of-type {\n",
       "        vertical-align: middle;\n",
       "    }\n",
       "\n",
       "    .dataframe tbody tr th {\n",
       "        vertical-align: top;\n",
       "    }\n",
       "\n",
       "    .dataframe thead th {\n",
       "        text-align: right;\n",
       "    }\n",
       "</style>\n",
       "<table border=\"1\" class=\"dataframe\">\n",
       "  <thead>\n",
       "    <tr style=\"text-align: right;\">\n",
       "      <th></th>\n",
       "      <th>Пол</th>\n",
       "      <th>Страховые выплаты</th>\n",
       "    </tr>\n",
       "  </thead>\n",
       "  <tbody>\n",
       "    <tr>\n",
       "      <th>0</th>\n",
       "      <td>0</td>\n",
       "      <td>284</td>\n",
       "    </tr>\n",
       "    <tr>\n",
       "      <th>1</th>\n",
       "      <td>1</td>\n",
       "      <td>280</td>\n",
       "    </tr>\n",
       "  </tbody>\n",
       "</table>\n",
       "</div>"
      ],
      "text/plain": [
       "   Пол  Страховые выплаты\n",
       "0    0                284\n",
       "1    1                280"
      ]
     },
     "execution_count": 11,
     "metadata": {},
     "output_type": "execute_result"
    }
   ],
   "source": [
    "# изучим распредление выплат по полу\n",
    "\n",
    "data[data['Страховые выплаты'] != 0].groupby('Пол')['Страховые выплаты'] \\\n",
    ".count().sort_values(ascending=False).reset_index()"
   ]
  },
  {
   "cell_type": "code",
   "execution_count": 12,
   "metadata": {},
   "outputs": [
    {
     "data": {
      "text/html": [
       "<div>\n",
       "<style scoped>\n",
       "    .dataframe tbody tr th:only-of-type {\n",
       "        vertical-align: middle;\n",
       "    }\n",
       "\n",
       "    .dataframe tbody tr th {\n",
       "        vertical-align: top;\n",
       "    }\n",
       "\n",
       "    .dataframe thead th {\n",
       "        text-align: right;\n",
       "    }\n",
       "</style>\n",
       "<table border=\"1\" class=\"dataframe\">\n",
       "  <thead>\n",
       "    <tr style=\"text-align: right;\">\n",
       "      <th></th>\n",
       "      <th>Пол</th>\n",
       "      <th>Страховые выплаты</th>\n",
       "    </tr>\n",
       "  </thead>\n",
       "  <tbody>\n",
       "    <tr>\n",
       "      <th>0</th>\n",
       "      <td>0</td>\n",
       "      <td>2221</td>\n",
       "    </tr>\n",
       "    <tr>\n",
       "      <th>1</th>\n",
       "      <td>1</td>\n",
       "      <td>2215</td>\n",
       "    </tr>\n",
       "  </tbody>\n",
       "</table>\n",
       "</div>"
      ],
      "text/plain": [
       "   Пол  Страховые выплаты\n",
       "0    0               2221\n",
       "1    1               2215"
      ]
     },
     "execution_count": 12,
     "metadata": {},
     "output_type": "execute_result"
    }
   ],
   "source": [
    "# изучим распредление клиентов без выплат по полу\n",
    "\n",
    "data[data['Страховые выплаты'] == 0].groupby('Пол')['Страховые выплаты'] \\\n",
    ".count().sort_values(ascending=False).reset_index()"
   ]
  },
  {
   "cell_type": "markdown",
   "metadata": {},
   "source": [
    "Получаем почти полное равенство в обоих случаях. В целом - дальнейшее изучение данных не принесет больше информации и поэтому остановимся на данном шаге"
   ]
  },
  {
   "cell_type": "markdown",
   "metadata": {},
   "source": [
    "## Умножение матриц"
   ]
  },
  {
   "cell_type": "markdown",
   "metadata": {},
   "source": [
    "Обозначения:\n",
    "\n",
    "- $X$ — матрица признаков (нулевой столбец состоит из единиц)\n",
    "\n",
    "- $y$ — вектор целевого признака\n",
    "\n",
    "- $P$ — матрица, на которую умножаются признаки\n",
    "\n",
    "- $w$ — вектор весов линейной регрессии (нулевой элемент равен сдвигу)"
   ]
  },
  {
   "cell_type": "markdown",
   "metadata": {},
   "source": [
    "Предсказания:\n",
    "\n",
    "$$\n",
    "a = Xw\n",
    "$$\n",
    "\n",
    "Задача обучения:\n",
    "\n",
    "$$\n",
    "w = \\arg\\min_w MSE(Xw, y)\n",
    "$$\n",
    "\n",
    "Формула обучения:\n",
    "\n",
    "$$\n",
    "w = (X^T X)^{-1} X^T y\n",
    "$$"
   ]
  },
  {
   "cell_type": "markdown",
   "metadata": {},
   "source": [
    "**Ответ:**  Качество линейной регрессии не изменится.\n",
    "\n",
    "\n",
    "\n",
    "\n",
    "**Обоснование:** \n",
    "\n",
    "Пусть: \n",
    "$$ a = Xw$$ \n",
    "$$ a' = X'w'$$ \n",
    "Где X' - признаки, умноженные на обратимую квадратную матрицу: \n",
    "$$ X' = XP $$\n",
    "Формула обучения:\n",
    "$$ w = (X^T X) ^ {-1}  X^T y $$\n",
    "Значит:\n",
    "$$ w' = ((XP)^T XP)^{-1} (XP)^T y $$ \n",
    "\n",
    "Вспомним основные свойства матриц: \n",
    "$$ (A^T)^{-1} = (A^{-1})^T $$\n",
    "$$ (AB)^T = B^TA^T $$\n",
    "$$ AA^{-1} = E  $$ \n",
    "$$ AE = EA = A $$ \n",
    "$$ (AB)^{-1} = B^{-1}A^{-1}$$\n",
    "\n",
    "Раскроем скобки по свойствам матриц:\n",
    "$$ w' = P^{-1}((XP)^T X)^{-1}(XP)^T y $$\n",
    "$$ w' = P^{-1}(P^T X^T X)^{-1} P^T X^T y $$\n",
    "$$ w' = P^{-1}(X^T X)^{-1}(P^T)^{-1} P^T X^T y $$\n",
    "$$ w' = P^{-1}(X^T X)^{-1} X^T y $$\n",
    "\n",
    "Правая часть уравнения ($(X^T X)^{-1} X^T y$) равна w, а значит:\n",
    "\n",
    "$$ w' = P^{-1}w $$\n",
    "\n",
    "Следовательно предсказания для новой матрицы равны:\n",
    "\n",
    "$$ a' = X'P^{-1}w $$ \n",
    "$$ a' = XPP^{-1}w $$ \n",
    "$$ a' = Xw $$ \n",
    "\n",
    "\n",
    "Доказали, что: \n",
    "$$ a' = X'w' = Xw = a $$ \n",
    "\n",
    "Следовательно - качество линейной регрессии не изменится"
   ]
  },
  {
   "cell_type": "markdown",
   "metadata": {},
   "source": [
    "## Алгоритм преобразования"
   ]
  },
  {
   "cell_type": "markdown",
   "metadata": {},
   "source": [
    "**Алгоритм**\n",
    "\n",
    "Для преобразования данных создадим обратимую матрицу равную по размеру исходной матрице (data). Умножим исходную матрицу на обратимую матрицу - полученная матрица даст тот же результат."
   ]
  },
  {
   "cell_type": "markdown",
   "metadata": {},
   "source": [
    "**Обоснование**\n",
    "\n",
    "В <a href=\"#Умножение матриц\">Пункте 2</a> было доказано, что умножение на признаки не повлияет на линейную регрессию, так как: \n",
    "$$a' = X'w' = Xw = a$$ \n",
    "Где X' - признаки, умноженные на обратимую матрицу:\n",
    "$$ X' = XP $$\n",
    "Линейная регресссия выражены следующим уравнением: \n",
    "$$a = Xw + w0$$ \n",
    "Следовательно - чтобы изменить результаты линейной регрессии, необходимо менять или вектор весов, или сдвиг."
   ]
  },
  {
   "cell_type": "markdown",
   "metadata": {},
   "source": [
    "## Проверка алгоритма"
   ]
  },
  {
   "cell_type": "code",
   "execution_count": 13,
   "metadata": {},
   "outputs": [],
   "source": [
    "# разобьем наши данные на признаки и целевой признак \n",
    "\n",
    "features = data.drop('Страховые выплаты', axis = 1)\n",
    "target = data['Страховые выплаты']\n",
    "X_train, X_test, y_train, y_test = train_test_split(features, target, test_size=0.25, \\\n",
    "                                                    random_state=123)"
   ]
  },
  {
   "cell_type": "code",
   "execution_count": 14,
   "metadata": {},
   "outputs": [
    {
     "data": {
      "text/plain": [
       "(3750, 4)"
      ]
     },
     "metadata": {},
     "output_type": "display_data"
    },
    {
     "data": {
      "text/plain": [
       "(3750,)"
      ]
     },
     "metadata": {},
     "output_type": "display_data"
    }
   ],
   "source": [
    "# проверим соответствие размерности\n",
    "\n",
    "display(X_train.shape)\n",
    "display(y_train.shape)"
   ]
  },
  {
   "cell_type": "code",
   "execution_count": 15,
   "metadata": {},
   "outputs": [
    {
     "name": "stdout",
     "output_type": "stream",
     "text": [
      "Все в порядке. Матрица является обратимой\n"
     ]
    }
   ],
   "source": [
    "# построим обратимую квадртаную матрицу размерности 4:4 для преобразования \n",
    "matrix = np.random.normal(size = (4,4))\n",
    "\n",
    "# и проверим ее обратимость путем вычисления определителя \n",
    "det = np.linalg.det(matrix)\n",
    "if det == 0:\n",
    "    print('Ошибка! Данная матрица не является обратимой!')\n",
    "else:\n",
    "    print('Все в порядке. Матрица является обратимой')"
   ]
  },
  {
   "cell_type": "code",
   "execution_count": 16,
   "metadata": {},
   "outputs": [
    {
     "data": {
      "text/plain": [
       "0.42494550308169166"
      ]
     },
     "execution_count": 16,
     "metadata": {},
     "output_type": "execute_result"
    }
   ],
   "source": [
    "# обозначим модель, обучим ее и посчитаем метрику R2 на исходных данных\n",
    "\n",
    "model = LinearRegression()\n",
    "model.fit(features, target)\n",
    "predictions = model.predict(features)\n",
    "r2_score(target, predictions)"
   ]
  },
  {
   "cell_type": "markdown",
   "metadata": {},
   "source": [
    "На исходных данных получили метрику R2 равную 0.42494550308169177"
   ]
  },
  {
   "cell_type": "code",
   "execution_count": 17,
   "metadata": {},
   "outputs": [
    {
     "data": {
      "text/html": [
       "<div>\n",
       "<style scoped>\n",
       "    .dataframe tbody tr th:only-of-type {\n",
       "        vertical-align: middle;\n",
       "    }\n",
       "\n",
       "    .dataframe tbody tr th {\n",
       "        vertical-align: top;\n",
       "    }\n",
       "\n",
       "    .dataframe thead th {\n",
       "        text-align: right;\n",
       "    }\n",
       "</style>\n",
       "<table border=\"1\" class=\"dataframe\">\n",
       "  <thead>\n",
       "    <tr style=\"text-align: right;\">\n",
       "      <th></th>\n",
       "      <th>0</th>\n",
       "      <th>1</th>\n",
       "      <th>2</th>\n",
       "      <th>3</th>\n",
       "    </tr>\n",
       "  </thead>\n",
       "  <tbody>\n",
       "    <tr>\n",
       "      <th>0</th>\n",
       "      <td>2617.313370</td>\n",
       "      <td>19972.478170</td>\n",
       "      <td>13537.981656</td>\n",
       "      <td>40078.762917</td>\n",
       "    </tr>\n",
       "    <tr>\n",
       "      <th>1</th>\n",
       "      <td>1998.226584</td>\n",
       "      <td>15304.431478</td>\n",
       "      <td>10357.709389</td>\n",
       "      <td>30682.010961</td>\n",
       "    </tr>\n",
       "    <tr>\n",
       "      <th>2</th>\n",
       "      <td>1102.565166</td>\n",
       "      <td>8458.076025</td>\n",
       "      <td>5720.401276</td>\n",
       "      <td>16950.284369</td>\n",
       "    </tr>\n",
       "    <tr>\n",
       "      <th>3</th>\n",
       "      <td>2207.162389</td>\n",
       "      <td>16789.126737</td>\n",
       "      <td>11395.407518</td>\n",
       "      <td>33716.167363</td>\n",
       "    </tr>\n",
       "    <tr>\n",
       "      <th>4</th>\n",
       "      <td>1374.031506</td>\n",
       "      <td>10510.825525</td>\n",
       "      <td>7117.274036</td>\n",
       "      <td>21079.869522</td>\n",
       "    </tr>\n",
       "    <tr>\n",
       "      <th>...</th>\n",
       "      <td>...</td>\n",
       "      <td>...</td>\n",
       "      <td>...</td>\n",
       "      <td>...</td>\n",
       "    </tr>\n",
       "    <tr>\n",
       "      <th>4995</th>\n",
       "      <td>1884.663261</td>\n",
       "      <td>14375.689071</td>\n",
       "      <td>9745.930034</td>\n",
       "      <td>28848.903399</td>\n",
       "    </tr>\n",
       "    <tr>\n",
       "      <th>4996</th>\n",
       "      <td>2769.875472</td>\n",
       "      <td>21097.672758</td>\n",
       "      <td>14311.720852</td>\n",
       "      <td>42355.805788</td>\n",
       "    </tr>\n",
       "    <tr>\n",
       "      <th>4997</th>\n",
       "      <td>1792.856251</td>\n",
       "      <td>13649.572793</td>\n",
       "      <td>9261.048960</td>\n",
       "      <td>27404.797275</td>\n",
       "    </tr>\n",
       "    <tr>\n",
       "      <th>4998</th>\n",
       "      <td>1727.766657</td>\n",
       "      <td>13167.993189</td>\n",
       "      <td>8930.380269</td>\n",
       "      <td>26430.439480</td>\n",
       "    </tr>\n",
       "    <tr>\n",
       "      <th>4999</th>\n",
       "      <td>2145.065087</td>\n",
       "      <td>16347.470483</td>\n",
       "      <td>11086.944740</td>\n",
       "      <td>32815.264697</td>\n",
       "    </tr>\n",
       "  </tbody>\n",
       "</table>\n",
       "<p>5000 rows × 4 columns</p>\n",
       "</div>"
      ],
      "text/plain": [
       "                0             1             2             3\n",
       "0     2617.313370  19972.478170  13537.981656  40078.762917\n",
       "1     1998.226584  15304.431478  10357.709389  30682.010961\n",
       "2     1102.565166   8458.076025   5720.401276  16950.284369\n",
       "3     2207.162389  16789.126737  11395.407518  33716.167363\n",
       "4     1374.031506  10510.825525   7117.274036  21079.869522\n",
       "...           ...           ...           ...           ...\n",
       "4995  1884.663261  14375.689071   9745.930034  28848.903399\n",
       "4996  2769.875472  21097.672758  14311.720852  42355.805788\n",
       "4997  1792.856251  13649.572793   9261.048960  27404.797275\n",
       "4998  1727.766657  13167.993189   8930.380269  26430.439480\n",
       "4999  2145.065087  16347.470483  11086.944740  32815.264697\n",
       "\n",
       "[5000 rows x 4 columns]"
      ]
     },
     "execution_count": 17,
     "metadata": {},
     "output_type": "execute_result"
    }
   ],
   "source": [
    "#преобразуем признаки через умножение на созданную матрицу\n",
    "\n",
    "matrix_features = features @ matrix\n",
    "\n",
    "matrix_features"
   ]
  },
  {
   "cell_type": "code",
   "execution_count": 18,
   "metadata": {},
   "outputs": [
    {
     "data": {
      "text/plain": [
       "0.4249455030817624"
      ]
     },
     "execution_count": 18,
     "metadata": {},
     "output_type": "execute_result"
    }
   ],
   "source": [
    "# обучим модель и посчитаем метрику R2 на преобразованных данных\n",
    "model.fit(matrix_features, target)\n",
    "predictions = model.predict(matrix_features)\n",
    "r2_score(target, predictions)"
   ]
  },
  {
   "cell_type": "markdown",
   "metadata": {},
   "source": [
    "На исходных данных получили метрику R2 равную 0.42494550308179024"
   ]
  },
  {
   "cell_type": "markdown",
   "metadata": {},
   "source": [
    "## Вывод"
   ]
  },
  {
   "cell_type": "markdown",
   "metadata": {},
   "source": [
    "В результате всех преобразований мы получили зашифрованные данные, которые не ухудшают работу линейной регрессии и это хорошо видно по резуьтатам вычисления метрики R2 - практически полное равенство."
   ]
  }
 ],
 "metadata": {
  "kernelspec": {
   "display_name": "Python 3 (ipykernel)",
   "language": "python",
   "name": "python3"
  },
  "language_info": {
   "codemirror_mode": {
    "name": "ipython",
    "version": 3
   },
   "file_extension": ".py",
   "mimetype": "text/x-python",
   "name": "python",
   "nbconvert_exporter": "python",
   "pygments_lexer": "ipython3",
   "version": "3.9.6"
  },
  "toc": {
   "base_numbering": 1,
   "nav_menu": {},
   "number_sections": true,
   "sideBar": true,
   "skip_h1_title": true,
   "title_cell": "Содержание",
   "title_sidebar": "Contents",
   "toc_cell": true,
   "toc_position": {},
   "toc_section_display": true,
   "toc_window_display": true
  }
 },
 "nbformat": 4,
 "nbformat_minor": 2
}
