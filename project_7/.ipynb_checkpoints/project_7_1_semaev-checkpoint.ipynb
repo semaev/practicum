{
 "cells": [
  {
   "cell_type": "markdown",
   "metadata": {},
   "source": [
    "Привет, меня зовут Артем Хуршудов. Сегодня я проверю твой проект.\n",
    "<br> Дальнейшее общение будет происходить на \"ты\" если это не вызывает никаких проблем.\n",
    "<br> Желательно реагировать на каждый мой комментарий ('исправил', 'не понятно как исправить ошибку', ...)\n",
    "<br> Пожалуйста, не удаляй комментарии ревьюера, так как они повышают качество повторного ревью.\n",
    "\n",
    "Комментарии будут в <font color='green'>зеленой</font>, <font color='blue'>синей</font> или <font color='red'>красной</font> рамках:\n",
    "\n",
    "<div class=\"alert alert-block alert-success\">\n",
    "<b>Успех:</b> Если все сделано отлично\n",
    "</div>\n",
    "\n",
    "<div class=\"alert alert-block alert-info\">\n",
    "<b>Совет: </b> Если можно немного улучшить\n",
    "</div>\n",
    "\n",
    "<div class=\"alert alert-block alert-danger\">\n",
    "<b>Ошибка:</b> Если требуются исправления. Работа не может быть принята с красными комментариями.\n",
    "</div>\n",
    "\n",
    "-------------------\n",
    "\n",
    "Будет очень хорошо, если ты будешь помечать свои действия следующим образом:\n",
    "<div class=\"alert alert-block alert-warning\">\n",
    "<b>Комментарий студента:</b> ...\n",
    "</div>\n",
    "\n",
    "<div class=\"alert alert-block alert-warning\">\n",
    "<b>Изменения:</b> Были внесены следующие изменения ...\n",
    "</div>\n",
    "\n",
    "### <font color='orange'>Общее впечатление</font>\n",
    "* Этот проект выполнен очень хорошо.\n",
    "* Молодец, что структурируешь ноутбук, приятно проверять такие работы.\n",
    "* В работе допущено несколько ошибок. Однако исправления не займут много времени.\n",
    "* Также я оставил несколько советов. Исправь их если останется время.\n",
    "* Удачи в доработке! Жду новую версию проекта."
   ]
  },
  {
   "cell_type": "markdown",
   "metadata": {},
   "source": [
    "<div class=\"alert alert-block alert-warning\">\n",
    "<b>Комментарий студента:</b> Привет, Артем! Благодарю за комментарии и замечания. Сейчас все поправлю. \n",
    "</div>"
   ]
  },
  {
   "cell_type": "markdown",
   "metadata": {
    "toc": true
   },
   "source": [
    "<h1>Содержание<span class=\"tocSkip\"></span></h1>\n",
    "<div class=\"toc\"><ul class=\"toc-item\"><li><ul class=\"toc-item\"><li><span><a href=\"#Общее-впечатление\" data-toc-modified-id=\"Общее-впечатление-0.1\"><span class=\"toc-item-num\">0.1&nbsp;&nbsp;</span><font color=\"orange\">Общее впечатление</font></a></span></li></ul></li><li><span><a href=\"#Подготовка-данных\" data-toc-modified-id=\"Подготовка-данных-1\"><span class=\"toc-item-num\">1&nbsp;&nbsp;</span>Подготовка данных</a></span><ul class=\"toc-item\"><li><span><a href=\"#Ознакомление-с-данными\" data-toc-modified-id=\"Ознакомление-с-данными-1.1\"><span class=\"toc-item-num\">1.1&nbsp;&nbsp;</span>Ознакомление с данными</a></span></li><li><span><a href=\"#Устранение-недочетов\" data-toc-modified-id=\"Устранение-недочетов-1.2\"><span class=\"toc-item-num\">1.2&nbsp;&nbsp;</span>Устранение недочетов</a></span></li><li><span><a href=\"#Подготовка-признаков\" data-toc-modified-id=\"Подготовка-признаков-1.3\"><span class=\"toc-item-num\">1.3&nbsp;&nbsp;</span>Подготовка признаков</a></span></li></ul></li><li><span><a href=\"#Исследование-задачи\" data-toc-modified-id=\"Исследование-задачи-2\"><span class=\"toc-item-num\">2&nbsp;&nbsp;</span>Исследование задачи</a></span><ul class=\"toc-item\"><li><span><a href=\"#Построение-модели-&quot;Дерево-решений&quot;\" data-toc-modified-id=\"Построение-модели-&quot;Дерево-решений&quot;-2.1\"><span class=\"toc-item-num\">2.1&nbsp;&nbsp;</span>Построение модели \"Дерево решений\"</a></span></li><li><span><a href=\"#Построение-модели-&quot;Cлучайный-лес&quot;\" data-toc-modified-id=\"Построение-модели-&quot;Cлучайный-лес&quot;-2.2\"><span class=\"toc-item-num\">2.2&nbsp;&nbsp;</span>Построение модели \"Cлучайный лес\"</a></span></li><li><span><a href=\"#Построение-модели-&quot;Логистическая-регрессия&quot;\" data-toc-modified-id=\"Построение-модели-&quot;Логистическая-регрессия&quot;-2.3\"><span class=\"toc-item-num\">2.3&nbsp;&nbsp;</span>Построение модели \"Логистическая регрессия\"</a></span></li><li><span><a href=\"#Выводы\" data-toc-modified-id=\"Выводы-2.4\"><span class=\"toc-item-num\">2.4&nbsp;&nbsp;</span>Выводы</a></span></li></ul></li><li><span><a href=\"#Борьба-с-дисбалансом\" data-toc-modified-id=\"Борьба-с-дисбалансом-3\"><span class=\"toc-item-num\">3&nbsp;&nbsp;</span>Борьба с дисбалансом</a></span><ul class=\"toc-item\"><li><span><a href=\"#Балансировка-аргументом-class_weight\" data-toc-modified-id=\"Балансировка-аргументом-class_weight-3.1\"><span class=\"toc-item-num\">3.1&nbsp;&nbsp;</span>Балансировка аргументом class_weight</a></span><ul class=\"toc-item\"><li><span><a href=\"#Выводы\" data-toc-modified-id=\"Выводы-3.1.1\"><span class=\"toc-item-num\">3.1.1&nbsp;&nbsp;</span>Выводы</a></span></li></ul></li><li><span><a href=\"#Upsampling\" data-toc-modified-id=\"Upsampling-3.2\"><span class=\"toc-item-num\">3.2&nbsp;&nbsp;</span>Upsampling</a></span><ul class=\"toc-item\"><li><span><a href=\"#Выводы\" data-toc-modified-id=\"Выводы-3.2.1\"><span class=\"toc-item-num\">3.2.1&nbsp;&nbsp;</span>Выводы</a></span></li></ul></li><li><span><a href=\"#Downsampling\" data-toc-modified-id=\"Downsampling-3.3\"><span class=\"toc-item-num\">3.3&nbsp;&nbsp;</span>Downsampling</a></span></li><li><span><a href=\"#Выводы\" data-toc-modified-id=\"Выводы-3.4\"><span class=\"toc-item-num\">3.4&nbsp;&nbsp;</span>Выводы</a></span></li></ul></li><li><span><a href=\"#Тестирование-модели\" data-toc-modified-id=\"Тестирование-модели-4\"><span class=\"toc-item-num\">4&nbsp;&nbsp;</span>Тестирование модели</a></span></li><li><span><a href=\"#Общий-вывод\" data-toc-modified-id=\"Общий-вывод-5\"><span class=\"toc-item-num\">5&nbsp;&nbsp;</span>Общий вывод</a></span></li><li><span><a href=\"#Чек-лист-готовности-проекта\" data-toc-modified-id=\"Чек-лист-готовности-проекта-6\"><span class=\"toc-item-num\">6&nbsp;&nbsp;</span>Чек-лист готовности проекта</a></span></li></ul></div>"
   ]
  },
  {
   "cell_type": "markdown",
   "metadata": {},
   "source": [
    "# Отток клиентов"
   ]
  },
  {
   "cell_type": "markdown",
   "metadata": {},
   "source": [
    "Из «Бета-Банка» стали уходить клиенты. Каждый месяц. Немного, но заметно. Банковские маркетологи посчитали: сохранять текущих клиентов дешевле, чем привлекать новых.\n",
    "\n",
    "Нужно спрогнозировать, уйдёт клиент из банка в ближайшее время или нет. Вам предоставлены исторические данные о поведении клиентов и расторжении договоров с банком. \n",
    "\n",
    "Постройте модель с предельно большим значением *F1*-меры. Чтобы сдать проект успешно, нужно довести метрику до 0.59. Проверьте *F1*-меру на тестовой выборке самостоятельно.\n",
    "\n",
    "Дополнительно измеряйте *AUC-ROC*, сравнивайте её значение с *F1*-мерой.\n",
    "\n",
    "Источник данных: [https://www.kaggle.com/barelydedicated/bank-customer-churn-modeling](https://www.kaggle.com/barelydedicated/bank-customer-churn-modeling)"
   ]
  },
  {
   "cell_type": "markdown",
   "metadata": {},
   "source": [
    "## Подготовка данных"
   ]
  },
  {
   "cell_type": "code",
   "execution_count": 1,
   "metadata": {},
   "outputs": [],
   "source": [
    "import pandas as pd\n",
    "import numpy as np\n",
    "import seaborn as sns\n",
    "import matplotlib.pyplot as plt\n",
    "from sklearn import metrics\n",
    "from sklearn.preprocessing import OneHotEncoder\n",
    "from sklearn.preprocessing import StandardScaler \n",
    "from sklearn.tree import DecisionTreeClassifier\n",
    "from sklearn.ensemble import RandomForestClassifier\n",
    "from sklearn.linear_model import LogisticRegression\n",
    "from sklearn.metrics import accuracy_score\n",
    "from sklearn.metrics import mean_squared_error\n",
    "from sklearn.metrics import mean_squared_error\n",
    "from sklearn.metrics import f1_score\n",
    "from sklearn.metrics import confusion_matrix\n",
    "from sklearn.metrics import roc_auc_score\n",
    "from sklearn.metrics import roc_curve, auc\n",
    "from sklearn.model_selection import train_test_split\n",
    "from sklearn.utils import shuffle\n",
    "\n",
    "pd.options.display.float_format = \"{:.2f}\".format\n",
    "pd.options.mode.chained_assignment = None"
   ]
  },
  {
   "cell_type": "markdown",
   "metadata": {},
   "source": [
    "<div class=\"alert alert-block alert-success\">\n",
    "<b>Успех:</b> Отлично, что все импорты собраны в первой ячейке ноутбука! Если у того, кто будет запускать твой ноутбук будут отсутствовать некоторые библиотеки, то он это увидит сразу, а не в процессе!\n",
    "</div>"
   ]
  },
  {
   "cell_type": "code",
   "execution_count": 2,
   "metadata": {},
   "outputs": [],
   "source": [
    "try:\n",
    "    data = pd.read_csv('/Users/mikhail/Desktop/praktikum/project_7/Churn.csv')\n",
    "except:\n",
    "    data = pd.read_csv('/datasets/Churn.csv')"
   ]
  },
  {
   "cell_type": "markdown",
   "metadata": {},
   "source": [
    "### Ознакомление с данными"
   ]
  },
  {
   "cell_type": "code",
   "execution_count": 3,
   "metadata": {},
   "outputs": [
    {
     "data": {
      "text/html": [
       "<div>\n",
       "<style scoped>\n",
       "    .dataframe tbody tr th:only-of-type {\n",
       "        vertical-align: middle;\n",
       "    }\n",
       "\n",
       "    .dataframe tbody tr th {\n",
       "        vertical-align: top;\n",
       "    }\n",
       "\n",
       "    .dataframe thead th {\n",
       "        text-align: right;\n",
       "    }\n",
       "</style>\n",
       "<table border=\"1\" class=\"dataframe\">\n",
       "  <thead>\n",
       "    <tr style=\"text-align: right;\">\n",
       "      <th></th>\n",
       "      <th>RowNumber</th>\n",
       "      <th>CustomerId</th>\n",
       "      <th>Surname</th>\n",
       "      <th>CreditScore</th>\n",
       "      <th>Geography</th>\n",
       "      <th>Gender</th>\n",
       "      <th>Age</th>\n",
       "      <th>Tenure</th>\n",
       "      <th>Balance</th>\n",
       "      <th>NumOfProducts</th>\n",
       "      <th>HasCrCard</th>\n",
       "      <th>IsActiveMember</th>\n",
       "      <th>EstimatedSalary</th>\n",
       "      <th>Exited</th>\n",
       "    </tr>\n",
       "  </thead>\n",
       "  <tbody>\n",
       "    <tr>\n",
       "      <th>0</th>\n",
       "      <td>1</td>\n",
       "      <td>15634602</td>\n",
       "      <td>Hargrave</td>\n",
       "      <td>619</td>\n",
       "      <td>France</td>\n",
       "      <td>Female</td>\n",
       "      <td>42</td>\n",
       "      <td>2.00</td>\n",
       "      <td>0.00</td>\n",
       "      <td>1</td>\n",
       "      <td>1</td>\n",
       "      <td>1</td>\n",
       "      <td>101348.88</td>\n",
       "      <td>1</td>\n",
       "    </tr>\n",
       "    <tr>\n",
       "      <th>1</th>\n",
       "      <td>2</td>\n",
       "      <td>15647311</td>\n",
       "      <td>Hill</td>\n",
       "      <td>608</td>\n",
       "      <td>Spain</td>\n",
       "      <td>Female</td>\n",
       "      <td>41</td>\n",
       "      <td>1.00</td>\n",
       "      <td>83807.86</td>\n",
       "      <td>1</td>\n",
       "      <td>0</td>\n",
       "      <td>1</td>\n",
       "      <td>112542.58</td>\n",
       "      <td>0</td>\n",
       "    </tr>\n",
       "    <tr>\n",
       "      <th>2</th>\n",
       "      <td>3</td>\n",
       "      <td>15619304</td>\n",
       "      <td>Onio</td>\n",
       "      <td>502</td>\n",
       "      <td>France</td>\n",
       "      <td>Female</td>\n",
       "      <td>42</td>\n",
       "      <td>8.00</td>\n",
       "      <td>159660.80</td>\n",
       "      <td>3</td>\n",
       "      <td>1</td>\n",
       "      <td>0</td>\n",
       "      <td>113931.57</td>\n",
       "      <td>1</td>\n",
       "    </tr>\n",
       "    <tr>\n",
       "      <th>3</th>\n",
       "      <td>4</td>\n",
       "      <td>15701354</td>\n",
       "      <td>Boni</td>\n",
       "      <td>699</td>\n",
       "      <td>France</td>\n",
       "      <td>Female</td>\n",
       "      <td>39</td>\n",
       "      <td>1.00</td>\n",
       "      <td>0.00</td>\n",
       "      <td>2</td>\n",
       "      <td>0</td>\n",
       "      <td>0</td>\n",
       "      <td>93826.63</td>\n",
       "      <td>0</td>\n",
       "    </tr>\n",
       "    <tr>\n",
       "      <th>4</th>\n",
       "      <td>5</td>\n",
       "      <td>15737888</td>\n",
       "      <td>Mitchell</td>\n",
       "      <td>850</td>\n",
       "      <td>Spain</td>\n",
       "      <td>Female</td>\n",
       "      <td>43</td>\n",
       "      <td>2.00</td>\n",
       "      <td>125510.82</td>\n",
       "      <td>1</td>\n",
       "      <td>1</td>\n",
       "      <td>1</td>\n",
       "      <td>79084.10</td>\n",
       "      <td>0</td>\n",
       "    </tr>\n",
       "    <tr>\n",
       "      <th>5</th>\n",
       "      <td>6</td>\n",
       "      <td>15574012</td>\n",
       "      <td>Chu</td>\n",
       "      <td>645</td>\n",
       "      <td>Spain</td>\n",
       "      <td>Male</td>\n",
       "      <td>44</td>\n",
       "      <td>8.00</td>\n",
       "      <td>113755.78</td>\n",
       "      <td>2</td>\n",
       "      <td>1</td>\n",
       "      <td>0</td>\n",
       "      <td>149756.71</td>\n",
       "      <td>1</td>\n",
       "    </tr>\n",
       "    <tr>\n",
       "      <th>6</th>\n",
       "      <td>7</td>\n",
       "      <td>15592531</td>\n",
       "      <td>Bartlett</td>\n",
       "      <td>822</td>\n",
       "      <td>France</td>\n",
       "      <td>Male</td>\n",
       "      <td>50</td>\n",
       "      <td>7.00</td>\n",
       "      <td>0.00</td>\n",
       "      <td>2</td>\n",
       "      <td>1</td>\n",
       "      <td>1</td>\n",
       "      <td>10062.80</td>\n",
       "      <td>0</td>\n",
       "    </tr>\n",
       "    <tr>\n",
       "      <th>7</th>\n",
       "      <td>8</td>\n",
       "      <td>15656148</td>\n",
       "      <td>Obinna</td>\n",
       "      <td>376</td>\n",
       "      <td>Germany</td>\n",
       "      <td>Female</td>\n",
       "      <td>29</td>\n",
       "      <td>4.00</td>\n",
       "      <td>115046.74</td>\n",
       "      <td>4</td>\n",
       "      <td>1</td>\n",
       "      <td>0</td>\n",
       "      <td>119346.88</td>\n",
       "      <td>1</td>\n",
       "    </tr>\n",
       "    <tr>\n",
       "      <th>8</th>\n",
       "      <td>9</td>\n",
       "      <td>15792365</td>\n",
       "      <td>He</td>\n",
       "      <td>501</td>\n",
       "      <td>France</td>\n",
       "      <td>Male</td>\n",
       "      <td>44</td>\n",
       "      <td>4.00</td>\n",
       "      <td>142051.07</td>\n",
       "      <td>2</td>\n",
       "      <td>0</td>\n",
       "      <td>1</td>\n",
       "      <td>74940.50</td>\n",
       "      <td>0</td>\n",
       "    </tr>\n",
       "    <tr>\n",
       "      <th>9</th>\n",
       "      <td>10</td>\n",
       "      <td>15592389</td>\n",
       "      <td>H?</td>\n",
       "      <td>684</td>\n",
       "      <td>France</td>\n",
       "      <td>Male</td>\n",
       "      <td>27</td>\n",
       "      <td>2.00</td>\n",
       "      <td>134603.88</td>\n",
       "      <td>1</td>\n",
       "      <td>1</td>\n",
       "      <td>1</td>\n",
       "      <td>71725.73</td>\n",
       "      <td>0</td>\n",
       "    </tr>\n",
       "  </tbody>\n",
       "</table>\n",
       "</div>"
      ],
      "text/plain": [
       "   RowNumber  CustomerId   Surname  CreditScore Geography  Gender  Age  \\\n",
       "0          1    15634602  Hargrave          619    France  Female   42   \n",
       "1          2    15647311      Hill          608     Spain  Female   41   \n",
       "2          3    15619304      Onio          502    France  Female   42   \n",
       "3          4    15701354      Boni          699    France  Female   39   \n",
       "4          5    15737888  Mitchell          850     Spain  Female   43   \n",
       "5          6    15574012       Chu          645     Spain    Male   44   \n",
       "6          7    15592531  Bartlett          822    France    Male   50   \n",
       "7          8    15656148    Obinna          376   Germany  Female   29   \n",
       "8          9    15792365        He          501    France    Male   44   \n",
       "9         10    15592389        H?          684    France    Male   27   \n",
       "\n",
       "   Tenure   Balance  NumOfProducts  HasCrCard  IsActiveMember  \\\n",
       "0    2.00      0.00              1          1               1   \n",
       "1    1.00  83807.86              1          0               1   \n",
       "2    8.00 159660.80              3          1               0   \n",
       "3    1.00      0.00              2          0               0   \n",
       "4    2.00 125510.82              1          1               1   \n",
       "5    8.00 113755.78              2          1               0   \n",
       "6    7.00      0.00              2          1               1   \n",
       "7    4.00 115046.74              4          1               0   \n",
       "8    4.00 142051.07              2          0               1   \n",
       "9    2.00 134603.88              1          1               1   \n",
       "\n",
       "   EstimatedSalary  Exited  \n",
       "0        101348.88       1  \n",
       "1        112542.58       0  \n",
       "2        113931.57       1  \n",
       "3         93826.63       0  \n",
       "4         79084.10       0  \n",
       "5        149756.71       1  \n",
       "6         10062.80       0  \n",
       "7        119346.88       1  \n",
       "8         74940.50       0  \n",
       "9         71725.73       0  "
      ]
     },
     "execution_count": 3,
     "metadata": {},
     "output_type": "execute_result"
    }
   ],
   "source": [
    "# ознакомимся с таблицей\n",
    "\n",
    "data.head(10)"
   ]
  },
  {
   "cell_type": "code",
   "execution_count": 4,
   "metadata": {
    "scrolled": false
   },
   "outputs": [
    {
     "name": "stdout",
     "output_type": "stream",
     "text": [
      "<class 'pandas.core.frame.DataFrame'>\n",
      "RangeIndex: 10000 entries, 0 to 9999\n",
      "Data columns (total 14 columns):\n",
      " #   Column           Non-Null Count  Dtype  \n",
      "---  ------           --------------  -----  \n",
      " 0   RowNumber        10000 non-null  int64  \n",
      " 1   CustomerId       10000 non-null  int64  \n",
      " 2   Surname          10000 non-null  object \n",
      " 3   CreditScore      10000 non-null  int64  \n",
      " 4   Geography        10000 non-null  object \n",
      " 5   Gender           10000 non-null  object \n",
      " 6   Age              10000 non-null  int64  \n",
      " 7   Tenure           9091 non-null   float64\n",
      " 8   Balance          10000 non-null  float64\n",
      " 9   NumOfProducts    10000 non-null  int64  \n",
      " 10  HasCrCard        10000 non-null  int64  \n",
      " 11  IsActiveMember   10000 non-null  int64  \n",
      " 12  EstimatedSalary  10000 non-null  float64\n",
      " 13  Exited           10000 non-null  int64  \n",
      "dtypes: float64(3), int64(8), object(3)\n",
      "memory usage: 1.1+ MB\n"
     ]
    },
    {
     "data": {
      "text/plain": [
       "None"
      ]
     },
     "metadata": {},
     "output_type": "display_data"
    },
    {
     "data": {
      "text/html": [
       "<div>\n",
       "<style scoped>\n",
       "    .dataframe tbody tr th:only-of-type {\n",
       "        vertical-align: middle;\n",
       "    }\n",
       "\n",
       "    .dataframe tbody tr th {\n",
       "        vertical-align: top;\n",
       "    }\n",
       "\n",
       "    .dataframe thead th {\n",
       "        text-align: right;\n",
       "    }\n",
       "</style>\n",
       "<table border=\"1\" class=\"dataframe\">\n",
       "  <thead>\n",
       "    <tr style=\"text-align: right;\">\n",
       "      <th></th>\n",
       "      <th>RowNumber</th>\n",
       "      <th>CustomerId</th>\n",
       "      <th>CreditScore</th>\n",
       "      <th>Age</th>\n",
       "      <th>Tenure</th>\n",
       "      <th>Balance</th>\n",
       "      <th>NumOfProducts</th>\n",
       "      <th>HasCrCard</th>\n",
       "      <th>IsActiveMember</th>\n",
       "      <th>EstimatedSalary</th>\n",
       "      <th>Exited</th>\n",
       "    </tr>\n",
       "  </thead>\n",
       "  <tbody>\n",
       "    <tr>\n",
       "      <th>count</th>\n",
       "      <td>10000.00</td>\n",
       "      <td>10000.00</td>\n",
       "      <td>10000.00</td>\n",
       "      <td>10000.00</td>\n",
       "      <td>9091.00</td>\n",
       "      <td>10000.00</td>\n",
       "      <td>10000.00</td>\n",
       "      <td>10000.00</td>\n",
       "      <td>10000.00</td>\n",
       "      <td>10000.00</td>\n",
       "      <td>10000.00</td>\n",
       "    </tr>\n",
       "    <tr>\n",
       "      <th>mean</th>\n",
       "      <td>5000.50</td>\n",
       "      <td>15690940.57</td>\n",
       "      <td>650.53</td>\n",
       "      <td>38.92</td>\n",
       "      <td>5.00</td>\n",
       "      <td>76485.89</td>\n",
       "      <td>1.53</td>\n",
       "      <td>0.71</td>\n",
       "      <td>0.52</td>\n",
       "      <td>100090.24</td>\n",
       "      <td>0.20</td>\n",
       "    </tr>\n",
       "    <tr>\n",
       "      <th>std</th>\n",
       "      <td>2886.90</td>\n",
       "      <td>71936.19</td>\n",
       "      <td>96.65</td>\n",
       "      <td>10.49</td>\n",
       "      <td>2.89</td>\n",
       "      <td>62397.41</td>\n",
       "      <td>0.58</td>\n",
       "      <td>0.46</td>\n",
       "      <td>0.50</td>\n",
       "      <td>57510.49</td>\n",
       "      <td>0.40</td>\n",
       "    </tr>\n",
       "    <tr>\n",
       "      <th>min</th>\n",
       "      <td>1.00</td>\n",
       "      <td>15565701.00</td>\n",
       "      <td>350.00</td>\n",
       "      <td>18.00</td>\n",
       "      <td>0.00</td>\n",
       "      <td>0.00</td>\n",
       "      <td>1.00</td>\n",
       "      <td>0.00</td>\n",
       "      <td>0.00</td>\n",
       "      <td>11.58</td>\n",
       "      <td>0.00</td>\n",
       "    </tr>\n",
       "    <tr>\n",
       "      <th>25%</th>\n",
       "      <td>2500.75</td>\n",
       "      <td>15628528.25</td>\n",
       "      <td>584.00</td>\n",
       "      <td>32.00</td>\n",
       "      <td>2.00</td>\n",
       "      <td>0.00</td>\n",
       "      <td>1.00</td>\n",
       "      <td>0.00</td>\n",
       "      <td>0.00</td>\n",
       "      <td>51002.11</td>\n",
       "      <td>0.00</td>\n",
       "    </tr>\n",
       "    <tr>\n",
       "      <th>50%</th>\n",
       "      <td>5000.50</td>\n",
       "      <td>15690738.00</td>\n",
       "      <td>652.00</td>\n",
       "      <td>37.00</td>\n",
       "      <td>5.00</td>\n",
       "      <td>97198.54</td>\n",
       "      <td>1.00</td>\n",
       "      <td>1.00</td>\n",
       "      <td>1.00</td>\n",
       "      <td>100193.91</td>\n",
       "      <td>0.00</td>\n",
       "    </tr>\n",
       "    <tr>\n",
       "      <th>75%</th>\n",
       "      <td>7500.25</td>\n",
       "      <td>15753233.75</td>\n",
       "      <td>718.00</td>\n",
       "      <td>44.00</td>\n",
       "      <td>7.00</td>\n",
       "      <td>127644.24</td>\n",
       "      <td>2.00</td>\n",
       "      <td>1.00</td>\n",
       "      <td>1.00</td>\n",
       "      <td>149388.25</td>\n",
       "      <td>0.00</td>\n",
       "    </tr>\n",
       "    <tr>\n",
       "      <th>max</th>\n",
       "      <td>10000.00</td>\n",
       "      <td>15815690.00</td>\n",
       "      <td>850.00</td>\n",
       "      <td>92.00</td>\n",
       "      <td>10.00</td>\n",
       "      <td>250898.09</td>\n",
       "      <td>4.00</td>\n",
       "      <td>1.00</td>\n",
       "      <td>1.00</td>\n",
       "      <td>199992.48</td>\n",
       "      <td>1.00</td>\n",
       "    </tr>\n",
       "  </tbody>\n",
       "</table>\n",
       "</div>"
      ],
      "text/plain": [
       "       RowNumber  CustomerId  CreditScore      Age  Tenure   Balance  \\\n",
       "count   10000.00    10000.00     10000.00 10000.00 9091.00  10000.00   \n",
       "mean     5000.50 15690940.57       650.53    38.92    5.00  76485.89   \n",
       "std      2886.90    71936.19        96.65    10.49    2.89  62397.41   \n",
       "min         1.00 15565701.00       350.00    18.00    0.00      0.00   \n",
       "25%      2500.75 15628528.25       584.00    32.00    2.00      0.00   \n",
       "50%      5000.50 15690738.00       652.00    37.00    5.00  97198.54   \n",
       "75%      7500.25 15753233.75       718.00    44.00    7.00 127644.24   \n",
       "max     10000.00 15815690.00       850.00    92.00   10.00 250898.09   \n",
       "\n",
       "       NumOfProducts  HasCrCard  IsActiveMember  EstimatedSalary   Exited  \n",
       "count       10000.00   10000.00        10000.00         10000.00 10000.00  \n",
       "mean            1.53       0.71            0.52        100090.24     0.20  \n",
       "std             0.58       0.46            0.50         57510.49     0.40  \n",
       "min             1.00       0.00            0.00            11.58     0.00  \n",
       "25%             1.00       0.00            0.00         51002.11     0.00  \n",
       "50%             1.00       1.00            1.00        100193.91     0.00  \n",
       "75%             2.00       1.00            1.00        149388.25     0.00  \n",
       "max             4.00       1.00            1.00        199992.48     1.00  "
      ]
     },
     "metadata": {},
     "output_type": "display_data"
    }
   ],
   "source": [
    "display(data.info())\n",
    "display(data.describe())"
   ]
  },
  {
   "cell_type": "markdown",
   "metadata": {},
   "source": [
    "В нашем датафрейме 14 столбцов и 10000 строк. \n",
    "\n",
    "Один столбец ('Tenure') имеет пропуски. \n",
    "\n",
    "8 столбцов имеют формат данных int64. \n",
    "\n",
    "Так же имеем по 3 столбца с форматами object и float64. \n",
    "\n",
    "Для начала необходимо:  \n",
    "- переименовать названия столбцов, переведя их в нижний регистр\n",
    "- удалить столбец 'RowNumber', который не несет никакой полезной информации \n",
    "- удалить столбцы 'CustomerId' и 'Surname' - они оба несут информация, которая никак не поможет нам при обучении модели и точно помешает при OHE.\n",
    "- разобраться с пропусками в столбце 'Tenure'"
   ]
  },
  {
   "cell_type": "markdown",
   "metadata": {},
   "source": [
    "<div class=\"alert alert-block alert-success\">\n",
    "<b>Успех:</b> Загрузка и первичный осмотр данных проведены хорошо.\n",
    "</div>"
   ]
  },
  {
   "cell_type": "markdown",
   "metadata": {},
   "source": [
    "### Устранение недочетов"
   ]
  },
  {
   "cell_type": "code",
   "execution_count": 5,
   "metadata": {},
   "outputs": [],
   "source": [
    "# переведем названия столбцов в нижний регистр\n",
    "data.columns = data.columns.str.lower()\n",
    "\n",
    "# удаляем столбец 'rownumber'\n",
    "del data['rownumber']\n",
    "\n",
    "# удаляем столбец 'surname'\n",
    "del data['surname']\n",
    "\n",
    "# удаляем столбец 'customerid'\n",
    "del data['customerid']"
   ]
  },
  {
   "cell_type": "markdown",
   "metadata": {},
   "source": [
    "<div class=\"alert alert-block alert-success\">\n",
    "<b>Успех:</b> Согласен, что эти колонки нам не нужны.\n",
    "</div>"
   ]
  },
  {
   "cell_type": "code",
   "execution_count": 6,
   "metadata": {},
   "outputs": [
    {
     "data": {
      "text/html": [
       "<div>\n",
       "<style scoped>\n",
       "    .dataframe tbody tr th:only-of-type {\n",
       "        vertical-align: middle;\n",
       "    }\n",
       "\n",
       "    .dataframe tbody tr th {\n",
       "        vertical-align: top;\n",
       "    }\n",
       "\n",
       "    .dataframe thead th {\n",
       "        text-align: right;\n",
       "    }\n",
       "</style>\n",
       "<table border=\"1\" class=\"dataframe\">\n",
       "  <thead>\n",
       "    <tr style=\"text-align: right;\">\n",
       "      <th></th>\n",
       "      <th>creditscore</th>\n",
       "      <th>geography</th>\n",
       "      <th>gender</th>\n",
       "      <th>age</th>\n",
       "      <th>tenure</th>\n",
       "      <th>balance</th>\n",
       "      <th>numofproducts</th>\n",
       "      <th>hascrcard</th>\n",
       "      <th>isactivemember</th>\n",
       "      <th>estimatedsalary</th>\n",
       "      <th>exited</th>\n",
       "    </tr>\n",
       "  </thead>\n",
       "  <tbody>\n",
       "    <tr>\n",
       "      <th>30</th>\n",
       "      <td>591</td>\n",
       "      <td>Spain</td>\n",
       "      <td>Female</td>\n",
       "      <td>39</td>\n",
       "      <td>NaN</td>\n",
       "      <td>0.00</td>\n",
       "      <td>3</td>\n",
       "      <td>1</td>\n",
       "      <td>0</td>\n",
       "      <td>140469.38</td>\n",
       "      <td>1</td>\n",
       "    </tr>\n",
       "    <tr>\n",
       "      <th>48</th>\n",
       "      <td>550</td>\n",
       "      <td>Germany</td>\n",
       "      <td>Male</td>\n",
       "      <td>38</td>\n",
       "      <td>NaN</td>\n",
       "      <td>103391.38</td>\n",
       "      <td>1</td>\n",
       "      <td>0</td>\n",
       "      <td>1</td>\n",
       "      <td>90878.13</td>\n",
       "      <td>0</td>\n",
       "    </tr>\n",
       "    <tr>\n",
       "      <th>51</th>\n",
       "      <td>585</td>\n",
       "      <td>Germany</td>\n",
       "      <td>Male</td>\n",
       "      <td>36</td>\n",
       "      <td>NaN</td>\n",
       "      <td>146050.97</td>\n",
       "      <td>2</td>\n",
       "      <td>0</td>\n",
       "      <td>0</td>\n",
       "      <td>86424.57</td>\n",
       "      <td>0</td>\n",
       "    </tr>\n",
       "    <tr>\n",
       "      <th>53</th>\n",
       "      <td>655</td>\n",
       "      <td>Germany</td>\n",
       "      <td>Male</td>\n",
       "      <td>41</td>\n",
       "      <td>NaN</td>\n",
       "      <td>125561.97</td>\n",
       "      <td>1</td>\n",
       "      <td>0</td>\n",
       "      <td>0</td>\n",
       "      <td>164040.94</td>\n",
       "      <td>1</td>\n",
       "    </tr>\n",
       "    <tr>\n",
       "      <th>60</th>\n",
       "      <td>742</td>\n",
       "      <td>Germany</td>\n",
       "      <td>Male</td>\n",
       "      <td>35</td>\n",
       "      <td>NaN</td>\n",
       "      <td>136857.00</td>\n",
       "      <td>1</td>\n",
       "      <td>0</td>\n",
       "      <td>0</td>\n",
       "      <td>84509.57</td>\n",
       "      <td>0</td>\n",
       "    </tr>\n",
       "    <tr>\n",
       "      <th>82</th>\n",
       "      <td>543</td>\n",
       "      <td>France</td>\n",
       "      <td>Female</td>\n",
       "      <td>36</td>\n",
       "      <td>NaN</td>\n",
       "      <td>0.00</td>\n",
       "      <td>2</td>\n",
       "      <td>0</td>\n",
       "      <td>0</td>\n",
       "      <td>26019.59</td>\n",
       "      <td>0</td>\n",
       "    </tr>\n",
       "    <tr>\n",
       "      <th>85</th>\n",
       "      <td>652</td>\n",
       "      <td>Spain</td>\n",
       "      <td>Female</td>\n",
       "      <td>75</td>\n",
       "      <td>NaN</td>\n",
       "      <td>0.00</td>\n",
       "      <td>2</td>\n",
       "      <td>1</td>\n",
       "      <td>1</td>\n",
       "      <td>114675.75</td>\n",
       "      <td>0</td>\n",
       "    </tr>\n",
       "    <tr>\n",
       "      <th>94</th>\n",
       "      <td>730</td>\n",
       "      <td>Spain</td>\n",
       "      <td>Male</td>\n",
       "      <td>42</td>\n",
       "      <td>NaN</td>\n",
       "      <td>0.00</td>\n",
       "      <td>2</td>\n",
       "      <td>0</td>\n",
       "      <td>1</td>\n",
       "      <td>85982.47</td>\n",
       "      <td>0</td>\n",
       "    </tr>\n",
       "    <tr>\n",
       "      <th>99</th>\n",
       "      <td>413</td>\n",
       "      <td>France</td>\n",
       "      <td>Male</td>\n",
       "      <td>34</td>\n",
       "      <td>NaN</td>\n",
       "      <td>0.00</td>\n",
       "      <td>2</td>\n",
       "      <td>0</td>\n",
       "      <td>0</td>\n",
       "      <td>6534.18</td>\n",
       "      <td>0</td>\n",
       "    </tr>\n",
       "    <tr>\n",
       "      <th>111</th>\n",
       "      <td>538</td>\n",
       "      <td>Germany</td>\n",
       "      <td>Male</td>\n",
       "      <td>39</td>\n",
       "      <td>NaN</td>\n",
       "      <td>108055.10</td>\n",
       "      <td>2</td>\n",
       "      <td>1</td>\n",
       "      <td>0</td>\n",
       "      <td>27231.26</td>\n",
       "      <td>0</td>\n",
       "    </tr>\n",
       "  </tbody>\n",
       "</table>\n",
       "</div>"
      ],
      "text/plain": [
       "     creditscore geography  gender  age  tenure   balance  numofproducts  \\\n",
       "30           591     Spain  Female   39     NaN      0.00              3   \n",
       "48           550   Germany    Male   38     NaN 103391.38              1   \n",
       "51           585   Germany    Male   36     NaN 146050.97              2   \n",
       "53           655   Germany    Male   41     NaN 125561.97              1   \n",
       "60           742   Germany    Male   35     NaN 136857.00              1   \n",
       "82           543    France  Female   36     NaN      0.00              2   \n",
       "85           652     Spain  Female   75     NaN      0.00              2   \n",
       "94           730     Spain    Male   42     NaN      0.00              2   \n",
       "99           413    France    Male   34     NaN      0.00              2   \n",
       "111          538   Germany    Male   39     NaN 108055.10              2   \n",
       "\n",
       "     hascrcard  isactivemember  estimatedsalary  exited  \n",
       "30           1               0        140469.38       1  \n",
       "48           0               1         90878.13       0  \n",
       "51           0               0         86424.57       0  \n",
       "53           0               0        164040.94       1  \n",
       "60           0               0         84509.57       0  \n",
       "82           0               0         26019.59       0  \n",
       "85           1               1        114675.75       0  \n",
       "94           0               1         85982.47       0  \n",
       "99           0               0          6534.18       0  \n",
       "111          1               0         27231.26       0  "
      ]
     },
     "execution_count": 6,
     "metadata": {},
     "output_type": "execute_result"
    }
   ],
   "source": [
    "# изучим пропуски в столбце 'tenure'\n",
    "\n",
    "data[data['tenure'].isna()].head(10)"
   ]
  },
  {
   "cell_type": "code",
   "execution_count": 7,
   "metadata": {},
   "outputs": [
    {
     "data": {
      "image/png": "[encoded data removed]",
      "text/plain": [
       "<Figure size 1008x720 with 2 Axes>"
      ]
     },
     "metadata": {
      "needs_background": "light"
     },
     "output_type": "display_data"
    }
   ],
   "source": [
    "# проверим корреляцию в нашем датафрейме\n",
    "# это может помочь при устранении пропусков в столбце 'tenure'\n",
    "\n",
    "corr_matrix = data.corr()\n",
    "fig, ax = plt.subplots(figsize=(14,10)) \n",
    "sns.heatmap(corr_matrix, annot=True, \n",
    "            cbar_kws={'orientation': 'horizontal', \n",
    "                      'label': 'Величина коэффициента корреляции Пирсона'},\n",
    "            cmap='BuPu')\n",
    "plt.title('Корреляция предоставленных данных', fontsize=16)\n",
    "plt.show() "
   ]
  },
  {
   "cell_type": "code",
   "execution_count": 8,
   "metadata": {},
   "outputs": [],
   "source": [
    "# построение матрицы корреляции не выявило никаких взаимосвязей для столбца 'tenure', \n",
    "# а значит - заменить пропуски какими-либо данными кроме 0 мы не сможем\n",
    "# так и поступим - заполним пропуски 0\n",
    "\n",
    "data = data.fillna(0)"
   ]
  },
  {
   "cell_type": "code",
   "execution_count": 9,
   "metadata": {},
   "outputs": [
    {
     "data": {
      "text/html": [
       "<div>\n",
       "<style scoped>\n",
       "    .dataframe tbody tr th:only-of-type {\n",
       "        vertical-align: middle;\n",
       "    }\n",
       "\n",
       "    .dataframe tbody tr th {\n",
       "        vertical-align: top;\n",
       "    }\n",
       "\n",
       "    .dataframe thead th {\n",
       "        text-align: right;\n",
       "    }\n",
       "</style>\n",
       "<table border=\"1\" class=\"dataframe\">\n",
       "  <thead>\n",
       "    <tr style=\"text-align: right;\">\n",
       "      <th></th>\n",
       "      <th>creditscore</th>\n",
       "      <th>geography</th>\n",
       "      <th>gender</th>\n",
       "      <th>age</th>\n",
       "      <th>tenure</th>\n",
       "      <th>balance</th>\n",
       "      <th>numofproducts</th>\n",
       "      <th>hascrcard</th>\n",
       "      <th>isactivemember</th>\n",
       "      <th>estimatedsalary</th>\n",
       "      <th>exited</th>\n",
       "    </tr>\n",
       "  </thead>\n",
       "  <tbody>\n",
       "  </tbody>\n",
       "</table>\n",
       "</div>"
      ],
      "text/plain": [
       "Empty DataFrame\n",
       "Columns: [creditscore, geography, gender, age, tenure, balance, numofproducts, hascrcard, isactivemember, estimatedsalary, exited]\n",
       "Index: []"
      ]
     },
     "execution_count": 9,
     "metadata": {},
     "output_type": "execute_result"
    }
   ],
   "source": [
    "# проверим наличие пропусков в столбце 'Tenure'\n",
    "\n",
    "data[data['tenure'].isna()]"
   ]
  },
  {
   "cell_type": "markdown",
   "metadata": {},
   "source": [
    "<div class=\"alert alert-block alert-success\">\n",
    "<b>Успех:</b> Заполнить пропуски таким образом – хорошее решение.\n",
    "</div>"
   ]
  },
  {
   "cell_type": "markdown",
   "metadata": {},
   "source": [
    "### Подготовка признаков"
   ]
  },
  {
   "cell_type": "code",
   "execution_count": 10,
   "metadata": {},
   "outputs": [
    {
     "data": {
      "text/html": [
       "<div>\n",
       "<style scoped>\n",
       "    .dataframe tbody tr th:only-of-type {\n",
       "        vertical-align: middle;\n",
       "    }\n",
       "\n",
       "    .dataframe tbody tr th {\n",
       "        vertical-align: top;\n",
       "    }\n",
       "\n",
       "    .dataframe thead th {\n",
       "        text-align: right;\n",
       "    }\n",
       "</style>\n",
       "<table border=\"1\" class=\"dataframe\">\n",
       "  <thead>\n",
       "    <tr style=\"text-align: right;\">\n",
       "      <th></th>\n",
       "      <th>creditscore</th>\n",
       "      <th>age</th>\n",
       "      <th>tenure</th>\n",
       "      <th>balance</th>\n",
       "      <th>numofproducts</th>\n",
       "      <th>hascrcard</th>\n",
       "      <th>isactivemember</th>\n",
       "      <th>estimatedsalary</th>\n",
       "      <th>exited</th>\n",
       "      <th>geography_Germany</th>\n",
       "      <th>geography_Spain</th>\n",
       "      <th>gender_Male</th>\n",
       "    </tr>\n",
       "  </thead>\n",
       "  <tbody>\n",
       "    <tr>\n",
       "      <th>0</th>\n",
       "      <td>619</td>\n",
       "      <td>42</td>\n",
       "      <td>2.00</td>\n",
       "      <td>0.00</td>\n",
       "      <td>1</td>\n",
       "      <td>1</td>\n",
       "      <td>1</td>\n",
       "      <td>101348.88</td>\n",
       "      <td>1</td>\n",
       "      <td>0</td>\n",
       "      <td>0</td>\n",
       "      <td>0</td>\n",
       "    </tr>\n",
       "    <tr>\n",
       "      <th>1</th>\n",
       "      <td>608</td>\n",
       "      <td>41</td>\n",
       "      <td>1.00</td>\n",
       "      <td>83807.86</td>\n",
       "      <td>1</td>\n",
       "      <td>0</td>\n",
       "      <td>1</td>\n",
       "      <td>112542.58</td>\n",
       "      <td>0</td>\n",
       "      <td>0</td>\n",
       "      <td>1</td>\n",
       "      <td>0</td>\n",
       "    </tr>\n",
       "    <tr>\n",
       "      <th>2</th>\n",
       "      <td>502</td>\n",
       "      <td>42</td>\n",
       "      <td>8.00</td>\n",
       "      <td>159660.80</td>\n",
       "      <td>3</td>\n",
       "      <td>1</td>\n",
       "      <td>0</td>\n",
       "      <td>113931.57</td>\n",
       "      <td>1</td>\n",
       "      <td>0</td>\n",
       "      <td>0</td>\n",
       "      <td>0</td>\n",
       "    </tr>\n",
       "    <tr>\n",
       "      <th>3</th>\n",
       "      <td>699</td>\n",
       "      <td>39</td>\n",
       "      <td>1.00</td>\n",
       "      <td>0.00</td>\n",
       "      <td>2</td>\n",
       "      <td>0</td>\n",
       "      <td>0</td>\n",
       "      <td>93826.63</td>\n",
       "      <td>0</td>\n",
       "      <td>0</td>\n",
       "      <td>0</td>\n",
       "      <td>0</td>\n",
       "    </tr>\n",
       "    <tr>\n",
       "      <th>4</th>\n",
       "      <td>850</td>\n",
       "      <td>43</td>\n",
       "      <td>2.00</td>\n",
       "      <td>125510.82</td>\n",
       "      <td>1</td>\n",
       "      <td>1</td>\n",
       "      <td>1</td>\n",
       "      <td>79084.10</td>\n",
       "      <td>0</td>\n",
       "      <td>0</td>\n",
       "      <td>1</td>\n",
       "      <td>0</td>\n",
       "    </tr>\n",
       "    <tr>\n",
       "      <th>5</th>\n",
       "      <td>645</td>\n",
       "      <td>44</td>\n",
       "      <td>8.00</td>\n",
       "      <td>113755.78</td>\n",
       "      <td>2</td>\n",
       "      <td>1</td>\n",
       "      <td>0</td>\n",
       "      <td>149756.71</td>\n",
       "      <td>1</td>\n",
       "      <td>0</td>\n",
       "      <td>1</td>\n",
       "      <td>1</td>\n",
       "    </tr>\n",
       "    <tr>\n",
       "      <th>6</th>\n",
       "      <td>822</td>\n",
       "      <td>50</td>\n",
       "      <td>7.00</td>\n",
       "      <td>0.00</td>\n",
       "      <td>2</td>\n",
       "      <td>1</td>\n",
       "      <td>1</td>\n",
       "      <td>10062.80</td>\n",
       "      <td>0</td>\n",
       "      <td>0</td>\n",
       "      <td>0</td>\n",
       "      <td>1</td>\n",
       "    </tr>\n",
       "    <tr>\n",
       "      <th>7</th>\n",
       "      <td>376</td>\n",
       "      <td>29</td>\n",
       "      <td>4.00</td>\n",
       "      <td>115046.74</td>\n",
       "      <td>4</td>\n",
       "      <td>1</td>\n",
       "      <td>0</td>\n",
       "      <td>119346.88</td>\n",
       "      <td>1</td>\n",
       "      <td>1</td>\n",
       "      <td>0</td>\n",
       "      <td>0</td>\n",
       "    </tr>\n",
       "    <tr>\n",
       "      <th>8</th>\n",
       "      <td>501</td>\n",
       "      <td>44</td>\n",
       "      <td>4.00</td>\n",
       "      <td>142051.07</td>\n",
       "      <td>2</td>\n",
       "      <td>0</td>\n",
       "      <td>1</td>\n",
       "      <td>74940.50</td>\n",
       "      <td>0</td>\n",
       "      <td>0</td>\n",
       "      <td>0</td>\n",
       "      <td>1</td>\n",
       "    </tr>\n",
       "    <tr>\n",
       "      <th>9</th>\n",
       "      <td>684</td>\n",
       "      <td>27</td>\n",
       "      <td>2.00</td>\n",
       "      <td>134603.88</td>\n",
       "      <td>1</td>\n",
       "      <td>1</td>\n",
       "      <td>1</td>\n",
       "      <td>71725.73</td>\n",
       "      <td>0</td>\n",
       "      <td>0</td>\n",
       "      <td>0</td>\n",
       "      <td>1</td>\n",
       "    </tr>\n",
       "  </tbody>\n",
       "</table>\n",
       "</div>"
      ],
      "text/plain": [
       "   creditscore  age  tenure   balance  numofproducts  hascrcard  \\\n",
       "0          619   42    2.00      0.00              1          1   \n",
       "1          608   41    1.00  83807.86              1          0   \n",
       "2          502   42    8.00 159660.80              3          1   \n",
       "3          699   39    1.00      0.00              2          0   \n",
       "4          850   43    2.00 125510.82              1          1   \n",
       "5          645   44    8.00 113755.78              2          1   \n",
       "6          822   50    7.00      0.00              2          1   \n",
       "7          376   29    4.00 115046.74              4          1   \n",
       "8          501   44    4.00 142051.07              2          0   \n",
       "9          684   27    2.00 134603.88              1          1   \n",
       "\n",
       "   isactivemember  estimatedsalary  exited  geography_Germany  \\\n",
       "0               1        101348.88       1                  0   \n",
       "1               1        112542.58       0                  0   \n",
       "2               0        113931.57       1                  0   \n",
       "3               0         93826.63       0                  0   \n",
       "4               1         79084.10       0                  0   \n",
       "5               0        149756.71       1                  0   \n",
       "6               1         10062.80       0                  0   \n",
       "7               0        119346.88       1                  1   \n",
       "8               1         74940.50       0                  0   \n",
       "9               1         71725.73       0                  0   \n",
       "\n",
       "   geography_Spain  gender_Male  \n",
       "0                0            0  \n",
       "1                1            0  \n",
       "2                0            0  \n",
       "3                0            0  \n",
       "4                1            0  \n",
       "5                1            1  \n",
       "6                0            1  \n",
       "7                0            0  \n",
       "8                0            1  \n",
       "9                0            1  "
      ]
     },
     "execution_count": 10,
     "metadata": {},
     "output_type": "execute_result"
    }
   ],
   "source": [
    "# используем OHE для нашего датафрейма, \n",
    "# чтобы перевести столбцы geography и gender в числовые значения\n",
    "\n",
    "data_ohe = pd.get_dummies(data, drop_first=True)\n",
    "data_ohe.head(10)"
   ]
  },
  {
   "cell_type": "markdown",
   "metadata": {},
   "source": [
    "<div class=\"alert alert-block alert-success\">\n",
    "<b>Успех:</b> В данном случае это наиболее подходящий метод закодировать категориальные колонки.\n",
    "</div>"
   ]
  },
  {
   "cell_type": "code",
   "execution_count": 11,
   "metadata": {},
   "outputs": [
    {
     "data": {
      "text/html": [
       "<div>\n",
       "<style scoped>\n",
       "    .dataframe tbody tr th:only-of-type {\n",
       "        vertical-align: middle;\n",
       "    }\n",
       "\n",
       "    .dataframe tbody tr th {\n",
       "        vertical-align: top;\n",
       "    }\n",
       "\n",
       "    .dataframe thead th {\n",
       "        text-align: right;\n",
       "    }\n",
       "</style>\n",
       "<table border=\"1\" class=\"dataframe\">\n",
       "  <thead>\n",
       "    <tr style=\"text-align: right;\">\n",
       "      <th></th>\n",
       "      <th>creditscore</th>\n",
       "      <th>age</th>\n",
       "      <th>tenure</th>\n",
       "      <th>balance</th>\n",
       "      <th>numofproducts</th>\n",
       "      <th>hascrcard</th>\n",
       "      <th>isactivemember</th>\n",
       "      <th>estimatedsalary</th>\n",
       "      <th>exited</th>\n",
       "      <th>geography_Germany</th>\n",
       "      <th>geography_Spain</th>\n",
       "      <th>gender_Male</th>\n",
       "    </tr>\n",
       "  </thead>\n",
       "  <tbody>\n",
       "    <tr>\n",
       "      <th>0</th>\n",
       "      <td>619</td>\n",
       "      <td>42</td>\n",
       "      <td>2.00</td>\n",
       "      <td>0.00</td>\n",
       "      <td>1</td>\n",
       "      <td>1</td>\n",
       "      <td>1</td>\n",
       "      <td>101348.88</td>\n",
       "      <td>1</td>\n",
       "      <td>0</td>\n",
       "      <td>0</td>\n",
       "      <td>0</td>\n",
       "    </tr>\n",
       "    <tr>\n",
       "      <th>1</th>\n",
       "      <td>608</td>\n",
       "      <td>41</td>\n",
       "      <td>1.00</td>\n",
       "      <td>83807.86</td>\n",
       "      <td>1</td>\n",
       "      <td>0</td>\n",
       "      <td>1</td>\n",
       "      <td>112542.58</td>\n",
       "      <td>0</td>\n",
       "      <td>0</td>\n",
       "      <td>1</td>\n",
       "      <td>0</td>\n",
       "    </tr>\n",
       "    <tr>\n",
       "      <th>2</th>\n",
       "      <td>502</td>\n",
       "      <td>42</td>\n",
       "      <td>8.00</td>\n",
       "      <td>159660.80</td>\n",
       "      <td>3</td>\n",
       "      <td>1</td>\n",
       "      <td>0</td>\n",
       "      <td>113931.57</td>\n",
       "      <td>1</td>\n",
       "      <td>0</td>\n",
       "      <td>0</td>\n",
       "      <td>0</td>\n",
       "    </tr>\n",
       "    <tr>\n",
       "      <th>3</th>\n",
       "      <td>699</td>\n",
       "      <td>39</td>\n",
       "      <td>1.00</td>\n",
       "      <td>0.00</td>\n",
       "      <td>2</td>\n",
       "      <td>0</td>\n",
       "      <td>0</td>\n",
       "      <td>93826.63</td>\n",
       "      <td>0</td>\n",
       "      <td>0</td>\n",
       "      <td>0</td>\n",
       "      <td>0</td>\n",
       "    </tr>\n",
       "    <tr>\n",
       "      <th>4</th>\n",
       "      <td>850</td>\n",
       "      <td>43</td>\n",
       "      <td>2.00</td>\n",
       "      <td>125510.82</td>\n",
       "      <td>1</td>\n",
       "      <td>1</td>\n",
       "      <td>1</td>\n",
       "      <td>79084.10</td>\n",
       "      <td>0</td>\n",
       "      <td>0</td>\n",
       "      <td>1</td>\n",
       "      <td>0</td>\n",
       "    </tr>\n",
       "  </tbody>\n",
       "</table>\n",
       "</div>"
      ],
      "text/plain": [
       "   creditscore  age  tenure   balance  numofproducts  hascrcard  \\\n",
       "0          619   42    2.00      0.00              1          1   \n",
       "1          608   41    1.00  83807.86              1          0   \n",
       "2          502   42    8.00 159660.80              3          1   \n",
       "3          699   39    1.00      0.00              2          0   \n",
       "4          850   43    2.00 125510.82              1          1   \n",
       "\n",
       "   isactivemember  estimatedsalary  exited  geography_Germany  \\\n",
       "0               1        101348.88       1                  0   \n",
       "1               1        112542.58       0                  0   \n",
       "2               0        113931.57       1                  0   \n",
       "3               0         93826.63       0                  0   \n",
       "4               1         79084.10       0                  0   \n",
       "\n",
       "   geography_Spain  gender_Male  \n",
       "0                0            0  \n",
       "1                1            0  \n",
       "2                0            0  \n",
       "3                0            0  \n",
       "4                1            0  "
      ]
     },
     "execution_count": 11,
     "metadata": {},
     "output_type": "execute_result"
    }
   ],
   "source": [
    "# проверим \n",
    "data_ohe.head(5)"
   ]
  },
  {
   "cell_type": "markdown",
   "metadata": {},
   "source": [
    "Разобьем представленные данные на три выборки в пропорциях 60-20-20:\n",
    "\n",
    "- 60% - тренировочная выборка\n",
    "- 20% - валидационная выборка\n",
    "- 20% - тестовая выборка"
   ]
  },
  {
   "cell_type": "code",
   "execution_count": 12,
   "metadata": {},
   "outputs": [],
   "source": [
    "# зададим признаки - все данные таблицы помимо столбца 'exited'\n",
    "features = data_ohe.drop('exited', axis=1)\n",
    "# ключевой признак будет - столбец с фактом ухода клиента\n",
    "target = data_ohe['exited']\n",
    "\n",
    "\n",
    "# так как нам необходимо разделить датафрейм на три части, то для начала создадим две выборки \n",
    "# это будут тренировочная и тестовая выборка\n",
    "# 80% оставляем на тренировочную и 20% отбираем для тестовой\n",
    "\n",
    "features_train, features_test, target_train, target_test = \\\n",
    "train_test_split(features, target, test_size=0.20, random_state=123) \n",
    "\n",
    "\n",
    "# и создаем третью выборку - валидационную \n",
    "# для этого от тренировочной выборки заберем 25%\n",
    "\n",
    "features_train, features_valid, target_train, target_valid = \\\n",
    "train_test_split(features_train, target_train, test_size=0.25, random_state=123)"
   ]
  },
  {
   "cell_type": "code",
   "execution_count": 13,
   "metadata": {},
   "outputs": [],
   "source": [
    "# мы имеем явный разброс по значениям в числовых столбцах\n",
    "# чтобы избежать проблем - прибегнем к стандартизации\n",
    "\n",
    "numeric = ['creditscore', 'age', 'tenure', 'balance', 'numofproducts', 'estimatedsalary']\n",
    "scaler = StandardScaler()\n",
    "scaler.fit(features_train[numeric])\n",
    "\n",
    "features_train[numeric] = scaler.transform(features_train[numeric])\n",
    "features_valid[numeric] = scaler.transform(features_valid[numeric])\n",
    "features_test[numeric] = scaler.transform(features_test[numeric])"
   ]
  },
  {
   "cell_type": "markdown",
   "metadata": {},
   "source": [
    "<div class=\"alert alert-block alert-danger\">\n",
    "<b>Ошибка:</b> Scaler можно обучать только после разбиения выборки на части. При этом он должен быть обучен только на тренировочной части данных.\n",
    "</div>"
   ]
  },
  {
   "cell_type": "markdown",
   "metadata": {},
   "source": [
    "<div class=\"alert alert-block alert-warning\">\n",
    "<b>Изменения:</b> Поправил. Благодарю. Не разобрался сразу. \n",
    "</div>"
   ]
  },
  {
   "cell_type": "code",
   "execution_count": 14,
   "metadata": {},
   "outputs": [
    {
     "data": {
      "text/plain": [
       "(6000, 11)"
      ]
     },
     "metadata": {},
     "output_type": "display_data"
    },
    {
     "data": {
      "text/plain": [
       "(2000, 11)"
      ]
     },
     "metadata": {},
     "output_type": "display_data"
    },
    {
     "data": {
      "text/plain": [
       "(2000, 11)"
      ]
     },
     "metadata": {},
     "output_type": "display_data"
    }
   ],
   "source": [
    "display(features_train.shape)\n",
    "display(features_valid.shape)\n",
    "display(features_test.shape)"
   ]
  },
  {
   "cell_type": "markdown",
   "metadata": {},
   "source": [
    "<div class=\"alert alert-block alert-success\">\n",
    "<b>Успех:</b> Разбиение было сделано правильно. Отлично, что размеры полученных наборов были напечатаны. Иногда, это помогает избежать ошибок.\n",
    "</div>"
   ]
  },
  {
   "cell_type": "markdown",
   "metadata": {},
   "source": [
    "## Исследование задачи"
   ]
  },
  {
   "cell_type": "markdown",
   "metadata": {},
   "source": [
    "Проверим баланс данных целевого признака"
   ]
  },
  {
   "cell_type": "code",
   "execution_count": 15,
   "metadata": {},
   "outputs": [
    {
     "data": {
      "text/plain": [
       "0.25580811252040686"
      ]
     },
     "execution_count": 15,
     "metadata": {},
     "output_type": "execute_result"
    }
   ],
   "source": [
    "target.value_counts()[1] / target.value_counts()[0]"
   ]
  },
  {
   "cell_type": "markdown",
   "metadata": {},
   "source": [
    "Явный дисбаланс - 1:4 (0 в 4 раза больше, чем 1)"
   ]
  },
  {
   "cell_type": "markdown",
   "metadata": {},
   "source": [
    "Так как перед нами стоит задача классификации - будем использовать три модели: Дерево решений, Случайный лес и Логистическая регрессия. \n",
    "\n",
    "Для начала обучим модели на тренировочной выборке и проверим их на валидационной без работы с дисбалансом."
   ]
  },
  {
   "cell_type": "markdown",
   "metadata": {},
   "source": [
    "### Построение модели \"Дерево решений\""
   ]
  },
  {
   "cell_type": "code",
   "execution_count": 16,
   "metadata": {},
   "outputs": [
    {
     "name": "stdout",
     "output_type": "stream",
     "text": [
      "Параметры лучше модели: DecisionTreeClassifier(max_depth=5, random_state=12345)\n",
      "Accuracy лучшей модели на валидационной выборке: 0.85\n",
      "F1-мера лучшей модели на валидационной выборке: 0.5677233429394812\n",
      "ROC-AUC лучшей модели на валидационной выборке: 0.8194529837251355\n"
     ]
    }
   ],
   "source": [
    "# создадим цикл для поиска наилучшей модели \"Дерево решений\" с глубиной от 1 до 10\n",
    "# цикл покажет параметры лучшей модели, значения accuracy и F1\n",
    "\n",
    "best_model = None\n",
    "best_result = 0\n",
    "f1_best_result = 0\n",
    "roc_auc_best_tree = 0\n",
    "for depth in range(1, 11):\n",
    "    tree_model = DecisionTreeClassifier(random_state=12345, max_depth=depth) \n",
    "    tree_model.fit(features_train, target_train)\n",
    "    tree_predictions = tree_model.predict(features_valid)\n",
    "    tree_result = accuracy_score(target_valid, tree_predictions)\n",
    "    if tree_result > best_result:\n",
    "        best_result = tree_result\n",
    "    f1_result = f1_score(target_valid, tree_predictions)\n",
    "    if f1_result > f1_best_result:\n",
    "        best_model = tree_model\n",
    "        f1_best_model = tree_model\n",
    "        f1_best_result = f1_result\n",
    "    probabilities_valid = tree_model.predict_proba(features_valid)\n",
    "    probabilities_one_valid = probabilities_valid[:, 1]\n",
    "    roc_auc_tree = roc_auc_score(target_valid, probabilities_one_valid)\n",
    "    if roc_auc_tree > roc_auc_best_tree:\n",
    "        roc_auc_best_tree = tree_model\n",
    "        roc_auc_best_tree = roc_auc_tree    \n",
    "print('Параметры лучше модели:', best_model)       \n",
    "print('Accuracy лучшей модели на валидационной выборке:', best_result)\n",
    "print('F1-мера лучшей модели на валидационной выборке:', f1_best_result)\n",
    "print('ROC-AUC лучшей модели на валидационной выборке:', roc_auc_best_tree)"
   ]
  },
  {
   "cell_type": "markdown",
   "metadata": {},
   "source": [
    "Лучший результат показала модель с глубиной 5. При этом значения F1-меры не очень близки к поставленной цели. "
   ]
  },
  {
   "cell_type": "markdown",
   "metadata": {},
   "source": [
    "<div class=\"alert alert-block alert-danger\">\n",
    "<b>Ошибка:</b> В данном случае правильно подбирать параметры по нашей целевой метрике, то есть f-мере. У тебя же печается лучшая модель по accuracy.\n",
    "</div>"
   ]
  },
  {
   "cell_type": "markdown",
   "metadata": {},
   "source": [
    "<div class=\"alert alert-block alert-warning\">\n",
    "<b>Изменения:</b> Благодарю - переделал. Действительно пропустил этот важный момент. \n",
    "</div>"
   ]
  },
  {
   "cell_type": "markdown",
   "metadata": {},
   "source": [
    "### Построение модели \"Cлучайный лес\""
   ]
  },
  {
   "cell_type": "code",
   "execution_count": 17,
   "metadata": {},
   "outputs": [
    {
     "name": "stdout",
     "output_type": "stream",
     "text": [
      "Параметры лучше модели: RandomForestClassifier(max_depth=9, n_estimators=41, random_state=12345)\n",
      "Accuracy лучшей модели на валидационной выборке: 0.864\n",
      "F1-мера лучшей модели на валидационной выборке: 0.5736677115987461\n",
      "ROC-AUC лучшей модели на валидационной выборке: 0.8482753164556962\n"
     ]
    }
   ],
   "source": [
    "# создадим цикл для поиска наилучшей модели \"Cлучайный лес\" \n",
    "# с количеством деревьев от 5 до 50 и шагом 5 \n",
    "# с глубиной от 1 до 20\n",
    "\n",
    "best_model = 0\n",
    "best_result = 0\n",
    "f1_best_result = 0\n",
    "roc_auc_best_forest = 0\n",
    "for est in range(5, 51, 3):\n",
    "    for depth in range (1, 11):\n",
    "        forest_model = RandomForestClassifier(random_state=12345, n_estimators=est, \\\n",
    "                                              max_depth=depth) \n",
    "        forest_model.fit(features_train, target_train) \n",
    "        result = forest_model.score(features_valid, target_valid) \n",
    "        forest_predictions = forest_model.predict(features_valid)\n",
    "        if result > best_result:\n",
    "            best_result = result\n",
    "        f1_result = f1_score(target_valid, forest_predictions)\n",
    "        if f1_result > f1_best_result:\n",
    "            best_model = forest_model\n",
    "            f1_best_model = forest_model\n",
    "            f1_best_result = f1_result\n",
    "        probabilities_valid = forest_model.predict_proba(features_valid)\n",
    "        probabilities_one_valid = probabilities_valid[:, 1]\n",
    "        roc_auc_forest = roc_auc_score(target_valid, probabilities_one_valid)\n",
    "        if roc_auc_forest > roc_auc_best_forest:\n",
    "            roc_auc_best_forest = forest_model\n",
    "            roc_auc_best_forest = roc_auc_forest    \n",
    "print('Параметры лучше модели:', best_model)       \n",
    "print('Accuracy лучшей модели на валидационной выборке:', best_result)\n",
    "print('F1-мера лучшей модели на валидационной выборке:', f1_best_result)\n",
    "print('ROC-AUC лучшей модели на валидационной выборке:', roc_auc_best_forest)    "
   ]
  },
  {
   "cell_type": "markdown",
   "metadata": {},
   "source": [
    "Лучшие результаты показала модель с глубиной 9 и количеством наблюдателей - 41. \n",
    "F1-мера лучше, чем у предыдущей модели. "
   ]
  },
  {
   "cell_type": "markdown",
   "metadata": {},
   "source": [
    "<div class=\"alert alert-block alert-danger\">\n",
    "<b>Ошибка:</b> При измерении F-меры допущена опечатка – почему-то используется tree_predictions. \n",
    "</div>"
   ]
  },
  {
   "cell_type": "markdown",
   "metadata": {},
   "source": [
    "<div class=\"alert alert-block alert-warning\">\n",
    "<b>Изменения:</b> Исправил\n",
    "</div>"
   ]
  },
  {
   "cell_type": "markdown",
   "metadata": {},
   "source": [
    "### Построение модели \"Логистическая регрессия\""
   ]
  },
  {
   "cell_type": "code",
   "execution_count": 18,
   "metadata": {},
   "outputs": [
    {
     "name": "stdout",
     "output_type": "stream",
     "text": [
      "Accuracy модели Логистической регрессия на валидационной выборке: 0.801\n",
      "F1-мера модели Логистической регрессия на валидационной выборке: 0.27106227106227104\n",
      "ROC-AUC модели Логистической регрессия на валидационной выборке: 0.7603601567209162\n"
     ]
    }
   ],
   "source": [
    "log_model = LogisticRegression(random_state=12345, solver='liblinear')\n",
    "log_model.fit(features_train, target_train)\n",
    "result = log_model.score(features_valid, target_valid)\n",
    "log_predictions = log_model.predict(features_valid)\n",
    "f1_result = f1_score(target_valid, log_predictions)\n",
    "probabilities_valid = log_model.predict_proba(features_valid)\n",
    "probabilities_one_valid = probabilities_valid[:, 1]\n",
    "roc_auc_log = roc_auc_score(target_valid, probabilities_one_valid)\n",
    "\n",
    "print('Accuracy модели Логистической регрессия на валидационной выборке:', result)\n",
    "print('F1-мера модели Логистической регрессия на валидационной выборке:', f1_result)\n",
    "print('ROC-AUC модели Логистической регрессия на валидационной выборке:', roc_auc_log)    "
   ]
  },
  {
   "cell_type": "markdown",
   "metadata": {},
   "source": [
    "У модели \"Логистическая регрессия\" худший показатель F1-меры: 0.27106227106227104"
   ]
  },
  {
   "cell_type": "code",
   "execution_count": 19,
   "metadata": {},
   "outputs": [
    {
     "data": {
      "image/png": "[encoded data removed]",
      "text/plain": [
       "<Figure size 1008x576 with 1 Axes>"
      ]
     },
     "metadata": {
      "needs_background": "light"
     },
     "output_type": "display_data"
    }
   ],
   "source": [
    "# для наглядности построим кривую ROC для каждой модели\n",
    "\n",
    "plt.figure(figsize=[14, 8])\n",
    "models = [\n",
    "    {\n",
    "    'label': 'Дерево решений',\n",
    "    'model': tree_model,\n",
    "    },\n",
    "    {\n",
    "    'label': 'Случайный лес',\n",
    "    'model': forest_model,\n",
    "    },\n",
    "    {\n",
    "    'label': 'Логистическая регрессия',\n",
    "    'model': log_model,\n",
    "    }\n",
    "]\n",
    "\n",
    "for m in models:\n",
    "    model = m['model']\n",
    "    probabilities_one_valid = model.predict_proba(features_valid)[:, 1]\n",
    "    fpr, tpr, threshold = roc_curve(target_valid, probabilities_one_valid)\n",
    "    auc = roc_auc_score(target_valid, probabilities_one_valid)\n",
    "    plt.plot(fpr, tpr, label='%s ROC (%0.4f)' % (m['label'], auc))\n",
    "    \n",
    "plt.plot([0, 1], [0, 1],'r--', label='Случайная модель (0.5)')\n",
    "plt.xlim([0.0, 1.0])\n",
    "plt.ylim([0.0, 1.05])\n",
    "plt.xlabel('False Positive Rate', fontsize=12)\n",
    "plt.ylabel('True Positive Rate', fontsize=12)\n",
    "plt.title('ROC-кривая', fontsize=14)\n",
    "plt.legend(loc=\"lower right\")\n",
    "plt.show()"
   ]
  },
  {
   "cell_type": "code",
   "execution_count": 20,
   "metadata": {},
   "outputs": [
    {
     "data": {
      "image/png": "[encoded data removed]",
      "text/plain": [
       "<Figure size 1008x360 with 6 Axes>"
      ]
     },
     "metadata": {
      "needs_background": "light"
     },
     "output_type": "display_data"
    }
   ],
   "source": [
    "# так же визуализируем матрицы ошибок для кажой модели\n",
    "\n",
    "tree_conf_matrix = confusion_matrix(target_valid, tree_predictions)\n",
    "forest_conf_matrix = confusion_matrix(target_valid, forest_predictions)\n",
    "log_conf_matrix = confusion_matrix(target_valid, log_predictions)\n",
    "\n",
    "\n",
    "fig, ax = plt.subplots(1,3, figsize=(14, 5), sharey='row')\n",
    "sns.heatmap(tree_conf_matrix/np.sum(tree_conf_matrix), annot=True, \\\n",
    "            fmt='.2%', cmap='BuPu', ax=ax[0])\n",
    "ax[0].set_title('Decision Tree', fontsize=12)\n",
    "sns.heatmap(forest_conf_matrix/np.sum(forest_conf_matrix), annot=True, \\\n",
    "            fmt='.2%', cmap='BuPu', ax=ax[1])\n",
    "ax[1].set_title('Random Forest', fontsize=12)\n",
    "sns.heatmap(log_conf_matrix/np.sum(log_conf_matrix), annot=True, \\\n",
    "            fmt='.2%', cmap='BuPu', ax=ax[2])\n",
    "ax[2].set_title('Logistic Regression', fontsize=12)\n",
    "plt.show()"
   ]
  },
  {
   "cell_type": "markdown",
   "metadata": {},
   "source": [
    "### Выводы "
   ]
  },
  {
   "cell_type": "markdown",
   "metadata": {},
   "source": [
    "У всех трех моделей F1-мера не дотягивает о заданного уровня (0.59). При этом показатели Accuracy и ROC-AUC выше 0.76. \n",
    "\n",
    "- Лучший показатель F1 на валидационной выборке у модели \"Случайный лес\"  - 0.5736677115987461\n",
    "- Худшая F1-мера у \"Логистической регрессии\" - 0.27106227106227104\n",
    "\n",
    "Согласно матрицам ошибок - лучше предсказывает \"Дерево решений\". \n",
    "\n",
    "Необходимо поработать с дисбалансом: чтобы улучшить метрику F1."
   ]
  },
  {
   "cell_type": "markdown",
   "metadata": {},
   "source": [
    "<div class=\"alert alert-block alert-success\">\n",
    "<b>Успех:</b> Молодец, что попробовал несколько разных моделей и визуализировал результаты.\n",
    "</div>"
   ]
  },
  {
   "cell_type": "markdown",
   "metadata": {},
   "source": [
    "## Борьба с дисбалансом"
   ]
  },
  {
   "cell_type": "markdown",
   "metadata": {},
   "source": [
    "### Балансировка аргументом class_weight"
   ]
  },
  {
   "cell_type": "markdown",
   "metadata": {},
   "source": [
    "Для начала попробуем разобраться с дисбалансом с помощью встроенного аргумент class_weight. \n",
    "Вызовем его для кажой модели. "
   ]
  },
  {
   "cell_type": "code",
   "execution_count": 21,
   "metadata": {},
   "outputs": [
    {
     "name": "stdout",
     "output_type": "stream",
     "text": [
      "Параметры лучше модели: DecisionTreeClassifier(class_weight='balanced', max_depth=10,\n",
      "                       random_state=12345)\n",
      "Accuracy лучшей модели на валидационной выборке: 0.7815\n",
      "F1-мера лучшей модели на валидационной выборке: 0.5517948717948719\n",
      "ROC-AUC лучшей модели на валидационной выборке: 0.8256080470162748\n"
     ]
    }
   ],
   "source": [
    "# создадим цикл для поиска наилучшей модели \"Дерево решений\" с глубиной от 1 до 21\n",
    "# цикл покажет параметры лучшей модели, значения accuracy и F1\n",
    "\n",
    "best_model = None\n",
    "best_result = 0\n",
    "f1_best_result = 0\n",
    "roc_auc_best_tree = 0\n",
    "for depth in range(1, 11):\n",
    "    tree_model = DecisionTreeClassifier(random_state=12345, max_depth=depth, class_weight='balanced') \n",
    "    tree_model.fit(features_train, target_train)\n",
    "    tree_predictions = tree_model.predict(features_valid)\n",
    "    tree_result = accuracy_score(target_valid, tree_predictions)\n",
    "    if tree_result > best_result:\n",
    "        best_result = tree_result\n",
    "    f1_result = f1_score(target_valid, tree_predictions)\n",
    "    if f1_result > f1_best_result:\n",
    "        best_model = tree_model\n",
    "        f1_best_model = tree_model\n",
    "        f1_best_result = f1_result\n",
    "    probabilities_valid = tree_model.predict_proba(features_valid)\n",
    "    probabilities_one_valid = probabilities_valid[:, 1]\n",
    "    roc_auc_tree = roc_auc_score(target_valid, probabilities_one_valid)\n",
    "    if roc_auc_tree > roc_auc_best_tree:\n",
    "        roc_auc_best_tree = tree_model\n",
    "        roc_auc_best_tree = roc_auc_tree    \n",
    "print('Параметры лучше модели:', best_model)       \n",
    "print('Accuracy лучшей модели на валидационной выборке:', best_result)\n",
    "print('F1-мера лучшей модели на валидационной выборке:', f1_best_result)\n",
    "print('ROC-AUC лучшей модели на валидационной выборке:', roc_auc_best_tree)"
   ]
  },
  {
   "cell_type": "code",
   "execution_count": 22,
   "metadata": {},
   "outputs": [
    {
     "name": "stdout",
     "output_type": "stream",
     "text": [
      "Параметры лучше модели: RandomForestClassifier(class_weight='balanced', max_depth=10, n_estimators=80,\n",
      "                       random_state=12345)\n",
      "Accuracy лучшей модели на валидационной выборке: 0.847\n",
      "F1-мера лучшей модели на валидационной выборке: 0.6222222222222222\n",
      "ROC-AUC лучшей модели на валидационной выборке: 0.8458966244725739\n"
     ]
    }
   ],
   "source": [
    "# создадим цикл для поиска наилучшей модели \"Cлучайный лес\" \n",
    "# с количеством деревьев от 5 до 50 и шагом 5 \n",
    "# с глубиной от 1 до 20\n",
    "\n",
    "best_model = 0\n",
    "best_result = 0\n",
    "f1_best_result = 0\n",
    "roc_auc_best_forest = 0\n",
    "for est in range(5, 91, 5):\n",
    "    for depth in range (1, 11):\n",
    "        forest_model = RandomForestClassifier(random_state=12345, n_estimators=est, \\\n",
    "                                              max_depth=depth, class_weight='balanced') \n",
    "        forest_model.fit(features_train, target_train) \n",
    "        result = forest_model.score(features_valid, target_valid) \n",
    "        forest_predictions = forest_model.predict(features_valid)\n",
    "        if result > best_result:\n",
    "            best_result = result\n",
    "        f1_result = f1_score(target_valid, forest_predictions)\n",
    "        if f1_result > f1_best_result:\n",
    "            best_model = forest_model\n",
    "            f1_best_model = forest_model\n",
    "            f1_best_result = f1_result\n",
    "        probabilities_valid = forest_model.predict_proba(features_valid)\n",
    "        probabilities_one_valid = probabilities_valid[:, 1]\n",
    "        roc_auc_forest = roc_auc_score(target_valid, probabilities_one_valid)\n",
    "        if roc_auc_forest > roc_auc_best_forest:\n",
    "            roc_auc_best_forest = forest_model\n",
    "            roc_auc_best_forest = roc_auc_forest    \n",
    "print('Параметры лучше модели:', best_model)       \n",
    "print('Accuracy лучшей модели на валидационной выборке:', best_result)\n",
    "print('F1-мера лучшей модели на валидационной выборке:', f1_best_result)\n",
    "print('ROC-AUC лучшей модели на валидационной выборке:', roc_auc_best_forest)    "
   ]
  },
  {
   "cell_type": "code",
   "execution_count": 23,
   "metadata": {},
   "outputs": [
    {
     "name": "stdout",
     "output_type": "stream",
     "text": [
      "Accuracy модели Логистической регрессия на валидационной выборке: 0.7055\n",
      "F1-мера модели Логистической регрессия на валидационной выборке: 0.4970111016225448\n",
      "ROC-AUC модели Логистической регрессия на валидационной выборке: 0.7636045810729356\n"
     ]
    }
   ],
   "source": [
    "log_model = LogisticRegression(random_state=12345, solver='liblinear', class_weight='balanced')\n",
    "log_model.fit(features_train, target_train)\n",
    "result = log_model.score(features_valid, target_valid)\n",
    "log_predictions = log_model.predict(features_valid)\n",
    "f1_result = f1_score(target_valid, log_predictions)\n",
    "probabilities_valid = log_model.predict_proba(features_valid)\n",
    "probabilities_one_valid = probabilities_valid[:, 1]\n",
    "roc_auc_log = roc_auc_score(target_valid, probabilities_one_valid)\n",
    "\n",
    "print('Accuracy модели Логистической регрессия на валидационной выборке:', result)\n",
    "print('F1-мера модели Логистической регрессия на валидационной выборке:', f1_result)\n",
    "print('ROC-AUC модели Логистической регрессия на валидационной выборке:', roc_auc_log)    "
   ]
  },
  {
   "cell_type": "markdown",
   "metadata": {},
   "source": [
    "#### Выводы"
   ]
  },
  {
   "cell_type": "markdown",
   "metadata": {},
   "source": [
    "- F1-мера улучшилась у двух моделей - \"Случайный лес\" и \"Логистическая регрессия\". \n",
    "- F1 модели \"Случайный лес\" превзошла заданные уровень в 0,59\n",
    "- Особенно заметная прибавка у модели \"Логистическая регрессия\" - почти в 2 раза.\n",
    "- У модели \"Дерево решений\" F1-мера ухудшилась. "
   ]
  },
  {
   "cell_type": "markdown",
   "metadata": {},
   "source": [
    "### Upsampling"
   ]
  },
  {
   "cell_type": "markdown",
   "metadata": {},
   "source": [
    "Попробуем увеличить выборку тем самым, избавившись от дисбаланса. "
   ]
  },
  {
   "cell_type": "code",
   "execution_count": 24,
   "metadata": {},
   "outputs": [],
   "source": [
    "def upsample(features, target, repeat):\n",
    "    features_zeros = features[target == 0]\n",
    "    features_ones = features[target == 1]\n",
    "    target_zeros = target[target == 0]\n",
    "    target_ones = target[target == 1]\n",
    "\n",
    "    features_upsampled = pd.concat([features_zeros] + [features_ones] * repeat)\n",
    "    target_upsampled = pd.concat([target_zeros] + [target_ones] * repeat)\n",
    "    features_upsampled, target_upsampled = shuffle(features_upsampled, target_upsampled, random_state=12345)\n",
    "    return features_upsampled, target_upsampled\n",
    "\n",
    "features_upsampled, target_upsampled = upsample(features_train, target_train, 3)"
   ]
  },
  {
   "cell_type": "markdown",
   "metadata": {},
   "source": [
    "<div class=\"alert alert-block alert-success\">\n",
    "<b>Успех:</b> Апсемплинг был сделан правильно.\n",
    "</div>"
   ]
  },
  {
   "cell_type": "code",
   "execution_count": 25,
   "metadata": {},
   "outputs": [
    {
     "name": "stdout",
     "output_type": "stream",
     "text": [
      "Параметры лучше модели: DecisionTreeClassifier(max_depth=6, random_state=12345)\n",
      "Accuracy лучшей модели на валидационной выборке: 0.8185\n",
      "F1-мера лучшей модели на валидационной выборке: 0.566735112936345\n",
      "ROC-AUC лучшей модели на валидационной выборке: 0.8225663050030139\n"
     ]
    }
   ],
   "source": [
    "# создадим цикл для поиска наилучшей модели \"Дерево решений\" с глубиной от 1 до 10\n",
    "# цикл покажет параметры лучшей модели, значения accuracy и F1\n",
    "\n",
    "best_model = None\n",
    "best_result = 0\n",
    "f1_best_result = 0\n",
    "roc_auc_best_tree = 0\n",
    "for depth in range(1, 11):\n",
    "    tree_model = DecisionTreeClassifier(random_state=12345, max_depth=depth) \n",
    "    tree_model.fit(features_upsampled, target_upsampled)\n",
    "    tree_predictions = tree_model.predict(features_valid)\n",
    "    tree_result = accuracy_score(target_valid, tree_predictions)\n",
    "    if tree_result > best_result:\n",
    "        best_result = tree_result\n",
    "    f1_result = f1_score(target_valid, tree_predictions)\n",
    "    if f1_result > f1_best_result:\n",
    "        best_model = tree_model\n",
    "        f1_best_model = tree_model\n",
    "        f1_best_result = f1_result\n",
    "    probabilities_valid = tree_model.predict_proba(features_valid)\n",
    "    probabilities_one_valid = probabilities_valid[:, 1]\n",
    "    roc_auc_tree = roc_auc_score(target_valid, probabilities_one_valid)\n",
    "    if roc_auc_tree > roc_auc_best_tree:\n",
    "        roc_auc_best_tree = tree_model\n",
    "        roc_auc_best_tree = roc_auc_tree    \n",
    "print('Параметры лучше модели:', best_model)       \n",
    "print('Accuracy лучшей модели на валидационной выборке:', best_result)\n",
    "print('F1-мера лучшей модели на валидационной выборке:', f1_best_result)\n",
    "print('ROC-AUC лучшей модели на валидационной выборке:', roc_auc_best_tree)"
   ]
  },
  {
   "cell_type": "code",
   "execution_count": 26,
   "metadata": {},
   "outputs": [
    {
     "name": "stdout",
     "output_type": "stream",
     "text": [
      "Параметры лучше модели: RandomForestClassifier(max_depth=14, n_estimators=50, random_state=12345)\n",
      "Accuracy лучшей модели на валидационной выборке: 0.8555\n",
      "F1-мера лучшей модели на валидационной выборке: 0.6125654450261779\n",
      "ROC-AUC лучшей модели на валидационной выборке: 0.8445494273658831\n"
     ]
    }
   ],
   "source": [
    "# создадим цикл для поиска наилучшей модели \"Cлучайный лес\" \n",
    "# с количеством деревьев от 5 до 60 и шагом 5 \n",
    "# с глубиной от 1 до 20\n",
    "\n",
    "best_model = 0\n",
    "best_result = 0\n",
    "f1_best_result = 0\n",
    "roc_auc_best_forest = 0\n",
    "for est in range(5, 61, 5):\n",
    "    for depth in range (1, 21):\n",
    "        forest_model = RandomForestClassifier(random_state=12345, n_estimators=est, \\\n",
    "                                              max_depth=depth) \n",
    "        forest_model.fit(features_upsampled, target_upsampled) \n",
    "        result = forest_model.score(features_valid, target_valid) \n",
    "        forest_predictions = forest_model.predict(features_valid)\n",
    "        if result > best_result:\n",
    "            best_result = result\n",
    "        f1_result = f1_score(target_valid, forest_predictions)\n",
    "        if f1_result > f1_best_result:\n",
    "            best_model = forest_model\n",
    "            f1_best_model = forest_model\n",
    "            f1_best_result = f1_result\n",
    "        probabilities_valid = forest_model.predict_proba(features_valid)\n",
    "        probabilities_one_valid = probabilities_valid[:, 1]\n",
    "        roc_auc_forest = roc_auc_score(target_valid, probabilities_one_valid)\n",
    "        if roc_auc_forest > roc_auc_best_forest:\n",
    "            roc_auc_best_forest = forest_model\n",
    "            roc_auc_best_forest = roc_auc_forest    \n",
    "print('Параметры лучше модели:', best_model)       \n",
    "print('Accuracy лучшей модели на валидационной выборке:', best_result)\n",
    "print('F1-мера лучшей модели на валидационной выборке:', f1_best_result)\n",
    "print('ROC-AUC лучшей модели на валидационной выборке:', roc_auc_best_forest)    "
   ]
  },
  {
   "cell_type": "code",
   "execution_count": 27,
   "metadata": {},
   "outputs": [
    {
     "name": "stdout",
     "output_type": "stream",
     "text": [
      "Accuracy модели Логистической регрессия на валидационной выборке: 0.7535\n",
      "F1-мера модели Логистической регрессия на валидационной выборке: 0.4974515800203874\n",
      "ROC-AUC модели Логистической регрессия на валидационной выборке: 0.7631525015069318\n"
     ]
    }
   ],
   "source": [
    "log_model = LogisticRegression(random_state=12345, solver='liblinear')\n",
    "log_model.fit(features_upsampled, target_upsampled)\n",
    "result = log_model.score(features_valid, target_valid)\n",
    "log_predictions = log_model.predict(features_valid)\n",
    "f1_result = f1_score(target_valid, log_predictions)\n",
    "probabilities_valid = log_model.predict_proba(features_valid)\n",
    "probabilities_one_valid = probabilities_valid[:, 1]\n",
    "roc_auc_log = roc_auc_score(target_valid, probabilities_one_valid)\n",
    "\n",
    "print('Accuracy модели Логистической регрессия на валидационной выборке:', result)\n",
    "print('F1-мера модели Логистической регрессия на валидационной выборке:', f1_result)\n",
    "print('ROC-AUC модели Логистической регрессия на валидационной выборке:', roc_auc_log)    "
   ]
  },
  {
   "cell_type": "markdown",
   "metadata": {},
   "source": [
    "#### Выводы"
   ]
  },
  {
   "cell_type": "markdown",
   "metadata": {},
   "source": [
    "Попрежнему лучший показатель у модели \"Случайный лес\". Логистическая регрессия все та же плоха согласно значениям F1-меры."
   ]
  },
  {
   "cell_type": "markdown",
   "metadata": {},
   "source": [
    "### Downsampling"
   ]
  },
  {
   "cell_type": "code",
   "execution_count": 28,
   "metadata": {},
   "outputs": [],
   "source": [
    "def downsample(features, target, fraction):\n",
    "    features_zeros = features[target == 0]\n",
    "    features_ones = features[target == 1]\n",
    "    target_zeros = target[target == 0]\n",
    "    target_ones = target[target == 1]\n",
    "\n",
    "    features_downsampled = pd.concat([features_zeros.sample(frac=fraction, random_state=12345)] + [features_ones])\n",
    "    target_downsampled = pd.concat([target_zeros.sample(frac=fraction, random_state=12345)] + [target_ones])\n",
    "    features_downsampled, target_downsampled = shuffle(features_downsampled, target_downsampled, random_state=12345)\n",
    "    return features_downsampled, target_downsampled\n",
    "\n",
    "features_downsampled, target_downsampled = downsample(features_train, target_train, 0.25)"
   ]
  },
  {
   "cell_type": "code",
   "execution_count": 29,
   "metadata": {},
   "outputs": [
    {
     "name": "stdout",
     "output_type": "stream",
     "text": [
      "Параметры лучше модели: DecisionTreeClassifier(max_depth=8, random_state=12345)\n",
      "Accuracy лучшей модели на валидационной выборке: 0.767\n",
      "F1-мера лучшей модели на валидационной выборке: 0.553639846743295\n",
      "ROC-AUC лучшей модели на валидационной выборке: 0.8187620554550935\n"
     ]
    }
   ],
   "source": [
    "# создадим цикл для поиска наилучшей модели \"Дерево решений\" с глубиной от 1 до 21\n",
    "# цикл покажет параметры лучшей модели, значения accuracy и F1\n",
    "\n",
    "best_model = None\n",
    "best_result = 0\n",
    "f1_best_result = 0\n",
    "roc_auc_best_tree = 0\n",
    "for depth in range(1, 11):\n",
    "    tree_model = DecisionTreeClassifier(random_state=12345, max_depth=depth) \n",
    "    tree_model.fit(features_downsampled, target_downsampled)\n",
    "    tree_predictions = tree_model.predict(features_valid)\n",
    "    tree_result = accuracy_score(target_valid, tree_predictions)\n",
    "    if tree_result > best_result:\n",
    "        best_result = tree_result\n",
    "    f1_result = f1_score(target_valid, tree_predictions)\n",
    "    if f1_result > f1_best_result:\n",
    "        best_model = tree_model\n",
    "        f1_best_model = tree_model\n",
    "        f1_best_result = f1_result\n",
    "    probabilities_valid = tree_model.predict_proba(features_valid)\n",
    "    probabilities_one_valid = probabilities_valid[:, 1]\n",
    "    roc_auc_tree = roc_auc_score(target_valid, probabilities_one_valid)\n",
    "    if roc_auc_tree > roc_auc_best_tree:\n",
    "        roc_auc_best_tree = tree_model\n",
    "        roc_auc_best_tree = roc_auc_tree    \n",
    "print('Параметры лучше модели:', best_model)       \n",
    "print('Accuracy лучшей модели на валидационной выборке:', best_result)\n",
    "print('F1-мера лучшей модели на валидационной выборке:', f1_best_result)\n",
    "print('ROC-AUC лучшей модели на валидационной выборке:', roc_auc_best_tree)"
   ]
  },
  {
   "cell_type": "code",
   "execution_count": 30,
   "metadata": {},
   "outputs": [
    {
     "name": "stdout",
     "output_type": "stream",
     "text": [
      "Параметры лучше модели: RandomForestClassifier(max_depth=9, n_estimators=13, random_state=12345)\n",
      "Accuracy лучшей модели на валидационной выборке: 0.811\n",
      "F1-мера лучшей модели на валидационной выборке: 0.5689320388349515\n",
      "ROC-AUC лучшей модели на валидационной выборке: 0.8330168776371308\n"
     ]
    }
   ],
   "source": [
    "# создадим цикл для поиска наилучшей модели \"Cлучайный лес\" \n",
    "# с количеством деревьев от 5 до 15 и шагом 2\n",
    "# с глубиной от 1 до 10\n",
    "\n",
    "best_model = 0\n",
    "best_result = 0\n",
    "f1_best_result = 0\n",
    "roc_auc_best_forest = 0\n",
    "for est in range(1, 16, 2):\n",
    "    for depth in range (1, 11):\n",
    "        forest_model = RandomForestClassifier(random_state=12345, n_estimators=est, \\\n",
    "                                              max_depth=depth) \n",
    "        forest_model.fit(features_downsampled, target_downsampled) \n",
    "        result = forest_model.score(features_valid, target_valid) \n",
    "        forest_predictions = forest_model.predict(features_valid)\n",
    "        if result > best_result:\n",
    "            best_result = result\n",
    "        f1_result = f1_score(target_valid, forest_predictions)\n",
    "        if f1_result > f1_best_result:\n",
    "            best_model = forest_model\n",
    "            f1_best_model = forest_model\n",
    "            f1_best_result = f1_result\n",
    "        probabilities_valid = forest_model.predict_proba(features_valid)\n",
    "        probabilities_one_valid = probabilities_valid[:, 1]\n",
    "        roc_auc_forest = roc_auc_score(target_valid, probabilities_one_valid)\n",
    "        if roc_auc_forest > roc_auc_best_forest:\n",
    "            roc_auc_best_forest = forest_model\n",
    "            roc_auc_best_forest = roc_auc_forest    \n",
    "print('Параметры лучше модели:', best_model)       \n",
    "print('Accuracy лучшей модели на валидационной выборке:', best_result)\n",
    "print('F1-мера лучшей модели на валидационной выборке:', f1_best_result)\n",
    "print('ROC-AUC лучшей модели на валидационной выборке:', roc_auc_best_forest)    "
   ]
  },
  {
   "cell_type": "code",
   "execution_count": 31,
   "metadata": {},
   "outputs": [
    {
     "name": "stdout",
     "output_type": "stream",
     "text": [
      "Accuracy модели Логистической регрессия на валидационной выборке: 0.706\n",
      "F1-мера модели Логистической регрессия на валидационной выборке: 0.4982935153583617\n",
      "ROC-AUC модели Логистической регрессия на валидационной выборке: 0.7622302591922846\n"
     ]
    }
   ],
   "source": [
    "log_model = LogisticRegression(random_state=12345, solver='liblinear')\n",
    "log_model.fit(features_downsampled, target_downsampled)\n",
    "result = log_model.score(features_valid, target_valid)\n",
    "log_predictions = log_model.predict(features_valid)\n",
    "f1_result = f1_score(target_valid, log_predictions)\n",
    "probabilities_valid = log_model.predict_proba(features_valid)\n",
    "probabilities_one_valid = probabilities_valid[:, 1]\n",
    "roc_auc_log = roc_auc_score(target_valid, probabilities_one_valid)\n",
    "\n",
    "print('Accuracy модели Логистической регрессия на валидационной выборке:', result)\n",
    "print('F1-мера модели Логистической регрессия на валидационной выборке:', f1_result)\n",
    "print('ROC-AUC модели Логистической регрессия на валидационной выборке:', roc_auc_log)    "
   ]
  },
  {
   "cell_type": "markdown",
   "metadata": {},
   "source": [
    "### Выводы"
   ]
  },
  {
   "cell_type": "markdown",
   "metadata": {},
   "source": [
    "Вся тройка моделей сохранила свой места: \n",
    "   1. Случайный лес\n",
    "   2. Дерево решений\n",
    "   3. Логистическая регрессия\n",
    "   \n",
    "Что имеем на данном этапе. Лучшая модель - \"Случайный лес\" с параметрами class_weight='balanced', max_depth=10, n_estimators=80, random_state=12345"
   ]
  },
  {
   "cell_type": "markdown",
   "metadata": {},
   "source": [
    "## Тестирование модели"
   ]
  },
  {
   "cell_type": "markdown",
   "metadata": {},
   "source": [
    "Проверим нашу лучшую модель (\"Дерево решений\") на тестовой выборке, обучив ее на сбалансированной выбрке."
   ]
  },
  {
   "cell_type": "code",
   "execution_count": 32,
   "metadata": {},
   "outputs": [
    {
     "name": "stdout",
     "output_type": "stream",
     "text": [
      "Accuracy лучшей модели на тестовой выборке: 0.811\n",
      "F1-мера лучшей модели на тестовой выборке: 0.628158844765343\n",
      "ROC-AUC лучшей модели на тестовой выборке: 0.8330168776371308\n"
     ]
    }
   ],
   "source": [
    "# создадим цикл для поиска наилучшей модели \"Cлучайный лес\" \n",
    "# с количеством деревьев от 5 до 50 и шагом 5 \n",
    "# с глубиной от 1 до 20\n",
    "forest_model = RandomForestClassifier(random_state=12345, n_estimators=80, max_depth=10, class_weight='balanced') \n",
    "forest_model.fit(features_train, target_train) \n",
    "result = forest_model.score(features_test, target_test) \n",
    "forest_predictions = forest_model.predict(features_test)\n",
    "f1_result = f1_score(target_test, forest_predictions)\n",
    "probabilities_test = forest_model.predict_proba(features_test)\n",
    "probabilities_one_test = probabilities_test[:, 1]\n",
    "roc_auc_forest = roc_auc_score(target_test, probabilities_one_test)\n",
    "print('Accuracy лучшей модели на тестовой выборке:', best_result)\n",
    "print('F1-мера лучшей модели на тестовой выборке:', f1_result)\n",
    "print('ROC-AUC лучшей модели на тестовой выборке:', roc_auc_best_forest)    "
   ]
  },
  {
   "cell_type": "markdown",
   "metadata": {},
   "source": [
    "Получаем F1-меру выше заданного значения - 0.628158844765343. Все удалось. "
   ]
  },
  {
   "cell_type": "markdown",
   "metadata": {},
   "source": [
    "<div class=\"alert alert-block alert-info\">\n",
    "<b>Совет: </b> В выводе допущена опечатка: это уже тестовая выборка.\n",
    "</div>"
   ]
  },
  {
   "cell_type": "markdown",
   "metadata": {},
   "source": [
    "<div class=\"alert alert-block alert-danger\">\n",
    "<b>Ошибка:</b> Не забывай про общий вывод.\n",
    "</div>"
   ]
  },
  {
   "cell_type": "markdown",
   "metadata": {},
   "source": [
    "<div class=\"alert alert-block alert-warning\">\n",
    "<b>Изменения:</b> Дополнил\n",
    "</div>"
   ]
  },
  {
   "cell_type": "markdown",
   "metadata": {},
   "source": [
    "## Общий вывод"
   ]
  },
  {
   "cell_type": "markdown",
   "metadata": {},
   "source": [
    "- На вход был получен датафрейм, где было всего порядка 900 пропусков, что не оченб много с учетом ощего количества строк (10000) и столбцов (14)\n",
    "- Пропуски были устранены getv замены Nan на 0\n",
    "- Были удалены несколько столбцов - они не несли полезной информации для обучения моделей и могли лишь внести путаницу\n",
    "- Была применены методика прямого кодирования One-Hot Encoding \n",
    "- Были обозначены признаки и проведено разбиение на три выборки: обучающую, валидационную и тестовую\n",
    "- Без учета дисбаланса были протестированы три модели: Дерево решений, Случайный лес и Логистическая регрессия: модель \"Случайный лес\" оказалась лучшей.\n",
    "- Для улучшения метрики F1 были проведены тесты моделей с балансировкой выборок: при помощи параметра class_weight, методами Upsampling и Downsampling\n",
    "- достаточным фактором получения модели с метрикой F1 выше 0.59 оказалось применение параметра class_weight='balanced'\n",
    "- Лучшей оказалась модель \"Случайный лес\" с параметрами max_depth=10, n_estimators=80, random_state=12345, class_weight='balanced, которая на тестовой выборке показала F1-меру 0.628158844765343"
   ]
  },
  {
   "cell_type": "markdown",
   "metadata": {},
   "source": [
    "## Чек-лист готовности проекта"
   ]
  },
  {
   "cell_type": "markdown",
   "metadata": {},
   "source": [
    "Поставьте 'x' в выполненных пунктах. Далее нажмите Shift+Enter."
   ]
  },
  {
   "cell_type": "markdown",
   "metadata": {},
   "source": [
    "- [x]  Jupyter Notebook открыт\n",
    "- [ ]  Весь код выполняется без ошибок\n",
    "- [ ]  Ячейки с кодом расположены в порядке исполнения\n",
    "- [ ]  Выполнен шаг 1: данные подготовлены\n",
    "- [ ]  Выполнен шаг 2: задача исследована\n",
    "    - [ ]  Исследован баланс классов\n",
    "    - [ ]  Изучены модели без учёта дисбаланса\n",
    "    - [ ]  Написаны выводы по результатам исследования\n",
    "- [ ]  Выполнен шаг 3: учтён дисбаланс\n",
    "    - [ ]  Применено несколько способов борьбы с дисбалансом\n",
    "    - [ ]  Написаны выводы по результатам исследования\n",
    "- [ ]  Выполнен шаг 4: проведено тестирование\n",
    "- [ ]  Удалось достичь *F1*-меры не менее 0.59\n",
    "- [ ]  Исследована метрика *AUC-ROC*"
   ]
  },
  {
   "cell_type": "code",
   "execution_count": null,
   "metadata": {},
   "outputs": [],
   "source": []
  }
 ],
 "metadata": {
  "kernelspec": {
   "display_name": "Python 3",
   "language": "python",
   "name": "python3"
  },
  "language_info": {
   "codemirror_mode": {
    "name": "ipython",
    "version": 3
   },
   "file_extension": ".py",
   "mimetype": "text/x-python",
   "name": "python",
   "nbconvert_exporter": "python",
   "pygments_lexer": "ipython3",
   "version": "3.9.4"
  },
  "toc": {
   "base_numbering": 1,
   "nav_menu": {},
   "number_sections": true,
   "sideBar": true,
   "skip_h1_title": true,
   "title_cell": "Содержание",
   "title_sidebar": "Contents",
   "toc_cell": true,
   "toc_position": {},
   "toc_section_display": true,
   "toc_window_display": true
  }
 },
 "nbformat": 4,
 "nbformat_minor": 2
}
